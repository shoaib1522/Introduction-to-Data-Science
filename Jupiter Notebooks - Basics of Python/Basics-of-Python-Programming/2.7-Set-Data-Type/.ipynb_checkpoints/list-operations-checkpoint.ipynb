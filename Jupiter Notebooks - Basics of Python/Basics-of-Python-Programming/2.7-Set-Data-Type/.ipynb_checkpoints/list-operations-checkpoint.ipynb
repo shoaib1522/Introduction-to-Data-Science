{
 "cells": [
  {
   "cell_type": "markdown",
   "id": "a6651c01",
   "metadata": {},
   "source": [
    "---   \n",
    " <img align=\"left\" width=\"75\" height=\"75\"  src=\"https://upload.wikimedia.org/wikipedia/en/c/c8/University_of_the_Punjab_logo.png\"> \n",
    "\n",
    "<h1 align=\"center\">Department of Data Science</h1>\n",
    "<h1 align=\"center\">Course: Tools and Techniques for Data Science</h1>\n",
    "\n",
    "---\n",
    "<h3><div align=\"right\">Instructor: Muhammad Arif Butt, Ph.D.</div></h3>    "
   ]
  },
  {
   "cell_type": "markdown",
   "id": "a363bc39",
   "metadata": {},
   "source": [
    "<h1 align=\"center\">Lecture 2.4</h1>"
   ]
  },
  {
   "cell_type": "markdown",
   "id": "95de41a5",
   "metadata": {},
   "source": [
    "## _list-operations.ipynb_\n",
    "#### [Click me to learn more about Python Lists](https://www.geeksforgeeks.org/python-list/)"
   ]
  },
  {
   "cell_type": "markdown",
   "id": "7c109b0c",
   "metadata": {},
   "source": [
    "### Learning agenda of this notebook\n",
    "A List is a numerically ordered sequence of elements that can store multiple items of heterogeneous types in a single variable. Lists are created using square brackets and allows duplicate elements.\n",
    "1. How to create lists?\n",
    "2. Proof of concepts: Lists are heterogeneous, ordered, mutable, nested, and allow duplicate elements\n",
    "3. Accessing elements of lists?\n",
    "4. Adding elements to a list using append, extend, and insert methods\n",
    "5. Removing elements from a list using pop and remove methods\n",
    "6. List concatenation and repetition\n",
    "7. Slicing a list\n",
    "8. Converting string object to list and vice-versa (using type casting, split() and join())\n",
    "9. Misc list methods: A list method is what you can do to a list and change it. To call a method on a construct, you use the dot-operator(.). Some list methods that can be used to alter a list are (append, insert, extend, remove, pop, clear, index, count, sort, reverse, split and join)\n",
    "10. Some Built-in functions that can be used on lists (len, max, min, sum)\n",
    "11. Misc Concepts\n",
    "    - Comparing objects and values\n",
    "    - Comparing strings\n",
    "    - Aliasing\n",
    "12. Looping through a list"
   ]
  },
  {
   "cell_type": "markdown",
   "id": "78d11dc1",
   "metadata": {},
   "source": [
    "### 1. How to create Lists?"
   ]
  },
  {
   "cell_type": "code",
   "execution_count": 1,
   "id": "88801cf7",
   "metadata": {},
   "outputs": [
    {
     "name": "stdout",
     "output_type": "stream",
     "text": [
      "[1, 2, 3, 4, 5]\n",
      "[3.7, 6.5, 3.8, 7.95]\n",
      "['hello', 'this', 'F', 'good show']\n",
      "[True, False, True]\n",
      "[]\n",
      "<class 'list'>\n"
     ]
    }
   ],
   "source": [
    "# A list is created by placing comma separated values in square brackets [] \n",
    "# It allows us to store elements of different data types (number, boolean, string, list) in one container.\n",
    "\n",
    "list1 = [1,2,3,4,5]   #list of integers\n",
    "print(list1)\n",
    "\n",
    "list2 = [3.7, 6.5, 3.8, 7.95 ]   #list of floats\n",
    "print(list2)\n",
    "\n",
    "list3 = [\"hello\", \"this\", \"F\", \"good show\"]   #list of strings\n",
    "print(list3)\n",
    "\n",
    "list4 = [True, False, True]   #list of boolean\n",
    "print(list4)\n",
    "\n",
    "list5 = []   #this will create an empty list\n",
    "print(list5)\n",
    "\n",
    "print(type(list5))"
   ]
  },
  {
   "cell_type": "code",
   "execution_count": 2,
   "id": "458957c8",
   "metadata": {},
   "outputs": [
    {
     "name": "stdout",
     "output_type": "stream",
     "text": [
      "['Arif', 30, 5.5, [10, 'rauf']]\n"
     ]
    }
   ],
   "source": [
    "# Nested list: list can also have another list as an item\n",
    "list1 = [\"Arif\", 30, 5.5, [10,'rauf']]\n",
    "print(list1)"
   ]
  },
  {
   "cell_type": "code",
   "execution_count": 3,
   "id": "539f6d47",
   "metadata": {},
   "outputs": [
    {
     "name": "stdout",
     "output_type": "stream",
     "text": [
      "[]\n"
     ]
    }
   ],
   "source": [
    "# we can create empty list\n",
    "empty_list = []\n",
    "print (empty_list)"
   ]
  },
  {
   "cell_type": "code",
   "execution_count": 4,
   "id": "a11b5b3f",
   "metadata": {},
   "outputs": [
    {
     "name": "stdout",
     "output_type": "stream",
     "text": [
      "[1, 2, 3, 4, 5] ['Arif', 30, 5.5, [10, 'rauf']] []\n"
     ]
    }
   ],
   "source": [
    "#printing multiple lists\n",
    "list1 = [1,2,3,4,5]\n",
    "list2 = [\"Arif\", 30, 5.5, [10,'rauf']]\n",
    "empty_list = []\n",
    "\n",
    "print(list1, list2, empty_list)"
   ]
  },
  {
   "cell_type": "markdown",
   "id": "48f77dc4",
   "metadata": {},
   "source": [
    "### 2. Proof of concepts: Lists are heterogeneous, ordered, mutable, nested, and allow duplicate elements"
   ]
  },
  {
   "cell_type": "code",
   "execution_count": 5,
   "id": "4fc9e430",
   "metadata": {},
   "outputs": [
    {
     "name": "stdout",
     "output_type": "stream",
     "text": [
      "list1:  ['Arif', 30, 5.5]\n",
      "subjects:  ['PF', 'OOP', 'Operating System', 'DSA']\n",
      "numbers:  [10, 20, 15, 40, 50]\n",
      "['Arif', 'Rauf', 'Hadeed', 'Arif', 'Mujahid']\n",
      "learning with Arif\n",
      "<class 'str'>\n"
     ]
    }
   ],
   "source": [
    "# lists are heterogeneous, as their elements/items can be of any data type\n",
    "list1 = [\"Arif\", 30, 5.5]\n",
    "print(\"list1: \", list1)\n",
    "\n",
    "# lists are ordered means every element is associated by an index, and every time you access list elements they will show up in same sequence\n",
    "subjects = ['PF', 'OOP', 'Operating System', 'DSA']\n",
    "print(\"subjects: \", subjects)\n",
    "\n",
    "\n",
    "# Lists are mutable, i.e., list elements can be changed, unlike strings, use assinment = operator for this purpose\n",
    "numbers = [10, 20, 30, 40, 50]\n",
    "numbers[2] = 15\n",
    "print(\"numbers: \", numbers)\n",
    "\n",
    "# lists allow duplicate elements\n",
    "names = ['Arif', 'Rauf', 'Hadeed', 'Arif', 'Mujahid']\n",
    "print(names)\n",
    "\n",
    "# you can assign individual elements of list to string variables\n",
    "mylist = ('learning', 'is', 'fun', 'with', 'Arif')\n",
    "v, w, x, y, z = mylist # the number of variables on the left must match the length of string\n",
    "print (v, y, z)\n",
    "print(type(x))\n",
    "\n"
   ]
  },
  {
   "cell_type": "markdown",
   "id": "418db83b",
   "metadata": {},
   "source": [
    "### 3. Different ways to access elements of a list"
   ]
  },
  {
   "cell_type": "code",
   "execution_count": 6,
   "id": "d42c7653",
   "metadata": {},
   "outputs": [
    {
     "name": "stdout",
     "output_type": "stream",
     "text": [
      "[10, 'rauf']\n",
      "i\n",
      "rauf\n",
      "[10, 'rauf']\n",
      "5.5\n",
      "\n",
      "mylist:  [27, 4.5, 'arif', 64, 'hadeed', 19, 'arif']\n",
      "mylist.index(3):  2\n"
     ]
    }
   ],
   "source": [
    "#You can access elements of list using indexing which starts from zero\n",
    "list1 = [\"Arif\", 30, 5.5, [10,'rauf']]\n",
    "print(list1[3])\n",
    "\n",
    "#accessing Nested string element\n",
    "print(list1[0][2])              #accessing third element of string at index 0\n",
    "print(list1[3][1])              #accessing second element of Nested list\n",
    "\n",
    "#Negative indexing\n",
    "print(list1[-1])                #accessing last element\n",
    "print(list1[-2])                #accessing second last element\n",
    "\n",
    "\n",
    "\n",
    "# index(value) method is used when you know the list element and wants to get its index\n",
    "# index(value) method returns the index of the first matched item with its only argument\n",
    "mylist = [27, 4.5, 'arif', 64, 'hadeed', 19, 'arif']\n",
    "print(\"\\nmylist: \", mylist)\n",
    "print(\"mylist.index(3): \", mylist.index('arif'))\n",
    "\n"
   ]
  },
  {
   "cell_type": "markdown",
   "id": "0557d8ff",
   "metadata": {},
   "source": [
    "### 4. Adding elements to a list using append, extend, and insert methods"
   ]
  },
  {
   "cell_type": "code",
   "execution_count": 7,
   "id": "4ca664fe",
   "metadata": {},
   "outputs": [
    {
     "name": "stdout",
     "output_type": "stream",
     "text": [
      "Original List:  [2, 4, 6, 8]\n",
      "List after append:  [2, 4, 6, 8, 4.631, 'hello']\n",
      "List after extend:  [2, 4, 6, 8, 4.631, 'hello', 25.5, 'OK']\n",
      "\n",
      "Another example of extend:  ['apple', 'banana', 'cherry', 'potato', 'tomato', 'radish']\n",
      "\n",
      "Original family list:  ['Farooq', 'Rauf', 'Hadeed']\n",
      "After insert:  ['Farooq', 'Rauf', 'Arif', 'Hadeed']\n",
      "\n",
      " ['Farooq', [10, 20], 'Rauf', 'Arif', 'Hadeed']\n"
     ]
    }
   ],
   "source": [
    "# append(value) method is used when you want to add a single element at the end of the list\n",
    "# append(value) is passed one argument which is the element to be inserted and returns none/void\n",
    "list1 = [2, 4, 6, 8]\n",
    "print(\"Original List: \", list1)\n",
    "list1.append(4.631)\n",
    "list1.append('hello')\n",
    "print(\"List after append: \", list1)\n",
    "\n",
    "# extend(sublist) method is used when you want to add multiple elements at the end of the list\n",
    "# extend(sublist) is passed a list to be added at the end and returns none/void\n",
    "list1.extend([25.5, 'OK'])\n",
    "print(\"List after extend: \", list1)\n",
    "\n",
    "# another example of extend()\n",
    "fruits = ['apple', 'banana', 'cherry']\n",
    "vegs = ['potato', 'tomato', 'radish']\n",
    "fruits.extend(vegs)\n",
    "print(\"\\nAnother example of extend: \", fruits)\n",
    "\n",
    "\n",
    "# insert(index, value) method is used when you want to add an element at a specific location in the string\n",
    "# insert(index, value) is passed index and value and returns none/void\n",
    "myfamily = [\"Farooq\", 'Rauf', 'Hadeed']\n",
    "print(\"\\nOriginal family list: \", myfamily)\n",
    "myfamily.insert(2,'Arif')\n",
    "print(\"After insert: \", myfamily)\n",
    "\n",
    "# you can insert another list\n",
    "myfamily.insert(1,[10, 20])\n",
    "print(\"\\n\",myfamily)"
   ]
  },
  {
   "cell_type": "markdown",
   "id": "ae40dd9e",
   "metadata": {},
   "source": [
    "### 5. Removing elements from a list using pop and remove methods"
   ]
  },
  {
   "cell_type": "code",
   "execution_count": 7,
   "id": "33f7704a",
   "metadata": {},
   "outputs": [
    {
     "name": "stdout",
     "output_type": "stream",
     "text": [
      "Original list:  ['learning', 'is', 'fun', 'with', 'arif', 'butt']\n",
      "After pop():  ['learning', 'is', 'fun', 'with', 'arif']\n",
      "Element popped is:  butt\n",
      "After pop(2):  ['learning', 'is', 'with', 'arif']\n",
      "Element popped is:  fun\n",
      "After pop(-2):  ['learning', 'is', 'arif']\n",
      "Element popped is:  with\n"
     ]
    },
    {
     "ename": "IndexError",
     "evalue": "pop index out of range",
     "output_type": "error",
     "traceback": [
      "\u001b[0;31m---------------------------------------------------------------------------\u001b[0m",
      "\u001b[0;31mIndexError\u001b[0m                                Traceback (most recent call last)",
      "\u001b[0;32m/var/folders/1t/g3ylw8h50cjdqmk5d6jh1qmm0000gn/T/ipykernel_58346/2425704653.py\u001b[0m in \u001b[0;36m<module>\u001b[0;34m\u001b[0m\n\u001b[1;32m     14\u001b[0m \u001b[0;34m\u001b[0m\u001b[0m\n\u001b[1;32m     15\u001b[0m \u001b[0;34m\u001b[0m\u001b[0m\n\u001b[0;32m---> 16\u001b[0;31m \u001b[0mlist1\u001b[0m\u001b[0;34m.\u001b[0m\u001b[0mpop\u001b[0m\u001b[0;34m(\u001b[0m\u001b[0;36m100\u001b[0m\u001b[0;34m)\u001b[0m\u001b[0;34m\u001b[0m\u001b[0;34m\u001b[0m\u001b[0m\n\u001b[0m\u001b[1;32m     17\u001b[0m \u001b[0;34m\u001b[0m\u001b[0m\n\u001b[1;32m     18\u001b[0m \u001b[0;31m# remove(value) method is used when you want to remove a specific element without returning it\u001b[0m\u001b[0;34m\u001b[0m\u001b[0;34m\u001b[0m\u001b[0;34m\u001b[0m\u001b[0m\n",
      "\u001b[0;31mIndexError\u001b[0m: pop index out of range"
     ]
    }
   ],
   "source": [
    "# pop() method without any argument removes the last item in the list and returns it\n",
    "# The pop(index) method if given an argument/index, will remove that item from the list whose index is given and returns it as well\n",
    "list1 = ['learning', 'is', 'fun', 'with', 'arif', 'butt']\n",
    "print(\"Original list: \", list1)\n",
    "x  = list1.pop()\n",
    "print(\"After pop(): \", list1)\n",
    "print(\"Element popped is: \", x)\n",
    "y = list1.pop(2)\n",
    "print(\"After pop(2): \", list1)\n",
    "print(\"Element popped is: \", y)\n",
    "z = list1.pop(-2)\n",
    "print(\"After pop(-2): \", list1)\n",
    "print(\"Element popped is: \", z)\n",
    "\n",
    "\n",
    "# remove(value) method is used when you want to remove a specific element without returning it\n",
    "# remove(value) is passed exactly one argument, which is the value to be removed and returns none/void\n",
    "list2 = ['Welcome', 'to', 'department', 'of', 'Data', 'Science']\n",
    "print(\"\\nOriginal list: \", list2)\n",
    "x = list2.remove('to')\n",
    "print(\"After remove('to'): \", list2)\n",
    "print(\"Return value of remove() is: \", x)\n",
    "\n",
    "#use the clear() method to empty a list\n",
    "list2.clear()\n",
    "print(\"\\nAfter clear() the list becomes empty: \", list2)\n",
    "\n",
    "# use del keyword to delete one or more list items by using index or to delete the list entirely from memory\n",
    "list3 = ['p', 'u', 'n', 'j', 'a', 'b', 'univrersity']\n",
    "print(\"\\nOriginal list\", list3)\n",
    "del list3[3]\n",
    "print(\"After del list1[3] the list becomes\", list1)\n",
    "#to delete entire list\n",
    "del list3\n",
    "#print(list3)"
   ]
  },
  {
   "cell_type": "markdown",
   "id": "8f109f45",
   "metadata": {},
   "source": [
    "### 6. List Concatenation and Repetition"
   ]
  },
  {
   "cell_type": "code",
   "execution_count": 9,
   "id": "d4208107",
   "metadata": {},
   "outputs": [
    {
     "name": "stdout",
     "output_type": "stream",
     "text": [
      "['fruits', 'bread', 'veggies', 'meat', 'spices', 'burger']\n",
      "\n",
      " [5, 3.4, 'hello', 31, 9.7, 'bye']\n",
      "\n",
      " [1, 2, 3, 4, 5, 6, [7, 8]]\n",
      "\n",
      " ['Arif', 'Hadeed', 'Mujahid', 'Arif', 'Hadeed', 'Mujahid', 'Arif', 'Hadeed', 'Mujahid']\n",
      "\n",
      " ['A', 'A', 'A', 'A', 'A', 'A', 'A', 'A', 'A', 'A', 'A', 'A', 'A', 'A', 'A', 'A', 'A', 'A', 'A', 'A', 'A', 'A', 'A', 'A', 'A', 'A', 'A', 'A', 'A', 'A', 'A', 'A', 'A', 'A', 'A', 'A', 'A', 'A', 'A', 'A', 'A', 'A', 'A', 'A', 'A', 'A', 'A', 'A', 'A', 'A', 'A', 'A', 'A', 'A', 'A', 'A', 'A', 'A', 'A', 'A', 'A', 'A', 'A', 'A', 'A', 'A', 'A', 'A', 'A', 'A', 'A', 'A', 'A', 'A', 'A', 'A', 'A', 'A', 'A', 'A', 'A', 'A', 'A', 'A', 'A', 'A', 'A', 'A', 'A', 'A', 'A', 'A', 'A', 'A', 'A', 'A', 'A', 'A', 'A', 'A']\n"
     ]
    }
   ],
   "source": [
    "# use + operator to concatenate two lists\n",
    "food_items1 = ['fruits', 'bread', 'veggies'] \n",
    "food_items2 = ['meat', 'spices', 'burger']\n",
    "food = food_items1 + food_items2\n",
    "print(food)\n",
    "\n",
    "# You can concatenate two heterogeneous lists\n",
    "list1 = [5, 3.4, 'hello']\n",
    "list2 = [31, 9.7, 'bye']\n",
    "list3 = list1 + list2\n",
    "print(\"\\n\",list3)\n",
    "\n",
    "num1 = [1,2,3]\n",
    "num2 = num1 + [4, 5, 6, [7, 8]]\n",
    "print (\"\\n\", num2)\n",
    "\n",
    "\n",
    "# use list * n syntax to create large lists by repeating the list n times\n",
    "name = ['Arif', 'Hadeed', 'Mujahid']\n",
    "print (\"\\n\", name * 3)\n",
    "\n",
    "#list of 100 A's\n",
    "buffer = ['A']\n",
    "print (\"\\n\",buffer * 100)"
   ]
  },
  {
   "cell_type": "markdown",
   "id": "c9517d91",
   "metadata": {},
   "source": [
    "### 7. Slicing Lists"
   ]
  },
  {
   "cell_type": "code",
   "execution_count": 4,
   "id": "8221022c",
   "metadata": {},
   "outputs": [
    {
     "name": "stdout",
     "output_type": "stream",
     "text": [
      "['f', 'e', 'd', 'c']\n",
      "Original list: ['a', 'b', 'c', 'd', 'e', 'f', 'g', 'h', 'i']\n",
      "my_list[:] returns: ['a', 'b', 'c', 'd', 'e', 'f', 'g', 'h', 'i']\n",
      "my_list[4:] returns: ['d', 'e', 'f', 'g', 'h', 'i']\n",
      "my_list[:4] returns: ['a', 'b', 'c', 'd']\n",
      "my_list[2:5] returns: ['c', 'd', 'e']\n",
      "my_list[:-2] returns: ['a', 'b', 'c', 'd', 'e', 'f', 'g']\n",
      "my_list[-1:] returns: ['i']\n",
      "Mylist[::-1] returns: ['i', 'h', 'g', 'f', 'e', 'd', 'c', 'b', 'a']\n",
      "After all this my_list is same:  ['a', 'b', 'c', 'd', 'e', 'f', 'g', 'h', 'i']\n",
      "\n",
      "list1:  [1, 2, 3, 4, 5, 6, 7]\n",
      "list1 after list1[2:4]=['a','b','c'] operation:  [1, 2, 'a', 'b', 'c', 5, 6, 7]\n"
     ]
    }
   ],
   "source": [
    "# A list can be sliced using : symbol, which returns the range of elements specified by the index numbers\n",
    "# first index specifies from where the slicing should start\n",
    "# second index specifies where it has to stop (not included)\n",
    "\n",
    "my_list = ['a','b','c','d','e','f','g','h','i']\n",
    "print(my_list[5:1:-1])\n",
    "print(\"Original list:\", my_list)\n",
    "\n",
    "print(\"my_list[:] returns:\", my_list[:])\n",
    "\n",
    "print(\"my_list[4:] returns:\", my_list[3:])\n",
    "\n",
    "print(\"my_list[:4] returns:\", my_list[:4])\n",
    "\n",
    "print(\"my_list[2:5] returns:\", my_list[2:5])\n",
    "\n",
    "print(\"my_list[:-2] returns:\", my_list[:-2])\n",
    "\n",
    "print(\"my_list[-1:] returns:\", my_list[-1:])\n",
    "\n",
    "\n",
    "# reverse the list using step value as -1\n",
    "print(\"Mylist[::-1] returns:\", my_list[::-1])\n",
    "print(\"After all this my_list is same: \", my_list)\n",
    "\n",
    "\n",
    "\n",
    "# You can use slice operator on the left side of assignment to update multiple elements\n",
    "list1 = [1, 2, 3, 4, 5, 6, 7]\n",
    "print(\"\\nlist1: \",list1)\n",
    "list1[2:4] = ['a', 'b', 'c']\n",
    "print(\"list1 after list1[2:4]=['a','b','c'] operation: \",list1)"
   ]
  },
  {
   "cell_type": "markdown",
   "id": "0f4dd1c2",
   "metadata": {},
   "source": [
    "### 8. Converting string object to list and vice-versa (using type casting, split() and join())"
   ]
  },
  {
   "cell_type": "code",
   "execution_count": 11,
   "id": "24e78729",
   "metadata": {},
   "outputs": [
    {
     "name": "stdout",
     "output_type": "stream",
     "text": [
      "<class 'str'>\n",
      "Original string:  Learning is fun and its type is:   <class 'str'>\n",
      "list1:  ['L', 'e', 'a', 'r', 'n', 'i', 'n', 'g', ' ', 'i', 's', ' ', 'f', 'u', 'n'] and its type is:   <class 'list'>\n",
      "\n",
      "Given string:  Learning is fun\n",
      "list1=str1.split(' ') ['Learning', 'is', 'fun']\n",
      "list2=str1.split(' ') ['Learn', 'ng ', 's fun']\n",
      "<class 'list'>\n",
      "\n",
      " Learning is fun\n",
      "<class 'str'>\n"
     ]
    }
   ],
   "source": [
    "# convert a string into list using list()\n",
    "str1 = 'Learning is fun'    #this is a string\n",
    "print(type(str1))\n",
    "print(\"Original string: \", str1, \"and its type is:  \", type(str1))\n",
    "list1 = list(str1)\n",
    "print(\"list1: \", list1, \"and its type is:  \", type(list1))\n",
    "\n",
    "\n",
    "# split() method is used to tokenize a string based on some delimiter, which can be stored in a list\n",
    "# returns a list having tokens of the string based on spaces if no argument is passed\n",
    "print(\"\\nGiven string: \", str1)\n",
    "list1 = str1.split(' ')\n",
    "print(\"list1=str1.split(' ')\", list1)\n",
    "list2 = str1.split('i')\n",
    "print(\"list2=str1.split(' ')\", list2)\n",
    "print(type(list1))\n",
    "\n",
    "\n",
    "#join is the reverse of split\n",
    "delimeter = ' '\n",
    "str2 = delimeter.join(list1)\n",
    "print(\"\\n\",str2)\n",
    "print(type(str2))"
   ]
  },
  {
   "cell_type": "markdown",
   "id": "fbf88b2e",
   "metadata": {},
   "source": [
    "### 9. Misc List methods in Python"
   ]
  },
  {
   "cell_type": "code",
   "execution_count": 12,
   "id": "dd1b54d4",
   "metadata": {},
   "outputs": [
    {
     "name": "stdout",
     "output_type": "stream",
     "text": [
      "Original numbers list:  [3, 8, 1, 6, 0, 8, 4]\n",
      "Sorted numbers list:  [0, 1, 3, 4, 6, 8, 8]\n",
      "\n",
      "Original names list:  ['XYZ', 'ABC', 'MNO', 'ARIF']\n",
      "Sorted names list:  ['ABC', 'ARIF', 'MNO', 'XYZ']\n",
      "\n",
      "list_num.reverse():  [8, 8, 6, 4, 3, 1, 0]\n",
      "list_names.reverse():  ['XYZ', 'MNO', 'ARIF', 'ABC']\n"
     ]
    }
   ],
   "source": [
    "# Use the sort() method to sort list elements\n",
    "# sort() method is used to sort list elements, ofcourse it changes the list on which it is called and returns none/void\n",
    "list_num = [3, 8, 1, 6, 0, 8, 4]\n",
    "print(\"Original numbers list: \", list_num)\n",
    "list_num.sort()\n",
    "print(\"Sorted numbers list: \", list_num)\n",
    "list_names = [\"XYZ\", \"ABC\", \"MNO\", \"ARIF\"]\n",
    "print(\"\\nOriginal names list: \", list_names)\n",
    "list_names.sort()         \n",
    "print(\"Sorted names list: \", list_names)\n",
    "\n",
    "\n",
    "# reverse() method simply reverse the order of the list emements on which it is called and returns none/void\n",
    "list_num.reverse()\n",
    "print(\"\\nlist_num.reverse(): \",list_num)\n",
    "list_names.reverse()\n",
    "print(\"list_names.reverse(): \",list_names)\n"
   ]
  },
  {
   "cell_type": "markdown",
   "id": "aa367cb0",
   "metadata": {},
   "source": [
    "### 10. Some Built-in functions that can be used on lists\n"
   ]
  },
  {
   "cell_type": "code",
   "execution_count": 13,
   "id": "2f025aa2",
   "metadata": {},
   "outputs": [
    {
     "name": "stdout",
     "output_type": "stream",
     "text": [
      "length of list:  7\n",
      "max element in list:  8\n",
      "min element in list:  0\n",
      "Sum of element in list:  30\n",
      "False\n",
      "True\n"
     ]
    }
   ],
   "source": [
    "list_num = [3, 8, 1, 6, 0, 8, 4]\n",
    "\n",
    "print(\"length of list: \", len(list_num))\n",
    "print(\"max element in list: \", max(list_num))\n",
    "print(\"min element in list: \",min(list_num))\n",
    "print(\"Sum of element in list: \",sum(list_num))\n",
    "\n",
    "# Membership (in) operator\n",
    "rv1 = 9 in list_num\n",
    "print(rv1)\n",
    "\n",
    "rv2 = \"ARIF\" in list_names\n",
    "print(rv2)\n",
    "\n",
    "\n",
    "# Some other built-in methods that you can use on lists are sorted(), any(), all(), list()"
   ]
  },
  {
   "cell_type": "markdown",
   "id": "ff517f2e",
   "metadata": {},
   "source": [
    "### 11. Misc Concepts"
   ]
  },
  {
   "cell_type": "markdown",
   "id": "57a57000",
   "metadata": {},
   "source": [
    "#### a. Comparing objects and values"
   ]
  },
  {
   "cell_type": "code",
   "execution_count": 14,
   "id": "5ba0e04b",
   "metadata": {},
   "outputs": [
    {
     "name": "stdout",
     "output_type": "stream",
     "text": [
      "Comparing two strings with is operator True\n",
      "Comparing two strings with == operator True\n",
      "Comparing two lists with is operator False\n",
      "Comparing two lists with == operator True\n"
     ]
    }
   ],
   "source": [
    "# in case of strings, both a and b refers to the same memory location containing string 'hello'\n",
    "a = 'hello'\n",
    "b = 'hello'\n",
    "print (\"Comparing two strings with is operator\", a is b) # is operator is checking the memory address two strings\n",
    "print (\"Comparing two strings with == operator\", a == b) # == operator is checking the contents of two strings\n",
    "\n",
    "# in case of list, both a and b refers to two different objects in the memory having same values\n",
    "x = ['hello']\n",
    "y = ['hello']\n",
    "\n",
    "print (\"Comparing two lists with is operator\", x is y) # is operator is checking the memory address two lists\n",
    "print (\"Comparing two lists with == operator\", x == y) # == operator is checking the contents of two lists"
   ]
  },
  {
   "cell_type": "markdown",
   "id": "2aae08e0",
   "metadata": {},
   "source": [
    "#### b. Comparing Lists"
   ]
  },
  {
   "cell_type": "code",
   "execution_count": 15,
   "id": "596c6b8d",
   "metadata": {
    "scrolled": true
   },
   "outputs": [
    {
     "name": "stdout",
     "output_type": "stream",
     "text": [
      "True\n",
      "True\n",
      "False\n"
     ]
    }
   ],
   "source": [
    "# you can use comparison operators on list\n",
    "l1 = [1, 2, 3]\n",
    "l2 = [3, 1, 2]\n",
    "l3 = [1, 2, 3]\n",
    "print(l1 != l2)\n",
    "print(l1 == l3)\n",
    "print(l2 < l1)\n",
    "\n"
   ]
  },
  {
   "cell_type": "markdown",
   "id": "0f4febac",
   "metadata": {},
   "source": [
    "#### c. Aliasing"
   ]
  },
  {
   "cell_type": "code",
   "execution_count": 16,
   "id": "d8248e80",
   "metadata": {},
   "outputs": [
    {
     "name": "stdout",
     "output_type": "stream",
     "text": [
      "False\n",
      "True\n",
      "['a', 'b', 'e']\n",
      "['a', 'b', 'c']\n",
      "['a', 'b', 'e']\n"
     ]
    }
   ],
   "source": [
    "# alias_list1 is an alias to list1. i.e., both names refer to same object now.\n",
    "# Draw diagram to understand\n",
    "list1 = ['a', 'b', 'c']\n",
    "list2 = ['a', 'b', 'c']\n",
    "alias_list1 = list1\n",
    "\n",
    "\n",
    "print(list1 is list2)\n",
    "print(alias_list1 is list1)\n",
    "\n",
    "#making change in one will effect the other\n",
    "list1[2] = 'e'\n",
    "print(list1)\n",
    "print(list2)\n",
    "print(alias_list1)"
   ]
  },
  {
   "cell_type": "markdown",
   "id": "a578a6c3",
   "metadata": {},
   "source": [
    "### 12. Looping through list elements (More on loops in next lecture)"
   ]
  },
  {
   "cell_type": "code",
   "execution_count": 17,
   "id": "8c8c3eeb",
   "metadata": {},
   "outputs": [
    {
     "name": "stdout",
     "output_type": "stream",
     "text": [
      "Learning\n",
      "is\n",
      "fun\n",
      "with\n",
      "Arif Butt\n",
      "Learning\n",
      "is\n",
      "fun\n",
      "with\n",
      "Arif Butt\n"
     ]
    }
   ],
   "source": [
    "# for loop iterates over the elements specified number of times\n",
    "list1 = ['Learning', 'is', 'fun', 'with', 'Arif Butt']\n",
    "for x in list1:\n",
    "    print(x)\n",
    "    \n",
    "# while loop iterates over the elements until a certain condition is met\n",
    "ctr = 0\n",
    "while(ctr < len(list1)):\n",
    "    print(list1[ctr])\n",
    "    ctr += 1"
   ]
  },
  {
   "cell_type": "code",
   "execution_count": 8,
   "id": "bd777993",
   "metadata": {},
   "outputs": [
    {
     "name": "stdout",
     "output_type": "stream",
     "text": [
      "[10, 20, 30, 40, 50]\n",
      "[20, 40, 60, 80, 100]\n"
     ]
    }
   ],
   "source": [
    "# create a new list whose values are the doubles of the values of an existing list.\n",
    "nums = [10, 20, 30, 40, 50]\n",
    "nums_double = []\n",
    "\n",
    "for n in nums:\n",
    "    nums_double.append(n * 2)\n",
    "\n",
    "print(nums)\n",
    "print(nums_double)"
   ]
  },
  {
   "cell_type": "code",
   "execution_count": 15,
   "id": "bb85c79c",
   "metadata": {},
   "outputs": [
    {
     "ename": "NameError",
     "evalue": "name 'avg' is not defined",
     "output_type": "error",
     "traceback": [
      "\u001b[0;31m---------------------------------------------------------------------------\u001b[0m",
      "\u001b[0;31mNameError\u001b[0m                                 Traceback (most recent call last)",
      "\u001b[0;32m/var/folders/1t/g3ylw8h50cjdqmk5d6jh1qmm0000gn/T/ipykernel_58346/428066693.py\u001b[0m in \u001b[0;36m<module>\u001b[0;34m\u001b[0m\n\u001b[0;32m----> 1\u001b[0;31m \u001b[0mavg\u001b[0m\u001b[0;34m(\u001b[0m\u001b[0mnums\u001b[0m\u001b[0;34m)\u001b[0m\u001b[0;34m\u001b[0m\u001b[0;34m\u001b[0m\u001b[0m\n\u001b[0m",
      "\u001b[0;31mNameError\u001b[0m: name 'avg' is not defined"
     ]
    }
   ],
   "source": [
    "avg(nums)"
   ]
  },
  {
   "cell_type": "code",
   "execution_count": null,
   "id": "7b34a8ed",
   "metadata": {},
   "outputs": [],
   "source": []
  }
 ],
 "metadata": {
  "kernelspec": {
   "display_name": "Python 3 (ipykernel)",
   "language": "python",
   "name": "python3"
  },
  "language_info": {
   "codemirror_mode": {
    "name": "ipython",
    "version": 3
   },
   "file_extension": ".py",
   "mimetype": "text/x-python",
   "name": "python",
   "nbconvert_exporter": "python",
   "pygments_lexer": "ipython3",
   "version": "3.8.10"
  }
 },
 "nbformat": 4,
 "nbformat_minor": 5
}
