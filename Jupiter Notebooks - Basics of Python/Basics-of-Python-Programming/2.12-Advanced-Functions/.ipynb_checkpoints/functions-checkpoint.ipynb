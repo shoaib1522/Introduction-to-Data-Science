{
 "cells": [
  {
   "cell_type": "markdown",
   "id": "0ba08993",
   "metadata": {},
   "source": [
    "---   \n",
    " <img align=\"left\" width=\"75\" height=\"75\"  src=\"https://upload.wikimedia.org/wikipedia/en/c/c8/University_of_the_Punjab_logo.png\"> \n",
    "\n",
    "<h1 align=\"center\">Department of Data Science</h1>\n",
    "<h1 align=\"center\">Course: Tools and Techniques for Data Science</h1>\n",
    "\n",
    "---\n",
    "<h3><div align=\"right\">Instructor: Muhammad Arif Butt, Ph.D.</div></h3>    "
   ]
  },
  {
   "cell_type": "markdown",
   "id": "007946c5",
   "metadata": {},
   "source": [
    "<h1 align=\"center\">Lecture 2.11</h1>"
   ]
  },
  {
   "cell_type": "markdown",
   "id": "ae18f83a",
   "metadata": {},
   "source": [
    "## _functions.ipynb_"
   ]
  },
  {
   "cell_type": "markdown",
   "id": "4377d061",
   "metadata": {},
   "source": [
    "## Learning agenda of this notebook\n",
    "\n",
    "1. What are functions in Python \n",
    "2. User Defined Functions in Python\n",
    "    - Basic Examples\n",
    "    - Docstring inside a function\n",
    "    - Passing arguments and Returning value from a function\n",
    "    - Pass by value vs Pass by reference\n",
    "3. Arguments of a Python function \n",
    "    - Positional/Required arguments\n",
    "    - Default arguments\n",
    "    - Keyword arguments\n",
    "    - Variable length arguments\n",
    "    - Arbitrary keyword arguments\n",
    "4. Nested functions\n",
    "5. Understanding Scope in Python\n",
    "    - Local scope\n",
    "    - Enclosing scope\n",
    "    - Global scope\n",
    "    - Built-in Scope\n",
    "6. Anonymous Functions or Lambda Functions\n",
    "    - Basic Examples of lambda functions\n",
    "    - Using lambda function as argument to other functions\n",
    "7. Using Lambda Function with built-in `sorted()` function\n",
    "8. Using Lambda Function with built-in `map()` function\n",
    "9. Using Lambda Function with built-in `filter()` function\n",
    "10. Using Lambda Function with built-in `reduce()` function"
   ]
  },
  {
   "cell_type": "markdown",
   "id": "f7fefd5f",
   "metadata": {},
   "source": [
    "### 1. What are Functions in Python\n",
    "* In Python a function is a group of related statements that perform a specific task.\n",
    "* Functions help break our program into smaller and modular chunks.\n",
    "* As our program grows larger and larger, functions make it more organized and manageable.\n",
    "* A code inside a function only runs when it is called.\n",
    "* Furthermore, functions avoids repetition and makes the code reusable\n",
    "* You can pass data, known as parameters, into a function.\n",
    "* A function can return data as a result.\n",
    "* Types of Python Functions\n",
    "    - Built-in Functions: These functions are part of the standard Python library, e.g., print(), \n",
    "    - User Defined Functions: These functions are defined by the programmer him/herself\n",
    "    - Anonymous Functions: Functions without a name, also called Lambda Functions"
   ]
  },
  {
   "cell_type": "code",
   "execution_count": null,
   "id": "ed95e9ae",
   "metadata": {},
   "outputs": [],
   "source": [
    "help('FUNCTIONS')"
   ]
  },
  {
   "cell_type": "code",
   "execution_count": null,
   "id": "bc07c709",
   "metadata": {},
   "outputs": [],
   "source": [
    "help('METHODS')"
   ]
  },
  {
   "cell_type": "markdown",
   "id": "0ca4bb39",
   "metadata": {},
   "source": [
    "## 2. User Defined Functions in Python\n",
    "* In Python, the keyword `def` introduces a function definition and it must be followed by the function name, parenthesis and a collon.\n",
    "* Followed by the function header, we have a indented block of statements, also called the function body"
   ]
  },
  {
   "cell_type": "code",
   "execution_count": null,
   "id": "d92f6a4f",
   "metadata": {},
   "outputs": [],
   "source": [
    "help('def')"
   ]
  },
  {
   "cell_type": "markdown",
   "id": "efe504e4",
   "metadata": {},
   "source": [
    "### a. Basic Example of a Python Function"
   ]
  },
  {
   "cell_type": "code",
   "execution_count": null,
   "id": "c4751b3d",
   "metadata": {},
   "outputs": [],
   "source": [
    "#defining a function\n",
    "def func1():\n",
    "    print(\"Functions in Python\")\n",
    "\n",
    "#calling a function (A function must be defined before it is called)\n",
    "func1()"
   ]
  },
  {
   "cell_type": "code",
   "execution_count": null,
   "id": "8e1296a3",
   "metadata": {},
   "outputs": [],
   "source": [
    "func1()"
   ]
  },
  {
   "cell_type": "markdown",
   "id": "6b55cae4",
   "metadata": {},
   "source": [
    "### b. Docstring inside a Function\n",
    "- We can add some documentation within our function using a *docstring*. \n",
    "- A docstring is simply a string that appears as the first statement within the function body, and is used by the `help` function. \n",
    "- A good docstring describes what the function does, and provides some explanation about the arguments."
   ]
  },
  {
   "cell_type": "code",
   "execution_count": null,
   "id": "c7865185",
   "metadata": {},
   "outputs": [],
   "source": [
    "#defining a function\n",
    "def func1():\n",
    "    \"\"\" This is a docstring that describes what the function do\n",
    "        It simply display a welcome message\"\"\"\n",
    "    print(\"Welcome to Learning Functions in Python\")\n",
    "\n",
    "#calling a function\n",
    "func1()"
   ]
  },
  {
   "cell_type": "code",
   "execution_count": null,
   "id": "5d7e47da",
   "metadata": {},
   "outputs": [],
   "source": [
    "# We can access the docstring using the built-in command __doc__. \n",
    "# Any identifier that starts with a double underscore is a Python builtin command\n",
    "func1.__doc__"
   ]
  },
  {
   "cell_type": "code",
   "execution_count": null,
   "id": "699c7c89",
   "metadata": {},
   "outputs": [],
   "source": [
    "help(func1)"
   ]
  },
  {
   "cell_type": "code",
   "execution_count": null,
   "id": "0dacd756",
   "metadata": {},
   "outputs": [],
   "source": [
    "# After the function name place a dot and then press <shift+tab> to get a quick help aboout the function\n",
    "\n"
   ]
  },
  {
   "cell_type": "markdown",
   "id": "47ba9a3d",
   "metadata": {},
   "source": [
    "### c. Returning value from a Function\n",
    "* A `return` statement is used to end the execution of the function call and gives the result.\n",
    "* The statements after the return statements are not executed"
   ]
  },
  {
   "cell_type": "code",
   "execution_count": null,
   "id": "978b8814",
   "metadata": {},
   "outputs": [],
   "source": [
    "help('return')"
   ]
  },
  {
   "cell_type": "code",
   "execution_count": null,
   "id": "a370f371",
   "metadata": {},
   "outputs": [],
   "source": [
    "#defining a function\n",
    "def mysum2():  \n",
    "    total = 5 + 7\n",
    "    return total\n",
    "\n",
    "#calling a function\n",
    "rv = mysum2()\n",
    "print(\"5 + 7 = \", rv)\n"
   ]
  },
  {
   "cell_type": "markdown",
   "id": "ab9d1b5e",
   "metadata": {},
   "source": [
    "### d. Arguments to a Python Function\n",
    "- Functions can accept zero or more values as *inputs* (also knows as *arguments* or *parameters*). Arguments help us write flexible functions that can perform the same operations on different values. Further, functions can return a result that can be stored in a variable or used in other expressions.\n",
    "- Arguments are called **Required arguments** means that if your function expects 2 arguments, you have to call the function with 2 arguments, not more, and not less.\n",
    "- Arguments are called **positional arguments** because while calling the function, the arguments must be passed in the correct positional order to get the desired result. e.g., in case of subtract(a, b)\n",
    "- The number of required arguments passed to a Python function is limited by available process stack frame"
   ]
  },
  {
   "cell_type": "code",
   "execution_count": null,
   "id": "8e8201b9",
   "metadata": {},
   "outputs": [],
   "source": [
    "# A function that is passed two numbers and it returns their sum\n",
    "def mysum3(a, b):  \n",
    "    \"\"\"Calculates and return the sum of two numbers.\n",
    "    Arguments:\n",
    "       a - First number \n",
    "       b - Second number\n",
    "    \"\"\"\n",
    "    total = a + b\n",
    "    return total\n",
    "\n",
    "#calling a function\n",
    "a = 10 \n",
    "b = 15\n",
    "rv = mysum3(a, b)\n",
    "print(a, \" + \", b, \" = \", rv)"
   ]
  },
  {
   "cell_type": "code",
   "execution_count": null,
   "id": "eec70cae",
   "metadata": {},
   "outputs": [],
   "source": [
    "help(mysum3)"
   ]
  },
  {
   "cell_type": "code",
   "execution_count": null,
   "id": "b39cbe0a",
   "metadata": {},
   "outputs": [],
   "source": [
    "# A function that receives a list and returns a Number data type containing sum of squares of its elements \n",
    "def sumofsquares(l1):\n",
    "    rv = 0\n",
    "    for i in l1:\n",
    "        rv = rv + i*i\n",
    "    return rv\n",
    "\n",
    "#calling a function\n",
    "list1 = [1, 2, 3] \n",
    "rv = sumofsquares(list1)\n",
    "print(\"Sum of list elements are: \", rv)\n",
    "print(\"Return type = \", type(rv))"
   ]
  },
  {
   "cell_type": "code",
   "execution_count": null,
   "id": "6e1d5603",
   "metadata": {},
   "outputs": [],
   "source": [
    "# A function that receives a list and returns a List data type containing sub-list containing even numbers\n",
    "def filter_even(number_list):\n",
    "    result_list = []\n",
    "    for number in number_list:\n",
    "        if number % 2 == 0:\n",
    "            result_list.append(number)\n",
    "    return result_list\n",
    "\n",
    "even_list = filter_even([1, 2, 3, 4, 5, 6, 7])\n",
    "even_list"
   ]
  },
  {
   "cell_type": "markdown",
   "id": "a774b7e0",
   "metadata": {},
   "source": [
    "### e.  Pass by value vs Pass by reference\n",
    "- All arguments (less intrinsic types) in Python are passed by reference. It means if you change what a parameter refers to within a function, the change also reflects back in the calling function."
   ]
  },
  {
   "cell_type": "code",
   "execution_count": null,
   "id": "db5d17ae",
   "metadata": {},
   "outputs": [],
   "source": [
    "# Function arguments of intrinsic types like int, float, strings are passed by value\n",
    "def myfunc(nam):\n",
    "    nam = \"Arif Butt\"\n",
    "\n",
    "a = \"Kakamanna\"\n",
    "print(\"Before calling: \", a)\n",
    "rv = myfunc(a)\n",
    "print(\"After calling: \", a)"
   ]
  },
  {
   "cell_type": "code",
   "execution_count": null,
   "id": "d11cdf0f",
   "metadata": {},
   "outputs": [],
   "source": [
    "# Function arguments of intrinsic types like int, float, strings are passed by value\n",
    "def myfunc(x, y, z):\n",
    "    x = x + 1\n",
    "    y = y + 1\n",
    "    z = z + 1\n",
    "\n",
    "a = 10\n",
    "b = 20\n",
    "c = 30\n",
    "myfunc(a, b, c)\n",
    "print(a, b, c)"
   ]
  },
  {
   "cell_type": "code",
   "execution_count": null,
   "id": "3eaec931",
   "metadata": {},
   "outputs": [],
   "source": [
    "# Lists, Tuples, Sets, and Dictionary objects are passed to functions as reference\n",
    "# The changes made by the callee are visible to the caller (but not for tuples as they are immutable)\n",
    "# Example: \n",
    "def func1(l1):\n",
    "    l1[2] = 'x'\n",
    "    \n",
    "mylist = ['a', 'b', 'c', 'd', 'e', 'f']\n",
    "print(\"Before calling: \", mylist)\n",
    "func1(mylist)\n",
    "print(\"After calling: \", mylist)"
   ]
  },
  {
   "cell_type": "code",
   "execution_count": null,
   "id": "05bd102a",
   "metadata": {},
   "outputs": [],
   "source": [
    "# Example: \n",
    "def func1(list2):\n",
    "    l3 = list2[1:4]\n",
    "    print(\"List l3 is local to the function having: \", l3)\n",
    "    \n",
    "list1 = ['a', 'b', 'c', 'd', 'e', 'f']\n",
    "print(\"Before calling: \", list1)\n",
    "func1(list1)\n",
    "print(\"After calling: \", list1)"
   ]
  },
  {
   "cell_type": "code",
   "execution_count": null,
   "id": "bffa44b9",
   "metadata": {},
   "outputs": [],
   "source": [
    "# Example: \n",
    "def func1(list2):\n",
    "    l3 = list2[1:4]\n",
    "    print(\"List l3 is local to the function having: \", l3)\n",
    "    return l3\n",
    "    \n",
    "list1 = ['a', 'b', 'c', 'd', 'e', 'f']\n",
    "print(\"Before calling list1: \", list1)\n",
    "returned_list = func1(list1)\n",
    "print(\"After calling list1: \", list1)\n",
    "print(\"Returned list is : \", returned_list)"
   ]
  },
  {
   "cell_type": "code",
   "execution_count": null,
   "id": "85b1e826",
   "metadata": {},
   "outputs": [],
   "source": [
    "# Tuples are mutable: proof of concept\n",
    "def func1(t1):\n",
    "    t1[2] = 'x'\n",
    "    \n",
    "mytuple = ('a', 'b', 'c', 'd', 'e', 'f')\n",
    "print(\"Before calling: \", mytuple)\n",
    "func1(mytuple)\n",
    "print(\"After calling: \", mytuple)"
   ]
  },
  {
   "cell_type": "markdown",
   "id": "929039be",
   "metadata": {},
   "source": [
    "## 3. Function Arguments in Python\n",
    "- There are following points that one needs to keep in mind while using arguments in Python functions:\n",
    "    - Required Arguments / Positional arguments (discussed above)\n",
    "    - Default Arguments\n",
    "    - Keyword Arguments\n",
    "    - Variable length Arguments\n",
    "    - Arbitrary Keyword Arguments"
   ]
  },
  {
   "cell_type": "markdown",
   "id": "853c5dfb",
   "metadata": {},
   "source": [
    "### a. Required/Positional arguments\n",
    "- If a function expect two arguments, you have to call the function with exactly two arguments.\n",
    "- Moreover, arguments must be passed in correct positional order to get the desired result."
   ]
  },
  {
   "cell_type": "code",
   "execution_count": null,
   "id": "9389e0ab",
   "metadata": {},
   "outputs": [],
   "source": [
    "def mysub(a, b):\n",
    "   return a - b\n",
    "\n",
    "x = 8\n",
    "y = 3\n",
    "# calling a function with both arguments (order matters)\n",
    "rv = mysub(x, y)\n",
    "rv"
   ]
  },
  {
   "cell_type": "markdown",
   "id": "6360f7ac",
   "metadata": {},
   "source": [
    "### b. Default arguments\n",
    "- In a function definition, we can assign default values to arguments.\n",
    "- During function call, if a value is not passed to that argument, the function assumes the default value."
   ]
  },
  {
   "cell_type": "code",
   "execution_count": null,
   "id": "0f05f612",
   "metadata": {},
   "outputs": [],
   "source": [
    "# Function with default arguments\n",
    "def display(name = 'kakamanna', age = 35):\n",
    "   print (\"Name: \", name, \", Age: \", age)\n",
    "   return;\n",
    "\n",
    "# calling a function with both arguments (order matters)\n",
    "display(\"Arif Butt\", 51)\n",
    "\n",
    "# calling a function with one argument only (the default value of age will be printed)\n",
    "display(\"Mujahid Butt\" )\n",
    "\n",
    "\n",
    "# You cannot skip the first default argument and give the second\n",
    "#display(,51 )\n",
    "#Solution is keyword arguments (discussed below)\n",
    "display(age=23)\n"
   ]
  },
  {
   "cell_type": "markdown",
   "id": "22e9c9dd",
   "metadata": {},
   "source": [
    "### c. Keyword/Named arguments\n",
    "- If you want to bypass the positional argument rule, we can pass arguments in any order by mentioning their parameter names, which the function definition is expecting.\n",
    "- Using **keyword/named arguments**, a programmer can pass arguments in any order by mentioning their parameter names while calling the function"
   ]
  },
  {
   "cell_type": "code",
   "execution_count": null,
   "id": "93177a85",
   "metadata": {},
   "outputs": [],
   "source": [
    "# Function calling with key word arguments\n",
    "def display(name, age):\n",
    "   print (\"Name: \", name, \", Age: \", age)\n",
    "   return;\n",
    "\n",
    "# Sequence/order of arguments matter\n",
    "display(25, \"Arif Butt\")\n",
    "\n",
    "# Sequence/order of arguments DOES NOT matter now\n",
    "display(age=25, name=\"Mujahid Butt\") # passing parameters in any order using keyword argument \n",
    "print(\"\\n\")"
   ]
  },
  {
   "cell_type": "code",
   "execution_count": null,
   "id": "1e8a53f8",
   "metadata": {},
   "outputs": [],
   "source": [
    "def mysub(a, b):\n",
    "   return a - b\n",
    "\n",
    "\n",
    "# calling a function with both arguments (order matters)\n",
    "rv = mysub(b = 3, a = 8)\n",
    "rv"
   ]
  },
  {
   "cell_type": "markdown",
   "id": "2d7c5bf3",
   "metadata": {},
   "source": [
    "### d. Variable length arguments\n",
    "- Although we can pass a list to a function containing any number of elements.\n",
    "- But sometimes, we need more flexibility while defining functions like we don't know in advance the fixed number of arguments.\n",
    "- Python allows us to make function calls with variable length arguments.\n",
    "- If you want a function to receive variable number of arguments, you place an asterisk (*) before the variable name.\n",
    "- This way the function will receive a tuple of arguments (an iterable), and can access the items accordingly"
   ]
  },
  {
   "cell_type": "code",
   "execution_count": null,
   "id": "e98931c6",
   "metadata": {},
   "outputs": [],
   "source": [
    "# Example: Passing variable number of arguments to a function\n",
    "def my_function(*args):   # Whatever is passed to this function, it will create a iterable out of it\n",
    "    for i in args:        # We can use the iter() and next() function to iterate through the iterable\n",
    "        print(i, end=' ')\n",
    "\n",
    "my_function('arif','rauf')\n",
    "print(\"\\n\")\n",
    "my_function(1, 2, 3, 4, 5, 6, 7, 8)\n",
    "print(\"\\n\")\n",
    "my_function(5, 2.5, 9)"
   ]
  },
  {
   "cell_type": "markdown",
   "id": "f23e215b",
   "metadata": {},
   "source": [
    "### e. Arbitrary keyword arguments\n",
    "- Arbitrary keyword arguments (`\\*\\*kwarg`) is just like variable length arguments (`\\*arg`). The difference is instead of accepting positional arguments, it accepts keyword (or named) arguments.\n",
    "- When using the ** parameter, the order of arguments does not matter. However, the name of the arguments must be the same.\n",
    "- This way the function will receive a dictionary of arguments, and you can access the items accordingly"
   ]
  },
  {
   "cell_type": "code",
   "execution_count": null,
   "id": "0205f0d6",
   "metadata": {},
   "outputs": [],
   "source": [
    "def myfunc(**kwargs):\n",
    "    result = \"\"\n",
    "    # Iterating over the key:value pairs of kwargs dictionary\n",
    "    for arg in kwargs.items():\n",
    "        print(arg)\n",
    "\n",
    "myfunc(a = \"Learning\", b = 'Is', c = 'Fun')"
   ]
  },
  {
   "cell_type": "code",
   "execution_count": null,
   "id": "3515bdbb",
   "metadata": {},
   "outputs": [],
   "source": [
    "def myfunc(**kwargs):\n",
    "    result = \"\"\n",
    "    # Iterating over the values only of kwargs dictionary\n",
    "    for arg in kwargs.values():\n",
    "        print(arg)\n",
    "\n",
    "myfunc(a = \"Learning\", b = 'Is', c = 'Fun', d ='with', e='Arif')"
   ]
  },
  {
   "cell_type": "code",
   "execution_count": null,
   "id": "9acfc7e1",
   "metadata": {},
   "outputs": [],
   "source": [
    "def greet(**kwargs):\n",
    "    print('Hello, ', kwargs['fname'],  kwargs['mname'], kwargs['lname'])\n",
    "\n",
    "greet(lname='Butt', fname='Muhammad', mname= 'Arif')\n"
   ]
  },
  {
   "cell_type": "code",
   "execution_count": null,
   "id": "f1c241ee",
   "metadata": {},
   "outputs": [],
   "source": [
    "def myconcat(**kwargs):\n",
    "    result = \"\"\n",
    "    # Iterating over the values of kwargs dictionary\n",
    "    for arg in kwargs.values():\n",
    "        result += arg\n",
    "    return result\n",
    "\n",
    "rv = myconcat(a = \"Learning\", b='Is', c='Fun')\n",
    "rv"
   ]
  },
  {
   "cell_type": "markdown",
   "id": "31f31e66",
   "metadata": {},
   "source": [
    "## 4. Functions can be Nested in Python\n",
    "- A function that is defined inside another function is called nested or inner function.\n",
    "- Nested or inner function can access variables created in the outer function (enclosing scope).\n",
    "- Inner functions have many uses, most notably as closure factories and decorator functions."
   ]
  },
  {
   "cell_type": "code",
   "execution_count": null,
   "id": "fed321a2",
   "metadata": {},
   "outputs": [],
   "source": [
    "def outerFunction(): \n",
    "    name = 'Arif'\n",
    "    def innerFunction():\n",
    "        print(name) \n",
    "    innerFunction() \n",
    "    \n",
    "outerFunction() \n",
    "#innerFunction() # This line will raise a NameErrror\n",
    "                 # because an innerFunction() can only be accessed in the outerFunction() body, and not outside it"
   ]
  },
  {
   "cell_type": "markdown",
   "id": "0f49370f",
   "metadata": {},
   "source": [
    "## 5. Understanding Scope in Python\n",
    "- **Scope of Variable** means that part of program where we can access the particular variable. \n",
    "- Parameters and variables defined inside a function are not visible/accessible from outside the function. Hence they have local scope.\n",
    "- **Lifetime of a variable** is the period throughout which the variable exists in memory. The lifetime of a variable inside a function is as long as the function executes. They are destroyed once we return from the function. Hence, a function does not remember the value of a variable from its previous calls.\n",
    "<img align=\"right\" width=\"500\" height=\"300\"  src=\"images/scopes.jpeg\" > \n",
    "\n",
    "- Python interpreter maintains a data structure called symbol table (using a dictionary object) containing information about each identifier appearing in the program's source code. \n",
    "- In Python, there are 4 types of Variable Scopes\n",
    "    >- Local Scope\n",
    "    >- Nonlocal/Enclosing Scope\n",
    "    >- Global Scope\n",
    "    >- Built-in Scope\n"
   ]
  },
  {
   "cell_type": "code",
   "execution_count": null,
   "id": "17a100fd",
   "metadata": {},
   "outputs": [],
   "source": [
    "# Example: Can you identify how many variables are created in the code snippet below and what is the o/p:\n",
    "x = 5\n",
    "print(x, id(x))\n",
    "def number():\n",
    "    x = 3\n",
    "    print(x, id(x))\n",
    "    def f1():\n",
    "        nonlocal x\n",
    "        x = x * 5\n",
    "        print(x, id(x))\n",
    "    f1()\n",
    "def numb():\n",
    "    global x\n",
    "    x = x * 5\n",
    "    print(x, id(x))\n",
    "number()\n",
    "numb()    \n",
    "print(x, id(x))"
   ]
  },
  {
   "cell_type": "markdown",
   "id": "d2ec5ee0",
   "metadata": {},
   "source": [
    "### a. Understanding Local  Scope\n",
    ">**Local Scope:** Python first tries to search for an identifier (variable) in Local scope. The local variable exists only within the block/function that it is declared in. When that block/function ends, the local variable has no significance, it gets destroyed. We cannot use it outside the function where it is declared."
   ]
  },
  {
   "cell_type": "code",
   "execution_count": null,
   "id": "4086958d",
   "metadata": {},
   "outputs": [],
   "source": [
    "# Example 1: Understanding Local Scope\n",
    "# The variable 'a' declared inside the function is local to that function\n",
    "# When you try to access (read/write) it outside the function, Python raises a NameError\n",
    "\n",
    "def my_function():\n",
    "    a = 1234  # a new local variable named 'a' is created\n",
    "    print(\"Value of variable 'a' inside function: \", a)\n",
    "\n",
    "my_function()\n",
    "print(\"Value of variable 'a' outside function: \", a) # Raise NameError, because the variable 'a' no longer exists"
   ]
  },
  {
   "cell_type": "markdown",
   "id": "4c344bbd",
   "metadata": {},
   "source": [
    "### b. Understanding Enclosing Scope\n",
    ">**Enclosing Scope:** Enclosing (or nonlocal) scope is a special scope that only exists for nested functions. If Python does not find an identifier (variable) within the local scope, it will examine the Enclosing scope to see if it can find the variable there."
   ]
  },
  {
   "cell_type": "code",
   "execution_count": null,
   "id": "335d0e82",
   "metadata": {},
   "outputs": [],
   "source": [
    "# Example 1: Understanding Enclosing / Non-Local Scope\n",
    "def f1():\n",
    "    x=4\n",
    "    def f2():\n",
    "        print(x)  #Since there is no variable 'x' defined in f2(), so it will search it in the non-local scope\n",
    "    f2()\n",
    "    print(x)     #The variable 'x' is defined in the local scope of f1() function\n",
    "\n",
    "f1()"
   ]
  },
  {
   "cell_type": "code",
   "execution_count": null,
   "id": "de61c550",
   "metadata": {},
   "outputs": [],
   "source": [
    "# Example 2: Understanding Enclosing / Non-Local Scope\n",
    "def f1():\n",
    "    a = 1234      # a is local variable to f1()\n",
    "    def f2():\n",
    "        a = 4321  # a is local variable to f2()\n",
    "        print(\"Inside the f2() function: a = \", a)\n",
    "    f2()\n",
    "    print(\"Inside the f1() function: a = \", a)\n",
    "\n",
    "\n",
    "f1()"
   ]
  },
  {
   "cell_type": "markdown",
   "id": "bdc5fee5",
   "metadata": {},
   "source": [
    "### c. Understanding Global Scope\n",
    ">- **Global Scope:** Global variable means that it is accessible from anywhere in your script, including from within a function. It is usually defined at the top of the script or outside of the function. \n",
    ">- Python first tries to find an identifier in the global scope, if it cannot find it in the local and non-local/enclosing scope"
   ]
  },
  {
   "cell_type": "code",
   "execution_count": null,
   "id": "5dd92692",
   "metadata": {},
   "outputs": [],
   "source": [
    "# Example 1: Understanding Global Scope\n",
    "\n",
    "b = 1234   # a global variable\n",
    "def my_function():\n",
    "    print(\"Value of variable 'b' inside function: \", b)\n",
    "\n",
    "my_function()\n",
    "print(\"Value of global variable 'b' outside function: \", b)\n"
   ]
  },
  {
   "cell_type": "code",
   "execution_count": null,
   "id": "6f53cdd9",
   "metadata": {},
   "outputs": [],
   "source": [
    "# Example 2: Understanding Global Scope\n",
    "c = 1234     # a global variable named 'c'\n",
    "def my_function():\n",
    "    c = 4321  # a new local variable named 'c' is created\n",
    "    print(\"Value of variable 'c' inside function: \", c)\n",
    "\n",
    "my_function()\n",
    "print(\"Value of variable 'c' outside function: \", c)\n"
   ]
  },
  {
   "cell_type": "markdown",
   "id": "457d6ed9",
   "metadata": {},
   "source": [
    "### d. Understanding Built-in Scope\n",
    ">- The Built-in scope means the function and variables that are already defined in Python.\n",
    ">- If an identifier is not found in local, enclosing and global scopes within a module, then Python will examine the built-in identifiers to see if it is defined there. \n",
    ">- The built-in scope has all the names that are loaded into python variable scope when we start the interpreter.\n",
    ">- For example, we never need to import any module to access functions like print() and id()."
   ]
  },
  {
   "cell_type": "code",
   "execution_count": null,
   "id": "d3f36cae",
   "metadata": {},
   "outputs": [],
   "source": [
    "# Example: Since the identifier `len` is not found in local, enclosing and global scopes, therefore,\n",
    "# Python would consult the Built-In scope, where it will find the len function and outputs 12\n",
    "x = len ('Data Science')    \n",
    "print(x)  "
   ]
  },
  {
   "cell_type": "code",
   "execution_count": null,
   "id": "0f15f10b",
   "metadata": {},
   "outputs": [],
   "source": [
    "# Example: Since the identifier `len` is there in the local scope, therefore\n",
    "# Python would use the `len` function defined in local scope and not the Built-In scope, and outputs 54\n",
    "def len(x):\n",
    "    return 54\n",
    "\n",
    "x = len('Data Science')    \n",
    "print(x)"
   ]
  },
  {
   "cell_type": "markdown",
   "id": "70bf759b",
   "metadata": {},
   "source": [
    "### e. Use of `global` Keyword\n",
    ">- The `global` keyword is used to tell the Python interpreter to use the globally defined variable instead of locally defining it. \n",
    ">- This is useful when we want to change the value of a global variable inside a function. To use it, simply type global followed by the variable name."
   ]
  },
  {
   "cell_type": "code",
   "execution_count": null,
   "id": "ae006ff2",
   "metadata": {},
   "outputs": [],
   "source": [
    "# Example: You get an error if you try to update a global variable inside a function\n",
    "c = 1234         # c is a global variable\n",
    "def my_function():\n",
    "    c = c + 1    # We want to modify the global variable c, This will raise an error\n",
    "    print(\"Value of variable 'c' inside function: \", c)\n",
    "\n",
    "my_function()\n",
    "print(\"Value of variable 'c' outside function: \", c)\n"
   ]
  },
  {
   "cell_type": "code",
   "execution_count": null,
   "id": "264f2875",
   "metadata": {},
   "outputs": [],
   "source": [
    "# Example: To update a global variable inside a function, you use the global keyword\n",
    "d = 1234\n",
    "def my_function():\n",
    "    global d    # global keyword does not create a new local variable, rather allows you to access the global var\n",
    "    d = d + 1  # this will change the global variable\n",
    "    print(\"Value of variable 'd' inside function: \", d)\n",
    "\n",
    "my_function()\n",
    "print(\"Value of variable 'd' outside function: \", d)"
   ]
  },
  {
   "cell_type": "markdown",
   "id": "7ad5f54b",
   "metadata": {},
   "source": [
    "### f. Use of `nonlocal` Keyword\n",
    ">- The `global` keyword is used to tell the Python interpreter to use the globally defined variable instead of locally defining it. \n",
    ">- This is useful when we want to change the value of a global variable inside a function. To use it, simply type global followed by the variable name."
   ]
  },
  {
   "cell_type": "code",
   "execution_count": null,
   "id": "08f9e88c",
   "metadata": {},
   "outputs": [],
   "source": [
    "# Example: You get an error if you try to update a non-local variable inside a function\n",
    "def f1():\n",
    "    a = 1234\n",
    "    def f2():\n",
    "        a = a + 1\n",
    "        print(\"Inside the f2() function: a = \", a)\n",
    "    f2()\n",
    "    print(\"Inside the f1() function: a = \", a)\n",
    "\n",
    "\n",
    "f1()"
   ]
  },
  {
   "cell_type": "code",
   "execution_count": null,
   "id": "70485c83",
   "metadata": {},
   "outputs": [],
   "source": [
    "# Example: To update a nonlocal variable inside the inner function, you use the nonlocal keyword\n",
    "def f1():\n",
    "    a = 1234\n",
    "    def f2():\n",
    "        nonlocal a\n",
    "        a = a + 1\n",
    "        print(\"Inside the f2() function: a = \", a)\n",
    "    f2()\n",
    "    print(\"Inside the f1() function: a = \", a)\n",
    "\n",
    "\n",
    "f1()"
   ]
  },
  {
   "cell_type": "markdown",
   "id": "c32289dd",
   "metadata": {},
   "source": [
    "## 6. Lambda / Anonymous Functions\n",
    "- In Python, an anonymous function is a function that is defined without a name. \n",
    "- A normal function is defined using the **`def` keyword**, anonymous function is defined using the **`lambda` keyword**. Hence, anonymous functions are also called lambda functions.\n",
    "- Lambda functions can take any number of arguments but return just one value which is a function object. Later we use it to call the Lambda function. They cannot contain commands or multiple expressions.\n",
    "- The syntax of defining a standard function is:\n",
    "```\n",
    "  def functionName( arguments ):\n",
    "\tstatements...\n",
    "\treturn something\n",
    "```\n",
    "- The syntax of defining a lambda function is:\n",
    "```\n",
    "  lambda [arg1 [,arg2,.....argn]]:expression\n",
    "```\n",
    "- While comparing the above two, notice following five differences\n",
    "    - `def` keyword is replaced by `lambda`, \n",
    "    - there is no function name, \n",
    "    - the arguments are not enclosed in parenthesis\n",
    "    - a regular function can contains one or more statement(s), while lambda function can contain an expression only\n",
    "    - a regular function may or may not return some value, but lambda function will always return the evaluated expression\n",
    "\n",
    "\n",
    "- An anonymous function cannot make a direct call to `print() function because lambda requires an expression\n",
    "- Lambda functions have their own local namespace and cannot access variables other than those in their parameter list and those in the global namespace.\n",
    "- Although it appears that lambda's are a one-line version of a function, they are not equivalent to inline statements in C or C++, whose purpose is by passing function stack allocation during invocation for performance reasons.\n",
    "- **Well, lambdas are really useful when a function requires another function as its argument.**\n",
    "- Python follow object oriented paradigm as well as functional paradigm, because in Python Functions can be used as first class objects, means:\n",
    "    - A function can be treated just like an object\n",
    "    - You can pass them as arguments to other functions\n",
    "    - You can return them from other functions\n",
    "    - You can assign them to variable"
   ]
  },
  {
   "cell_type": "markdown",
   "id": "fe79c21d",
   "metadata": {},
   "source": [
    "### a. Basic Examples of Lambda Functions"
   ]
  },
  {
   "cell_type": "code",
   "execution_count": null,
   "id": "3efd35f0",
   "metadata": {},
   "outputs": [],
   "source": [
    "# Example: Let us convert following regular function to a lambda function\n",
    "'''\n",
    "def squareof(x):\n",
    "   return x*x\n",
    "\n",
    "rv = squareof(5)\n",
    "print(rv)\n",
    "'''\n",
    "\n",
    "func1 = lambda x: x*x      # func1 is of type function, so you use it to make a call to lambda function\n",
    "\n",
    "rv = func1(5)\n",
    "\n",
    "print(rv, type(rv))        # return type corresponds to the expression\n",
    "print(type(func1))"
   ]
  },
  {
   "cell_type": "code",
   "execution_count": null,
   "id": "dbd801c5",
   "metadata": {},
   "outputs": [],
   "source": [
    "# Example: Let us convert following regular function to a lambda function\n",
    "'''\n",
    "def mysum(a, b):\n",
    "   return a+b\n",
    "\n",
    "rv = mysum(5, 7)\n",
    "print(rv)\n",
    "'''\n",
    "\n",
    "func1 = lambda a, b: a+b   # func1 is of type function, so you use it to make a call to lambda function\n",
    "\n",
    "rv = func1(5.3, 7)\n",
    "\n",
    "print(rv, type(rv))        # return type corresponds to the expression\n",
    "print(type(func1))"
   ]
  },
  {
   "cell_type": "code",
   "execution_count": null,
   "id": "ecf73362",
   "metadata": {},
   "outputs": [],
   "source": [
    "# Example: Let us convert following regular function to a lambda function\n",
    "'''\n",
    "def mysum(a, b, c):\n",
    "   return a+b+c\n",
    "\n",
    "rv = mysum(5)\n",
    "print(rv)\n",
    "'''\n",
    "\n",
    "func1 = lambda a, b, c: a+b+c  # func1 is of type function, so you use it to make a call to lambda function\n",
    "\n",
    "rv = func1(5.5, 6.3, 2.7)         # return type corresponds to the expression\n",
    "\n",
    "print(rv, type(rv))\n",
    "print(type(func1))"
   ]
  },
  {
   "cell_type": "markdown",
   "id": "3101c48e",
   "metadata": {},
   "source": [
    "### b. Using Lambda Function as argument to other functions"
   ]
  },
  {
   "cell_type": "code",
   "execution_count": null,
   "id": "03cb8588",
   "metadata": {},
   "outputs": [],
   "source": [
    "# Some basic functions that receives two arguments and return their sum, diff, mul\n",
    "def myadd(a, b):\n",
    "    return a + b\n",
    "\n",
    "def mysub(a, b):\n",
    "    return a - b\n",
    "\n",
    "def mymul(a, b):\n",
    "    return a * b\n",
    "\n",
    "# Calling above functions\n",
    "rv1 = myadd(8,2)\n",
    "rv2 = mysub(8, 2)\n",
    "rv3 = mymul(8, 2)\n",
    "rv1, rv2, rv3"
   ]
  },
  {
   "cell_type": "code",
   "execution_count": null,
   "id": "ee10f6be",
   "metadata": {},
   "outputs": [],
   "source": [
    "# The 'mycalc()' is a regulare function that is passed three arguments, first is a function name\n",
    "def mycalc(op, a, b):\n",
    "    return op(a,b)\n",
    "\n",
    "myadd = lambda a, b: a+b\n",
    "mysub = lambda a, b: a-b\n",
    "mymul = lambda a, b: a*b\n",
    "\n",
    "# Calling 'mycalc()' and passing appropriate function as its first argument\n",
    "rv1 = mycalc(myadd, 8, 2)\n",
    "rv2 = mycalc(mysub, 8, 2)\n",
    "rv3 = mycalc(mymul, 8, 2)\n",
    "\n",
    "rv1, rv2, rv3"
   ]
  },
  {
   "cell_type": "code",
   "execution_count": null,
   "id": "69a5a0b5",
   "metadata": {},
   "outputs": [],
   "source": [
    "# A more elegant way of writing above code\n",
    "def mycalc(op, a, b):\n",
    "    return op(a, b) \n",
    "\n",
    "rv1 = mycalc(lambda a, b: a + b, 8, 2)\n",
    "rv2 = mycalc(lambda a, b: a - b, 8, 2)\n",
    "rv3 = mycalc(lambda a, b: a - b, 8, 2)\n",
    "\n",
    "rv1, rv2, rv3"
   ]
  },
  {
   "cell_type": "markdown",
   "id": "1a71d9db",
   "metadata": {},
   "source": [
    "## 7. Using Lambda Function with built-in `sorted()` function\n",
    "- The only required argument to `sorted()` function is an iterable. It sorts the items of the given iterable in ascending order (by default) and returns the sorted iterable as a list, without modifying the original iterable.\n",
    "```\n",
    "sorted(iterable, key=None, reverse=False)\n",
    "```\n",
    "where\n",
    "- **iterable** is a sequence (string, tuple, list) or collection (set, dictionary) or any other iterator\n",
    "- **key** (optional argument), is a function that is applied once to each element before sorting\n",
    "- **reverse** (optional argument), default is false meaning sort in ascending order."
   ]
  },
  {
   "cell_type": "code",
   "execution_count": 1,
   "id": "d14b8f9e",
   "metadata": {},
   "outputs": [
    {
     "name": "stdout",
     "output_type": "stream",
     "text": [
      "Help on built-in function sorted in module builtins:\n",
      "\n",
      "sorted(iterable, /, *, key=None, reverse=False)\n",
      "    Return a new list containing all items from the iterable in ascending order.\n",
      "    \n",
      "    A custom key function can be supplied to customize the sort order, and the\n",
      "    reverse flag can be set to request the result in descending order.\n",
      "\n"
     ]
    }
   ],
   "source": [
    "help(sorted)"
   ]
  },
  {
   "cell_type": "markdown",
   "id": "48f1602e",
   "metadata": {},
   "source": [
    "#### Simple usage of `sorted()` function"
   ]
  },
  {
   "cell_type": "code",
   "execution_count": 2,
   "id": "10c10e17",
   "metadata": {},
   "outputs": [
    {
     "name": "stdout",
     "output_type": "stream",
     "text": [
      "Original list:  [5, 3, 21, 1]\n",
      "Sorted list:  [1, 3, 5, 21]\n"
     ]
    }
   ],
   "source": [
    "# Example: Passing a list to sorted() function\n",
    "mylist = [5, 3, 21, 1]\n",
    "mylist_sorted = sorted(mylist)\n",
    "\n",
    "print(\"Original list: \", mylist)\n",
    "print(\"Sorted list: \", mylist_sorted)"
   ]
  },
  {
   "cell_type": "code",
   "execution_count": 3,
   "id": "fd95f27f",
   "metadata": {},
   "outputs": [
    {
     "name": "stdout",
     "output_type": "stream",
     "text": [
      "Original string:  Arif\n",
      "Sorted string as a list:  ['r', 'i', 'f', 'A']\n"
     ]
    }
   ],
   "source": [
    "# Example: Passing a string to sorted() function and sorting in descending order\n",
    "mystr = \"Arif\"\n",
    "mystr_sorted = sorted(mystr, reverse=True)\n",
    "\n",
    "\n",
    "print(\"Original string: \", mystr)\n",
    "print(\"Sorted string as a list: \", mystr_sorted)"
   ]
  },
  {
   "cell_type": "code",
   "execution_count": 4,
   "id": "4858049a",
   "metadata": {},
   "outputs": [
    {
     "name": "stdout",
     "output_type": "stream",
     "text": [
      "Original tuple:  ('f', 'c', 'a', 'b')\n",
      "Sorted tuple as a list:  ['a', 'b', 'c', 'f']\n"
     ]
    }
   ],
   "source": [
    "# Example: Passing a tuple to sorted() function\n",
    "mytuple = ('f', 'c', 'a', 'b')\n",
    "mytuple_sorted = sorted(mytuple)\n",
    "\n",
    "print(\"Original tuple: \", mytuple)\n",
    "print(\"Sorted tuple as a list: \", mytuple_sorted)"
   ]
  },
  {
   "cell_type": "code",
   "execution_count": 6,
   "id": "cf1cb7ce",
   "metadata": {},
   "outputs": [
    {
     "name": "stdout",
     "output_type": "stream",
     "text": [
      "Original dictionary:  {'c': 1, 'z': 2, 'e': 3, 'a': 4, 't': 5, 'd': 6}\n",
      "Sorted dictionary keys as a list:  ['a', 'c', 'd', 'e', 't', 'z']\n"
     ]
    }
   ],
   "source": [
    "# Example: Passing a dictionary to sorted() will return a sorted list of dictionary keys\n",
    "mydict = {'c':1, 'z':2, 'e':3, 'a':4, 't':5, 'd':6} \n",
    "\n",
    "mydict_sorted = sorted(mydict)\n",
    "\n",
    "print(\"Original dictionary: \", mydict)\n",
    "print(\"Sorted dictionary keys as a list: \", mydict_sorted)\n"
   ]
  },
  {
   "cell_type": "code",
   "execution_count": 7,
   "id": "74fbe4fb",
   "metadata": {},
   "outputs": [
    {
     "name": "stdout",
     "output_type": "stream",
     "text": [
      "Original tuple:  [(4, 30), (6, 15), (1, 25), (9, 8)]\n",
      "Sorted tuple as a list:  [(1, 25), (4, 30), (6, 15), (9, 8)]\n"
     ]
    }
   ],
   "source": [
    "# Example: Passing a list of tuples having two elements each, will sort by first element by default\n",
    "mylist = [(4, 30), (6, 15), (1, 25), (9, 8)]\n",
    "\n",
    "mylist_sorted = sorted(mylist)\n",
    "\n",
    "print(\"Original tuple: \", mylist)\n",
    "print(\"Sorted tuple as a list: \", mylist_sorted)"
   ]
  },
  {
   "cell_type": "markdown",
   "id": "4f951f82",
   "metadata": {},
   "source": [
    "#### Using `key` parameter of `sorted()` function\n",
    "- One of the most common things we do with list and other sequences is applying an operation to each item and collect the result.\n",
    "- The optional parameter `key` to the `sorted()` function takes a function as it’s value. This function is applied to each element of the iterable (passed as first argument) before sorting. The function takes the element and returns a single value which is then used within sort instead of the original element."
   ]
  },
  {
   "cell_type": "code",
   "execution_count": 8,
   "id": "3803626b",
   "metadata": {},
   "outputs": [
    {
     "name": "stdout",
     "output_type": "stream",
     "text": [
      "Original list of tuples:  [(4, 30), (6, 15), (1, 25), (9, 8)]\n",
      "Sorted list of tuples:  [(9, 8), (6, 15), (1, 25), (4, 30)]\n"
     ]
    }
   ],
   "source": [
    "# Example: Sorting a list of tuples having two elements each\n",
    "# We want to sort the list based on the second element of each tuple\n",
    "mylist = [(4, 30), (6, 15), (1, 25), (9, 8)]\n",
    "\n",
    "def func(item):\n",
    "    return item[1]\n",
    "\n",
    "mylist_sorted = sorted(mylist, key = func)\n",
    "\n",
    "print(\"Original list of tuples: \", mylist)\n",
    "print(\"Sorted list of tuples: \", mylist_sorted)"
   ]
  },
  {
   "cell_type": "markdown",
   "id": "ae28ff78",
   "metadata": {},
   "source": [
    "**Since `sorted()` function expects a function to be passed as argument, so this is where we can also use lambda function as shown below**"
   ]
  },
  {
   "cell_type": "code",
   "execution_count": 9,
   "id": "2a91cd3d",
   "metadata": {},
   "outputs": [
    {
     "name": "stdout",
     "output_type": "stream",
     "text": [
      "Original list of tuples:  [(4, 30), (6, 15), (1, 25), (9, 8)]\n",
      "Sorted list of tuples:  [(9, 8), (6, 15), (1, 25), (4, 30)]\n"
     ]
    }
   ],
   "source": [
    "# Example: A more elegant way of writing above logic is to use Lambda function\n",
    "mylist = [(4, 30), (6, 15), (1, 25), (9, 8)]\n",
    "\n",
    "mylist_sorted = sorted(mylist, key = lambda element:element[1])\n",
    "\n",
    "print(\"Original list of tuples: \", mylist)\n",
    "print(\"Sorted list of tuples: \", mylist_sorted)"
   ]
  },
  {
   "cell_type": "markdown",
   "id": "cb847a6b",
   "metadata": {},
   "source": [
    "**The primary difference between `list.sort()` method and the `sorted()` function is that the `list.sort()` method will modify the list it is called on. The `sorted()` function will create a new list containing a sorted version of the list it is given. The `sort()` function modifies the list in-place and has no return value. Moreover, `list.sort()` method works on List data type only**"
   ]
  },
  {
   "cell_type": "code",
   "execution_count": 14,
   "id": "47e9e049",
   "metadata": {},
   "outputs": [
    {
     "name": "stdout",
     "output_type": "stream",
     "text": [
      "Help on built-in function sort:\n",
      "\n",
      "sort(*, key=None, reverse=False) method of builtins.list instance\n",
      "    Sort the list in ascending order and return None.\n",
      "    \n",
      "    The sort is in-place (i.e. the list itself is modified) and stable (i.e. the\n",
      "    order of two equal elements is maintained).\n",
      "    \n",
      "    If a key function is given, apply it once to each list item and sort them,\n",
      "    ascending or descending, according to their function values.\n",
      "    \n",
      "    The reverse flag can be set to sort in descending order.\n",
      "\n"
     ]
    }
   ],
   "source": [
    "mylist = []\n",
    "help(mylist.sort)"
   ]
  },
  {
   "cell_type": "code",
   "execution_count": 15,
   "id": "0e0dff54",
   "metadata": {},
   "outputs": [
    {
     "data": {
      "text/plain": [
       "[1, 3, 5, 21]"
      ]
     },
     "execution_count": 15,
     "metadata": {},
     "output_type": "execute_result"
    }
   ],
   "source": [
    "mylist = [5, 3, 21, 1]\n",
    "mylist.sort()\n",
    "mylist\n"
   ]
  },
  {
   "cell_type": "markdown",
   "id": "c0d00af9",
   "metadata": {},
   "source": [
    "## 8. Using Lambda Function with built-in `map()` function\n",
    "- One of the most common things we do with list and other sequences is applying an operation to each item and collect the result.\n",
    "- The ```map(aFunction, aSequence)``` function returns a map object after applying  aFunction() to all the elements of `aSequence`. \n",
    "- The original sequence remains unchanged. \n",
    "- The map object can be converted to a list using the list() function"
   ]
  },
  {
   "cell_type": "code",
   "execution_count": 16,
   "id": "8a4a3e62",
   "metadata": {},
   "outputs": [
    {
     "name": "stdout",
     "output_type": "stream",
     "text": [
      "Help on class map in module builtins:\n",
      "\n",
      "class map(object)\n",
      " |  map(func, *iterables) --> map object\n",
      " |  \n",
      " |  Make an iterator that computes the function using arguments from\n",
      " |  each of the iterables.  Stops when the shortest iterable is exhausted.\n",
      " |  \n",
      " |  Methods defined here:\n",
      " |  \n",
      " |  __getattribute__(self, name, /)\n",
      " |      Return getattr(self, name).\n",
      " |  \n",
      " |  __iter__(self, /)\n",
      " |      Implement iter(self).\n",
      " |  \n",
      " |  __next__(self, /)\n",
      " |      Implement next(self).\n",
      " |  \n",
      " |  __reduce__(...)\n",
      " |      Return state information for pickling.\n",
      " |  \n",
      " |  ----------------------------------------------------------------------\n",
      " |  Static methods defined here:\n",
      " |  \n",
      " |  __new__(*args, **kwargs) from builtins.type\n",
      " |      Create and return a new object.  See help(type) for accurate signature.\n",
      "\n"
     ]
    }
   ],
   "source": [
    "help(map)"
   ]
  },
  {
   "cell_type": "markdown",
   "id": "dcbd3652",
   "metadata": {},
   "source": [
    "**Example1: Suppose we want to square every item of a list**"
   ]
  },
  {
   "cell_type": "code",
   "execution_count": 17,
   "id": "6f1f0056",
   "metadata": {},
   "outputs": [
    {
     "name": "stdout",
     "output_type": "stream",
     "text": [
      "Original list:  [5, 7, 2, 6, 9]\n",
      "List with items squared:  [25, 49, 4, 36, 81]\n"
     ]
    }
   ],
   "source": [
    "# Option 1: Do it using a simple loop\n",
    "mylist = [5, 7, 2, 6, 9]\n",
    "\n",
    "mylist_squared = []    # create an empty list\n",
    "for a in mylist:\n",
    "    mylist_squared.append(a**2)   # append new item at the end of the newly created list\n",
    "\n",
    "print(\"Original list: \", mylist)\n",
    "print(\"List with items squared: \", mylist_squared)"
   ]
  },
  {
   "cell_type": "code",
   "execution_count": 18,
   "id": "7800b53e",
   "metadata": {},
   "outputs": [
    {
     "name": "stdout",
     "output_type": "stream",
     "text": [
      "Original list:  [5, 7, 2, 6, 9]\n",
      "List with items squared:  [25, 49, 4, 36, 81]\n"
     ]
    }
   ],
   "source": [
    "# Option 2: Do it w/o loop using map() function\n",
    "mylist = [5, 7, 2, 6, 9]\n",
    "\n",
    "def sqr(x):\n",
    "    return x ** 2\n",
    "\n",
    "\n",
    "map_object = map(sqr, mylist)\n",
    "\n",
    "mylist_squared = list(map_object)\n",
    "\n",
    "print(\"Original list: \", mylist)\n",
    "print(\"List with items squared: \", mylist_squared)"
   ]
  },
  {
   "cell_type": "markdown",
   "id": "244cd0e5",
   "metadata": {},
   "source": [
    "- We passed a user defined function `sqr(x)`, to the `map` function, along with the list of items on which to apply that function\n",
    "- `map()` function calls `sqr()` function on each list item and collects all the return values into a map object, which is type casted to a list\n",
    "- Since `map()` expects a function to be passed in, so this is where we can also use lambda functions as shown below"
   ]
  },
  {
   "cell_type": "code",
   "execution_count": 19,
   "id": "b8ba4b99",
   "metadata": {},
   "outputs": [
    {
     "name": "stdout",
     "output_type": "stream",
     "text": [
      "Original list:  [5, 7, 2, 6, 9]\n",
      "List with items squared:  [25, 49, 4, 36, 81]\n"
     ]
    }
   ],
   "source": [
    "# Option 3:\n",
    "mylist = [5, 7, 2, 6, 9]\n",
    "\n",
    "map_object = list(map(lambda x: x ** 2 , mylist))\n",
    "\n",
    "mylist_squared = list(map_object)\n",
    "\n",
    "print(\"Original list: \", mylist)\n",
    "print(\"List with items squared: \", mylist_squared)"
   ]
  },
  {
   "cell_type": "markdown",
   "id": "a2a86c02",
   "metadata": {},
   "source": [
    "**Example2: Suppose we want to get the remainders of every item of a list once divided by 5**"
   ]
  },
  {
   "cell_type": "code",
   "execution_count": null,
   "id": "ab937bbb",
   "metadata": {},
   "outputs": [],
   "source": [
    "mylist = [74, 85, 14, 23, 56, 32, 45 ]\n",
    "\n",
    "remainders = list(map(lambda num: num%5, mylist))\n",
    "\n",
    "\n",
    "print(\"Original list: \", mylist)\n",
    "print(\"List of remainders: \", remainders)"
   ]
  },
  {
   "cell_type": "markdown",
   "id": "1cb5664c",
   "metadata": {},
   "source": [
    "**Example3: Suppose we want to add two lists**"
   ]
  },
  {
   "cell_type": "code",
   "execution_count": 21,
   "id": "a330e6b4",
   "metadata": {},
   "outputs": [
    {
     "name": "stdout",
     "output_type": "stream",
     "text": [
      "Sum of the two lists:  [7, 9, 5, 8]\n"
     ]
    }
   ],
   "source": [
    "mylist1 = [4, 8, 3, 2]\n",
    "mylist2 = [3, 1, 2, 6]\n",
    "\n",
    "result = map(lambda a, b: a + b, mylist1, mylist2) #two arguments are passed to lambda func (one from each list)\n",
    "result = list(result)\n",
    "\n",
    "print(\"Sum of the two lists: \", result)"
   ]
  },
  {
   "cell_type": "markdown",
   "id": "4bb135cb",
   "metadata": {},
   "source": [
    "## 9. Using Lambda Function with built-in `filter()` function\n",
    "- The `filter(func, aSequence)` function, pass every element of `aSequence` to `func`. It returns a filter object containing only those elements of `aSequence` for which the `func` returns True.\n",
    "- If function is None, return the items that are true.\n",
    "- It returns a filter object after applying the function to all the elements of this list\n",
    "- The original list remains unchanged\n",
    "- The filter object can be converted to a list using the list() function"
   ]
  },
  {
   "cell_type": "code",
   "execution_count": 22,
   "id": "409c383e",
   "metadata": {},
   "outputs": [
    {
     "name": "stdout",
     "output_type": "stream",
     "text": [
      "Help on class filter in module builtins:\n",
      "\n",
      "class filter(object)\n",
      " |  filter(function or None, iterable) --> filter object\n",
      " |  \n",
      " |  Return an iterator yielding those items of iterable for which function(item)\n",
      " |  is true. If function is None, return the items that are true.\n",
      " |  \n",
      " |  Methods defined here:\n",
      " |  \n",
      " |  __getattribute__(self, name, /)\n",
      " |      Return getattr(self, name).\n",
      " |  \n",
      " |  __iter__(self, /)\n",
      " |      Implement iter(self).\n",
      " |  \n",
      " |  __next__(self, /)\n",
      " |      Implement next(self).\n",
      " |  \n",
      " |  __reduce__(...)\n",
      " |      Return state information for pickling.\n",
      " |  \n",
      " |  ----------------------------------------------------------------------\n",
      " |  Static methods defined here:\n",
      " |  \n",
      " |  __new__(*args, **kwargs) from builtins.type\n",
      " |      Create and return a new object.  See help(type) for accurate signature.\n",
      "\n"
     ]
    }
   ],
   "source": [
    "help(filter)"
   ]
  },
  {
   "cell_type": "markdown",
   "id": "bbbfc7f8",
   "metadata": {},
   "source": [
    "**Example1: A very basic usage of `filter()`, that returns the True elements of a list**\n",
    "- In Python, the following objects are considered false:\n",
    "    >- Constants like None and False\n",
    "    >- Numeric types with a zero value like 0, 0.0, 0j, Decimal(0), and Fraction(0, 1)\n",
    "    >- Empty sequences and collections like \"\", (), [], {}, set(), and range(0)\n",
    "    >- Objects that implement __bool__() with a return value of False or __len__() with a return value of 0"
   ]
  },
  {
   "cell_type": "code",
   "execution_count": 39,
   "id": "1d307c7e",
   "metadata": {},
   "outputs": [
    {
     "name": "stdout",
     "output_type": "stream",
     "text": [
      "<filter object at 0x7f9ce8afcd60>\n",
      "[5, -3, True, 9, 8]\n"
     ]
    }
   ],
   "source": [
    "mylist = [5, 0, -3, {}, False, 0.0, True, 9, 0j, (), None, 8]\n",
    "\n",
    "result = filter(None, mylist)\n",
    "print(result)\n",
    "print(list(result))"
   ]
  },
  {
   "cell_type": "markdown",
   "id": "fb82490b",
   "metadata": {},
   "source": [
    "**Example2: Suppose we want to extract even numbers from a list**"
   ]
  },
  {
   "cell_type": "code",
   "execution_count": 29,
   "id": "4d7158fc",
   "metadata": {},
   "outputs": [
    {
     "name": "stdout",
     "output_type": "stream",
     "text": [
      "[4, 6, 8, 12]\n"
     ]
    }
   ],
   "source": [
    "numbers = [1, 5, 4, 6, 8, 11, 3, 12]\n",
    "\n",
    "result = filter(lambda x: (x%2 == 0) , numbers)\n",
    "print(list(result))"
   ]
  },
  {
   "cell_type": "code",
   "execution_count": null,
   "id": "c94c7b27",
   "metadata": {},
   "outputs": [],
   "source": [
    "numbers = [1, 5, 4, 6, 8, 11, 3, 12]\n",
    "\n",
    "result = filter(lambda x: (x%2 == 0) , numbers)\n",
    "\n",
    "result = list(result)\n",
    "\n",
    "print(\"Even numbers in the list are: \", result)"
   ]
  },
  {
   "cell_type": "markdown",
   "id": "eb8125ee",
   "metadata": {},
   "source": [
    "**Example3: Suppose we want to extract negative numbers from a list**"
   ]
  },
  {
   "cell_type": "code",
   "execution_count": null,
   "id": "a63237fb",
   "metadata": {},
   "outputs": [],
   "source": [
    "numbers = [25, -3, -8, 17, 3, 8, -3, 6, -7, 0]\n",
    "\n",
    "result = list(filter(lambda x:x<0, numbers))\n",
    "\n",
    "print(\"Negative numbers in the list are: \", result)"
   ]
  },
  {
   "cell_type": "markdown",
   "id": "af17ee88",
   "metadata": {},
   "source": [
    "**Example4: Suppose we want to extract vowels from a list of alphabets**"
   ]
  },
  {
   "cell_type": "code",
   "execution_count": null,
   "id": "2e48544d",
   "metadata": {},
   "outputs": [],
   "source": [
    "characters = ['i', 'z', 'b', 'a', 'd', 'f', 't', 'e','w', 'x']\n",
    "vowels = ['a', 'e', 'i', 'o', 'u']\n",
    "    \n",
    "result = filter(lambda x:x in vowels, characters)\n",
    "\n",
    "result = list(result)    \n",
    "print(\"Vowels in the list are: \", result)"
   ]
  },
  {
   "cell_type": "markdown",
   "id": "2c795a7b",
   "metadata": {},
   "source": [
    "**Example5: Suppose we want to filter palindromes from a list of strings**"
   ]
  },
  {
   "cell_type": "code",
   "execution_count": 30,
   "id": "c4532942",
   "metadata": {},
   "outputs": [
    {
     "name": "stdout",
     "output_type": "stream",
     "text": [
      "Palindromes in the list are:  ['131', 'abcba']\n"
     ]
    }
   ],
   "source": [
    "my_list = [\"arif\", \"131\", \"abcba\", \"great\", \"hadeed\"]\n",
    "\n",
    "\n",
    "#The reversed() function receives a sequence and return a reverse iterator over the values of the given sequence.\n",
    "result = filter(lambda x: (x == \"\".join(reversed(x))), my_list)\n",
    "\n",
    "result = list(result)    \n",
    "print(\"Palindromes in the list are: \", result)"
   ]
  },
  {
   "cell_type": "markdown",
   "id": "581ebe37",
   "metadata": {},
   "source": [
    "## 10. Using Lambda Function with built-in `reduce()` function\n",
    "- The `reduce()` works differently than `map()` and `filter()`. It does not return a new list based on the function and iterable we've passed. Instead, it returns a single value.\n",
    "```\n",
    "reduce(func, sequence[, initial])\n",
    "```\n",
    "    - Apply a function to the first two items in an iterable and generate a partial result.\n",
    "    - Use that partial result, together with the third item in the iterable, to generate another partial result.\n",
    "    - Repeat the process until the iterable is exhausted and then return a single cumulative value.\n",
    "- It calls `func` for the first two items in the sequence. The result returned by the `func` is used in another call to `func` alongside with the next (third in this case), element. This process repeats until we've gone through all the elements in the sequence and have reduced the sequence to a single value.\n",
    "- If initial is present, it is placed before the items of the sequence in the calculation, and serves as a default when the sequence is empty.\n",
    "- The optional argument `initial` when provided is used as the 0th element\n",
    "- In Python 3.x, if you need to use `reduce()`, then you first have to import the function into your current scope using an import statement in one of the following ways:\n",
    "    - `import functools` and then use fully-qualified names like functools.reduce().\n",
    "    - `from functools import reduce` and then call reduce() directly."
   ]
  },
  {
   "cell_type": "code",
   "execution_count": null,
   "id": "29f7e1ae",
   "metadata": {},
   "outputs": [],
   "source": [
    "from functools import reduce\n",
    "help(reduce)"
   ]
  },
  {
   "cell_type": "markdown",
   "id": "849211fc",
   "metadata": {},
   "source": [
    "**Example1: Summing numeric values**"
   ]
  },
  {
   "cell_type": "code",
   "execution_count": 31,
   "id": "0dfd11ac",
   "metadata": {},
   "outputs": [
    {
     "data": {
      "text/plain": [
       "15"
      ]
     },
     "execution_count": 31,
     "metadata": {},
     "output_type": "execute_result"
    }
   ],
   "source": [
    "numbers = [1,2,3,4, 5]\n",
    "total = 0\n",
    "\n",
    "for i in numbers:\n",
    "    total += i\n",
    "\n",
    "total"
   ]
  },
  {
   "cell_type": "markdown",
   "id": "ea6d4222",
   "metadata": {},
   "source": [
    "The for loop iterates over every value in numbers list and accumulates them in total\n",
    "Let us do the same using `reduce()` function"
   ]
  },
  {
   "cell_type": "code",
   "execution_count": 32,
   "id": "af79a735",
   "metadata": {},
   "outputs": [
    {
     "data": {
      "text/plain": [
       "15"
      ]
     },
     "execution_count": 32,
     "metadata": {},
     "output_type": "execute_result"
    }
   ],
   "source": [
    "#Example: Note the call to reduce(), \n",
    "# applies myadd() to the items in the numbers list to compute their accumulative sum    \n",
    "\n",
    "from functools import reduce\n",
    "def myadd(a,b):\n",
    "    return a+b\n",
    "\n",
    "numbers = [1,2,3,4,5]\n",
    "\n",
    "rv = reduce(myadd, numbers)\n",
    "rv"
   ]
  },
  {
   "cell_type": "code",
   "execution_count": 33,
   "id": "6b8d8fd0",
   "metadata": {},
   "outputs": [
    {
     "data": {
      "text/plain": [
       "15"
      ]
     },
     "execution_count": 33,
     "metadata": {},
     "output_type": "execute_result"
    }
   ],
   "source": [
    "# Example: Use lambda function for above task\n",
    "from functools import reduce\n",
    "numbers = [1,2,3,4, 5]\n",
    "\n",
    "rv = reduce(lambda x,y:x+y, numbers)\n",
    "rv"
   ]
  },
  {
   "cell_type": "code",
   "execution_count": 34,
   "id": "0ff62f2e",
   "metadata": {},
   "outputs": [
    {
     "data": {
      "text/plain": [
       "25"
      ]
     },
     "execution_count": 34,
     "metadata": {},
     "output_type": "execute_result"
    }
   ],
   "source": [
    "# Example: Use of initial argument of reduce() function\n",
    "from functools import reduce\n",
    "numbers = [1,2,3,4, 5]\n",
    "\n",
    "rv = reduce(lambda x,y:x+y, numbers, 10)\n",
    "rv"
   ]
  },
  {
   "cell_type": "markdown",
   "id": "00a7f66d",
   "metadata": {},
   "source": [
    "**Example2: Multiplying all numeric values of a list with each other**"
   ]
  },
  {
   "cell_type": "code",
   "execution_count": 36,
   "id": "d3ec6fa4",
   "metadata": {},
   "outputs": [
    {
     "data": {
      "text/plain": [
       "120"
      ]
     },
     "execution_count": 36,
     "metadata": {},
     "output_type": "execute_result"
    }
   ],
   "source": [
    "from functools import reduce\n",
    "numbers = [1,2,3,4, 5]\n",
    "\n",
    "rv = reduce(lambda x,y:x*y, numbers)\n",
    "rv"
   ]
  },
  {
   "cell_type": "markdown",
   "id": "4716bb03",
   "metadata": {},
   "source": [
    "**Example3: Finding minimum or maximum number from a list of numbers**"
   ]
  },
  {
   "cell_type": "code",
   "execution_count": 38,
   "id": "64e86f49",
   "metadata": {},
   "outputs": [
    {
     "data": {
      "text/plain": [
       "(1, 5)"
      ]
     },
     "execution_count": 38,
     "metadata": {},
     "output_type": "execute_result"
    }
   ],
   "source": [
    "from functools import reduce\n",
    "numbers = [1,2,3,4, 5]\n",
    "\n",
    "\n",
    "rv1 = reduce(lambda a, b: a if a < b else b, numbers)\n",
    "rv2 = reduce(lambda a, b: a if a > b else b, numbers)\n",
    "\n",
    "rv1, rv2"
   ]
  },
  {
   "cell_type": "markdown",
   "id": "de66bb0b",
   "metadata": {},
   "source": [
    "**Example4: Checking if ALL values in an iterable are true**"
   ]
  },
  {
   "cell_type": "code",
   "execution_count": 41,
   "id": "c9bfeb00",
   "metadata": {},
   "outputs": [
    {
     "data": {
      "text/plain": [
       "False"
      ]
     },
     "execution_count": 41,
     "metadata": {},
     "output_type": "execute_result"
    }
   ],
   "source": [
    "from functools import reduce\n",
    "mylist = [0, 0, 1, 0, 0]\n",
    "\n",
    "rv = reduce(lambda a, b: bool(a and b), mylist)\n",
    "rv\n"
   ]
  },
  {
   "cell_type": "markdown",
   "id": "e0e1aa39",
   "metadata": {},
   "source": [
    "**Example5: Checking if ANY value in an iterable is true**"
   ]
  },
  {
   "cell_type": "code",
   "execution_count": 43,
   "id": "e6039528",
   "metadata": {},
   "outputs": [
    {
     "data": {
      "text/plain": [
       "True"
      ]
     },
     "execution_count": 43,
     "metadata": {},
     "output_type": "execute_result"
    }
   ],
   "source": [
    "from functools import reduce\n",
    "mylist = [0, 0, 1, 0, 0]\n",
    "\n",
    "rv = reduce(lambda a, b: bool(a | b), mylist)\n",
    "rv\n"
   ]
  },
  {
   "cell_type": "markdown",
   "id": "d9de52f9",
   "metadata": {},
   "source": [
    "## Check your Concepts\n",
    "\n",
    "Try answering the following questions to test your understanding of the topics covered in this notebook:\n",
    "\n",
    "1. What is a function?\n",
    "2. What are the benefits of using functions?\n",
    "3. What are some built-in functions in Python?\n",
    "4. How do you define a function in Python? Give an example.\n",
    "5. What is the body of a function?\n",
    "6. When are the statements in the body of a function executed?\n",
    "7. What is meant by calling or invoking a function? Give an example.\n",
    "8. What are function arguments? How are they useful?\n",
    "9. How do you store the result of a function in a variable?\n",
    "10. What is the purpose of the `return` keyword in Python?\n",
    "11. Can you return multiple values from a function?\n",
    "12. Can a `return` statement be used inside an `if` block or a `for` loop?\n",
    "13. Can the `return` keyword be used outside a function?\n",
    "14. What is scope in a programming region? \n",
    "15. How do you define a variable inside a function?\n",
    "16. What are local & global variables?\n",
    "17. Can you access the variables defined inside a function outside its body? Why or why not?\n",
    "18. What do you mean by the statement \"a function defines a scope within Python\"?\n",
    "19. Do for and while loops define a scope, like functions?\n",
    "20. Do if-else blocks define a scope, like functions?\n",
    "21. What are optional function arguments & default values? Give an example.\n",
    "22. Why should the required arguments appear before the optional arguments in a function definition?\n",
    "23. How do you invoke a function with named arguments? Illustrate with an example.\n",
    "24. Can you split a function invocation into multiple lines?\n",
    "25. Write a function that takes a number and rounds it up to the nearest integer.\n",
    "26. What is a docstring? Why is it useful?\n",
    "27. How do you display the docstring for a function?\n",
    "28. What are *args and **kwargs? How are they useful? Give an example.\n",
    "29. Can you define functions inside functions? \n",
    "30. What is function closure in Python? How is it useful? Give an example.\n",
    "31. What is recursion? Illustrate with an example.\n",
    "32. Can functions accept other functions as arguments? Illustrate with an example.\n",
    "33. Can functions return other functions as results? Illustrate with an example.\n",
    "34. What are decorators? How are they useful?\n",
    "35. Implement a function decorator which prints the arguments and result of wrapped functions.\n",
    "36. What are some in-built decorators in Python?\n",
    "37. Can you invoke a function inside the body of another function? Give an example.\n",
    "38. What is the single responsibility principle, and how does it apply while writing functions?\n",
    "39. What some characteristics of well-written functions?\n",
    "40. Can you use if statements or while loops within a function? Illustrate with an example.\n",
    "41. Compare the use of lambda functions in sorted(), map(), filter(), reduce(), and accumulate() functions and their different use cases.\n",
    "42. Check out the use of command line arguments in Python using `sys.argv[]`, and `getopt.getopt()`"
   ]
  },
  {
   "cell_type": "code",
   "execution_count": null,
   "id": "ea4d5f09",
   "metadata": {},
   "outputs": [],
   "source": []
  }
 ],
 "metadata": {
  "kernelspec": {
   "display_name": "Python 3 (ipykernel)",
   "language": "python",
   "name": "python3"
  },
  "language_info": {
   "codemirror_mode": {
    "name": "ipython",
    "version": 3
   },
   "file_extension": ".py",
   "mimetype": "text/x-python",
   "name": "python",
   "nbconvert_exporter": "python",
   "pygments_lexer": "ipython3",
   "version": "3.8.10"
  }
 },
 "nbformat": 4,
 "nbformat_minor": 5
}
