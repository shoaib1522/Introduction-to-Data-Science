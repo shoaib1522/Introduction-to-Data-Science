{
 "cells": [
  {
   "cell_type": "markdown",
   "id": "0ba08993",
   "metadata": {},
   "source": [
    "---   \n",
    " <img align=\"left\" width=\"75\" height=\"75\"  src=\"https://upload.wikimedia.org/wikipedia/en/c/c8/University_of_the_Punjab_logo.png\"> \n",
    "\n",
    "<h1 align=\"center\">Department of Data Science</h1>\n",
    "<h1 align=\"center\">Course: Tools and Techniques for Data Science</h1>\n",
    "\n",
    "---\n",
    "<h3><div align=\"right\">Instructor: Muhammad Arif Butt, Ph.D.</div></h3>    "
   ]
  },
  {
   "cell_type": "markdown",
   "id": "007946c5",
   "metadata": {},
   "source": [
    "<h1 align=\"center\">Lecture 2.5</h1>"
   ]
  },
  {
   "cell_type": "markdown",
   "id": "ae18f83a",
   "metadata": {},
   "source": [
    "## _functions.ipynb_"
   ]
  },
  {
   "cell_type": "markdown",
   "id": "4377d061",
   "metadata": {},
   "source": [
    "### Learning agenda of this notebook\n",
    "\n",
    "1. Defining and calling functions in Python\n",
    "2. Returning values from a function\n",
    "3. Arguments of a Python function \n",
    "    - Positional/Required arguments\n",
    "    - Pass by value vs pass by reference\n",
    "    - Default arguments\n",
    "    - Keyword arguments\n",
    "    - Variable length arguments\n",
    "    - Arbitrary keyword arguments\n",
    "    - Maximum number of arguments that an be passed\n",
    "4. Scope of variables (Local and global)\n",
    "5. Nested functions\n",
    "6. Anonymous functions (lambda)\n",
    "   - Examples of lambda functions\n",
    "   - Using lambda function with map() function\n",
    "   - Using lambda function with filter() function"
   ]
  },
  {
   "cell_type": "markdown",
   "id": "f7fefd5f",
   "metadata": {},
   "source": [
    "### 1. Defining and calling  functions in Python\n",
    "* Purpose of functions is to group a particular lines of code that needs to be executed multiple times.\n",
    "* A function is a block of code which only runs when it is called.\n",
    "* You can pass data, known as parameters, into a function.\n",
    "* A function can return data as a result.\n",
    "* In Python, the keyword def introduces a function definition and it must be followed by the function name, parenthesis and a collon."
   ]
  },
  {
   "cell_type": "code",
   "execution_count": null,
   "id": "c4751b3d",
   "metadata": {},
   "outputs": [],
   "source": [
    "#defining a function\n",
    "def func1():\n",
    "    print(\"Functions in Python\")\n",
    "\n",
    "#calling a function\n",
    "func1()"
   ]
  },
  {
   "cell_type": "code",
   "execution_count": null,
   "id": "64157f44",
   "metadata": {},
   "outputs": [],
   "source": [
    "#defining a function\n",
    "def mysum1():  \n",
    "    total = 3 + 4\n",
    "    print(\"3 + 4 = \", total)\n",
    "\n",
    "#calling a function\n",
    "mysum1()"
   ]
  },
  {
   "cell_type": "markdown",
   "id": "47ba9a3d",
   "metadata": {},
   "source": [
    "### 2. Returning values from a function\n",
    "* A return statement is used to end the execution of the function call and gives the result.\n",
    "* The statements after the return statements are not executed"
   ]
  },
  {
   "cell_type": "code",
   "execution_count": null,
   "id": "a370f371",
   "metadata": {},
   "outputs": [],
   "source": [
    "#defining a function\n",
    "def mysum2():  \n",
    "    total = 5 + 7\n",
    "    return total\n",
    "\n",
    "#calling a function\n",
    "rv = mysum2()\n",
    "print(\"5 + 7 = \", rv)\n"
   ]
  },
  {
   "cell_type": "markdown",
   "id": "ab9d1b5e",
   "metadata": {},
   "source": [
    "### 3.  Arguments of a Python function\n",
    "- Arguments/parameters can be passed to a function on which the function operates and generates the result\n",
    "- Arguments are called **Required arguments** means that if your function expects 2 arguments, you have to call the function with 2 arguments, not more, and not less.\n",
    "- Arguments are called **positional arguments** because while calling the function, the arguments must be passed in the correct positional order to get the desired result. e.g., in case of subtract(a, b)\n",
    "- The number of required arguments passed to a Python function is limited by available process stack frame"
   ]
  },
  {
   "cell_type": "code",
   "execution_count": null,
   "id": "8e8201b9",
   "metadata": {},
   "outputs": [],
   "source": [
    "# A function that is passed two numbers and it returns their sum\n",
    "def mysum3(a, b):  \n",
    "    total = a + b\n",
    "    return total\n",
    "\n",
    "#calling a function\n",
    "a = 10 \n",
    "b = 15\n",
    "rv = mysum3(a, b)\n",
    "print(a, \" + \", b, \" = \", rv)"
   ]
  },
  {
   "cell_type": "code",
   "execution_count": null,
   "id": "b39cbe0a",
   "metadata": {},
   "outputs": [],
   "source": [
    "# A function that receives a list and returns sum of squares of its elements\n",
    "def sumofsquares(l1):\n",
    "    rv = 0\n",
    "    for i in l1:\n",
    "        rv = rv + i*i\n",
    "    return rv\n",
    "\n",
    "#calling a function\n",
    "list1 = [1, 2, 3] \n",
    "rv = sumofsquares(list1)\n",
    "print(\"Sum of list elements are: \", rv)"
   ]
  },
  {
   "cell_type": "code",
   "execution_count": null,
   "id": "7ece558c",
   "metadata": {},
   "outputs": [],
   "source": [
    "# A function that receives a dictionary and display all its key-value pairs\n",
    "def display_dir(d1):\n",
    "    rv = 0\n",
    "    for i in d1:\n",
    "        print(\"\\nkey = \",i, \"  Value = \",d1[i])\n",
    "        \n",
    "#calling a function\n",
    "dict1 = {\n",
    "    'Name': 'Kakamanna', \n",
    "    'Sex': 'Male', \n",
    "    'Age': 23, \n",
    "    'Height': 6.1, \n",
    "    'Occupation': 'Student'\n",
    "}\n",
    "display_dir(dict1)"
   ]
  },
  {
   "cell_type": "markdown",
   "id": "a774b7e0",
   "metadata": {},
   "source": [
    "### a.  Pass by value vs Pass by reference\n",
    "- All arguments (less intrinsic types) in Python are passed by reference. It means if you change what a parameter refers to within a function, the change also reflects back in the calling function."
   ]
  },
  {
   "cell_type": "code",
   "execution_count": null,
   "id": "db5d17ae",
   "metadata": {},
   "outputs": [],
   "source": [
    "# Function arguments of intrinsic types like int, float, strings are passed by value\n",
    "def myfunc(nam):\n",
    "    nam = \"Arif Butt\"\n",
    "\n",
    "\n",
    "a = \"Kakamanna\"\n",
    "print(\"Before calling: \", a)\n",
    "rv = myfunc(a)\n",
    "print(\"After calling: \", a)\n",
    "\n",
    "\n"
   ]
  },
  {
   "cell_type": "code",
   "execution_count": null,
   "id": "d11cdf0f",
   "metadata": {},
   "outputs": [],
   "source": [
    "# Function arguments of intrinsic types like int, float, strings are passed by value\n",
    "def myfunc(x, y, z):\n",
    "    x = x + 1\n",
    "    y = y + 1\n",
    "    z = z + 1\n",
    "\n",
    "a = 10\n",
    "b = 20\n",
    "c = 30\n",
    "myfunc(a, b, c)\n",
    "print(a, b, c)\n",
    "\n"
   ]
  },
  {
   "cell_type": "code",
   "execution_count": null,
   "id": "3eaec931",
   "metadata": {},
   "outputs": [],
   "source": [
    "'''Lists, Tuples, Sets, and Dictionary objects are passed to functions as reference\n",
    "The changes made by the callee are visible to the caller (but not for tuples as they are immutable)\n",
    "'''\n",
    "# proof of concept for list\n",
    "def myfunc(l1):\n",
    "    for i in range(len(l1)):\n",
    "        l1[i] = l1[i] * l1[i]\n",
    "\n",
    "#calling a function\n",
    "list1 = [1, 2, 3, 4] \n",
    "print(\"Before calling: \", list1)\n",
    "rv = myfunc(list1)\n",
    "print(\"After calling: \", list1)"
   ]
  },
  {
   "cell_type": "code",
   "execution_count": null,
   "id": "62028137",
   "metadata": {},
   "outputs": [],
   "source": [
    "# proof of concept for list\n",
    "def func1(l1):\n",
    "    l1[2] = 'x'\n",
    "    \n",
    "mylist = ['a', 'b', 'c', 'd', 'e', 'f']\n",
    "print(\"Before calling: \", mylist)\n",
    "func1(mylist)\n",
    "print(\"After calling: \", mylist)"
   ]
  },
  {
   "cell_type": "code",
   "execution_count": null,
   "id": "05bd102a",
   "metadata": {},
   "outputs": [],
   "source": [
    "# proof of concept for list\n",
    "def func1(list2):\n",
    "    l3 = list2[1:4]\n",
    "    print(\"List l3 is local to the function having: \", l3)\n",
    "    \n",
    "list1 = ['a', 'b', 'c', 'd', 'e', 'f']\n",
    "print(\"Before calling: \", list1)\n",
    "func1(list1)\n",
    "print(\"After calling: \", list1)"
   ]
  },
  {
   "cell_type": "code",
   "execution_count": null,
   "id": "bffa44b9",
   "metadata": {},
   "outputs": [],
   "source": [
    "# proof of concept for list\n",
    "def func1(list2):\n",
    "    l3 = list2[1:4]\n",
    "    print(\"List l3 is local to the function having: \", l3)\n",
    "    return l3\n",
    "    \n",
    "list1 = ['a', 'b', 'c', 'd', 'e', 'f']\n",
    "print(\"Before calling: \", list1)\n",
    "list1 = func1(list1)\n",
    "print(\"After calling: \", list1)\n"
   ]
  },
  {
   "cell_type": "code",
   "execution_count": null,
   "id": "85b1e826",
   "metadata": {},
   "outputs": [],
   "source": [
    "# Tuples are mutable: proof of concept\n",
    "def func1(t1):\n",
    "    t1[2] = 'x'\n",
    "    \n",
    "mytuple = ('a', 'b', 'c', 'd', 'e', 'f')\n",
    "print(\"Before calling: \", mytuple)\n",
    "func1(mytuple)\n",
    "print(\"After calling: \", mytuple)"
   ]
  },
  {
   "cell_type": "markdown",
   "id": "6360f7ac",
   "metadata": {},
   "source": [
    "### b. Default arguments\n",
    "- A default argument is an argument that assumes a default value if a value is not provided in the function call for that argument. It is mentioned in the function definition\n",
    "- Python allows function arguments to have default values. If the function is called without the argument, the argument gets its default value."
   ]
  },
  {
   "cell_type": "code",
   "execution_count": null,
   "id": "0f05f612",
   "metadata": {},
   "outputs": [],
   "source": [
    "# Function with default arguments\n",
    "def display(name = 'kakamanna', age = 35):\n",
    "   print (\"Name: \", name, \", Age: \", age)\n",
    "   return;\n",
    "\n",
    "# calling a function with both arguments (order matters)\n",
    "display(\"Arif Butt\", 51)\n",
    "print(\"\\n\")\n",
    "\n",
    "# calling a function with one argument only (the default value of age will be printed)\n",
    "display(\"Mujahid Butt\" )\n",
    "print(\"\\n\")\n"
   ]
  },
  {
   "cell_type": "markdown",
   "id": "22e9c9dd",
   "metadata": {},
   "source": [
    "### c. Keyword arguments\n",
    "- In order to call a function with arguments, the arguments must be passed in the same order/sequence in which the function is expecting\n",
    "- Using **keyword arguments**, a programmer can pass arguments in any order by mentioning their parameter names while calling the function"
   ]
  },
  {
   "cell_type": "code",
   "execution_count": null,
   "id": "93177a85",
   "metadata": {},
   "outputs": [],
   "source": [
    "# Function calling with key word arguments\n",
    "def display(name, age):\n",
    "   print (\"Name: \", name, \", Age: \", age)\n",
    "   return;\n",
    "\n",
    "# Sequence/order of arguments matter\n",
    "display(25, \"Arif Butt\")\n",
    "\n",
    "# Sequence/order of arguments DOES NOT matter now\n",
    "display(age=25, name=\"Mujahid Butt\") # passing parameters in any order using keyword argument \n",
    "print(\"\\n\")"
   ]
  },
  {
   "cell_type": "markdown",
   "id": "2d7c5bf3",
   "metadata": {},
   "source": [
    "### d. Variable length arguments\n",
    "- Sometimes, we need more flexibility while defining functions like we don't know in advance the fixed number of arguments.\n",
    "- Python allows us to make function calls with variable length arguments.\n",
    "- These arguments are not named in the function definition, unlike required and default arguments.\n",
    "- An asterisk (*) is placed before the variable name. This way the function will receive a tuple of arguments, and can access the items accordingly"
   ]
  },
  {
   "cell_type": "code",
   "execution_count": null,
   "id": "e98931c6",
   "metadata": {},
   "outputs": [],
   "source": [
    "# use * sign before argument\n",
    "def my_function(*args):\n",
    "    for i in args:\n",
    "        print(i)\n",
    "\n",
    "my_function('arif','rauf')\n",
    "my_function(1, 2, 3, 4, 5, 6, 7, 8)"
   ]
  },
  {
   "cell_type": "markdown",
   "id": "f23e215b",
   "metadata": {},
   "source": [
    "### e. Arbitrary keyword arguments\n",
    "- If you do not know how many keyword arguments that will be passed into your function, add two asterisk: ** before the parameter name in the function definition. This way the function will receive a dictionary of arguments, and you can access the items accordingly\n",
    "- When using the ** parameter, the order of arguments does not matter. However, the name of the arguments must be the same."
   ]
  },
  {
   "cell_type": "code",
   "execution_count": null,
   "id": "9acfc7e1",
   "metadata": {},
   "outputs": [],
   "source": [
    "def greet(**friends):\n",
    "    print('Hello, ', friends['fname'],  friends['mname'], friends['lname'])\n",
    "\n",
    "greet(fname='Muhammad', mname= 'Arif', lname='Butt')\n"
   ]
  },
  {
   "cell_type": "code",
   "execution_count": null,
   "id": "f1c241ee",
   "metadata": {},
   "outputs": [],
   "source": [
    "def greet(**friends):\n",
    "    for key, value in friends.items():\n",
    "        print (key, value)\n",
    "\n",
    "greet(fname='Muhammad', mname= 'Arif', lname='Butt')\n",
    "greet(fname='Muhammad', lname='Butt')\n"
   ]
  },
  {
   "cell_type": "code",
   "execution_count": null,
   "id": "1036fd32",
   "metadata": {},
   "outputs": [],
   "source": [
    "def myFun(arg1, arg2, arg3):\n",
    "    print(\"arg1:\", arg1)\n",
    "    print(\"arg2:\", arg2)\n",
    "    print(\"arg3:\", arg3)\n",
    "     \n",
    "# Now we can use *args or **kwargs to pass arguments to this function :\n",
    "args = (\"Geeks\", \"for\", \"Geeks\")\n",
    "myFun(*args)\n",
    "print(\"\\n\\n\")\n",
    "kwargs = {\"arg1\" : \"Geeks\", \"arg2\" : \"for\", \"arg3\" : \"Geeks\"}\n",
    "myFun(**kwargs)"
   ]
  },
  {
   "cell_type": "markdown",
   "id": "cfcc3c91",
   "metadata": {},
   "source": [
    "### f. Maximum Number of Arguments that can be passed to a Python function\n",
    "- Limited to total memory available for the process function stack frame"
   ]
  },
  {
   "cell_type": "code",
   "execution_count": null,
   "id": "533ae12e",
   "metadata": {},
   "outputs": [],
   "source": [
    "#This function is receiving 1025 arguments\n",
    "def no_of_argu(*args):     \n",
    "    return(len(args))\n",
    " \n",
    "# arguments passed\n",
    "n = no_of_argu(1, 2, 3, 4, 5, 6, 7, 8, 9, 10, 11, 12, 13, 14, 15, 16, 17, 18, 19, 20, 21, 22, 23, 24, 25, 26, 27, 28, 29, 30, 31, 32, 33, 34, 35, 36, 37, 38, 39, 40, 41, 42, 43, 44, 45, 46, 47, 48, 49, 50, 51, 52, 53, 54, 55, 56, 57, 58, 59, 60, 61, 62, 63, 64, 65, 66, 67, 68, 69, 70, 71, 72, 73, 74, 75, 76, 77, 78, 79, 80, 81, 82, 83, 84, 85, 86, 87, 88, 89, 90, 91, 92, 93, 94, 95, 96, 97, 98, 99, 100, 101, 102, 103, 104, 105, 106, 107, 108, 109, 110, 111, 112, 113, 114, 115, 116, 117, 118, 119, 120, 121, 122, 123, 124, 125, 126, 127, 128, 129, 130, 131, 132, 133, 134, 135, 136, 137, 138, 139, 140, 141, 142, 143, 144, 145, 146, 147, 148, 149, 150, 151, 152, 153, 154, 155, 156, 157, 158, 159, 160, 161, 162, 163, 164, 165, 166, 167, 168, 169, 170, 171, 172, 173, 174, 175, 176, 177, 178, 179, 180, 181, 182, 183, 184, 185, 186, 187, 188, 189, 190, 191, 192, 193, 194, 195, 196, 197, 198, 199, 200, 201, 202, 203, 204, 205, 206, 207, 208, 209, 210, 211, 212, 213, 214, 215, 216, 217, 218, 219, 220, 221, 222, 223, 224, 225, 226, 227, 228, 229, 230, 231, 232, 233, 234, 235, 236, 237, 238, 239, 240, 241, 242, 243, 244, 245, 246, 247, 248, 249, 250, 251, 252, 253, 254, 255, 256, 257, 258, 259, 260, 261, 262, 263, 264, 265, 266, 267, 268, 269, 270, 271, 272, 273, 274, 275, 276, 277, 278, 279, 280, 281, 282, 283, 284, 285, 286, 287, 288, 289, 290, 291, 292, 293, 294, 295, 296, 297, 298, 299, 300, 301, 302, 303, 304, 305, 306, 307, 308, 309, 310, 311, 312, 313, 314, 315, 316, 317, 318, 319, 320, 321, 322, 323, 324, 325, 326, 327, 328, 329, 330, 331, 332, 333, 334, 335, 336, 337, 338, 339, 340, 341, 342, 343, 344, 345, 346, 347, 348, 349, 350, 351, 352, 353, 354, 355, 356, 357, 358, 359, 360, 361, 362, 363, 364, 365, 366, 367, 368, 369, 370, 371, 372, 373, 374, 375, 376, 377, 378, 379, 380, 381, 382, 383, 384, 385, 386, 387, 388, 389, 390, 391, 392, 393, 394, 395, 396, 397, 398, 399, 400, 401, 402, 403, 404, 405, 406, 407, 408, 409, 410, 411, 412, 413, 414, 415, 416, 417, 418, 419, 420, 421, 422, 423, 424, 425, 426, 427, 428, 429, 430, 431, 432, 433, 434, 435, 436, 437, 438, 439, 440, 441, 442, 443, 444, 445, 446, 447, 448, 449, 450, 451, 452, 453, 454, 455, 456, 457, 458, 459, 460, 461, 462, 463, 464, 465, 466, 467, 468, 469, 470, 471, 472, 473, 474, 475, 476, 477, 478, 479, 480, 481, 482, 483, 484, 485, 486, 487, 488, 489, 490, 491, 492, 493, 494, 495, 496, 497, 498, 499, 500, 501, 502, 503, 504, 505, 506, 507, 508, 509, 510, 511, 512, 513, 514, 515, 516, 517, 518, 519, 520, 521, 522, 523, 524, 525, 526, 527, 528, 529, 530, 531, 532, 533, 534, 535, 536, 537, 538, 539, 540, 541, 542, 543, 544, 545, 546, 547, 548, 549, 550, 551, 552, 553, 554, 555, 556, 557, 558, 559, 560, 561, 562, 563, 564, 565, 566, 567, 568, 569, 570, 571, 572, 573, 574, 575, 576, 577, 578, 579, 580, 581, 582, 583, 584, 585, 586, 587, 588, 589, 590, 591, 592, 593, 594, 595, 596, 597, 598, 599, 600, 601, 602, 603, 604, 605, 606, 607, 608, 609, 610, 611, 612, 613, 614, 615, 616, 617, 618, 619, 620, 621, 622, 623, 624, 625, 626, 627, 628, 629, 630, 631, 632, 633, 634, 635, 636, 637, 638, 639, 640, 641, 642, 643, 644, 645, 646, 647, 648, 649, 650, 651, 652, 653, 654, 655, 656, 657, 658, 659, 660, 661, 662, 663, 664, 665, 666, 667, 668, 669, 670, 671, 672, 673, 674, 675, 676, 677, 678, 679, 680, 681, 682, 683, 684, 685, 686, 687, 688, 689, 690, 691, 692, 693, 694, 695, 696, 697, 698, 699, 700, 701, 702, 703, 704, 705, 706, 707, 708, 709, 710, 711, 712, 713, 714, 715, 716, 717, 718, 719, 720, 721, 722, 723, 724, 725, 726, 727, 728, 729, 730, 731, 732, 733, 734, 735, 736, 737, 738, 739, 740, 741, 742, 743, 744, 745, 746, 747, 748, 749, 750, 751, 752, 753, 754, 755, 756, 757, 758, 759, 760, 761, 762, 763, 764, 765, 766, 767, 768, 769, 770, 771, 772, 773, 774, 775, 776, 777, 778, 779, 780, 781, 782, 783, 784, 785, 786, 787, 788, 789, 790, 791, 792, 793, 794, 795, 796, 797, 798, 799, 800, 801, 802, 803, 804, 805, 806, 807, 808, 809, 810, 811, 812, 813, 814, 815, 816, 817, 818, 819, 820, 821, 822, 823, 824, 825, 826, 827, 828, 829, 830, 831, 832, 833, 834, 835, 836, 837, 838, 839, 840, 841, 842, 843, 844, 845, 846, 847, 848, 849, 850, 851, 852, 853, 854, 855, 856, 857, 858, 859, 860, 861, 862, 863, 864, 865, 866, 867, 868, 869, 870, 871, 872, 873, 874, 875, 876, 877, 878, 879, 880, 881, 882, 883, 884, 885, 886, 887, 888, 889, 890, 891, 892, 893, 894, 895, 896, 897, 898, 899, 900, 901, 902, 903, 904, 905, 906, 907, 908, 909, 910, 911, 912, 913, 914, 915, 916, 917, 918, 919, 920, 921, 922, 923, 924, 925, 926, 927, 928, 929, 930, 931, 932, 933, 934, 935, 936, 937, 938, 939, 940, 941, 942, 943, 944, 945, 946, 947, 948, 949, 950, 951, 952, 953, 954, 955, 956, 957, 958, 959, 960, 961, 962, 963, 964, 965, 966, 967, 968, 969, 970, 971, 972, 973, 974, 975, 976, 977, 978, 979, 980, 981, 982, 983, 984, 985, 986, 987, 988, 989, 990, 991, 992, 993, 994, 995, 996, 997, 998, 999, 1000, 1001, 1002, 1003, 1004, 1005, 1006, 1007, 1008, 1009, 1010, 1011, 1012, 1013, 1014, 1015, 1016, 1017, 1018, 1019, 1020, 1021, 1022, 1023, 1024, 1025)\n",
    "print(\"The number of arguments are: \", n)"
   ]
  },
  {
   "cell_type": "markdown",
   "id": "31f31e66",
   "metadata": {},
   "source": [
    "### 4. Nested Functions\n",
    "- Inner functions, also known as nested functions, are functions that you define inside other functions. \n",
    "- In a situation of nested functions, variables present in the outer function's namespace can be used in the inner function by declaring global\n",
    "- Inner functions have many uses, most notably as closure factories and decorator functions"
   ]
  },
  {
   "cell_type": "code",
   "execution_count": null,
   "id": "fed321a2",
   "metadata": {},
   "outputs": [],
   "source": [
    "def outerFunction(): \n",
    "    name = 'Arif'\n",
    "    def innerFunction(): \n",
    "        print(name) \n",
    "    innerFunction() \n",
    "    \n",
    "outerFunction() \n",
    "#print(name)  # will raise an error"
   ]
  },
  {
   "cell_type": "markdown",
   "id": "0f49370f",
   "metadata": {},
   "source": [
    "### 5. Scope of Variables: Local and Global\n",
    "- \"Scope of Variable\" means that part of program where we can access the particular variable. \n",
    "- Python interpreter maintains a data structure called symbol table (using a dictionary object) containing information about each identifier/variable/symbol appearing in the program's source code. \n",
    "- There are 4 types of Variable Scope in Python (local scope, global scope, enclosing scope, and built-in scope)\n",
    "    - Variables that are defined inside a function body have a local scope and can be only accessed inside that particular function\n",
    "    - Variables that are defined outside a function body have a global scope and can be be accessed throughout the program"
   ]
  },
  {
   "cell_type": "code",
   "execution_count": null,
   "id": "4086958d",
   "metadata": {},
   "outputs": [],
   "source": [
    "# Example: Understanding Local Scope\n",
    "# we define a variable ‘str1’ in a function. So, ‘str1’ is local to ‘func’. Hence, we can read/write it in func, but not outside it.\n",
    "#When we try to do so, it raises a NameError.\n",
    "\n",
    "def my_function():\n",
    "    str1 = \"abcd\"  # a new local variable named str1 is created\n",
    "\n",
    "print(my_function())\n",
    "print(str1)"
   ]
  },
  {
   "cell_type": "code",
   "execution_count": null,
   "id": "933ea127",
   "metadata": {},
   "outputs": [],
   "source": [
    "# Example: Understanding Global Scope\n",
    "# We also declare a variable ‘b’ outside any other python Variable scope, this makes it global scope.\n",
    "# Consequently, we can read it anywhere in the program.\n",
    "\n",
    "str1 = \"1234\"\n",
    "def my_function():\n",
    "    str1 = \"abcd\"  # a new local variable named str1 is created\n",
    "    print(str1)\n",
    "\n",
    "my_function()\n",
    "print(str1)\n"
   ]
  },
  {
   "cell_type": "code",
   "execution_count": null,
   "id": "911970bb",
   "metadata": {},
   "outputs": [],
   "source": [
    "# Example of creating a local variable inside a function\n",
    "str1 = \"1234\"\n",
    "def my_function():\n",
    "    str1 = \"abcd\"  # a new local variable named str1 is created\n",
    "    return str1\n",
    "\n",
    "print(my_function())\n",
    "print(str1)"
   ]
  },
  {
   "cell_type": "code",
   "execution_count": null,
   "id": "314bc503",
   "metadata": {},
   "outputs": [],
   "source": [
    "# Example of updating a global variable inside a function\n",
    "str1 = \"1234\"\n",
    "\n",
    "def my_function():\n",
    "    global str1    # global keyword does not create a new local variable\n",
    "    str1 = \"abcd\"  # this will change the global variable\n",
    "    return str1\n",
    "\n",
    "print(my_function())\n",
    "print(str1)"
   ]
  },
  {
   "cell_type": "code",
   "execution_count": null,
   "id": "04051afc",
   "metadata": {},
   "outputs": [],
   "source": [
    "# Example: Understanding Enclosing Scope\n",
    "# Enclosed Scope\n",
    "def f1():\n",
    "    a = 54\n",
    "    def f2():\n",
    "        a = 55\n",
    "        print(a)\n",
    "    f2()\n",
    "    print(a)\n",
    "f1()\n"
   ]
  },
  {
   "cell_type": "code",
   "execution_count": null,
   "id": "4a4c0985",
   "metadata": {},
   "outputs": [],
   "source": [
    "# Enclosed Scope\n",
    "def f1():\n",
    "    a = 54\n",
    "    def f2():\n",
    "        nonlocal a\n",
    "        a = 55\n",
    "        print(a)\n",
    "    f2()\n",
    "    print(a)\n",
    "f1()"
   ]
  },
  {
   "cell_type": "code",
   "execution_count": null,
   "id": "d6bb9ef2",
   "metadata": {},
   "outputs": [],
   "source": [
    "# Example: Understanding Built-in Scope\n",
    "# Finally, we talk about the widest scope. The built-in scope has all the names that are loaded into python variable scope when we start the interpreter.\n",
    "\n",
    "# For example, we never need to import any module to access functions like print() and id().\n"
   ]
  },
  {
   "cell_type": "code",
   "execution_count": null,
   "id": "2f173406",
   "metadata": {
    "scrolled": true
   },
   "outputs": [],
   "source": [
    "total = 0; # This is global variable.\n",
    "# Function definition is here\n",
    "def sum( arg1, arg2 ):\n",
    "   # Add both the parameters and return them.\"\n",
    "   total = arg1 + arg2; # Here total is local variable.\n",
    "   print (\"Inside the function local total : \", total)\n",
    "   return total;\n",
    "\n",
    "# Now you can call sum function\n",
    "sum(10, 20);\n",
    "#total = sum(10,20)\n",
    "print (\"Outside the function global total : \", total)\n",
    "\n",
    "print(\"Global symbol table:\\n\")\n",
    "print(globals())   # returns a dictionary containing the current scope's global variables\n",
    "globals\n",
    "print(\"\\n\\nLocal symbol table:\\n\")\n",
    "print(locals())   # returns a dictionary containing the current scope's local variables\n",
    "locals"
   ]
  },
  {
   "cell_type": "code",
   "execution_count": null,
   "id": "cc333324",
   "metadata": {},
   "outputs": [],
   "source": [
    "def outer(): \n",
    "     x1 = 15\n",
    "     print ('In outer function x1: ',x1)  \n",
    "     def inner(): \n",
    "           # global x1\n",
    "            x1 = 30\n",
    "            print ('In inner function x1: ',x1)\n",
    "            # inner function ends here\n",
    "     inner() \n",
    "     print(\"After inner function: \", x1)\n",
    "     # outer function ends here\n",
    " \n",
    "outer() \n",
    "print(\"Value of x1: \",x1) "
   ]
  },
  {
   "cell_type": "markdown",
   "id": "c32289dd",
   "metadata": {},
   "source": [
    "### 7. Lambda / Anonymous Functions\n",
    "- In Python, an anonymous function is a function that is defined without a name. A normal functions is defined using the **def keyword**, anonymous functions are defined using the **lambda keyword**. Hence, anonymous functions are also called lambda functions.\n",
    "- Lambda functions can take any number of arguments but return just one value which is a function object. Later we use it to call the Lambda function. They cannot contain commands or multiple expressions.\n",
    "- The syntax of defining a standard function is:\n",
    "```\n",
    "  def functionName( arguments ):\n",
    "\tstatements...\n",
    "\treturn something\n",
    "```\n",
    "- The syntax of lambda function definition is as follows:\n",
    "```\n",
    "  lambda [arg1 [,arg2,.....argn]]:expression\n",
    "```\n",
    "- While comparing the above two, notice differences\n",
    "    - def is replaced by the keyword lambda, \n",
    "    - there is no function name, \n",
    "    - the arguments are not enclosed in parenthesis\n",
    "    - a regular function can contains one or more statement(s), while lambda function can contain an expression only\n",
    "    - a regular function may or may not return some value, but lambda function will always return the evaluated expression\n",
    "\n",
    "\n",
    "- An anonymous function cannot be a direct call to print because lambda requires an expression\n",
    "- Lambda functions have their own local namespace and cannot access variables other than those in their parameter list and those in the global namespace.\n",
    "- Although it appears that lambda's are a one-line version of a function, they are not equivalent to inline statements in C or C++, whose purpose is by passing function stack allocation during invocation for performance reasons.\n",
    "- **Well, lambdas are really useful when a function requires another function as its argument.**"
   ]
  },
  {
   "cell_type": "code",
   "execution_count": null,
   "id": "dbd801c5",
   "metadata": {},
   "outputs": [],
   "source": [
    "func1 = lambda a, b: a+b\n",
    "rv = func1(7.6, 3)\n",
    "print(rv)\n",
    "print(func1)\n",
    "print(lambda a, b: a+b)"
   ]
  },
  {
   "cell_type": "code",
   "execution_count": null,
   "id": "3efd35f0",
   "metadata": {},
   "outputs": [],
   "source": [
    "# Example: Let us convert following regular function to a lambda function\n",
    "'''\n",
    "def squareof(x):\n",
    "   return x*x\n",
    "\n",
    "rv = squareof(5)\n",
    "print(rv)\n",
    "'''\n",
    "\n",
    "func1 = lambda x: x*x          # func1 is of type function, so you use it to make a call to lambda function\n",
    "print(type(func1))\n",
    "rv = func1(5)\n",
    "print(type(rv))                # return type corresponds to the expression\n",
    "print(rv)\n"
   ]
  },
  {
   "cell_type": "code",
   "execution_count": null,
   "id": "ecf73362",
   "metadata": {},
   "outputs": [],
   "source": [
    "# Example: Let us convert following regular function to a lambda function\n",
    "'''\n",
    "def mysum(x):\n",
    "   return x+x\n",
    "\n",
    "rv = mysum(5)\n",
    "print(rv)\n",
    "'''\n",
    "\n",
    "func1 = lambda arg1, arg2: arg1 + arg2  # func1 is of type function, so you use it to make a call to lambda function\n",
    "\n",
    "print(type(func1))\n",
    "rv = func1(5.5, 6.3)         # return type corresponds to the expression\n",
    "print(type(rv))\n",
    "print (rv)\n"
   ]
  },
  {
   "cell_type": "markdown",
   "id": "2a7e9c37",
   "metadata": {},
   "source": [
    "#### a. Use of Lambda as a function argument to another function\n"
   ]
  },
  {
   "cell_type": "code",
   "execution_count": null,
   "id": "d0a3b323",
   "metadata": {},
   "outputs": [],
   "source": [
    "# Example: Passing a function name as an argument\n",
    "def myadd(n1, n2):\n",
    "    return n1 + n2\n",
    "\n",
    "def mysub(n1, n2):\n",
    "    return n1 - n2\n",
    "\n",
    "def mymul(n1, n2):\n",
    "    return n1 * n2\n",
    "\n",
    "def mydiv(n1, n2):\n",
    "    return n1 / n2\n",
    "\n",
    "def mycalc(operation, n1, n2):\n",
    "    return operation(n1, n2)  # Using the 'operation' argument as a function\n",
    "\n",
    "rv = mycalc(myadd, 5, 12)  #Python automatically understands that the myadd argument is a function\n",
    "print(result)\n",
    "print(mycalc(mymul, 5, 12)) #Python automatically understands that the mymul argument is a function\n"
   ]
  },
  {
   "cell_type": "code",
   "execution_count": 2,
   "id": "2884c030",
   "metadata": {},
   "outputs": [
    {
     "name": "stdout",
     "output_type": "stream",
     "text": [
      "17\n",
      "60\n"
     ]
    }
   ],
   "source": [
    "# Example: In above example writing four extra functions for mycalc function is a hastle\n",
    "# Lets use lambda function, and pass it as argument to mycalc method\n",
    "\n",
    "def mycalc(operation, n1, n2):\n",
    "    return operation(n1, n2)  # Using the 'operation' argument as a function\n",
    "\n",
    "\n",
    "rv = mycalc(lambda n1, n2: n1 + n2, 5, 12)\n",
    "print(rv)\n",
    "\n",
    "print(mycalc(lambda n1, n2: n1 * n2, 5, 12))\n",
    "\n",
    "\n",
    "#The code looks much shorter now! We can define the operation on the go whenever we want.\n",
    "#This is the beauty of lambdas. They work really well as arguments for other functions."
   ]
  },
  {
   "cell_type": "code",
   "execution_count": 3,
   "id": "d2d0665e",
   "metadata": {},
   "outputs": [
    {
     "data": {
      "text/plain": [
       "12"
      ]
     },
     "execution_count": 3,
     "metadata": {},
     "output_type": "execute_result"
    }
   ],
   "source": [
    "def mycalc(op, a, b):\n",
    "    return op(a,b)\n",
    "f1 = lambda a, b: a+b\n",
    "rv = mycalc(f1, 5, 7)\n",
    "rv"
   ]
  },
  {
   "cell_type": "markdown",
   "id": "3efc1f3f",
   "metadata": {},
   "source": [
    "#### b. Passing Lambda function to the map() function"
   ]
  },
  {
   "cell_type": "code",
   "execution_count": null,
   "id": "b8ba4b99",
   "metadata": {},
   "outputs": [],
   "source": [
    "# Example: Use of Lambda function with built-in function map()\n",
    "# The map(function, list) function takes two arguments\n",
    "#    - a function\n",
    "#    - and a list\n",
    "# It returns a map object after applying the function to all the elements of this list\n",
    "# The original list remains unchanged\n",
    "# The map object can be converted to a list using the list() function\n",
    "\n",
    "# Below sample code use map() to double the values of an existing list\n",
    "\n",
    "list1 = [1, 5, 4, 6, 8, 11, 3, 12]\n",
    "\n",
    "list2 = list(map(lambda x: x + 2 , list1))\n",
    "\n",
    "print(list2)\n",
    "\n",
    "# We could have created a function that doubles a number and used it as the argument in map(), but the lambda made things simpler"
   ]
  },
  {
   "cell_type": "code",
   "execution_count": null,
   "id": "ab937bbb",
   "metadata": {},
   "outputs": [],
   "source": [
    "# Example: Another example of map() \n",
    "\n",
    "numbers = [ 74, 85, 14, 23, 56, 31,44 ]\n",
    "\n",
    "remainders = list(map(lambda num: num%5, numbers))\n",
    "for i in remainders:\n",
    "   print(i)"
   ]
  },
  {
   "cell_type": "markdown",
   "id": "4bb135cb",
   "metadata": {},
   "source": [
    "#### c. Passing Lambda function to the filter() function"
   ]
  },
  {
   "cell_type": "code",
   "execution_count": null,
   "id": "c94c7b27",
   "metadata": {},
   "outputs": [],
   "source": [
    "# Example: Use of Lambda function with built-in function filter()\n",
    "# The filter(function, list) function takes two arguments\n",
    "#    - a function\n",
    "#    - and a list\n",
    "# The filter() function filters elements from a list if the elements satisfy the condition that is specified in the argument function.\n",
    "# It returns a filter object after applying the function to all the elements of this list\n",
    "# The original list remains unchanged\n",
    "# The filter object can be converted to a list using the list() function\n",
    "\n",
    "# Below sample code use filter() to filter out the elements and returns even numbers in the list\n",
    "\n",
    "\n",
    "list1 = [1, 5, 4, 6, 8, 11, 3, 12]\n",
    "\n",
    "list2 = list(filter(lambda x: (x%2 == 0) , list1))\n",
    "\n",
    "print(list2)\n",
    "print(type(list2))"
   ]
  },
  {
   "cell_type": "code",
   "execution_count": null,
   "id": "28d793b0",
   "metadata": {},
   "outputs": [],
   "source": []
  },
  {
   "cell_type": "code",
   "execution_count": null,
   "id": "851ddc89",
   "metadata": {},
   "outputs": [],
   "source": []
  },
  {
   "cell_type": "code",
   "execution_count": null,
   "id": "0ff62f2e",
   "metadata": {},
   "outputs": [],
   "source": []
  },
  {
   "cell_type": "markdown",
   "id": "9fe6672c",
   "metadata": {},
   "source": [
    "## Command Line Arguments in Python\n",
    "The arguments that are given after the name of the program in the command line shell of the operating system are known as Command Line Arguments. Python provides various ways of dealing with these types of arguments. The three most common are: \n",
    "- Using sys.argv[]\n",
    "- Using getopt.getopt()\n",
    "- Using argparse.ArgumentParser().parse_args()"
   ]
  },
  {
   "cell_type": "code",
   "execution_count": null,
   "id": "b23ed8b9",
   "metadata": {},
   "outputs": [],
   "source": []
  },
  {
   "cell_type": "code",
   "execution_count": null,
   "id": "7f7668bd",
   "metadata": {},
   "outputs": [],
   "source": []
  },
  {
   "cell_type": "code",
   "execution_count": null,
   "id": "2e807afb",
   "metadata": {},
   "outputs": [],
   "source": []
  }
 ],
 "metadata": {
  "kernelspec": {
   "display_name": "Python 3 (ipykernel)",
   "language": "python",
   "name": "python3"
  },
  "language_info": {
   "codemirror_mode": {
    "name": "ipython",
    "version": 3
   },
   "file_extension": ".py",
   "mimetype": "text/x-python",
   "name": "python",
   "nbconvert_exporter": "python",
   "pygments_lexer": "ipython3",
   "version": "3.8.10"
  }
 },
 "nbformat": 4,
 "nbformat_minor": 5
}
