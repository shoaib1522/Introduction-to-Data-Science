{
 "cells": [
  {
   "cell_type": "markdown",
   "id": "a6651c01",
   "metadata": {},
   "source": [
    "---   \n",
    " <img align=\"left\" width=\"75\" height=\"75\"  src=\"../../University_of_the_Punjab_logo.png\"> \n",
    "\n",
    "<h1 align=\"center\">Department of Data Science</h1>\n",
    "<h1 align=\"center\">Data Science Journey from Beginners to Expert</h1>\n",
    "\n",
    "---\n",
    "<h3><div align=\"right\">Instructor: Engr. Muhammad Nadeem Majeed, Ph.D.</div></h3>    "
   ]
  },
  {
   "cell_type": "markdown",
   "id": "a363bc39",
   "metadata": {},
   "source": [
    "<h1 align=\"center\">Python Tuples</h1>"
   ]
  },
  {
   "cell_type": "markdown",
   "id": "95de41a5",
   "metadata": {},
   "source": [
    "## _Python-Tuples.ipynb_\n",
    "#### [Click me to learn more about Python Tuples](https://docs.python.org/3/tutorial/datastructures.html#tuples-and-sequences)"
   ]
  },
  {
   "cell_type": "markdown",
   "id": "0f75a9de",
   "metadata": {},
   "source": [
    "<img align=\"center\" width=\"800\" height=\"800\"  src=\"images/datatypes1.png\" > "
   ]
  },
  {
   "cell_type": "markdown",
   "id": "3813f231",
   "metadata": {},
   "source": [
    "> **A Tuple is a numerically ordered sequence of elements that can store elements of heterogeneous types, is iterable, immutable and allows duplicate elements.**"
   ]
  },
  {
   "cell_type": "markdown",
   "id": "a2e370e3",
   "metadata": {},
   "source": [
    "- Like Lists, a Tuple in Python is also an ordered collection of values.\n",
    "- Like Lists, a Tuple is created by placing comma separated values, but in parenthesis rather square brackets. \n",
    "- Like List, a Tuple also allows us to store elements of different data types in one container.\n",
    "- Unlike List, it is not possible to add, remove, or modify values in a Tuple, so you can think of tuples as immutable Lists.\n",
    "- Apart from this, every operation that we can perform on Lists that do not modify them, can be performed on Tuples as well.\n",
    "- To be honest, Tuples are not used as often as Lists in programming, but are used when immutability is necessary.\n",
    "- When to prefer Tuples over Lists?\n",
    "    - While passing an object to a function, if you want to make sure that the object does not get changed, then Tuple become your solution. So Tuples provides a convenient source of data integrity.\n",
    "    - Similarly, since functions can return only one value, if you want a function to return more than one value, you pack your result in a tuple and return it\n",
    "    - Manipulating elements of a Tuple is far more efficient than manipulating elements of a List.\n",
    "    - Tuples being immutable are used in Dictionaries as keys (which are immutable)."
   ]
  },
  {
   "cell_type": "markdown",
   "id": "7c109b0c",
   "metadata": {},
   "source": [
    "## Learning agenda of this notebook\n",
    "1. How to create Tuples?\n",
    "2. Proof of concepts: Tuples are heterogeneous, ordered, nested, immutable, and allow duplicate elements\n",
    "3. Different ways to access elements of a Tuple?\n",
    "4. Slicing a Tuple\n",
    "5. Tuple concatenation and repetition\n",
    "6. Being immutable, you cannot add elements to a Tuple\n",
    "7. Being immutable, you cannot remove elemenst from a Tuple\n",
    "8. Converting string object to Tuple and vice-versa (using type casting, `split()` and `join()`)\n",
    "9. Tuple methods\n",
    "10. Sorting a Tuple using built-in `sorted()` function"
   ]
  },
  {
   "cell_type": "code",
   "execution_count": null,
   "id": "a0ce27db",
   "metadata": {},
   "outputs": [],
   "source": [
    "help(tuple)"
   ]
  },
  {
   "cell_type": "markdown",
   "id": "78d11dc1",
   "metadata": {},
   "source": [
    "## 1. How to create Tuples?\n",
    "- A Tuple is created by placing comma separated values in parenthesis (or without prenthesis as well) "
   ]
  },
  {
   "cell_type": "code",
   "execution_count": null,
   "id": "88801cf7",
   "metadata": {},
   "outputs": [],
   "source": [
    "t1 = (1, 2, 3, 4, 5)   #tuple of integers\n",
    "t1 = 1, 2, 3, 4, 5\n",
    "print(\"t1: \", t1)\n",
    "\n",
    "t2 = (2.3, 5.6, 1.8)  #tuple of floats\n",
    "print(\"t2: \", t2)\n",
    "\n",
    "t3 = ('hello', 'this', 'F', 'good show') #tuple of strings\n",
    "print(\"t3: \", t3)\n",
    "\n",
    "t4 = (True, False, True)    # tuple of boolean values\n",
    "print(\"t4: \", t4)\n",
    "\n",
    "\n",
    "print(\"Type of t4 is: \", type(t4))"
   ]
  },
  {
   "cell_type": "code",
   "execution_count": null,
   "id": "64ed8ede",
   "metadata": {},
   "outputs": [],
   "source": []
  },
  {
   "cell_type": "code",
   "execution_count": null,
   "id": "a51ee7b3",
   "metadata": {},
   "outputs": [],
   "source": [
    "# creating empty tuple\n",
    "t5 = ()\n",
    "print(\"t5: \", t5)"
   ]
  },
  {
   "cell_type": "code",
   "execution_count": null,
   "id": "0d9fbff4",
   "metadata": {},
   "outputs": [],
   "source": [
    "# to create a tuple with only one element is a bit tricky\n",
    "t6 = (25,)       # note the comma, without it, Python will take it as int/float/string and not tuple\n",
    "print(\"\\nt6: \", t6)\n",
    "print(type(t6))"
   ]
  },
  {
   "cell_type": "code",
   "execution_count": null,
   "id": "3c2bd2e4",
   "metadata": {},
   "outputs": [],
   "source": [
    "# Nested Tuple: a tuple can also have another tuple as an item\n",
    "t1 = (\"Arif\", 30, 5.5, (10,'rauf'))\n",
    "print(t1)"
   ]
  },
  {
   "cell_type": "code",
   "execution_count": null,
   "id": "5200e1b2",
   "metadata": {},
   "outputs": [],
   "source": []
  },
  {
   "cell_type": "code",
   "execution_count": null,
   "id": "810d75d3",
   "metadata": {},
   "outputs": [],
   "source": [
    "# Nested tuple: A tuple can also have another tuple, or list as an item\n",
    "t1 = (1, \"Hello\", [8, 'OK', 6], (1, 2, 'BYE'), 5.5)\n",
    "print(\"t1: \", t1)\n",
    "print(\"Type of t1 is: \", type(t1))"
   ]
  },
  {
   "cell_type": "markdown",
   "id": "48f77dc4",
   "metadata": {},
   "source": [
    "## 2. Proof of Concepts:"
   ]
  },
  {
   "cell_type": "markdown",
   "id": "00a2ff5d",
   "metadata": {},
   "source": [
    "### a. Tuples are Heterogeneous\n",
    "- Like Lists, Tuples are heterogeneous, as their elements/items can be of any data type"
   ]
  },
  {
   "cell_type": "code",
   "execution_count": null,
   "id": "7c3a9b9c",
   "metadata": {},
   "outputs": [],
   "source": [
    "t1 = (\"Arif\", 30, 5.5)\n",
    "print(\"t1: \", t1)"
   ]
  },
  {
   "cell_type": "markdown",
   "id": "f7ef359e",
   "metadata": {},
   "source": [
    "### b. Tuples are ordered\n",
    "- Like Lists Tuples are ordered.\n",
    "- Tuples are ordered means every element is associated by an index.\n",
    "- Every time you access tuple elements they will show up in same sequence. \n",
    "- Moreover, two tuples having same elements in different order are not same."
   ]
  },
  {
   "cell_type": "code",
   "execution_count": null,
   "id": "8c570d52",
   "metadata": {},
   "outputs": [],
   "source": [
    "a = (1, 2, 3)\n",
    "b = (2, 3, 1)\n",
    "id(a), id(b), a is b, a == b"
   ]
  },
  {
   "cell_type": "markdown",
   "id": "251c05b7",
   "metadata": {},
   "source": [
    "### c. Tuples are immutable\n",
    "- Unlike Lists Tuples are immutable\n",
    "- Means once a tuple object is created, you CANNOT make changes to it and modify its elements"
   ]
  },
  {
   "cell_type": "code",
   "execution_count": null,
   "id": "8d0f40de",
   "metadata": {},
   "outputs": [],
   "source": [
    "# Tuples are immutable, i.e., tuple elements cannot be changed\n",
    "numbers = (10, 20, 30)\n",
    "numbers[2] = 15    # this will generate an error"
   ]
  },
  {
   "cell_type": "code",
   "execution_count": null,
   "id": "80c29ede",
   "metadata": {},
   "outputs": [],
   "source": [
    "# Tupple however can be reassigned\n",
    "numbers = (10, 20, 30)\n",
    "numbers = (1, 2, 3)  # A tupple can be reassigned\n",
    "numbers"
   ]
  },
  {
   "cell_type": "markdown",
   "id": "1e8e4bc4",
   "metadata": {},
   "source": [
    "Remember the tuple object `(10,20,20)` in memory has become an orphan, since the numbers variable is now pointing to another tuple object `(1,2,3)` in memory. The unreferenced tuple object will be garbage collected by Python garbage collector"
   ]
  },
  {
   "cell_type": "code",
   "execution_count": null,
   "id": "4fc9e430",
   "metadata": {},
   "outputs": [],
   "source": [
    "# A List within a tuple is still mutable\n",
    "t1 = (1, \"Hello\", [8, 'OK', 6], (1, 2, 'BYE'), 5.5)\n",
    "t1[2][1] = 'Not OK'         # will work fine\n",
    "t1"
   ]
  },
  {
   "cell_type": "markdown",
   "id": "8a459d21",
   "metadata": {},
   "source": [
    "### d. Tuples can have duplicate elements"
   ]
  },
  {
   "cell_type": "code",
   "execution_count": null,
   "id": "0a910e6f",
   "metadata": {},
   "outputs": [],
   "source": [
    "# Like Lists, Tuples allow duplicate elements\n",
    "names = ('Arif', 'Rauf', 'Hadeed', 'Arif', 'Mujahid')\n",
    "print(names)"
   ]
  },
  {
   "cell_type": "markdown",
   "id": "32a0f7b9",
   "metadata": {},
   "source": [
    "### e. Tuples can be nested to arbitrary depth\n",
    "- Like Lists, you can have tuples within tuples and that can be done to an arbitrary depth. You are only restricted to the available memory on your system"
   ]
  },
  {
   "cell_type": "code",
   "execution_count": null,
   "id": "e087c00b",
   "metadata": {},
   "outputs": [],
   "source": [
    "# A tuple having two sub-tuples within it\n",
    "a = (1,2,3,(4,5),(6,7,8,9),10,11)\n",
    "# A tuple having a sub-tuple, which is further having a sub-tuple and that again having a subtuple\n",
    "b = (1,2,3,(4,5,(6,7,8,(9,10,11))))\n",
    "a, b"
   ]
  },
  {
   "cell_type": "markdown",
   "id": "1f8ac237",
   "metadata": {},
   "source": [
    "### f. Packing and Unpacking Tuples"
   ]
  },
  {
   "cell_type": "code",
   "execution_count": null,
   "id": "6b94e91a",
   "metadata": {},
   "outputs": [],
   "source": [
    "# you can unpack tuple elements\n",
    "t1 = ('learning', 'is', 'fun', 'with', 'Arif')\n",
    "a, b, c, d, e = t1 # the number of variables on the left must match the length of tuple\n",
    "print (a, c, e)\n",
    "print(type(a))"
   ]
  },
  {
   "cell_type": "code",
   "execution_count": null,
   "id": "b63654ee",
   "metadata": {},
   "outputs": [],
   "source": [
    "# you can pack individual elements to a tuple\n",
    "t1 = a,b,c,d,e\n",
    "print(t1)\n",
    "print(type(t1))"
   ]
  },
  {
   "cell_type": "markdown",
   "id": "418db83b",
   "metadata": {},
   "source": [
    "## 3. Different ways to access Elements of a Tuple\n",
    "- Since Tuple like List is of type Sequence, and any component within a sequence can be accessed by entrying an index within square brackets. So naturally this must work for Tuple as well\n",
    "- Similarly, if we want to find out the index of a specific item/character, we can use the `index()` method of Tuple class"
   ]
  },
  {
   "cell_type": "code",
   "execution_count": null,
   "id": "bbc96405",
   "metadata": {},
   "outputs": [],
   "source": [
    "#You can access elements of tuple using indexing which starts from zero\n",
    "t1 = (\"Arif\", 30, 5.5, (10,'rauf'))\n",
    "\n",
    "print(t1[2])       #accessing element of tuple at index2\n",
    "print(t1[3])       #accessing element of tuple at index3, which is again a tuple\n",
    "\n",
    "#accessing Nested tuple element\n",
    "print(t1[0][2])              #accessing third character of a tuple element at index 0\n",
    "print(t1[3][1])              #accessing second element of Nested tuple at index 3"
   ]
  },
  {
   "cell_type": "code",
   "execution_count": null,
   "id": "c0d21f34",
   "metadata": {},
   "outputs": [],
   "source": [
    "#Negative indexing starts looking at the tuple from the right hand side\n",
    "t1 = (\"Arif\", 30, 5.5, (10,'rauf'))\n",
    "print(t1[-1])                #accessing last element\n",
    "print(t1[-2])                #accessing second last element"
   ]
  },
  {
   "cell_type": "code",
   "execution_count": null,
   "id": "eb601e4a",
   "metadata": {},
   "outputs": [],
   "source": [
    "help(t1.index)"
   ]
  },
  {
   "cell_type": "code",
   "execution_count": null,
   "id": "d42c7653",
   "metadata": {},
   "outputs": [],
   "source": [
    "# index(value) method is used when you know the tuple element and wants to get its index\n",
    "# index(value) method returns the index of the first matched item with its only argument\n",
    "mytuple = (27, 4.5, 'arif', 64, 'hadeed', 19, 'arif')\n",
    "print(\"\\nmytuple: \", mytuple)\n",
    "print(\"mytuple.index(3): \", mytuple.index('arif'))"
   ]
  },
  {
   "cell_type": "markdown",
   "id": "c9517d91",
   "metadata": {},
   "source": [
    "## 4. Slicing Tuples\n",
    "- Like anyother sequence object we can perform slicing with tuples as well.\n",
    "- Slicing is the process of obtaining a portion of a tuple by using its indices.\n",
    "- Given a tuple, we can use the following template to slice it and obtain a sublist:\n",
    "```\n",
    "mytuple[start:end:step]\n",
    "```\n",
    "\n",
    "- **start** is the index from where we want the subtuple to start.If start is not provided, slicing starts from the beginning.\n",
    "- **end** is the index where we want our subtuple to end (not inclusive in the subtuple). If end is not provided, slicing goes till the last element of the tuple.\n",
    "- **step** is the step through which we want to skip elements in the tuple. The default step is 1, so we iterate through every element of the tuple."
   ]
  },
  {
   "cell_type": "code",
   "execution_count": null,
   "id": "d533f237",
   "metadata": {},
   "outputs": [],
   "source": [
    "t1 = ('a','b','c','d','e','f','g','h','i')\n",
    "t1"
   ]
  },
  {
   "cell_type": "code",
   "execution_count": null,
   "id": "fc7f5721",
   "metadata": {},
   "outputs": [],
   "source": [
    "t1[::]"
   ]
  },
  {
   "cell_type": "code",
   "execution_count": null,
   "id": "bacb22ad",
   "metadata": {},
   "outputs": [],
   "source": [
    "t1[3:]"
   ]
  },
  {
   "cell_type": "code",
   "execution_count": null,
   "id": "fda45faa",
   "metadata": {},
   "outputs": [],
   "source": [
    "t1[:4]"
   ]
  },
  {
   "cell_type": "code",
   "execution_count": null,
   "id": "abafa446",
   "metadata": {},
   "outputs": [],
   "source": [
    "t1[2:5]"
   ]
  },
  {
   "cell_type": "code",
   "execution_count": null,
   "id": "17127f79",
   "metadata": {},
   "outputs": [],
   "source": [
    "t1[:-2]"
   ]
  },
  {
   "cell_type": "code",
   "execution_count": null,
   "id": "0a4ca863",
   "metadata": {},
   "outputs": [],
   "source": [
    "t1[-1]"
   ]
  },
  {
   "cell_type": "code",
   "execution_count": null,
   "id": "c4cf41ba",
   "metadata": {},
   "outputs": [],
   "source": [
    "# Slicing by using strides\n",
    "print(t1[::])  # A default step of 1\n",
    "print(t1[::1])  # A step of 1\n",
    "print(t1[::2])  # A step of 2\n",
    "print(t1[::3])  # A step of 3"
   ]
  },
  {
   "cell_type": "code",
   "execution_count": null,
   "id": "44359432",
   "metadata": {},
   "outputs": [],
   "source": [
    "# Reverse slicing\n",
    "print(t1[::-1]) # Take 1 step back each time\n",
    "print(t1[5:1:-1]) # Take 1 step back each time\n",
    "#if start is less than end in case of a negative step, it will return empty string\n",
    "print(t1[2:10:-1])\n",
    "print(t1[::-2]) # Take 2 steps back"
   ]
  },
  {
   "cell_type": "code",
   "execution_count": null,
   "id": "8221022c",
   "metadata": {},
   "outputs": [],
   "source": [
    "# You CANNOT use slice operator on the left side of assignment as tuple is immutable\n",
    "t1 = (1, 2, 3, 4, 5, 6, 7)\n",
    "#t1[2:4] = ['a', 'b', 'c']  # will generate an error as 'tuple' object does not support item assignment"
   ]
  },
  {
   "cell_type": "markdown",
   "id": "8f109f45",
   "metadata": {},
   "source": [
    "## 5. Tuple Concatenation and Repetition\n",
    "- The `+` operator is used to concatenate two or more tuples\n",
    "- The `*` operator is used to repeat or replicate"
   ]
  },
  {
   "cell_type": "markdown",
   "id": "4063124d",
   "metadata": {},
   "source": [
    "### a. Concatenating Tuples"
   ]
  },
  {
   "cell_type": "code",
   "execution_count": null,
   "id": "5db695de",
   "metadata": {},
   "outputs": [],
   "source": [
    "# Add some elements to the end of an existing tuple using concatenation operator\n",
    "a = (1,2,3)\n",
    "b = a + (4,5)\n",
    "# Add some elements to the beginning of an existing tuple using concatenation operator\n",
    "c = (0,) + b\n",
    "a, b, c"
   ]
  },
  {
   "cell_type": "code",
   "execution_count": null,
   "id": "65c304f4",
   "metadata": {},
   "outputs": [],
   "source": [
    "# use + operator to concatenate two tuples\n",
    "food_items1 = ('fruits', 'bread', 'veggies')\n",
    "food_items2 = ('meat', 'spices', 'burger')\n",
    "food = food_items1 + food_items2\n",
    "print(food)"
   ]
  },
  {
   "cell_type": "code",
   "execution_count": null,
   "id": "895eb9a4",
   "metadata": {},
   "outputs": [],
   "source": [
    "# You can concatenate two heterogeneous tuples\n",
    "t1 = (5, 3.4, 'hello')\n",
    "t2 = (31, 9.7, 'bye')\n",
    "t3 = t1 + t2\n",
    "print(t3)"
   ]
  },
  {
   "cell_type": "code",
   "execution_count": null,
   "id": "0845f519",
   "metadata": {},
   "outputs": [],
   "source": [
    "num1 = (1,2,3)\n",
    "num2 = num1 + (4, 5, 6, (7, 8))\n",
    "print (num2)"
   ]
  },
  {
   "cell_type": "markdown",
   "id": "617419b0",
   "metadata": {},
   "source": [
    "### b. Replicating Tuples"
   ]
  },
  {
   "cell_type": "code",
   "execution_count": null,
   "id": "d4208107",
   "metadata": {},
   "outputs": [],
   "source": [
    "# use tuple * n syntax to create large tuples by repeating the tuple n times\n",
    "name = ('Arif', 'Hadeed', 'Mujahid')\n",
    "a = name * 3\n",
    "print(a)"
   ]
  },
  {
   "cell_type": "code",
   "execution_count": null,
   "id": "a9a6308a",
   "metadata": {},
   "outputs": [],
   "source": [
    "#tuple of 100 A's\n",
    "buf = ('A',)\n",
    "newbuf = buf * 100\n",
    "print(newbuf)\n",
    "type(newbuf)"
   ]
  },
  {
   "cell_type": "markdown",
   "id": "0557d8ff",
   "metadata": {},
   "source": [
    "## 6. Being immutable, you cannot add elements to a tuple (in list this is possible using `append`, `extend`, and `insert`)"
   ]
  },
  {
   "cell_type": "code",
   "execution_count": null,
   "id": "4ca664fe",
   "metadata": {},
   "outputs": [],
   "source": [
    "myfamily = (\"Farooq\", 'Rauf', 'Hadeed')\n",
    "print(\"\\n myfamily tuple: \", myfamily)\n",
    "myfamily.insert(2,'Arif') # will generate an error as tuple object has no attribute 'insert'\n"
   ]
  },
  {
   "cell_type": "markdown",
   "id": "ae40dd9e",
   "metadata": {},
   "source": [
    "## 7. Being immutable, you cannot remove elements from a tuple (in list this is possible using `pop` and `remove` methods)"
   ]
  },
  {
   "cell_type": "code",
   "execution_count": null,
   "id": "33f7704a",
   "metadata": {},
   "outputs": [],
   "source": [
    "tuple1 = ('learning', 'is', 'fun', 'with', 'arif', 'butt')\n",
    "\n",
    "#You cannot delete items from a tuple using del keyword\n",
    "#del tuple1[3]    # will generate an error as tuple object doesn't support item deletion\n",
    "\n",
    "# However, you can assign a new tuple object to the reference tuple1\n",
    "tuple1 = (1, 2, 3, 'arif')\n",
    "# However, you can delete an entire tuple object using del keyword\n",
    "#del tuple1\n",
    "#print(tuple1)\n",
    "\n"
   ]
  },
  {
   "cell_type": "markdown",
   "id": "0f4dd1c2",
   "metadata": {},
   "source": [
    "## 8. Converting String object to List/Tuple and vice-versa"
   ]
  },
  {
   "cell_type": "markdown",
   "id": "f9dcb124",
   "metadata": {},
   "source": [
    "### a. Type Casting"
   ]
  },
  {
   "cell_type": "code",
   "execution_count": null,
   "id": "71af910c",
   "metadata": {},
   "outputs": [],
   "source": [
    "# convert a string into tuple using tuple()\n",
    "str1 = 'Learning is fun'    #this is a string\n",
    "\n",
    "print(\"Original string: \", str1, \"and its type is:  \", type(str1))\n",
    "t1 = tuple(str1)\n",
    "print(\"t1: \", t1, \"and its type is:  \", type(t1))"
   ]
  },
  {
   "cell_type": "code",
   "execution_count": null,
   "id": "bcf7ce2f",
   "metadata": {},
   "outputs": [],
   "source": []
  },
  {
   "cell_type": "markdown",
   "id": "5e9e7346",
   "metadata": {},
   "source": [
    "### b. Use `str.split()` to Split a Tuple into Strings\n",
    "- Used to tokenize a string based on some delimiter, which can be stored in a tuple\n",
    "- It returns a list, so we need to type cast the returned object to a tuple"
   ]
  },
  {
   "cell_type": "code",
   "execution_count": null,
   "id": "993e0fef",
   "metadata": {},
   "outputs": [],
   "source": [
    "str1 = \"\"\n",
    "help(str1.split)"
   ]
  },
  {
   "cell_type": "code",
   "execution_count": null,
   "id": "c5d68224",
   "metadata": {},
   "outputs": [],
   "source": [
    "str1 = 'Learning is fun'    #this is a string\n",
    "t1 = tuple(str1.split(' ')) # The split() method returns a list, which you can typecast to a tuple\n",
    "print(t1)\n",
    "print(type(t1))"
   ]
  },
  {
   "cell_type": "code",
   "execution_count": null,
   "id": "0ae62a11",
   "metadata": {},
   "outputs": [],
   "source": [
    "str2 = \"Data Science is GR8 Degree\"    #this is a string\n",
    "t2 = tuple(str2.split('c'))\n",
    "print(t2)\n",
    "print(type(t2))"
   ]
  },
  {
   "cell_type": "markdown",
   "id": "1096daf9",
   "metadata": {},
   "source": [
    "### c. Use `str.join()` to Join Strings into a Tuple\n",
    "- The `str.join()` is the reverse of split() method, and is used to joing multiple strings by inserting the string in between on which this method is called\n",
    "- Remember, you can pass any iterable as argument to `str.join()` method"
   ]
  },
  {
   "cell_type": "code",
   "execution_count": null,
   "id": "0c20a59f",
   "metadata": {},
   "outputs": [],
   "source": [
    "str = \"\"\n",
    "help(str.join)"
   ]
  },
  {
   "cell_type": "code",
   "execution_count": null,
   "id": "f04b4019",
   "metadata": {},
   "outputs": [],
   "source": [
    "t1 = ('This', 'is', 'getting', 'more', 'and', 'more', 'interesting')\n",
    "t1"
   ]
  },
  {
   "cell_type": "code",
   "execution_count": null,
   "id": "04ecbbc7",
   "metadata": {},
   "outputs": [],
   "source": [
    "str2 = ' '.join(t1)\n",
    "str2, type(str2)"
   ]
  },
  {
   "cell_type": "code",
   "execution_count": null,
   "id": "2bb77698",
   "metadata": {},
   "outputs": [],
   "source": [
    "delimiter = \" # \"\n",
    "str3 = delimiter.join(t1)\n",
    "print(str3)\n",
    "print(type(str3))"
   ]
  },
  {
   "cell_type": "code",
   "execution_count": null,
   "id": "a06d0265",
   "metadata": {},
   "outputs": [],
   "source": []
  },
  {
   "cell_type": "markdown",
   "id": "fbf88b2e",
   "metadata": {},
   "source": [
    "## 9. Misc Tuple Methods in Python\n",
    "- Tuples have built-in methods, but not as many as Lists do. Lets look at two of them:\n",
    "    - The `t1.index(val)` method takes the value and returns the first index where that value resides in the tuple\n",
    "    - The `t1.count(val)` method takes exactly one argument and returns the number of times a that value occurs in a tuple"
   ]
  },
  {
   "cell_type": "code",
   "execution_count": null,
   "id": "9a32d56d",
   "metadata": {},
   "outputs": [],
   "source": [
    "t1 = (3, 8, 1, 6, 0, 8, 4)\n",
    "rv = t1.index(6)\n",
    "print(rv)"
   ]
  },
  {
   "cell_type": "code",
   "execution_count": null,
   "id": "8dfa6b70",
   "metadata": {},
   "outputs": [],
   "source": [
    "t1 = (3, 8, 1, 6, 8, 0, 8, 4)\n",
    "rv = t1.count(8)\n",
    "print(rv)"
   ]
  },
  {
   "cell_type": "markdown",
   "id": "4f48dd83",
   "metadata": {},
   "source": [
    "**Like Lists, you can apply `max()`, `min()`, and `sum()` functions on tuples with numeric elements**"
   ]
  },
  {
   "cell_type": "code",
   "execution_count": null,
   "id": "2f025aa2",
   "metadata": {},
   "outputs": [],
   "source": [
    "t1 = (3, 8, 1, 6, 0, 8, 4)\n",
    "print(\"length of list: \", len(t1))\n",
    "print(\"max element in list: \", max(t1))\n",
    "print(\"min element in list: \",min(t1))\n",
    "print(\"Sum of element in list: \",sum(t1))"
   ]
  },
  {
   "cell_type": "markdown",
   "id": "bf47a9e8",
   "metadata": {},
   "source": [
    "**Like Lists, you can apply `in` and `not in` membership operators on Tuples**"
   ]
  },
  {
   "cell_type": "code",
   "execution_count": null,
   "id": "689db389",
   "metadata": {},
   "outputs": [],
   "source": [
    "t1 = (3, 8, 1, 6, 0, 8, 4)\n",
    "rv1 = 9 in t1\n",
    "print(rv1)\n",
    "\n",
    "rv2 = 9 not in t1\n",
    "print(rv2)\n",
    "\n",
    "\n",
    "t2 = (\"XYZ\", \"ABC\", \"MNO\", \"ARIF\")\n",
    "rv3 = \"ARIF\" in t2\n",
    "print(rv3)\n",
    "\n"
   ]
  },
  {
   "cell_type": "markdown",
   "id": "aaaa0c01",
   "metadata": {},
   "source": [
    "**Comparing Objects and Values**"
   ]
  },
  {
   "cell_type": "code",
   "execution_count": null,
   "id": "e6a50444",
   "metadata": {},
   "outputs": [],
   "source": [
    "#In case of strings, both variables str1 and str2 refers to the same memory location containing string object 'hello'\n",
    "str1 = 'hello'\n",
    "str2 = 'hello'\n",
    "print(id(str1), id(str2))\n",
    "\n",
    "print (str1 is str2)  # is operator is checking the memory address (ID) of two strings\n",
    "print (str1 == str2)  # == operator is checking the contents of two strings"
   ]
  },
  {
   "cell_type": "code",
   "execution_count": null,
   "id": "a1c96bd0",
   "metadata": {},
   "outputs": [],
   "source": []
  },
  {
   "cell_type": "code",
   "execution_count": null,
   "id": "8639f31f",
   "metadata": {},
   "outputs": [],
   "source": [
    "#In case of tuples, both t1 and t2 refers to two different objects in the memory having same values\n",
    "t1 = (1, 2, 3)\n",
    "t2 = (1, 2, 3)\n",
    "print(id(t1), id(t2))\n",
    "\n",
    "print (t1 is t2)   # is operator is checking the memory address (ID) of two tuples\n",
    "print (t1 == t2)   # == operator is checking the contents of two tuples element by element"
   ]
  },
  {
   "cell_type": "code",
   "execution_count": null,
   "id": "5f37b0ce",
   "metadata": {},
   "outputs": [],
   "source": []
  },
  {
   "cell_type": "markdown",
   "id": "4d074020",
   "metadata": {},
   "source": [
    "## 10. Sorting a Tuple\n",
    "- Python’s built-in `sorted()` function can be used to sort iterable objects, such as lists, tuples, and dictionaries. - We have seen its usage in our Tuple session.\n",
    "- The `sorted()` function sorts the items of the specified iterable object and creates a new object with the newly sorted values.\n",
    "- It's syntax is as shown below:\n",
    "```\n",
    "    sorted(object, key=None, reverse=False)\n",
    "```\n",
    "- Where:\n",
    "    - `object`: the iterable object that you want to sort (required)\n",
    "    - `key`: the function that allows you to perform custom sort operations (optional)\n",
    "    - `reverse`: specifies whether the object should be sorted in descending order (optional)- default value is False"
   ]
  },
  {
   "cell_type": "code",
   "execution_count": null,
   "id": "4625d4b2",
   "metadata": {},
   "outputs": [],
   "source": [
    "# Sorting a Dictionary by it values with numeric values\n",
    "\n",
    "t1 = (3, 8, 1, 6, 0, 8, 4)\n",
    "\n",
    "print(\"Original Tuple = \", t1)\n",
    "\n",
    "\n",
    "list1 = sorted(t1)\n",
    "list2 = sorted(t1, reverse=True)\n",
    "\n",
    "print(\"Ascending Sort: \", list1)\n",
    "print(\"Descending Sort: \", list2)"
   ]
  },
  {
   "cell_type": "code",
   "execution_count": null,
   "id": "d8c14be7",
   "metadata": {},
   "outputs": [],
   "source": []
  },
  {
   "cell_type": "code",
   "execution_count": null,
   "id": "4203d43f",
   "metadata": {},
   "outputs": [],
   "source": [
    "# Sorting a tuple with string values\n",
    "\n",
    "t1 = (\"XYZ\", \"ABC\", \"MNO\", \"ARIF\")\n",
    "print(\"Original Tuple: \", t1)\n",
    "\n",
    "list1 = sorted(t1)\n",
    "list2 = sorted(t1, reverse=True)\n",
    "\n",
    "print(\"Ascending Sort: \", list1)\n",
    "print(\"Descending Sort: \", list2)"
   ]
  },
  {
   "cell_type": "markdown",
   "id": "cdcb5387",
   "metadata": {},
   "source": [
    "### b. Custom Sorting using `sorted()` Method"
   ]
  },
  {
   "cell_type": "code",
   "execution_count": null,
   "id": "2c90cf5e",
   "metadata": {},
   "outputs": [],
   "source": []
  },
  {
   "cell_type": "markdown",
   "id": "e03ac410",
   "metadata": {},
   "source": [
    "**Example 1: Suppose given a tuple with elements `('ccc', 'aaaa', 'd', 'bb')` and we want to sort it by length of strings inside the tuple so that the output is like : `('d', 'bb', 'ccc', 'aaaa)`**\n",
    "\n",
    "```\n",
    "    sorted(iterable, key=None, reverse=False)\n",
    "```\n",
    "- We write a one argument function, and pass that function to the `key` parameter of `sorted()` function\n",
    "- The `sorted()` function will run this one argument function on all the elements of the tuple and return a single value, and build up a shadow list of those new values. \n",
    "- Suppose the one argument function in this case is the Python built-in function `len()`, which when called on every element of `tuple` will return a shadow list containing length of every string within the original tuple containing `[3,4,1,2]`\n",
    "- The `sorted()` function will then sort elements of the tuple based on the values of the shadow list and returns the required sorted list :)"
   ]
  },
  {
   "cell_type": "code",
   "execution_count": null,
   "id": "d4015aa1",
   "metadata": {},
   "outputs": [],
   "source": [
    "t1 = ('ccc', 'aaaa', 'd', 'bb')\n",
    "sorted(t1)"
   ]
  },
  {
   "cell_type": "code",
   "execution_count": null,
   "id": "ff103dab",
   "metadata": {},
   "outputs": [],
   "source": [
    "#Example 1:\n",
    "t1 = ('ccc', 'aaaa', 'd', 'bb')\n",
    "sorted(t1, key=len)"
   ]
  },
  {
   "cell_type": "markdown",
   "id": "e0a78fe8",
   "metadata": {},
   "source": [
    "**Example 2: Suppose given a tuple with elements `('abcz', 'xyza', 'bas', 'arif')` and we want to sort it by last character of strings within the tuple so that the output is like : `('xyza', 'arif', 'bas', 'abcz')`**\n",
    "\n",
    "```\n",
    "    sorted(iterable, key=None, reverse=False)\n",
    "```\n",
    "- We write a one argument function, and pass that function to the `key` parameter of `sorted()` function\n",
    "- The `sorted()` function will run this one argument function on all the elements of the tuple and return a single value, and build up a shadow list of those new values. \n",
    "- This time the one argument function is a user defined function that receives a string and returns its last character. When called on every element of `tuple` will return a shadow list containing only the last character of every string within the original tuple containing `['z', 'a', 's', 'f']`\n",
    "- The `sorted()` function will then sort elements of the tuple based on the values of the shadow list and returns the required sorted list :)"
   ]
  },
  {
   "cell_type": "code",
   "execution_count": null,
   "id": "2587b323",
   "metadata": {},
   "outputs": [],
   "source": [
    "def last(s):\n",
    "    return s[-1]\n",
    "\n",
    "t1 = ('abcz', 'xyza', 'bas', 'arif')\n",
    "rv = sorted(t1, key=last)\n",
    "print(rv)\n",
    "print(t1)"
   ]
  },
  {
   "cell_type": "code",
   "execution_count": null,
   "id": "b77e3768",
   "metadata": {},
   "outputs": [],
   "source": []
  },
  {
   "cell_type": "markdown",
   "id": "1bd4be02",
   "metadata": {},
   "source": [
    "## Check your Concepts\n",
    "\n",
    "Try answering the following questions to test your understanding of the topics covered in this notebook:\n",
    "\n",
    "1. How tuples are different from list?\n",
    "2. Can you add or remove elements in a tuple?\n",
    "3. How do you create a tuple with just one element?\n",
    "4. How do you convert a tuple to a list and vice versa?\n",
    "5. How to create a nested tuple?\n",
    "6. How to find a min, max value from a tuple?\n",
    "7. How to compare two tuples, without iteration? (Hint: cmp)\n",
    "8. How to find the index of a specific element of a tuple?\n",
    "9. How to fiund the count of occurrence of element in Python Tuple?\n",
    "10.How to delete Tuple in Python ?\n"
   ]
  },
  {
   "cell_type": "code",
   "execution_count": null,
   "id": "b0cf3eb0",
   "metadata": {},
   "outputs": [],
   "source": []
  },
  {
   "cell_type": "markdown",
   "id": "949fca96",
   "metadata": {},
   "source": [
    "The underlying data structures for lists, tuples, sets, and dictionaries in Python are implemented differently, and they serve different purposes:\n",
    "\n",
    "### 1. List:\n",
    "Data Structure:</br>\n",
    "<b>Dynamic Array:</b> Lists in Python are implemented as dynamic arrays. When the size of the list exceeds its capacity, the underlying array is resized.\n",
    "Characteristics:\n",
    "Mutable: Lists are mutable, meaning you can modify their elements (add, remove, or change).\n",
    "### 2. Tuple:\n",
    "Data Structure:</br>\n",
    "<b>Fixed-Size Array:</b> Tuples are implemented as fixed-size arrays. Once a tuple is created, its size cannot be changed.\n",
    "Characteristics:\n",
    "Immutable: Tuples are immutable, meaning you cannot modify their elements after creation.\n",
    "### 3. Set:\n",
    "Data Structure:</br>\n",
    "<b>Hash Table:</b> Sets in Python are implemented as hash tables. Hash tables provide constant-time average-case complexity for common operations like adding, removing, and checking membership.\n",
    "Characteristics:\n",
    "Unordered: Sets are unordered collections of unique elements.\n",
    "### 4. Dictionary:\n",
    "Data Structure:</br>\n",
    "<b>Hash Table:</b> Dictionaries in Python are implemented as hash tables, just like sets. Each key is hashed to determine the index in the underlying array.\n",
    "Characteristics:\n",
    "Key-Value Pairs: Dictionaries consist of key-value pairs, where each key is associated with a value.\n",
    "Unordered: Like sets, dictionaries are unordered collections.\n",
    "</br></br> <b>Note:</b>\n",
    "While the underlying data structures for lists and tuples are array-based, it's important to note that Python lists can dynamically resize, whereas tuples have a fixed size.\n",
    "\n",
    "\n",
    "- Hash tables are widely used in Python for implementing sets and dictionaries due to their efficiency in providing fast access, insertion, and deletion of elements.\n",
    "\n",
    "- It's also worth mentioning that Python's standard library includes different implementations of some data structures optimized for specific use cases. For example, the collections.deque class provides a double-ended queue, and collections.OrderedDict maintains order in dictionary elements."
   ]
  },
  {
   "cell_type": "code",
   "execution_count": null,
   "id": "c5620b05",
   "metadata": {},
   "outputs": [],
   "source": []
  }
 ],
 "metadata": {
  "kernelspec": {
   "display_name": "Python 3 (ipykernel)",
   "language": "python",
   "name": "python3"
  },
  "language_info": {
   "codemirror_mode": {
    "name": "ipython",
    "version": 3
   },
   "file_extension": ".py",
   "mimetype": "text/x-python",
   "name": "python",
   "nbconvert_exporter": "python",
   "pygments_lexer": "ipython3",
   "version": "3.10.13"
  }
 },
 "nbformat": 4,
 "nbformat_minor": 5
}
