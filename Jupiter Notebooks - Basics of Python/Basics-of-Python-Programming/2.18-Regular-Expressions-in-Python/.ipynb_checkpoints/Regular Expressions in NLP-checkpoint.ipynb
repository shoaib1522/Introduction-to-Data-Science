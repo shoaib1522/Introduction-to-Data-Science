{
 "cells": [
  {
   "cell_type": "markdown",
   "id": "662ebbe7",
   "metadata": {},
   "source": [
    "---   \n",
    " <img align=\"left\" width=\"75\" height=\"75\"  src=\"https://upload.wikimedia.org/wikipedia/en/c/c8/University_of_the_Punjab_logo.png\"> \n",
    "\n",
    "<h1 align=\"center\">Department of Data Science</h1>\n",
    "<h1 align=\"center\">Course: Tools and Techniques for Data Science</h1>\n",
    "\n",
    "---\n",
    "<h3><div align=\"right\">Instructor: Muhammad Arif Butt, Ph.D.</div></h3>    "
   ]
  },
  {
   "cell_type": "markdown",
   "id": "d894e5e0",
   "metadata": {},
   "source": [
    "<h1 align=\"center\">Lecture 4.3</h1>"
   ]
  },
  {
   "cell_type": "markdown",
   "id": "adf4f41c",
   "metadata": {},
   "source": [
    "## _Regular Expressions in NLP.ipynb_"
   ]
  },
  {
   "cell_type": "code",
   "execution_count": null,
   "id": "2061033d",
   "metadata": {},
   "outputs": [],
   "source": []
  },
  {
   "cell_type": "code",
   "execution_count": null,
   "id": "8d530471",
   "metadata": {},
   "outputs": [],
   "source": []
  },
  {
   "cell_type": "code",
   "execution_count": null,
   "id": "e7b30697",
   "metadata": {},
   "outputs": [],
   "source": []
  },
  {
   "cell_type": "code",
   "execution_count": null,
   "id": "4daef216",
   "metadata": {},
   "outputs": [],
   "source": []
  },
  {
   "cell_type": "markdown",
   "id": "04fb96bd",
   "metadata": {},
   "source": [
    "## Learning agenda of this notebook\n",
    "\n",
    "1. Overview of Regular Expressions (Recap)\n",
    "2. Modifying Strings\n",
    "    1. `Split()` method in Regex\n",
    "    2. Limit the number of splits\n",
    "    3. Regex to Split string with multiple delimiters\n",
    "    4. Split strings by delimiters and specific word\n",
    "    5. Regex split a string and keep the separators\n",
    "3. Replace Pattern in a string using re.sub() method\n",
    "    1. `re.sub()` method in Regex\n",
    "    2. Regex example to replace all whitespace with an underscore\n",
    "    3. Regex to remove whitespaces from a string\n",
    "    4. Regex to remove leading Spaces from a string\n",
    "    5. Regex to remove both leading and trailing spaces"
   ]
  },
  {
   "cell_type": "code",
   "execution_count": null,
   "id": "85550d03",
   "metadata": {},
   "outputs": [],
   "source": []
  },
  {
   "cell_type": "code",
   "execution_count": null,
   "id": "26783305",
   "metadata": {},
   "outputs": [],
   "source": []
  },
  {
   "cell_type": "code",
   "execution_count": null,
   "id": "dce87948",
   "metadata": {},
   "outputs": [],
   "source": []
  },
  {
   "cell_type": "code",
   "execution_count": null,
   "id": "1f47ce75",
   "metadata": {},
   "outputs": [],
   "source": []
  },
  {
   "cell_type": "code",
   "execution_count": null,
   "id": "bf17fd81",
   "metadata": {},
   "outputs": [],
   "source": []
  },
  {
   "cell_type": "markdown",
   "id": "78e9b2f6",
   "metadata": {},
   "source": [
    "## Overview of Regular Expressions (Recap)\n",
    "- Regular expressions (called REs, or regexes, or regex patterns) are essentially a tiny, highly specialized programming language embedded inside Python and made available through the re module. \n",
    "\n",
    "\n",
    "- Using this little language, you specify the rules for the set of possible strings that you want to match; this set might contain `English sentences`, or `e-mail addresses`, or `TeX commands`, or `anything you like`. \n",
    "\n",
    "\n",
    "- You can then ask questions such as “Does this string match the pattern?”, or “Is there a match for the pattern anywhere in this string?”. You can also use REs to `modify a string` or to `split` it apart in various ways."
   ]
  },
  {
   "cell_type": "code",
   "execution_count": null,
   "id": "b0289d94",
   "metadata": {},
   "outputs": [],
   "source": []
  },
  {
   "cell_type": "code",
   "execution_count": null,
   "id": "caa7687a",
   "metadata": {},
   "outputs": [],
   "source": []
  },
  {
   "cell_type": "code",
   "execution_count": null,
   "id": "5ce6cd30",
   "metadata": {},
   "outputs": [],
   "source": []
  },
  {
   "cell_type": "code",
   "execution_count": null,
   "id": "0587759d",
   "metadata": {},
   "outputs": [],
   "source": []
  },
  {
   "cell_type": "code",
   "execution_count": null,
   "id": "f635acc6",
   "metadata": {},
   "outputs": [],
   "source": []
  },
  {
   "cell_type": "markdown",
   "id": "a58adefb",
   "metadata": {},
   "source": [
    "## 1. Modifying Strings\n",
    "- Up to this point, we’ve simply performed searches against a static string. Regular expressions are also commonly used to modify strings in various ways, using the following pattern methods:\n",
    "\n",
    "        - split(): Split the string into a list, splitting it wherever the RE matches\n",
    "        - sub(): Find all substrings where the RE matches, and replace them with a different string\n",
    "        - subn(): Does the same thing as sub(), but returns the new string and the number of replacements"
   ]
  },
  {
   "cell_type": "markdown",
   "id": "18848238",
   "metadata": {},
   "source": [
    "### `Split()` method in Regex\n",
    "- The `split()` method of a pattern splits a string apart wherever the RE matches, returning a list of the pieces. It’s similar to the split() method of strings but provides much more generality in the delimiters that you can split by; string split() only supports splitting by whitespace or by a fixed string.\n",
    "\n",
    "#### <center> re.split(pattern, string, maxsplit=0) </center>\n",
    "\n",
    "        - pattern: the regular expression pattern used for splitting the target string.\n",
    "        - string: The variable pointing to the target string (i.e., the string we want to split).\n",
    "        - maxsplit: The number of splits you wanted to perform. If maxsplit is 2, at most two splits occur, \n",
    "            and the remainder of the string is returned as the final element of the list.\n",
    "    \n",
    "    \n",
    "    \n",
    "- It split the target string as per the regular expression pattern, and the matches are returned in the form of a list.\n",
    "\n",
    "\n",
    "- If the specified pattern is not found inside the target string, then the string is not split in any way, but the split method still generates a list since this is the way it’s designed. However, the list contains just one element, the target string itself."
   ]
  },
  {
   "cell_type": "code",
   "execution_count": 2,
   "id": "319206ab",
   "metadata": {},
   "outputs": [
    {
     "name": "stdout",
     "output_type": "stream",
     "text": [
      "['My', 'name', 'is', 'Arif', 'Butt', 'and', 'my', 'lucky', 'numbers', 'are', '12', '45', '78']\n"
     ]
    }
   ],
   "source": [
    "# importing required libraries\n",
    "import re\n",
    "\n",
    "# defining string\n",
    "target_string = \"My name is Arif Butt and my lucky numbers are 12 45 78\"\n",
    "\n",
    "\n",
    "# using re.split() method\n",
    "# defining pattern that splits the string on the occurence of one or more white-spaces\n",
    "word_list = re.split(r\"\\s+\", target_string)\n",
    "\n",
    "# print the list\n",
    "print(word_list)"
   ]
  },
  {
   "cell_type": "markdown",
   "id": "914f36db",
   "metadata": {},
   "source": [
    "### Limit the number of splits\n",
    "The `maxsplit` parameter of re.split() is used to define how many splits you want to perform. In simple words, if the maxsplit is 2, then two splits will be done, and the remainder of the string is returned as the final element of the list."
   ]
  },
  {
   "cell_type": "code",
   "execution_count": 4,
   "id": "1f7c0446",
   "metadata": {},
   "outputs": [
    {
     "name": "stdout",
     "output_type": "stream",
     "text": [
      "['12', '45-78']\n",
      "['12', '45', '78']\n"
     ]
    }
   ],
   "source": [
    "# importing required libraries\n",
    "import re\n",
    "\n",
    "# defining string\n",
    "target_string = \"12-45-78\"\n",
    "\n",
    "\n",
    "# let’s take a simple example to split a string on the occurrence of any non-digit. \n",
    "# Here we will use the \\D special sequence that matches any non-digit character.\n",
    "# Split only on the first occurrence (maxsplit is 1)\n",
    "result = re.split(r\"\\D\", target_string, maxsplit=1)\n",
    "print(result)\n",
    "\n",
    "# Split on the two occurrence, (maxsplit is 2)\n",
    "result = re.split(r\"\\D\", target_string, maxsplit=2)\n",
    "print(result)\n"
   ]
  },
  {
   "cell_type": "markdown",
   "id": "f6c871a5",
   "metadata": {},
   "source": [
    "### Regex to Split string with multiple delimiters\n",
    "- With the regex split() method, you will get more flexibility. You can specify a pattern for the delimiters where you can specify multiple delimiters, while with the string’s split() method, you could have used only a fixed character or set of characters to split a string.\n",
    "\n",
    "\n",
    "- For example, using the regular expression re.split() method, we can split the string either by the `comma` or by `space`."
   ]
  },
  {
   "cell_type": "code",
   "execution_count": 5,
   "id": "16836216",
   "metadata": {},
   "outputs": [
    {
     "name": "stdout",
     "output_type": "stream",
     "text": [
      "['12', '45', '78', '85', '17', '89']\n"
     ]
    }
   ],
   "source": [
    "# importing required libraries\n",
    "import re\n",
    "\n",
    "# defining string\n",
    "target_string = \"12,45,78,85-17-89\"\n",
    "\n",
    "# splitting on the basis of 2 delimiter - and ,\n",
    "# use OR (|) operator to combine two pattern\n",
    "result = re.split(r\"-|,\", target_string)\n",
    "\n",
    "# print list\n",
    "print(result)"
   ]
  },
  {
   "cell_type": "markdown",
   "id": "5cb223a6",
   "metadata": {},
   "source": [
    "### Split strings by delimiters and specific word"
   ]
  },
  {
   "cell_type": "code",
   "execution_count": 6,
   "id": "e4e46118",
   "metadata": {},
   "outputs": [
    {
     "name": "stdout",
     "output_type": "stream",
     "text": [
      "['12', '', '45', '78', '85', '17', '89', '97']\n"
     ]
    }
   ],
   "source": [
    "# importing required libraries\n",
    "import re\n",
    "\n",
    "# defining string\n",
    "text = \"12, and45,78and85-17and89-97\"\n",
    "\n",
    "# split by word 'and' space, and comma\n",
    "# defined pattern includes and | set of one or more whitspaces, -\n",
    "result = re.split(r\"and|[\\s,-]+\", text)\n",
    "\n",
    "# print list\n",
    "print(result)"
   ]
  },
  {
   "cell_type": "markdown",
   "id": "89902979",
   "metadata": {},
   "source": [
    "### Regex split a string and keep the separators"
   ]
  },
  {
   "cell_type": "code",
   "execution_count": 7,
   "id": "cb5a26fe",
   "metadata": {},
   "outputs": [
    {
     "name": "stdout",
     "output_type": "stream",
     "text": [
      "['12', '-', '45', '-', '78']\n"
     ]
    }
   ],
   "source": [
    "# importing required libraries\n",
    "import re\n",
    "\n",
    "# defining string\n",
    "target_string = \"12-45-78\"\n",
    "\n",
    "\n",
    "# let’s take a simple example to split a string on the occurrence of any non-digit. \n",
    "# Here we will use the \\D special sequence that matches any non-digit character.\n",
    "# use parenthese to keep the separator as well\n",
    "result = re.split(r'(\\D+)', target_string)\n",
    "\n",
    "# print list\n",
    "print(result)\n"
   ]
  },
  {
   "cell_type": "code",
   "execution_count": null,
   "id": "4e84320a",
   "metadata": {},
   "outputs": [],
   "source": []
  },
  {
   "cell_type": "code",
   "execution_count": null,
   "id": "2fa5b707",
   "metadata": {},
   "outputs": [],
   "source": []
  },
  {
   "cell_type": "code",
   "execution_count": null,
   "id": "0435dc2a",
   "metadata": {},
   "outputs": [],
   "source": []
  },
  {
   "cell_type": "markdown",
   "id": "e1884896",
   "metadata": {},
   "source": [
    "## 2. Replace Pattern in a string using `re.sub()` method\n",
    "- Python regex offers `sub()` the `subn()` methods to `search` and `replace` patterns in a string. Using these methods we can replace one or more occurrences of a regex pattern in the target string with a substitute string.\n",
    "\n",
    "        - re.sub(pattern, replacement, string):\tFind and replaces all occurrences of pattern with replacement\n",
    "        \n",
    "        - re.sub(pattern, replacement, string, count=1): Find and replaces only the first occurrences of pattern \n",
    "          with replacement\n",
    "          \n",
    "        - re.sub(pattern, replacement, string, count=n)\tFind and replaces first n occurrences of pattern with \n",
    "          the replacement"
   ]
  },
  {
   "cell_type": "markdown",
   "id": "ba072294",
   "metadata": {},
   "source": [
    "### `re.sub()` method in Regex\n",
    "#### <center> re.sub(pattern, replacement, string) </center>\n",
    "\n",
    "- `pattern`: The regular expression pattern to find inside the target string.\n",
    "\n",
    "\n",
    "- `replacement`: The replacement that we are going to insert for each occurrence of a pattern. The replacement can be a string or function.\n",
    "\n",
    "\n",
    "- `string`: The variable pointing to the target string (In which we want to perform the replacement).\n",
    "\n",
    "\n",
    "- `count`: Maximum number of pattern occurrences to be replaced. The count must always be a positive integer if specified. .By default, the count is set to zero.\n",
    "\n",
    "\n",
    "- It returns the string obtained by replacing the pattern occurrences in the string with the replacement string. If the pattern isn’t found, the string is returned unchanged."
   ]
  },
  {
   "cell_type": "markdown",
   "id": "a5c567cb",
   "metadata": {},
   "source": [
    "### Regex example to replace all whitespace with an underscore"
   ]
  },
  {
   "cell_type": "code",
   "execution_count": 8,
   "id": "f34b7208",
   "metadata": {},
   "outputs": [
    {
     "name": "stdout",
     "output_type": "stream",
     "text": [
      "Learning_is_fun_with_Arif_Butt\n"
     ]
    }
   ],
   "source": [
    "# importing required libraries\n",
    "import re\n",
    "\n",
    "# defining string\n",
    "target_str = \"Learning is fun with Arif Butt\"\n",
    "\n",
    "# passing whitespace character as pattern, that will be replaced with _ in the target string\n",
    "res_str = re.sub(r\"\\s\", \"_\", target_str)\n",
    "\n",
    "# Print String after replacement\n",
    "print(res_str)"
   ]
  },
  {
   "cell_type": "markdown",
   "id": "bbaaa1b7",
   "metadata": {},
   "source": [
    "### Regex to remove whitespaces from a string"
   ]
  },
  {
   "cell_type": "code",
   "execution_count": 9,
   "id": "60288c16",
   "metadata": {},
   "outputs": [
    {
     "name": "stdout",
     "output_type": "stream",
     "text": [
      "LearningisfunwithArifButt\n"
     ]
    }
   ],
   "source": [
    "# importing required libraries\n",
    "import re\n",
    "\n",
    "# defining string\n",
    "target_str = \"Learning is fun with Arif Butt\"\n",
    "\n",
    "# using \\s+ to remove all spaces\n",
    "# + indicate 1 or more occurrence of a space\n",
    "res_str = re.sub(r\"\\s+\", \"\", target_str)\n",
    "\n",
    "# String after replacement\n",
    "print(res_str)"
   ]
  },
  {
   "cell_type": "markdown",
   "id": "0c220e65",
   "metadata": {},
   "source": [
    "### Regex to remove leading Spaces from a string"
   ]
  },
  {
   "cell_type": "code",
   "execution_count": 10,
   "id": "3882ba89",
   "metadata": {},
   "outputs": [
    {
     "name": "stdout",
     "output_type": "stream",
     "text": [
      "Learning is fun with Arif Butt\n"
     ]
    }
   ],
   "source": [
    "# importing required libraries\n",
    "import re\n",
    "\n",
    "# defining string\n",
    "target_str = \"   Learning is fun with Arif Butt\"\n",
    "\n",
    "# ^\\s+ remove only leading spaces\n",
    "# caret (^) matches only at the start of the string\n",
    "res_str = re.sub(r\"^\\s+\", \"\", target_str)\n",
    "\n",
    "# String after replacement\n",
    "print(res_str)"
   ]
  },
  {
   "cell_type": "markdown",
   "id": "55865bc9",
   "metadata": {},
   "source": [
    "### Regex to remove both leading and trailing spaces"
   ]
  },
  {
   "cell_type": "code",
   "execution_count": 11,
   "id": "db6f40d1",
   "metadata": {},
   "outputs": [
    {
     "name": "stdout",
     "output_type": "stream",
     "text": [
      "Learning is fun with Arif Butt\n"
     ]
    }
   ],
   "source": [
    "# importing required libraries\n",
    "import re\n",
    "\n",
    "# defining string\n",
    "target_str = \"   Learning is fun with Arif Butt  \\t\"\n",
    "\n",
    "# ^\\s+ remove leading spaces\n",
    "# ^\\s+$ removes trailing spaces\n",
    "# | operator to combine both patterns\n",
    "res_str = re.sub(r\"^\\s+|\\s+$\", \"\", target_str)\n",
    "\n",
    "# String after replacement\n",
    "print(res_str)"
   ]
  },
  {
   "cell_type": "code",
   "execution_count": null,
   "id": "dda31d04",
   "metadata": {},
   "outputs": [],
   "source": []
  },
  {
   "cell_type": "code",
   "execution_count": null,
   "id": "5b087c83",
   "metadata": {},
   "outputs": [],
   "source": []
  },
  {
   "cell_type": "code",
   "execution_count": null,
   "id": "e651100b",
   "metadata": {},
   "outputs": [],
   "source": []
  },
  {
   "cell_type": "code",
   "execution_count": null,
   "id": "29467210",
   "metadata": {},
   "outputs": [],
   "source": []
  },
  {
   "cell_type": "code",
   "execution_count": null,
   "id": "4160a82f",
   "metadata": {},
   "outputs": [],
   "source": []
  }
 ],
 "metadata": {
  "kernelspec": {
   "display_name": "Python 3 (ipykernel)",
   "language": "python",
   "name": "python3"
  },
  "language_info": {
   "codemirror_mode": {
    "name": "ipython",
    "version": 3
   },
   "file_extension": ".py",
   "mimetype": "text/x-python",
   "name": "python",
   "nbconvert_exporter": "python",
   "pygments_lexer": "ipython3",
   "version": "3.8.10"
  }
 },
 "nbformat": 4,
 "nbformat_minor": 5
}
