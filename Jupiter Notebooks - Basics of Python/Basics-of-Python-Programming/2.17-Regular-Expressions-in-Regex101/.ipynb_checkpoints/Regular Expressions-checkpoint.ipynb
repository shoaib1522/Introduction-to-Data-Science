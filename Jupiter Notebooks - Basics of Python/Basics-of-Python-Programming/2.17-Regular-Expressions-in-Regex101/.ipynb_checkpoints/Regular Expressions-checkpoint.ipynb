{
 "cells": [
  {
   "cell_type": "markdown",
   "id": "c0f94bec",
   "metadata": {},
   "source": [
    "---   \n",
    " <img align=\"left\" width=\"75\" height=\"75\"  src=\"https://upload.wikimedia.org/wikipedia/en/c/c8/University_of_the_Punjab_logo.png\"> \n",
    "\n",
    "<h1 align=\"center\">Department of Data Science</h1>\n",
    "<h1 align=\"center\">Course: Tools and Techniques for Data Science</h1>\n",
    "\n",
    "---\n",
    "<h3><div align=\"right\">Instructor: Muhammad Arif Butt, Ph.D.</div></h3>    "
   ]
  },
  {
   "cell_type": "markdown",
   "id": "3234ed0d",
   "metadata": {},
   "source": [
    "<h1 align=\"center\">Lecture 2.17</h1>"
   ]
  },
  {
   "cell_type": "markdown",
   "id": "9aa4323e",
   "metadata": {},
   "source": [
    "## _Regular Expressions.ipynb_"
   ]
  },
  {
   "cell_type": "code",
   "execution_count": null,
   "id": "82c478a4",
   "metadata": {},
   "outputs": [],
   "source": []
  },
  {
   "cell_type": "code",
   "execution_count": null,
   "id": "5530c87c",
   "metadata": {},
   "outputs": [],
   "source": []
  },
  {
   "cell_type": "code",
   "execution_count": null,
   "id": "3e2d0ba2",
   "metadata": {},
   "outputs": [],
   "source": []
  },
  {
   "cell_type": "code",
   "execution_count": null,
   "id": "49c03363",
   "metadata": {},
   "outputs": [],
   "source": []
  },
  {
   "cell_type": "markdown",
   "id": "6ad97a3c",
   "metadata": {},
   "source": [
    "<h1 align=\"center\">A Gentle Introduction to Regular Expressions (Regex)</h1> <br><br>\n",
    "\n",
    "<img align=\"center\" width=\"800\" height=\"800\"  src=\"images/re.jpeg\"  >\n",
    "<img align=\"center\" width=\"500\" height=\"500\"  src=\"images/tm.jpg\"  >\n",
    "\n",
    "<br><br><br><br><br><br><br><br><br>\n",
    "\n",
    "- In 1951, mathematician Stephen Cole Kleene described the concept of a regular language, a language that is recognizable by a finite automaton and formally expressible using regular expressions. In the mid-1960s, computer science pioneer Ken Thompson, one of the original designers of Unix, implemented pattern matching in the QED text editor using Kleene’s notation. Since then, regexes have appeared in many programming languages, editors, and other tools as a means of determining whether a string matches a specified pattern. Python, Java, and Perl all support regex functionality, as do most Unix tools and many text editors.\n",
    "\n",
    "\n",
    "- Regular expressions (called REs, or regexes, or regex patterns) is a tiny but highly specialized programming language embedded inside Python and made available through the built-in `re` module.\n",
    "- A regex pattern is a sequence of characters that define a `search pattern` and is used \n",
    "    - To identify whether that pattern exists in a given sequence of characters (string) or not \n",
    "    - To locate the position of the pattern in a corpus of text (a single or a collection of documents)\n",
    "    - To split a string apart in various ways\n",
    "    - To modify a string\n",
    "- Regular Expressions are useful for numerous practical day to day tasks that a data scientist encounters like:\n",
    "    - Pattern matching\n",
    "    - Data pre-processing (search, find and replace)\n",
    "    - Information extraction\n",
    "    - Web scraping\n",
    "    - Text mining or Text analytics (Transforming unstructured text into a structured format to identify meaningful patterns and new insights)\n",
    "    - Natural Language Processing\n",
    "\n",
    "- Regex are used in Google analytics in URL matching\n",
    "- Regex is used for search and replace operation in editors like MS Word, Sublime, Notepad++, Brackets,..."
   ]
  },
  {
   "cell_type": "code",
   "execution_count": null,
   "id": "aa38c930",
   "metadata": {},
   "outputs": [],
   "source": []
  },
  {
   "cell_type": "markdown",
   "id": "99cbfc89",
   "metadata": {},
   "source": [
    "## Learning Agenda\n",
    "#### PART-I\n",
    "1. Categories of Regex Metacharacters, Anchors, Quantifiers and Grouping Constructs\n",
    "2. A Step by Step practical understanding on regex101.com\n",
    "\n",
    "#### PART_II\n",
    "6. Repetition in Regex\n",
    "7. Leftmost & Largest (Greedy Matching)\n",
    "8. Email Example\n",
    "9. Username and Hostname\n",
    "10. Use of `findall()` method in Regex\n",
    "11. Why use Regex?\n",
    "12. Reading from a File\n",
    "13. Some More Basic Examples\n",
    "\n",
    "\n",
    "2. Modifying Strings\n",
    "    1. `Split()` method in Regex\n",
    "    2. Limit the number of splits\n",
    "    3. Regex to Split string with multiple delimiters\n",
    "    4. Split strings by delimiters and specific word\n",
    "    5. Regex split a string and keep the separators\n",
    "3. Replace Pattern in a string using re.sub() method\n",
    "    1. `re.sub()` method in Regex\n",
    "    2. Regex example to replace all whitespace with an underscore\n",
    "    3. Regex to remove whitespaces from a string\n",
    "    4. Regex to remove leading Spaces from a string\n",
    "    5. Regex to remove both leading and trailing spaces"
   ]
  },
  {
   "cell_type": "code",
   "execution_count": null,
   "id": "cb3ea6ed",
   "metadata": {},
   "outputs": [],
   "source": []
  },
  {
   "cell_type": "code",
   "execution_count": null,
   "id": "4492c781",
   "metadata": {},
   "outputs": [],
   "source": []
  },
  {
   "cell_type": "code",
   "execution_count": null,
   "id": "585f914b",
   "metadata": {},
   "outputs": [],
   "source": []
  },
  {
   "cell_type": "markdown",
   "id": "328ebbbd",
   "metadata": {},
   "source": [
    "# PART-I"
   ]
  },
  {
   "cell_type": "markdown",
   "id": "2a1000e3",
   "metadata": {},
   "source": [
    "## 2. Special Characters\n",
    "Special characters are characters that do not match themselves as seen but have a special meaning when used in a regular expression.\n",
    "- Meta Characters that match single character [ ], ., \\w, \\W, \\d, \\D, \\s, \\S\n",
    "- Escaping Meta Characters are used when you want to include a metacharacter in your regex, except you won’t want it to carry its special meaning. Instead, you’ll want it to represent itself as a literal character. \\\n",
    "- Anchors don’t match any actual characters in the search string, instead dictates a particular location in the search string where a match must occur ^, $, \\b, \\B\n",
    "- A quantifier metacharacter immediately follows a portion of a <regex> and indicates how many times that portion must occur for the match to succeed. *, +, ?, {m}, {m,n}. When used alone, the quantifier metacharacters *, +, and ? are all greedy, meaning they produce the longest possible match. \n",
    "- Grouping constructs break up a regex in Python into subexpressions or groups. This serves two purposes:\n",
    "()\n",
    "Grouping: A group represents a single syntactic entity. Additional metacharacters apply to the entire group as a unit.\n",
    "Capturing: Some grouping constructs also capture the portion of the search string that matches the subexpression in the group. You can retrieve captured matches later through several different mechanisms.\n",
    "\n",
    "\n",
    ".       - Any Character Except New Line\n",
    "\\d      - Digit (0-9)\n",
    "\\D      - Not a Digit (0-9)\n",
    "\\w      - Word Character (a-z, A-Z, 0-9, _)\n",
    "\\W      - Not a Word Character\n",
    "\\s      - Whitespace (space, tab, newline)\n",
    "\\S      - Not Whitespace (space, tab, newline)\n",
    "\n",
    "\\b      - Word Boundary\n",
    "\\B      - Not a Word Boundary\n",
    "^       - Beginning of a String\n",
    "$       - End of a String\n",
    "\n",
    "[]      - Matches Characters in brackets\n",
    "[^ ]    - Matches Characters NOT in brackets\n",
    "|       - Either Or\n",
    "( )     - Group\n",
    "\n",
    "Quantifiers:\n",
    "*       - 0 or More\n",
    "+       - 1 or More\n",
    "?       - 0 or One\n",
    "{3}     - Exact Number\n",
    "{3,4}   - Range of Numbers (Minimum, Maximum)\n"
   ]
  },
  {
   "cell_type": "markdown",
   "id": "e6bc917e",
   "metadata": {},
   "source": [
    "### a. Wild Card / Meta Characters\n",
    "| Wild Card | Description         \n",
    "| :-:       |:-------------\n",
    "| **^**     |Caret symbol specifies that the match must start at the beginning of the string, and in MULTILINE mode also matches immediately after each newline<br>- `^b` will check if the string starts with 'b' such as baba, boss, basic, b, by, etc.<br>- `^si` will check if the string starts with 'si' such as simple, sister, si, etc.\n",
    "| **$**     |Specifies that the match must occur at the end of the string <br> - `s$` will check for the string that ends with a such as geeks, ends, s, etc.<br>- `ing$` will check for the string that ends with ing such as going, seeing, ing, etc.\n",
    "| **.**     |Represent a single occurrance of any character except new line <br> - `a.b` will check for the string that contains any character at the place of the dot such as acb, acbd, abbb, etc<br> - `..` will check if the string contains at least 2 characters\n",
    "| **\\\\**    |Used to drop special meaning of a character following it or used to refer to a special character. <br> - Since dot `(.)` is a metacharacter, so if you want to search it in a string you have to use the backslash `(\\)` just before the dot `(.)`  so that it will lose its specialty. \n",
    "| **[...]** |Matches a single character in the listed set. If caret is the first character inside it, it means negation<br>- `[abc]` means match any single character out of this set<br>- `[123]` means match any single digit out of this set<br>- `[a-z]` means match any single character out of lower case alphabets<br>- `[0-9]` means match any single digit out of this set<br>- `[^0-3]` means any number except 0, 1, 2, or 3<br>- `[^a-c]` means any character except a, b, or c<br>- [0-5][0-9] will match all the two-digits numbers from 00 to 59<br>- `[0-9A-Fa-f]` will match any hexadecimal digit.<br>- Special characters lose their special meaning inside sets, so `[(+*)]` will match any of the literal characters '(', '+', '*', or ')'.<br>- To match a literal ']' inside a set, precede it with a backslash, or place it at the beginning of the set, so `[()[\\]{}]` and `[]()[{}]` will both match parenthesis.\n",
    "| **^[...]**|Matches any character in the set at the beginning of the string\n",
    "| **[^...]**|Matches any character except those NOT in the listed set (negation)\n",
    "| **\\|**    |Or symbol works as the OR operator meaning it checks whether the pattern before or after the or symbol is present in the string or not<br>- `a\\|b` will match any string that contains a or b such as acd, bcd, abcd, etc.<br>- To match a literal '\\|', use `\\|`, or enclose it inside a character class, as in `[\\|]`.\n",
    "| **( )**   |Used to capture and group"
   ]
  },
  {
   "cell_type": "markdown",
   "id": "f0cfcb57",
   "metadata": {},
   "source": [
    "### b. Quantifiers\n",
    "\n",
    "| Wild Card | Description         \n",
    "| :-:       |:-------------\n",
    "| **\\***    |The preceding character/expression is repeated zero or more times\n",
    "| **+**     |The preceding character/expression is repeated one or more times, <br>- `ab+c` will be matched for the string abc, abbc, dabc, but will not be matched for ac, abdc because there is no b in ac and d is not followed by c in abdc.\n",
    "| **?**     |The preceding character/expression is optional (zero or one occurrence). <br>- `ab?c` will be matched for the string ac, abc, acb, dabc, dac but will not be matched for abbc because there are two b. Similarly, it will not be matched for abdc because b is not followed by c.\n",
    "| **{n,m}** |The preceding character/expression is repeated from n to m times (both enclusive). <br> - `a{2,4}` will be matched for the string aaab, baaaac, gaad, but will not be matched for strings like abc, bc because there is only one a or no a in both the cases.\n",
    "| **{n}**   |The preceding character/expression is repeated n times.<br>- `a{6}` will match exactly six 'a' characters, but not five.           \n",
    "| **{n,}**  |The preceding character/expression is repeated atleast n times \n",
    "| **{,m}**  |The preceding character/expression is repeated upto m times\n",
    "| **{,}**  |The preceding character/expression is "
   ]
  },
  {
   "cell_type": "markdown",
   "id": "3cb10f31",
   "metadata": {},
   "source": [
    "### c. Escape Codes\n",
    "- You can use special escape codes to find specific types of patterns in your data, such as digits, non-digits,whitespace, and more. \n",
    "- The following list of special sequences isn’t complete.\n",
    "\n",
    "| Code | Description         \n",
    "| :-:  |:-------------\n",
    "| **\\d** |Matches any decimal digit. This is equivalent to [0-9]                              \n",
    "| **\\D** |Matches any non-digit character. This is equivalent to [^0-9] or [^\\d]                           \n",
    "| **\\s** |Matches any whitespace character. This is equivalent to [ \\r\\n\\t\\b\\f]                \n",
    "| **\\S** |Matches any non-whitespace character. This is equivalent to [^ \\r\\t\\n\\f] or [^\\s]                         \n",
    "| **\\w** |Matches alphanumeric character. This is equivalent to [a-zA-Z0-9_]                  \n",
    "| **\\W** |Matches any non-alphanumeric character. This is equivalent to [^a-zA-Z0-9_] or [^\\w]                  \n",
    "| **\\b** |Matches where the specified characters are at the beginning or at the end of a word r\"\\bain\" OR r\"ain\\b\"\n",
    "| **\\B** |Matches where the specified characters are present, but NOT or at the end of a word r\"Bain\" OR r\"ain\\B\" "
   ]
  },
  {
   "cell_type": "markdown",
   "id": "7d5b31e5",
   "metadata": {},
   "source": [
    "## 3. Practice Regular Expressions\n",
    "(Visit reges101)[https://regex101.com/]"
   ]
  },
  {
   "cell_type": "markdown",
   "id": "e05e9f85",
   "metadata": {},
   "source": [
    "abcdefghijklmnopqurtuvwxyz\n",
    "ABCDEFGHIJKLMNOPQRSTUVWXYZ\n",
    "1234567890\n",
    "Ha HaHa\n",
    "MetaCharacters (Need to be escaped): \n",
    ".[{()\\^$|?*+\n",
    "arifbutt.me\n",
    "321-555-4321\n",
    "123.555.1234\n",
    "111#923#9234\n",
    "cat\n",
    "mat\n",
    "bat\n",
    "0x45\n",
    "0X4Ad\n",
    "0x2g3\n",
    "0x349ABf\n",
    "0x"
   ]
  },
  {
   "cell_type": "markdown",
   "id": "a0cc2851",
   "metadata": {},
   "source": [
    "Hello World\n",
    "Mr. Shahzad\n",
    "Mr Khurram\n",
    "Ms Aqsa\n",
    "Mrs. Shaista\n",
    "Mr. B\n",
    "Learning is fun"
   ]
  },
  {
   "cell_type": "markdown",
   "id": "c54e1d32",
   "metadata": {},
   "source": [
    "List of Valid Email Addresses\n",
    "arif@pucit.edu.pk\n",
    "arif.ds@pu.edu.pk\n",
    "arifpucit@gmail.com\n",
    "arif.pucit@pu.edu.pk\n",
    "first+123.5@example.com\n",
    "abc%xyz@subdomain.example.com\n",
    "my_name@example.com\n",
    "first-last@example.com\n",
    "\n",
    "List of Invalid Email Addresses\n",
    "#@%^%#$@#$@#.com\n",
    "abc.def@mail\n",
    "abc.def@mail#archive.com\n",
    "@example.com\n",
    "arif butt @example.com\n",
    "khurram#@gmail.com\n",
    "Abc.example.com"
   ]
  },
  {
   "cell_type": "markdown",
   "id": "d9c64dfd",
   "metadata": {},
   "source": [
    "https://www.google.com\n",
    "http://arifbutt.me\n",
    "https://youtube.com\n",
    "https://www.yahoo.com\n",
    "http://facebook.com"
   ]
  },
  {
   "cell_type": "code",
   "execution_count": null,
   "id": "a8a412a9",
   "metadata": {},
   "outputs": [],
   "source": []
  },
  {
   "cell_type": "markdown",
   "id": "2461f89f",
   "metadata": {},
   "source": [
    "1. Consider three strings `\"ab xz\"`, `\"abxz\"` and `\"axz cabxz\"`. How many matches will the RE `(a|b|c)xz`\twill return?\n",
    "- No match\n",
    "- 1 match (match at abxz)\n",
    "- 2 matches (at axzbc cabxz)\n"
   ]
  },
  {
   "cell_type": "code",
   "execution_count": null,
   "id": "7fde0ffd",
   "metadata": {},
   "outputs": [],
   "source": []
  },
  {
   "cell_type": "code",
   "execution_count": null,
   "id": "a2613e0b",
   "metadata": {},
   "outputs": [],
   "source": []
  },
  {
   "cell_type": "code",
   "execution_count": null,
   "id": "21e9c6d8",
   "metadata": {},
   "outputs": [],
   "source": []
  },
  {
   "cell_type": "code",
   "execution_count": null,
   "id": "7ace107a",
   "metadata": {},
   "outputs": [],
   "source": []
  },
  {
   "cell_type": "code",
   "execution_count": null,
   "id": "bbf80dc9",
   "metadata": {},
   "outputs": [],
   "source": []
  },
  {
   "cell_type": "code",
   "execution_count": null,
   "id": "b855e69e",
   "metadata": {},
   "outputs": [],
   "source": []
  },
  {
   "cell_type": "code",
   "execution_count": null,
   "id": "4c3aff7c",
   "metadata": {},
   "outputs": [],
   "source": []
  },
  {
   "cell_type": "markdown",
   "id": "c0f18cf9",
   "metadata": {},
   "source": [
    "## 3. The Python `re` Module"
   ]
  },
  {
   "cell_type": "code",
   "execution_count": 131,
   "id": "a3e77f46",
   "metadata": {},
   "outputs": [
    {
     "name": "stdout",
     "output_type": "stream",
     "text": [
      "['A', 'ASCII', 'DEBUG', 'DOTALL', 'I', 'IGNORECASE', 'L', 'LOCALE', 'M', 'MULTILINE', 'Match', 'Pattern', 'RegexFlag', 'S', 'Scanner', 'T', 'TEMPLATE', 'U', 'UNICODE', 'VERBOSE', 'X', '_MAXCACHE', '__all__', '__builtins__', '__cached__', '__doc__', '__file__', '__loader__', '__name__', '__package__', '__spec__', '__version__', '_cache', '_compile', '_compile_repl', '_expand', '_locale', '_pickle', '_special_chars_map', '_subx', 'compile', 'copyreg', 'enum', 'error', 'escape', 'findall', 'finditer', 'fullmatch', 'functools', 'match', 'purge', 'search', 'split', 'sre_compile', 'sre_parse', 'sub', 'subn', 'template']\n"
     ]
    }
   ],
   "source": [
    "import re\n",
    "print(dir(re))"
   ]
  },
  {
   "cell_type": "code",
   "execution_count": 133,
   "id": "2e584372",
   "metadata": {},
   "outputs": [
    {
     "name": "stdout",
     "output_type": "stream",
     "text": [
      "['__class__', '__copy__', '__deepcopy__', '__delattr__', '__dir__', '__doc__', '__eq__', '__format__', '__ge__', '__getattribute__', '__gt__', '__hash__', '__init__', '__init_subclass__', '__le__', '__lt__', '__ne__', '__new__', '__reduce__', '__reduce_ex__', '__repr__', '__setattr__', '__sizeof__', '__str__', '__subclasshook__', 'findall', 'finditer', 'flags', 'fullmatch', 'groupindex', 'groups', 'match', 'pattern', 'scanner', 'search', 'split', 'sub', 'subn']\n"
     ]
    }
   ],
   "source": [
    "\n",
    "p = re.compile(r\"[A]+[a-z]+\")  \n",
    "\n",
    "print(dir(p))"
   ]
  },
  {
   "cell_type": "markdown",
   "id": "7af8d1dd",
   "metadata": {},
   "source": [
    "### a. The `re.compile()` Method\n",
    "- The `re.compile(pattern, flags=0)` method is used to compile a regular expression, and return a `Pattern object`.\n",
    "- Where,\n",
    "    - `pattern` is the regular expression which you want to compile that you need to search/modify in a string or may be on a corpus of documents.\n",
    "    - `flags` can have different values that can be bitwise ORed to change the attributes of `Pattern object`, like:\n",
    "        - `IGNORECASE` or `I` to do a case in-sensitive search\n",
    "        - `LOCALE` or `L` to perform a locale aware match.\n",
    "        - `MULTILINE`, `M` to do multiline matching, affectin `^` and `$`\n",
    "- Once you have an `Pattern object` representing a compiled regular expression, you can use its methods to perform various operations on a string or may be in a corpus of documents:\n",
    "    - `p.match()`: Determine if the RE matches at the beginning of the string.\n",
    "    - `p.search()`: Scan through a string, looking for any location where this RE matches.\n",
    "    - `p.findall()`: Find all substrings where the RE matches, and returns them as a list.\n",
    "    - `p.finditer()`: Find all substrings where the RE matches, and returns them as an iterator.\n",
    "    - `p.split()`: Used to split string by the occurrences of pattern.\n",
    "    - `p.sub()`: Used for for find and replace purpose..\n",
    "    "
   ]
  },
  {
   "cell_type": "code",
   "execution_count": null,
   "id": "1099db63",
   "metadata": {},
   "outputs": [],
   "source": [
    "import re\n",
    "\n",
    "p = re.compile(r\"[A]+[a-z]+\")  \n",
    "\n",
    "print(p)\n",
    "print(type(p))"
   ]
  },
  {
   "cell_type": "markdown",
   "id": "065aa67b",
   "metadata": {},
   "source": [
    ">**Backslash Plague and Python Raw String:** \n",
    ">- Regular expressions use the backslash character ('\\\\') to indicate special forms or to allow special characters to be used without invoking their special meaning. This conflicts with Python’s usage of the same character for the same purpose in string literals. \n",
    ">- The solution is to use Python’s raw string notation for regular expression patterns, by preceding the string by 'r'. So `r\"\\n\"` is a two-character string containing '\\\\' and 'n', while `\"\\n\"` is a one-character string containing a newline."
   ]
  },
  {
   "cell_type": "markdown",
   "id": "e87a6f71",
   "metadata": {},
   "source": [
    "### b. The `re.Pattern.findall()` Method\n",
    "- The `re.Pattern.findall(string, pos=0 endpos=9223372036854775807)` return a list of all non-overlapping matches of pattern in string\n",
    "- It will iterate over all the lines of the string by scanning it from left-to-right and returns a list of all non-overlapping matches in the order found. \n",
    "- If pattern does not exist, it returns an empty string. "
   ]
  },
  {
   "cell_type": "code",
   "execution_count": null,
   "id": "c2109514",
   "metadata": {},
   "outputs": [],
   "source": [
    "import re\n",
    "str1 = \"Arif, Jamil and Ahmad are good at playing acrobatic games. AAA is triple As. Arif Butt.\"\n",
    "p = re.compile(r\"[A]+[a-z]+\")  \n",
    "\n",
    "rv = p.findall(str1)\n",
    "print(rv)\n",
    "print(type(rv))"
   ]
  },
  {
   "cell_type": "markdown",
   "id": "d724dbd3",
   "metadata": {},
   "source": [
    "### c. The `re.Pattern.search()` Method\n",
    "- The `re.Pattern.search(string, pos=0 endpos=9223372036854775807)` scans through string looking for a match, and return a corresponding match object instance. Return None if no position in the string matches."
   ]
  },
  {
   "cell_type": "code",
   "execution_count": null,
   "id": "9d427527",
   "metadata": {},
   "outputs": [],
   "source": [
    "import re\n",
    "str1 = \"Arif, Jamil and Ahmad are good at playing acrobatic games.  AAA is triple As. Arif Butt.\"\n",
    "str2 = \"Mr. Arif, Jamil and Ahmad are good at playing acrobatic games.  AAA is triple As. Arif Butt.\"\n",
    "p = re.compile(r\"[A]+[a-z]+\")  \n",
    "\n",
    "rv = p.search(str2)\n",
    "print(rv)\n",
    "print(type(rv))"
   ]
  },
  {
   "cell_type": "markdown",
   "id": "e7eab265",
   "metadata": {},
   "source": [
    "### d. The `re.Pattern.match()` Method\n",
    "- The `re.Pattern.match(string, pos=0 endpos=9223372036854775807)` matches zero or more characters at the beginning of the string, and return a corresponding match object instance. Return None if no position in the string matches."
   ]
  },
  {
   "cell_type": "code",
   "execution_count": null,
   "id": "7da73734",
   "metadata": {},
   "outputs": [],
   "source": [
    "import re\n",
    "str1 = \"Arif, Jamil and Ahmad are good at playing acrobatic games.  AAA is triple As. Arif Butt.\"\n",
    "str2 = \"Mr. Arif, Jamil and Ahmad are good at playing acrobatic games.  AAA is triple As. Arif Butt.\"\n",
    "p = re.compile(r\"[A]+[a-z]+\")  \n",
    "rv = p.match(str2)\n",
    "print(rv)\n",
    "print(type(rv))"
   ]
  },
  {
   "cell_type": "markdown",
   "id": "daa64e6b",
   "metadata": {},
   "source": [
    "### e. The `re.Pattern.finditer()` Method\n",
    "- The `re.Pattern.finditer(string, pos=0 endpos=9223372036854775807)` returns an iterator over all non-overlapping matches for the RE pattern in string. For each match, the iterator returns a match object."
   ]
  },
  {
   "cell_type": "code",
   "execution_count": null,
   "id": "83e49cd6",
   "metadata": {},
   "outputs": [],
   "source": [
    "import re\n",
    "str1 = \"Arif, Jamil and Ahmad are good at playing acrobatic games.  AAA is triple As. Arif Butt.\"\n",
    "str2 = \"Mr. Arif, Jamil and Ahmad are good at playing acrobatic games.  AAA is triple As. Arif Butt.\"\n",
    "p = re.compile(r\"[A]+[a-z]+\")  \n",
    "matches = p.finditer(str2)\n",
    "print(matches)\n",
    "print(type(matches))"
   ]
  },
  {
   "cell_type": "markdown",
   "id": "2bbb2991",
   "metadata": {},
   "source": [
    ">- **Once we have got the iterator of `Match object`, we can iterate it using a `for` loop.**\n",
    ">- **Let us see how many match objects are there in this iterator named `matches`.**"
   ]
  },
  {
   "cell_type": "code",
   "execution_count": null,
   "id": "e090d9ca",
   "metadata": {},
   "outputs": [],
   "source": [
    "for m in matches:\n",
    "    print(m)"
   ]
  },
  {
   "cell_type": "markdown",
   "id": "e5186bd2",
   "metadata": {},
   "source": [
    ">- **Every match object has many associated methods.**\n",
    ">- **Let us see different attributes of each match object using these methods.**"
   ]
  },
  {
   "cell_type": "markdown",
   "id": "8ad323a9",
   "metadata": {},
   "source": [
    "The **`group()`** method of the match object, return subgroups of the match (str or tuple) by indices or names. For 0 returns the entire match."
   ]
  },
  {
   "cell_type": "code",
   "execution_count": null,
   "id": "bccf0177",
   "metadata": {},
   "outputs": [],
   "source": [
    "import re\n",
    "str1 = \"Arif, Jamil and Ahmad are good at playing acrobatic games.  AAA is triple As. Arif Butt.\"\n",
    "str2 = \"Mr. Arif, Jamil and Ahmad are good at playing acrobatic games.  AAA is triple As. Arif Butt.\"\n",
    "p = re.compile(r\"[A]+[a-z]+\")  \n",
    "matches = p.finditer(str2)\n",
    "\n",
    "for m in matches:\n",
    "    print(m.group())"
   ]
  },
  {
   "cell_type": "markdown",
   "id": "95d4245d",
   "metadata": {},
   "source": [
    "The **`span(group=0)`** method of the match object, return a 2-tuple containing the start and end index (end index not inclusive)"
   ]
  },
  {
   "cell_type": "code",
   "execution_count": null,
   "id": "1b392b71",
   "metadata": {},
   "outputs": [],
   "source": [
    "import re\n",
    "str1 = \"Arif, Jamil and Ahmad are good at playing acrobatic games.  AAA is triple As. Arif Butt.\"\n",
    "str2 = \"Mr. Arif, Jamil and Ahmad are good at playing acrobatic games.  AAA is triple As. Arif Butt.\"\n",
    "p = re.compile(r\"[A]+[a-z]+\")  \n",
    "matches = p.finditer(str2)\n",
    "\n",
    "for m in matches:\n",
    "    print(m.span())"
   ]
  },
  {
   "cell_type": "markdown",
   "id": "a1200ba9",
   "metadata": {},
   "source": [
    "The **`start(group=0)`** method of the match object, return index of the start of the substring matched by group."
   ]
  },
  {
   "cell_type": "code",
   "execution_count": null,
   "id": "8697591e",
   "metadata": {},
   "outputs": [],
   "source": [
    "import re\n",
    "str1 = \"Arif, Jamil and Ahmad are good at playing acrobatic games.  AAA is triple As. Arif Butt.\"\n",
    "str2 = \"Mr. Arif, Jamil and Ahmad are good at playing acrobatic games.  AAA is triple As. Arif Butt.\"\n",
    "p = re.compile(r\"[A]+[a-z]+\")  \n",
    "matches = p.finditer(str2)\n",
    "\n",
    "for m in matches:\n",
    "    print(m.start())"
   ]
  },
  {
   "cell_type": "markdown",
   "id": "a9cbe56a",
   "metadata": {},
   "source": [
    "The `end(group=0)` method of the match object, return index of the end of the substring matched by group."
   ]
  },
  {
   "cell_type": "code",
   "execution_count": null,
   "id": "bc08495d",
   "metadata": {},
   "outputs": [],
   "source": [
    "import re\n",
    "str1 = \"Arif, Jamil and Ahmad are good at playing acrobatic games.  AAA is triple As. Arif Butt.\"\n",
    "str2 = \"Mr. Arif, Jamil and Ahmad are good at playing acrobatic games.  AAA is triple As. Arif Butt.\"\n",
    "p = re.compile(r\"[A]+[a-z]+\")  \n",
    "matches = p.finditer(str2)\n",
    "\n",
    "for m in matches:\n",
    "    print(m.end())"
   ]
  },
  {
   "cell_type": "code",
   "execution_count": null,
   "id": "f0f854eb",
   "metadata": {},
   "outputs": [],
   "source": []
  },
  {
   "cell_type": "markdown",
   "id": "de97f34c",
   "metadata": {},
   "source": [
    "## 4. Some Basic Examples"
   ]
  },
  {
   "cell_type": "markdown",
   "id": "a643754f",
   "metadata": {},
   "source": [
    "### a. Practicing Wild Cards\n",
    "| Wild Card | Description         \n",
    "| :-:       |:-------------\n",
    "| **^**     |Caret symbol specifies that the match must start at the beginning of the string, and in MULTILINE mode also matches immediately after each newline<br>- `^b` will check if the string starts with 'b' such as baba, boss, basic, b, by, etc.<br>- `^si` will check if the string starts with 'si' such as simple, sister, si, etc.\n",
    "| **$**     |Specifies that the match must occur at the end of the string <br> - `s$` will check for the string that ends with a such as geeks, ends, s, etc.<br>- `ing$` will check for the string that ends with ing such as going, seeing, ing, etc.\n",
    "| **.**     |Represent a single occurrance of any character except new line <br> - `a.b` will check for the string that contains any character at the place of the dot such as acb, acbd, abbb, etc<br> - `..` will check if the string contains at least 2 characters\n",
    "| **\\\\**    |Used to drop special meaning of a character following it or used to refer to a special character. <br> - Since dot `(.)` is a metacharacter, so if you want to search it in a string you have to use the backslash `(\\)` just before the dot `(.)`  so that it will lose its specialty. \n",
    "| **[...]** |Matches a single character in the listed set. If caret is the first character inside it, it means negation<br>- `[abc]` means match any single character out of this set<br>- `[123]` means match any single digit out of this set<br>- `[a-z]` means match any single character out of lower case alphabets<br>- `[0-9]` means match any single digit out of this set<br>- `[^0-3]` means any number except 0, 1, 2, or 3<br>- `[^a-c]` means any character except a, b, or c<br>- [0-5][0-9] will match all the two-digits numbers from 00 to 59<br>- `[0-9A-Fa-f]` will match any hexadecimal digit.<br>- Special characters lose their special meaning inside sets, so `[(+*)]` will match any of the literal characters '(', '+', '*', or ')'.<br>- To match a literal ']' inside a set, precede it with a backslash, or place it at the beginning of the set, so `[()[\\]{}]` and `[]()[{}]` will both match parenthesis.\n",
    "| **^[...]**|Matches any character in the set at the beginning of the string\n",
    "| **[^...]**|Matches any character except those NOT in the listed set (negation)\n",
    "| **\\|**    |Or symbol works as the OR operator meaning it checks whether the pattern before or after the or symbol is present in the string or not<br>- `a\\|b` will match any string that contains a or b such as acd, bcd, abcd, etc.<br>- To match a literal '\\|', use `\\|`, or enclose it inside a character class, as in `[\\|]`.\n",
    "| **( )**   |Used to capture and group"
   ]
  },
  {
   "cell_type": "code",
   "execution_count": 2,
   "id": "711d6165",
   "metadata": {},
   "outputs": [
    {
     "name": "stdout",
     "output_type": "stream",
     "text": [
      "l\n",
      "l\n",
      "o\n"
     ]
    }
   ],
   "source": [
    "import re\n",
    "str1 = 'hello 123_'\n",
    "p = re.compile(r\"[lo]\")  \n",
    "matches = p.finditer(str1)\n",
    "for match in matches:\n",
    "    print(match.group())"
   ]
  },
  {
   "cell_type": "code",
   "execution_count": 3,
   "id": "d5079e8e",
   "metadata": {},
   "outputs": [
    {
     "name": "stdout",
     "output_type": "stream",
     "text": [
      "h\n",
      "e\n",
      "l\n",
      "l\n",
      "o\n"
     ]
    }
   ],
   "source": [
    "import re\n",
    "str1 = 'hello 123_'\n",
    "p = re.compile(r\"[a-z]\")  \n",
    "matches = p.finditer(str1)\n",
    "for match in matches:\n",
    "    print(match.group())"
   ]
  },
  {
   "cell_type": "code",
   "execution_count": 4,
   "id": "cf5fdc31",
   "metadata": {},
   "outputs": [
    {
     "name": "stdout",
     "output_type": "stream",
     "text": [
      "1\n",
      "2\n",
      "3\n"
     ]
    }
   ],
   "source": [
    "import re\n",
    "str1 = 'hello 123_'\n",
    "p = re.compile(r\"[0-9]\")  \n",
    "matches = p.finditer(str1)\n",
    "for match in matches:\n",
    "    print(match.group())"
   ]
  },
  {
   "cell_type": "code",
   "execution_count": 6,
   "id": "b8ca38c3",
   "metadata": {},
   "outputs": [
    {
     "name": "stdout",
     "output_type": "stream",
     "text": [
      "2\n",
      "20\n",
      "44\n"
     ]
    }
   ],
   "source": [
    "import re\n",
    "str1 = \"My 2 favorite numbers are 20 and 44\"\n",
    "p = re.compile('[0-9]+')  \n",
    "matches = p.finditer(str1)\n",
    "for match in matches:\n",
    "    print(match.group())"
   ]
  },
  {
   "cell_type": "code",
   "execution_count": null,
   "id": "05f3fd53",
   "metadata": {},
   "outputs": [],
   "source": []
  },
  {
   "cell_type": "code",
   "execution_count": null,
   "id": "2ab1ed52",
   "metadata": {},
   "outputs": [],
   "source": []
  },
  {
   "cell_type": "code",
   "execution_count": null,
   "id": "a66a886f",
   "metadata": {},
   "outputs": [],
   "source": []
  },
  {
   "cell_type": "markdown",
   "id": "146f2fbc",
   "metadata": {},
   "source": [
    "### b. Practicing Quantifiers\n",
    "\n",
    "| Wild Card | Description         \n",
    "| :-:       |:-------------\n",
    "| **\\***    |The preceding character/expression is repeated zero or more times\n",
    "| **+**     |The preceding character/expression is repeated one or more times, <br>- `ab+c` will be matched for the string abc, abbc, dabc, but will not be matched for ac, abdc because there is no b in ac and d is not followed by c in abdc.\n",
    "| **?**     |The preceding character/expression is optional (zero or one occurrence). <br>- `ab?c` will be matched for the string ac, abc, acb, dabc, dac but will not be matched for abbc because there are two b. Similarly, it will not be matched for abdc because b is not followed by c.\n",
    "| **{n,m}** |The preceding character/expression is repeated from n to m times (both enclusive). <br> - `a{2,4}` will be matched for the string aaab, baaaac, gaad, but will not be matched for strings like abc, bc because there is only one a or no a in both the cases.\n",
    "| **{n}**   |The preceding character/expression is repeated n times.<br>- `a{6}` will match exactly six 'a' characters, but not five.           \n",
    "| **{n,}**  |The preceding character/expression is repeated atleast n times \n",
    "| **{,m}**  |The preceding character/expression is repeated upto m times"
   ]
  },
  {
   "cell_type": "code",
   "execution_count": null,
   "id": "9205574e",
   "metadata": {},
   "outputs": [],
   "source": [
    "import re\n",
    "str1 = 'hello 123_'\n",
    "p = re.compile(r\"\\d\")  \n",
    "matches = p.finditer(str1)\n",
    "for match in matches:\n",
    "    print(match.group())"
   ]
  },
  {
   "cell_type": "code",
   "execution_count": null,
   "id": "7bb88c5f",
   "metadata": {},
   "outputs": [],
   "source": [
    "import re\n",
    "str1 = 'hello 123_'\n",
    "p = re.compile(r\"\\d*\")  \n",
    "matches = p.finditer(str1)\n",
    "for match in matches:\n",
    "    print(match.group())"
   ]
  },
  {
   "cell_type": "code",
   "execution_count": null,
   "id": "8e5637e9",
   "metadata": {},
   "outputs": [],
   "source": [
    "import re\n",
    "str1 = 'hello 123_'\n",
    "p = re.compile(r\"\\d+\")  \n",
    "matches = p.finditer(str1)\n",
    "for match in matches:\n",
    "    print(match.group())"
   ]
  },
  {
   "cell_type": "code",
   "execution_count": null,
   "id": "55ab23e8",
   "metadata": {},
   "outputs": [],
   "source": [
    "import re\n",
    "str1 = 'hello 123_'\n",
    "p = re.compile(r\"\\d{3}\")  \n",
    "matches = p.finditer(str1)\n",
    "for match in matches:\n",
    "    print(match.group())"
   ]
  },
  {
   "cell_type": "code",
   "execution_count": null,
   "id": "e4db82f2",
   "metadata": {},
   "outputs": [],
   "source": [
    "import re\n",
    "str1 = 'hello 123_'\n",
    "p = re.compile(r\"\\d{4}\")  \n",
    "matches = p.finditer(str1)\n",
    "for match in matches:\n",
    "    print(match.group())"
   ]
  },
  {
   "cell_type": "code",
   "execution_count": null,
   "id": "639b2421",
   "metadata": {},
   "outputs": [],
   "source": [
    "import re\n",
    "str1 = 'hello 123_'\n",
    "p = re.compile(r\"\\d{1,3}\")  \n",
    "matches = p.finditer(str1)\n",
    "for match in matches:\n",
    "    print(match.group())"
   ]
  },
  {
   "cell_type": "code",
   "execution_count": null,
   "id": "ee60bcb9",
   "metadata": {},
   "outputs": [],
   "source": []
  },
  {
   "cell_type": "markdown",
   "id": "49530f68",
   "metadata": {},
   "source": [
    "### c. Practicing the use of Escape Codes\n",
    "| Code | Description         \n",
    "| :-:  |:-------------\n",
    "| **\\d** |Matches any decimal digit. This is equivalent to [0-9]                              \n",
    "| **\\D** |Matches any non-digit character. This is equivalent to [^0-9] or [^\\d]                           \n",
    "| **\\s** |Matches any whitespace character. This is equivalent to [ \\r\\n\\t\\b\\f]                \n",
    "| **\\S** |Matches any non-whitespace character. This is equivalent to [^ \\r\\t\\n\\f] or [^\\s]                         \n",
    "| **\\w** |Matches alphanumeric character. This is equivalent to [a-zA-Z0-9_]                  \n",
    "| **\\W** |Matches any non-alphanumeric character. This is equivalent to [^a-zA-Z0-9_] or [^\\w]                  \n",
    "| **\\b** |Matches where the specified characters are at the beginning or at the end of a word r\"\\bain\" OR r\"ain\\b\"\n",
    "| **\\B** |Matches where the specified characters are present, but NOT or at the end of a word r\"Bain\" OR r\"ain\\B\" "
   ]
  },
  {
   "cell_type": "markdown",
   "id": "c6b47719",
   "metadata": {},
   "source": [
    "**Example:**"
   ]
  },
  {
   "cell_type": "code",
   "execution_count": null,
   "id": "d4074708",
   "metadata": {},
   "outputs": [],
   "source": [
    "import re\n",
    "str1 = 'hello_123_heyho hohey'\n",
    "p = re.compile(r\"\\d\")  \n",
    "matches = p.finditer(str1)\n",
    "for match in matches:\n",
    "    print(match.group())"
   ]
  },
  {
   "cell_type": "markdown",
   "id": "cd1e9917",
   "metadata": {},
   "source": [
    "**Example:**"
   ]
  },
  {
   "cell_type": "code",
   "execution_count": null,
   "id": "eafbd83f",
   "metadata": {},
   "outputs": [],
   "source": [
    "import re\n",
    "str1 = 'hello_123_heyho hohey'\n",
    "p = re.compile(r\"\\D\")  \n",
    "matches = p.finditer(str1)\n",
    "for match in matches:\n",
    "    print(match.group())"
   ]
  },
  {
   "cell_type": "markdown",
   "id": "3b5d55df",
   "metadata": {},
   "source": [
    "**Example:**"
   ]
  },
  {
   "cell_type": "code",
   "execution_count": null,
   "id": "1c867286",
   "metadata": {},
   "outputs": [],
   "source": [
    "import re\n",
    "str1 = 'hello_123_heyho hohey'\n",
    "p = re.compile(r\"he\")  \n",
    "matches = p.finditer(str1)\n",
    "for match in matches:\n",
    "    print(match.group())"
   ]
  },
  {
   "cell_type": "markdown",
   "id": "a75cf2f0",
   "metadata": {},
   "source": [
    "**Example:**"
   ]
  },
  {
   "cell_type": "code",
   "execution_count": null,
   "id": "18a20ff6",
   "metadata": {},
   "outputs": [],
   "source": [
    "import re\n",
    "str1 = 'hello_123_heyho hohey'\n",
    "p = re.compile(r\"hey\")  \n",
    "matches = p.finditer(str1)\n",
    "for match in matches:\n",
    "    print(match.group())"
   ]
  },
  {
   "cell_type": "markdown",
   "id": "46c45ae9",
   "metadata": {},
   "source": [
    "**Example:**"
   ]
  },
  {
   "cell_type": "code",
   "execution_count": null,
   "id": "7918915c",
   "metadata": {},
   "outputs": [],
   "source": [
    "import re\n",
    "str1 = 'hello_123_heyho hohey'\n",
    "p = re.compile(r\"\\Bhey\")  \n",
    "matches = p.finditer(str1)\n",
    "for match in matches:\n",
    "    print(match.group())"
   ]
  },
  {
   "cell_type": "markdown",
   "id": "6606d4c7",
   "metadata": {},
   "source": [
    "**Example:**  What if you want a special regular expression character such `.` as to just behave normally, you prefix it with `\\`. "
   ]
  },
  {
   "cell_type": "code",
   "execution_count": null,
   "id": "b3b52dce",
   "metadata": {},
   "outputs": [],
   "source": [
    "import re\n",
    "str1 = 'The file name is regular-expression.ipynb'\n",
    "p = re.compile(r'[^ ]*\\.i....')  \n",
    "\n",
    "matches = p.finditer(str1)\n",
    "for match in matches:\n",
    "    print(match.group())"
   ]
  },
  {
   "cell_type": "markdown",
   "id": "8b8f6069",
   "metadata": {},
   "source": [
    "####  What if you want a special regular expression character such `$` as to just behave normally, you prefix it with `\\`.\n",
    "\n",
    "<img align=\"center\" width=\"450\" height=\"550\"  src=\"images/dollar.png\"  >"
   ]
  },
  {
   "cell_type": "markdown",
   "id": "4d266965",
   "metadata": {},
   "source": [
    "**Example:**"
   ]
  },
  {
   "cell_type": "code",
   "execution_count": 67,
   "id": "281456c1",
   "metadata": {},
   "outputs": [
    {
     "name": "stdout",
     "output_type": "stream",
     "text": [
      "$10.00\n"
     ]
    }
   ],
   "source": [
    "import re\n",
    "\n",
    "str1 = 'We just received $10.00 for cookies.'\n",
    "p = re.compile(r'\\$[0-9.]+')  \n",
    "\n",
    "matches = p.finditer(str1)\n",
    "for match in matches:\n",
    "    print(match.group())\n"
   ]
  },
  {
   "cell_type": "markdown",
   "id": "dafe1faf",
   "metadata": {},
   "source": [
    "**Example:** let say we want to find a pattern that contains three digits in a row"
   ]
  },
  {
   "cell_type": "code",
   "execution_count": null,
   "id": "543f2e0b",
   "metadata": {},
   "outputs": [],
   "source": [
    "import re\n",
    "\n",
    "str1 = 'this example is for :123xxx yyy456'\n",
    "p = re.compile(r'\\d\\d\\d')  \n",
    "\n",
    "matches = p.finditer(str1)\n",
    "for match in matches:\n",
    "    print(match.group())\n"
   ]
  },
  {
   "cell_type": "markdown",
   "id": "219e0c97",
   "metadata": {},
   "source": [
    "**Example:** let say we want to find a pattern that contains three non-digits in a row"
   ]
  },
  {
   "cell_type": "code",
   "execution_count": null,
   "id": "954330b3",
   "metadata": {},
   "outputs": [],
   "source": [
    "import re\n",
    "\n",
    "str1 = 'this example is for :123xxx yyy456'\n",
    "p = re.compile(r'\\D\\D\\D')  \n",
    "\n",
    "matches = p.finditer(str1)\n",
    "for match in matches:\n",
    "    print(match.group())"
   ]
  },
  {
   "cell_type": "markdown",
   "id": "6d45b30c",
   "metadata": {},
   "source": [
    "**Example:** let say we want to include whitespaces in a pattern including digits and alphabets"
   ]
  },
  {
   "cell_type": "markdown",
   "id": "c54befd5",
   "metadata": {},
   "source": [
    "### Using `\\s` (match a whitespace) in Regex"
   ]
  },
  {
   "cell_type": "code",
   "execution_count": null,
   "id": "d784fb92",
   "metadata": {},
   "outputs": [],
   "source": [
    "# importing required libraries\n",
    "import re\n",
    "str1 = 'this example is for :123xxx yyy456'\n",
    "p = re.compile(r'\\d\\s\\d\\s\\d\\w\\w\\w')  \n",
    "\n",
    "matches = p.finditer(str1)\n",
    "for match in matches:\n",
    "    print(match.group())"
   ]
  },
  {
   "cell_type": "markdown",
   "id": "965a3cf0",
   "metadata": {},
   "source": [
    "**Example:** Perform case insensitive search by searching a four character word starting with alphabet `t`"
   ]
  },
  {
   "cell_type": "code",
   "execution_count": 12,
   "id": "aa00a743",
   "metadata": {},
   "outputs": [
    {
     "name": "stdout",
     "output_type": "stream",
     "text": [
      "text\n",
      "teXt\n",
      "then\n",
      "TEXT\n"
     ]
    }
   ],
   "source": [
    "import re\n",
    "str1 = 'adding some junk text and some junk teXt and then add more TEXT'\n",
    "p = re.compile(r't...', re.I)  \n",
    "\n",
    "matches = p.finditer(str1)\n",
    "for match in matches:\n",
    "    print(match.group())"
   ]
  },
  {
   "cell_type": "markdown",
   "id": "855ba5a2",
   "metadata": {},
   "source": [
    "**Example:** Perform case insensitive search by searching a four character word starting with alphabet `t`"
   ]
  },
  {
   "cell_type": "code",
   "execution_count": 14,
   "id": "c1fdd62f",
   "metadata": {},
   "outputs": [],
   "source": [
    "import re\n",
    "\n",
    "# defining a Multiline string\n",
    "str1 = \"\"\"string123\n",
    "Arifpucit21\n",
    "DataScience\"\"\"\n",
    "\n",
    "\n",
    "p = re.compile(r'^\\d\\d', re.M)  \n",
    "\n",
    "matches = p.finditer(str1)\n",
    "for match in matches:\n",
    "    print(match.group())\n",
    "    "
   ]
  },
  {
   "cell_type": "markdown",
   "id": "cd3c9067",
   "metadata": {},
   "source": [
    "**Example:** Write a Regular Expression that should search for a string in which first character is an upper case alphabet, followed by atleast on lower case alphabet, then two digits. After that you can have zero or more alphanumeric or non-alphanumeric characters"
   ]
  },
  {
   "cell_type": "code",
   "execution_count": 92,
   "id": "9c006e9d",
   "metadata": {},
   "outputs": [
    {
     "name": "stdout",
     "output_type": "stream",
     "text": [
      "Arifpucit21\n",
      "\n",
      "Pu32abc\n",
      "\n",
      "Mu33b\n",
      "\n"
     ]
    }
   ],
   "source": [
    "import re\n",
    "str1 = \"\"\"\n",
    "string123\n",
    "Arifpucit21\n",
    "DataScience\n",
    "B9w\n",
    "Pu32abc\n",
    "Ka5a\n",
    "Mu33b\n",
    "\"\"\"\n",
    "\n",
    "p = re.compile(r'[A-Z][a-z]+[0-9][0-9][a-zA-Z0-9_]*[^a-zA-Z0-9_]*')  \n",
    "p = re.compile(r'[A-Z][a-z]+\\d{2}\\w*\\W*')  \n",
    "\n",
    "matches = p.finditer(str1)\n",
    "for match in matches:\n",
    "    print(match.group())\n",
    "    "
   ]
  },
  {
   "cell_type": "markdown",
   "id": "3045f4c9",
   "metadata": {},
   "source": [
    "## 5. Common Use Cases"
   ]
  },
  {
   "cell_type": "markdown",
   "id": "549d96f8",
   "metadata": {},
   "source": [
    "### a. Handling Mr. Mrs., Ms."
   ]
  },
  {
   "cell_type": "code",
   "execution_count": 46,
   "id": "048023f9",
   "metadata": {},
   "outputs": [
    {
     "name": "stdout",
     "output_type": "stream",
     "text": [
      "Mr. Khurram\n",
      "Mrs Arifa\n"
     ]
    }
   ],
   "source": [
    "import re\n",
    "\n",
    "str1 = \"\"\"\n",
    "hello world\n",
    "Mr. Khurram\n",
    "Mr Idrees\n",
    "Mrs. Saadia\n",
    "Mrs Arifa\n",
    "Ms. Zainab\n",
    "Ms Qurrat\n",
    "Doing good\n",
    "20/02/2021\n",
    "This is Arif\n",
    "GR8\n",
    "\"\"\"\n",
    "\n",
    "p = re.compile(r'Mr.\\s\\w+')  \n",
    "\n",
    "matches = p.finditer(str1)\n",
    "for match in matches:\n",
    "    print(match.group())\n",
    "    "
   ]
  },
  {
   "cell_type": "code",
   "execution_count": 47,
   "id": "4fcca117",
   "metadata": {},
   "outputs": [
    {
     "name": "stdout",
     "output_type": "stream",
     "text": [
      "Mr. Khurram\n"
     ]
    }
   ],
   "source": [
    "p = re.compile(r'Mr\\.\\s\\w+')  \n",
    "\n",
    "matches = p.finditer(str1)\n",
    "for match in matches:\n",
    "    print(match.group())\n",
    "    "
   ]
  },
  {
   "cell_type": "code",
   "execution_count": 48,
   "id": "a2dfefab",
   "metadata": {},
   "outputs": [
    {
     "name": "stdout",
     "output_type": "stream",
     "text": [
      "Mr. Khurram\n",
      "Mr Idrees\n"
     ]
    }
   ],
   "source": [
    "# let us make the . optional\n",
    "p = re.compile(r'Mr\\.?\\s\\w+')  \n",
    "\n",
    "matches = p.finditer(str1)\n",
    "for match in matches:\n",
    "    print(match.group())\n",
    "    "
   ]
  },
  {
   "cell_type": "code",
   "execution_count": 49,
   "id": "5839b493",
   "metadata": {},
   "outputs": [
    {
     "name": "stdout",
     "output_type": "stream",
     "text": [
      "Mr. Khurram\n",
      "Mr Idrees\n",
      "Mrs. Saadia\n",
      "Mrs Arifa\n",
      "Ms. Zainab\n",
      "Ms Qurrat\n"
     ]
    }
   ],
   "source": [
    "p = re.compile(r'(Mr|Ms|Mrs)\\.?\\s\\w+')  \n",
    "\n",
    "matches = p.finditer(str1)\n",
    "for match in matches:\n",
    "    print(match.group())\n",
    "    "
   ]
  },
  {
   "cell_type": "code",
   "execution_count": null,
   "id": "daadc057",
   "metadata": {},
   "outputs": [],
   "source": []
  },
  {
   "cell_type": "code",
   "execution_count": null,
   "id": "8e6cbbd3",
   "metadata": {},
   "outputs": [],
   "source": []
  },
  {
   "cell_type": "markdown",
   "id": "0ce5a4b0",
   "metadata": {},
   "source": [
    "### b.  Date Example\n",
    "Suppose we have records of date, which consists of dates with inconsistent delimiters and we want to extract the `days`, `months`, and `years`.\n",
    "\n",
    "|Data_format    |\n",
    "|------------   |\n",
    "| `20-02-2021`  |\n",
    "| `06/07/2016`  |\n",
    "| `12.09.2020`  |\n"
   ]
  },
  {
   "cell_type": "code",
   "execution_count": 51,
   "id": "cb010886",
   "metadata": {},
   "outputs": [
    {
     "name": "stdout",
     "output_type": "stream",
     "text": [
      "01-04-2019\n",
      "05-07-2019\n",
      "15-08-2020\n"
     ]
    }
   ],
   "source": [
    "import re\n",
    "\n",
    "str1 = \"\"\"\n",
    "hello world\n",
    "01-04-2019\n",
    "20/02/2021\n",
    "This is Arif\n",
    "06/07/2016\n",
    "12.09.2020\n",
    "05-07-2019\n",
    "15-08-2020\n",
    "25.11.2020\n",
    "12/08/2020\n",
    "GR8\n",
    "\"\"\"\n",
    "\n",
    "p = re.compile(r'\\d\\d-\\d\\d-\\d\\d\\d\\d')  \n",
    "\n",
    "matches = p.finditer(str1)\n",
    "for match in matches:\n",
    "    print(match.group())\n",
    "    "
   ]
  },
  {
   "cell_type": "code",
   "execution_count": 52,
   "id": "19b670d1",
   "metadata": {},
   "outputs": [
    {
     "name": "stdout",
     "output_type": "stream",
     "text": [
      "01-04-2019\n",
      "20/02/2021\n",
      "06/07/2016\n",
      "12.09.2020\n",
      "05-07-2019\n",
      "15-08-2020\n",
      "25.11.2020\n",
      "12/08/2020\n"
     ]
    }
   ],
   "source": [
    "p = re.compile(r'\\d\\d.\\d\\d.\\d\\d\\d\\d')  \n",
    "\n",
    "matches = p.finditer(str1)\n",
    "for match in matches:\n",
    "    print(match.group())\n",
    "    "
   ]
  },
  {
   "cell_type": "code",
   "execution_count": 53,
   "id": "8cb8da9b",
   "metadata": {},
   "outputs": [
    {
     "name": "stdout",
     "output_type": "stream",
     "text": [
      "12.09.2020\n",
      "25.11.2020\n"
     ]
    }
   ],
   "source": [
    "p = re.compile(r'\\d\\d\\.\\d\\d\\.\\d\\d\\d\\d')  \n",
    "\n",
    "matches = p.finditer(str1)\n",
    "for match in matches:\n",
    "    print(match.group())\n",
    "    "
   ]
  },
  {
   "cell_type": "code",
   "execution_count": 54,
   "id": "5f6fa02f",
   "metadata": {},
   "outputs": [
    {
     "name": "stdout",
     "output_type": "stream",
     "text": [
      "20/02/2021\n",
      "06/07/2016\n",
      "12/08/2020\n"
     ]
    }
   ],
   "source": [
    "p = re.compile(r'\\d\\d[/]\\d\\d[/]\\d\\d\\d\\d')  \n",
    "\n",
    "matches = p.finditer(str1)\n",
    "for match in matches:\n",
    "    print(match.group())\n",
    "    "
   ]
  },
  {
   "cell_type": "code",
   "execution_count": null,
   "id": "3f088155",
   "metadata": {},
   "outputs": [],
   "source": []
  },
  {
   "cell_type": "code",
   "execution_count": 55,
   "id": "6cffd200",
   "metadata": {},
   "outputs": [
    {
     "name": "stdout",
     "output_type": "stream",
     "text": [
      "01-04-2019\n",
      "20/02/2021\n",
      "06/07/2016\n",
      "12.09.2020\n",
      "05-07-2019\n",
      "15-08-2020\n",
      "25.11.2020\n",
      "12/08/2020\n"
     ]
    }
   ],
   "source": [
    "p = re.compile(r'\\d{2}.\\d{2}.\\d{4}')  \n",
    "\n",
    "matches = p.finditer(str1)\n",
    "for match in matches:\n",
    "    print(match.group())\n",
    "    "
   ]
  },
  {
   "cell_type": "code",
   "execution_count": 60,
   "id": "11922322",
   "metadata": {},
   "outputs": [
    {
     "name": "stdout",
     "output_type": "stream",
     "text": [
      "01-04-2019\n",
      "20/02/2021\n",
      "06/07/2016\n",
      "12.09.2020\n",
      "05-07-2019\n",
      "15-08-2020\n",
      "25.11.2020\n",
      "12/08/2020\n"
     ]
    }
   ],
   "source": [
    "p = re.compile(r'(\\d{2}).(\\d{2}).(\\d{4})')  \n",
    "\n",
    "matches = p.finditer(str1)\n",
    "for match in matches:\n",
    "    print(match.group())\n",
    "    "
   ]
  },
  {
   "cell_type": "code",
   "execution_count": null,
   "id": "03d3df90",
   "metadata": {},
   "outputs": [],
   "source": []
  },
  {
   "cell_type": "markdown",
   "id": "20196c7f",
   "metadata": {},
   "source": [
    "### c. Verify valid Cell Phones"
   ]
  },
  {
   "cell_type": "markdown",
   "id": "b557e605",
   "metadata": {},
   "source": [
    "**Example:** Identify valid phone number belonging to a specific city. The city code is 042 then a hyphen or slash followed by exact 8 digits"
   ]
  },
  {
   "cell_type": "code",
   "execution_count": 74,
   "id": "0f34c460",
   "metadata": {},
   "outputs": [
    {
     "name": "stdout",
     "output_type": "stream",
     "text": [
      "042-36545532\n",
      "042-37654923\n",
      "042/34562883\n"
     ]
    }
   ],
   "source": [
    "str1 = \"\"\"\n",
    "hello world\n",
    "01-04-2019\n",
    "042-36545532\n",
    "091-43567732\n",
    "042-37654923\n",
    "042/34562883\n",
    "042/365473\n",
    "091/324432\n",
    "This is Arif\n",
    "06/07/2016\n",
    "GR8\"\"\"\n",
    "p = re.compile(r'042(-|/)[0-9]{8}')\n",
    "\n",
    "matches = p.finditer(str1)\n",
    "for match in matches:\n",
    "    print(match.group())\n",
    "    "
   ]
  },
  {
   "cell_type": "markdown",
   "id": "9d037ce3",
   "metadata": {},
   "source": [
    "**Example:** Identify valid phone number what has 3 starting digits and a '-' sign, 3 middle digits and a '-' sign and then 4 digits at the end"
   ]
  },
  {
   "cell_type": "code",
   "execution_count": 77,
   "id": "fc1dc661",
   "metadata": {},
   "outputs": [
    {
     "name": "stdout",
     "output_type": "stream",
     "text": [
      "444-122-1234\n",
      "123-122-7865\n"
     ]
    }
   ],
   "source": [
    "str1 = \"\"\"\n",
    "hello world\n",
    "444-122-1234\n",
    "123-122-78654\n",
    "67-7654-2019\n",
    "042-36545532\n",
    "GR8\"\"\"\n",
    "p = re.compile(r'[0-9]{3}-[0-9]{3}-[0-9]{4}')\n",
    "p = re.compile(r'\\d{3}-\\d{3}-\\d{4}')\n",
    "p = re.compile(r'\\w{3}-\\w{3}-\\w{4}')\n",
    "\n",
    "matches = p.finditer(str1)\n",
    "for match in matches:\n",
    "    print(match.group())\n",
    "    "
   ]
  },
  {
   "cell_type": "code",
   "execution_count": null,
   "id": "bd3c29cd",
   "metadata": {},
   "outputs": [],
   "source": []
  },
  {
   "cell_type": "code",
   "execution_count": null,
   "id": "7d65a39e",
   "metadata": {},
   "outputs": [],
   "source": []
  },
  {
   "cell_type": "code",
   "execution_count": null,
   "id": "db9ed774",
   "metadata": {},
   "outputs": [],
   "source": []
  },
  {
   "cell_type": "markdown",
   "id": "b572cd5d",
   "metadata": {},
   "source": [
    "### d. Email Example\n",
    "**Valid Name Part:**\n",
    "- Lowercase case alphabets\n",
    "- Uppercase case alphabets\n",
    "- Digits: 0123456789,\n",
    "- dot: . (not first or last character)\n",
    "- For simplicity assume no special characters allowed\n",
    "\n",
    "**Valid Domain Part:**\n",
    "- Lowercase case alphabets\n",
    "- Uppercase case alphabets\n",
    "- Digits: 0123456789,\n",
    "- Hyphen: - (not first or last character),\n",
    "- Can contain IP address surrounded by square brackets: test@[192.168.2.4] or test@[IPv6:2018:db8::1].\n"
   ]
  },
  {
   "cell_type": "markdown",
   "id": "01b4bcea",
   "metadata": {},
   "source": [
    "### Use of `[]` (square brackets) in Regex"
   ]
  },
  {
   "cell_type": "markdown",
   "id": "a0936687",
   "metadata": {},
   "source": [
    "#### Let say you want to find the email address from plain text string"
   ]
  },
  {
   "cell_type": "code",
   "execution_count": 128,
   "id": "b16637c3",
   "metadata": {},
   "outputs": [
    {
     "name": "stdout",
     "output_type": "stream",
     "text": [
      "<re.Match object; span=(1, 24), match='CoreyMSchafer@gmail.com'>\n",
      "<re.Match object; span=(25, 53), match='corey.schafer@university.edu'>\n",
      "<re.Match object; span=(54, 83), match='corey-321-schafer@my-work.net'>\n"
     ]
    }
   ],
   "source": [
    "import re\n",
    "\n",
    "emails = '''\n",
    "CoreyMSchafer@gmail.com\n",
    "corey.schafer@university.edu\n",
    "corey-321-schafer@my-work.net\n",
    "'''\n",
    "\n",
    "pattern = re.compile(r'[a-zA-Z0-9_.+-]+@[a-zA-Z0-9-]+\\.[a-zA-Z0-9-.]+')\n",
    "\n",
    "matches = pattern.finditer(emails)\n",
    "\n",
    "for match in matches:\n",
    "    print(match)"
   ]
  },
  {
   "cell_type": "code",
   "execution_count": null,
   "id": "f99d1b53",
   "metadata": {},
   "outputs": [],
   "source": [
    "str1 = \"\"\"\n",
    "List of Valid Email Addresses\n",
    "\n",
    "arif.ds@gmail.com\n",
    "test@domain.com\n",
    "lastname@domain.com\n",
    "test.email.with+symbol@domain.com\n",
    "id-with-dash@domain.com\n",
    "a@domain.com\n",
    "example-abc@abc-domain.com\n",
    "test@com\n",
    "test@localserver\n",
    "\n",
    "\n",
    "\n",
    "\n",
    "email@example.com\n",
    "firstname.lastname@example.com\n",
    "email@subdomain.example.com\n",
    "1234567890@example.com\n",
    "email@example.museum\n",
    "email@example.co.jp\n",
    "\n",
    "\n",
    "List of Invalid Email Addresses\n",
    "@example.com\n",
    "Joe Smith @example.com\n",
    "email.example.com\n",
    "email@example@example.com\n",
    ".email@example.com\n",
    "email.@example.com\n",
    "email..email@example.com\n",
    "email@example.com (Joe Smith)\n",
    "email@example\n",
    "email@-example.com\n",
    "email@example.web\n",
    "email@111.222.333.44444\n",
    "email@example..com\n",
    "Abc..123@example.com\n",
    "\"\"\"\n",
    "\n",
    "\n",
    "# (1 or more word characters, @ sign, and then again 1 or more word characters)\n",
    "match = re.search(r'[\\w.]+@[\\w.]+', str1)\n",
    "p = re.compile(r'\\w[\\w.]+@[\\w.]+')\n",
    "matches = p.finditer(str1)\n",
    "for match in matches:\n",
    "    print(match.group())\n",
    "    "
   ]
  },
  {
   "cell_type": "code",
   "execution_count": 126,
   "id": "46c577a2",
   "metadata": {},
   "outputs": [
    {
     "name": "stdout",
     "output_type": "stream",
     "text": [
      "arif.ds@gmail.com\n",
      "email@example.com\n",
      "firstname.lastname@example.com\n",
      "email@subdomain.exa\n",
      "1234567890@example.com\n",
      "_______@example.com\n",
      "email@example.nam\n",
      "email@example.mus\n",
      "email@example.co\n",
      "firstname-lastname@example.com\n",
      "email@example.com\n",
      "example@example.com\n",
      ".email@example.com\n",
      "email.@example.com\n",
      "email..email@example.com\n",
      "email@example.com\n",
      "email@example.web\n",
      "Abc..123@example.com\n"
     ]
    }
   ],
   "source": [
    "str1 = \"\"\"\n",
    "List of Valid Email Addresses\n",
    "\n",
    "arif.ds@gmail.com\n",
    "email@example.com\n",
    "firstname.lastname@example.com\n",
    "email@subdomain.example.com\n",
    "1234567890@example.com\n",
    "email@example-one.com\n",
    "_______@example.com\n",
    "firstname-lastname@example.com\n",
    "\n",
    "\n",
    "List of Invalid Email Addresses\n",
    "#@%^%#$@#$@#.com\n",
    "@example.com\n",
    "Joe Smith <email@example.com>\n",
    "email.example.com\n",
    "email@example@example.com\n",
    ".email@example.com\n",
    "email.@example.com\n",
    "email..email@example.com\n",
    "email@example.com (Joe Smith)\n",
    "email@example\n",
    "email@-example.com\n",
    "email@example.web\n",
    "email@111.222.333.44444\n",
    "email@example..com\n",
    "Abc..123@example.com\n",
    "\"\"\"\n",
    "p = re.compile(r'[a-zA-Z0-9_\\-\\.]+@[a-z]+[\\.][a-z]{2,3}')\n",
    "\n",
    "matches = p.finditer(str1)\n",
    "for match in matches:\n",
    "    print(match.group())\n",
    "    "
   ]
  },
  {
   "cell_type": "code",
   "execution_count": 101,
   "id": "5c188982",
   "metadata": {},
   "outputs": [
    {
     "name": "stdout",
     "output_type": "stream",
     "text": [
      "arifpucit@gmail.com\n",
      "itx_hadeed@gmail.com\n",
      "123@gmail.com\n",
      "khoo_12-3@gmail.com\n",
      "hiha12-hahi@gmx.de\n"
     ]
    }
   ],
   "source": [
    "p = re.compile(r'([a-zA-Z0-9_\\-\\.]+)@([a-z]+)[\\.]([a-z]{2,3})')\n",
    "\n",
    "matches = p.finditer(str1)\n",
    "for match in matches:\n",
    "    print(match.group(0))"
   ]
  },
  {
   "cell_type": "code",
   "execution_count": 102,
   "id": "7bf78c1c",
   "metadata": {},
   "outputs": [
    {
     "name": "stdout",
     "output_type": "stream",
     "text": [
      "arifpucit\n",
      "itx_hadeed\n",
      "123\n",
      "khoo_12-3\n",
      "hiha12-hahi\n"
     ]
    }
   ],
   "source": [
    "p = re.compile(r'([a-zA-Z0-9_\\-\\.]+)@([a-z]+)[\\.]([a-z]{2,3})')\n",
    "\n",
    "matches = p.finditer(str1)\n",
    "for match in matches:\n",
    "    print(match.group(1))"
   ]
  },
  {
   "cell_type": "code",
   "execution_count": 103,
   "id": "87496519",
   "metadata": {},
   "outputs": [
    {
     "name": "stdout",
     "output_type": "stream",
     "text": [
      "gmail\n",
      "gmail\n",
      "gmail\n",
      "gmail\n",
      "gmx\n"
     ]
    }
   ],
   "source": [
    "p = re.compile(r'([a-zA-Z0-9_\\-\\.]+)@([a-z]+)[\\.]([a-z]{2,3})')\n",
    "\n",
    "matches = p.finditer(str1)\n",
    "for match in matches:\n",
    "    print(match.group(2))"
   ]
  },
  {
   "cell_type": "code",
   "execution_count": 104,
   "id": "accf091f",
   "metadata": {},
   "outputs": [
    {
     "name": "stdout",
     "output_type": "stream",
     "text": [
      "com\n",
      "com\n",
      "com\n",
      "com\n",
      "de\n"
     ]
    }
   ],
   "source": [
    "p = re.compile(r'([a-zA-Z0-9_\\-\\.]+)@([a-z]+)[\\.]([a-z]{2,3})')\n",
    "\n",
    "matches = p.finditer(str1)\n",
    "for match in matches:\n",
    "    print(match.group(3))"
   ]
  },
  {
   "cell_type": "code",
   "execution_count": 119,
   "id": "480a7c42",
   "metadata": {},
   "outputs": [
    {
     "name": "stdout",
     "output_type": "stream",
     "text": [
      "ds@gmail\n"
     ]
    }
   ],
   "source": [
    "# importing required libraries\n",
    "import re\n",
    "\n",
    "# re.search(pattern, string)\n",
    "# Let say you want to find the email address from plain text string\n",
    "\n",
    "# Try to figure out using the above knowledge\n",
    "# Can we extract the complete email address, using the following pattern \n",
    "# (1 or more word characters, @ sign, and then again 1 or more word characters)\n",
    "match = re.search(r'\\w+@\\w+', 'email example arif.ds@gmail.com again some text here')\n",
    "\n",
    "\n",
    "# print the matched pattern using its group() attribute\n",
    "print(match.group())\n",
    "\n",
    "\n",
    "# it shows that we can't extract the complete email address this way, for example, it stops searching at . character\n",
    "# as it is not a word character"
   ]
  },
  {
   "cell_type": "markdown",
   "id": "f7cec2b6",
   "metadata": {},
   "source": [
    "#### We can make use of `[]` to accomplish this task, as we want to extract not only word characters but set of word characters and some other characters."
   ]
  },
  {
   "cell_type": "code",
   "execution_count": 120,
   "id": "cb7a7798",
   "metadata": {},
   "outputs": [
    {
     "name": "stdout",
     "output_type": "stream",
     "text": [
      "arif.ds@gmail.com\n"
     ]
    }
   ],
   "source": [
    "# importing required libraries\n",
    "import re\n",
    "\n",
    "# re.search(pattern, string)\n",
    "# Let say you want to find the email address from plain text string\n",
    "\n",
    "# Can we extract the complete email address, using the following pattern \n",
    "# [1 or more word characters and a .] @ sign, [1 or more word characters and a .]\n",
    "\n",
    "# here . is not a regular expression but just a simple dot or (period sign)\n",
    "# + character will be used outside the []\n",
    "match = re.search(r'[\\w.]+@[\\w.]+', 'email example arif.ds@gmail.com again some text here')\n",
    "\n",
    "\n",
    "# print the matched pattern using its group() attribute\n",
    "print(match.group())\n"
   ]
  },
  {
   "cell_type": "markdown",
   "id": "5c5c9518",
   "metadata": {},
   "source": [
    "#### Here the problem with this pattern is, it will also include the . if it occurs before the email address. Because in sqaure brackets, order doesn't matter, it is just a set of characters."
   ]
  },
  {
   "cell_type": "code",
   "execution_count": null,
   "id": "a5636354",
   "metadata": {},
   "outputs": [],
   "source": [
    "# importing required libraries\n",
    "import re\n",
    "\n",
    "# re.search(pattern, string)\n",
    "# Let say you want to find the email address from plain text string\n",
    "\n",
    "# Can we extract the complete email address, using the following pattern \n",
    "# [1 or more word characters and a .] @ sign, [1 or more word characters and a .]\n",
    "\n",
    "# here . is not a regular expression but just a simple dot or (period sign)\n",
    "# + character will be used outside the []\n",
    "\n",
    "\n",
    "# there is a . symbol before the email as .arif.ds@gmail.com\n",
    "match = re.search(r'[\\w.]+@[\\w.]+', 'email example .arif.ds@gmail.com again some text here')\n",
    "\n",
    "\n",
    "# print the matched pattern using its group() attribute\n",
    "print(match.group())"
   ]
  },
  {
   "cell_type": "markdown",
   "id": "05460668",
   "metadata": {},
   "source": [
    "#### This issue can be resolved using another `\\w` before the square brackets, which tells that pattern can't contain a . symbol at the beginning"
   ]
  },
  {
   "cell_type": "code",
   "execution_count": null,
   "id": "fc9b5228",
   "metadata": {},
   "outputs": [],
   "source": [
    "# importing required libraries\n",
    "import re\n",
    "\n",
    "# re.search(pattern, string)\n",
    "# Let say you want to find the email address from plain text string\n",
    "\n",
    "# Can we extract the complete email address, using the following pattern \n",
    "# [1 or more word characters and a .] @ sign, [1 or more word characters and a .]\n",
    "\n",
    "# here . is not a regular expression but just a simple dot or (period sign)\n",
    "# + character will be used outside the []\n",
    "\n",
    "\n",
    "# there is a . symbol before the email as .arif.ds@gmail.com\n",
    "# put another \\w before []\n",
    "match = re.search(r'\\w[\\w.]+@[\\w.]+', 'email example .arif.ds@gmail.com again some text here')\n",
    "\n",
    "\n",
    "# print the matched pattern using its group() attribute\n",
    "print(match.group())"
   ]
  },
  {
   "cell_type": "code",
   "execution_count": null,
   "id": "83f58b82",
   "metadata": {},
   "outputs": [],
   "source": []
  },
  {
   "cell_type": "code",
   "execution_count": null,
   "id": "9a0448f1",
   "metadata": {},
   "outputs": [],
   "source": []
  },
  {
   "cell_type": "code",
   "execution_count": null,
   "id": "1897642b",
   "metadata": {},
   "outputs": [],
   "source": []
  },
  {
   "cell_type": "code",
   "execution_count": null,
   "id": "1576eaa9",
   "metadata": {},
   "outputs": [],
   "source": []
  },
  {
   "cell_type": "markdown",
   "id": "f52102e4",
   "metadata": {},
   "source": [
    "### c. Username and Hostname Example"
   ]
  },
  {
   "cell_type": "markdown",
   "id": "dceae17d",
   "metadata": {},
   "source": [
    "### Use of () (parentheses) in Regex"
   ]
  },
  {
   "cell_type": "markdown",
   "id": "00b31d89",
   "metadata": {},
   "source": [
    "#### Let say we don't want to extract the complete email address but username and hostname separately. This can be done using `()` as parentheses are used for `string extraction`.\n",
    "\n",
    "- Parentheses are not changing what the pattern is going to match, they are just mark ups that show, these are the parts we care about."
   ]
  },
  {
   "cell_type": "code",
   "execution_count": null,
   "id": "a57d1e02",
   "metadata": {},
   "outputs": [],
   "source": [
    "# importing required libraries\n",
    "import re\n",
    "\n",
    "# re.search(pattern, string)\n",
    "# Let say you want to extract the username and hostname separately from the email address in a plain text string\n",
    "\n",
    "# Can we extract the complete email address, using the following pattern \n",
    "# [1 or more word characters and a .] @ sign, [1 or more word characters and a .]\n",
    "# here . is not a regular expression but just a simple dot or (period sign)\n",
    "# + character will be used outside the []\n",
    "\n",
    "# to extract the username and hostname separately, () can be used before square brackets\n",
    "match = re.search(r'([\\w.]+)@([\\w.]+)', 'email example arif.ds@gmail.com again some text here')\n",
    "\n",
    "\n",
    "# print the matched pattern using its group() attribute\n",
    "\n",
    "# group() attribute still print the complete email address\n",
    "print(\"Email Address: \", match.group())\n",
    "\n",
    "\n",
    "# to print the username and hostname separately, passed arguments to group attribute\n",
    "print(\"Userame: \", match.group(1))     # 1 refers to the first set of parentheses (leftmost)\n",
    "print(\"Hostame: \", match.group(2))     # 2 refers to the second set of parentheses"
   ]
  },
  {
   "cell_type": "code",
   "execution_count": null,
   "id": "cd292012",
   "metadata": {},
   "outputs": [],
   "source": []
  },
  {
   "cell_type": "code",
   "execution_count": null,
   "id": "c56c8b47",
   "metadata": {},
   "outputs": [],
   "source": []
  },
  {
   "cell_type": "code",
   "execution_count": null,
   "id": "0952400c",
   "metadata": {},
   "outputs": [],
   "source": []
  },
  {
   "cell_type": "markdown",
   "id": "09cb34ba",
   "metadata": {},
   "source": [
    "## 10. Use of `findall()` method in Regex"
   ]
  },
  {
   "cell_type": "markdown",
   "id": "8373eeaa",
   "metadata": {},
   "source": [
    "#### Let say there is more than one email records are present in the text, and you want to extract them all. `re.findall()` method can be used for this purpose"
   ]
  },
  {
   "cell_type": "code",
   "execution_count": null,
   "id": "17e54d16",
   "metadata": {},
   "outputs": [],
   "source": [
    "# importing required libraries\n",
    "import re\n",
    "\n",
    "# defining a string\n",
    "str1 = 'email example arif.ds@gmail.com again some text here idrees@fcit.edu.pk'\n",
    "\n",
    "\n",
    "# Let say you want to extract the email addresses in a plain text string\n",
    "# for multiple email records\n",
    "\n",
    "\n",
    "# pattern include [1 or more word characters and a .] @ sign, [1 or more word characters and a .]\n",
    "# here . is not a regular expression but just a simple dot or (period sign)\n",
    "\n",
    "\n",
    "# using re.findall method for extracting multiple records\n",
    "match = re.findall(r'[\\w.]+@[\\w.]+', str1)\n",
    "\n",
    "\n",
    "# print the matched pattern\n",
    "print(\"Found Email Addresses: \", match)"
   ]
  },
  {
   "cell_type": "markdown",
   "id": "63cf67a7",
   "metadata": {},
   "source": [
    "#### To extract username and hostname separately"
   ]
  },
  {
   "cell_type": "code",
   "execution_count": null,
   "id": "b714a1c6",
   "metadata": {},
   "outputs": [],
   "source": [
    "# importing required libraries\n",
    "import re\n",
    "\n",
    "# defining a string\n",
    "str1 = 'email example arif.ds@gmail.com again some text here idrees@fcit.edu.pk'\n",
    "\n",
    "\n",
    "# Let say you want to extract the username and hostname separately from the email address in a plain text string\n",
    "# for multiple email records\n",
    "\n",
    "\n",
    "# pattern include [1 or more word characters and a .] @ sign, [1 or more word characters and a .]\n",
    "# here . is not a regular expression but just a simple dot or (period sign)\n",
    "# to extract the username and hostname separately, () can be used before square brackets\n",
    "\n",
    "# using re.findall method for extracting multiple records\n",
    "# when use parenthese, it returns tuple values having username and hostname separately for each record\n",
    "match = re.findall(r'([\\w.]+)@([\\w.]+)', str1)\n",
    "\n",
    "\n",
    "# print the matched pattern\n",
    "print(\"Username and Hostname: \", match)"
   ]
  },
  {
   "cell_type": "code",
   "execution_count": null,
   "id": "c23b62aa",
   "metadata": {},
   "outputs": [],
   "source": []
  },
  {
   "cell_type": "code",
   "execution_count": null,
   "id": "77c5f9ef",
   "metadata": {},
   "outputs": [],
   "source": []
  },
  {
   "cell_type": "code",
   "execution_count": null,
   "id": "ee4b2933",
   "metadata": {},
   "outputs": [],
   "source": []
  },
  {
   "cell_type": "markdown",
   "id": "7c45033b",
   "metadata": {},
   "source": [
    "### Perform Non-Greedy Matching using `?` in Regex\n",
    "- The repeat characters (`*` and `+`) perform greedy search to match the largest possible string. Howver, Not all regular expression repeat codes are greedy. For instance `?` perform non-greedy search.\n",
    "\n",
    "\n",
    "        - *? (0 or more characters but non-greedy)\n",
    "        - +? (1 or more characters but non-greedy)\n",
    "        \n",
    "        \n",
    "        \n",
    "- `?` is also used as `optional` operator. For example, to match Favorite or Favourite, you can use `Favou?rite`, which means `u` is optional in this case, it may or many not occur."
   ]
  },
  {
   "cell_type": "code",
   "execution_count": null,
   "id": "4a7539b7",
   "metadata": {},
   "outputs": [],
   "source": []
  },
  {
   "cell_type": "markdown",
   "id": "dff38ed2",
   "metadata": {},
   "source": [
    "## 11. Why use Regex?"
   ]
  },
  {
   "cell_type": "markdown",
   "id": "983cddb7",
   "metadata": {},
   "source": [
    "### Comparison between non-regex and regex "
   ]
  },
  {
   "cell_type": "markdown",
   "id": "0bee5bcd",
   "metadata": {},
   "source": [
    "#### Let's take the previous email example again and try to extract the hostname using non-regex and regex syntax. First try with non-regex part.\n",
    "\n",
    "#### <center> `From arif.ds@pucit.edu.pk Sat Dec 19 09:14:16 2021` </center>\n",
    "\n",
    "\n",
    "- We want to extract hostname from this string.\n",
    "\n",
    "<img align=\"center\" width=\"550\" height=\"550\"  src=\"images/hostname1.png\"  >"
   ]
  },
  {
   "cell_type": "markdown",
   "id": "dd637732",
   "metadata": {},
   "source": [
    "#### using non-regex method"
   ]
  },
  {
   "cell_type": "code",
   "execution_count": null,
   "id": "fdc2f72e",
   "metadata": {},
   "outputs": [],
   "source": [
    "# we are goint to extract hostname - using find and string slicing\n",
    "\n",
    "# defining a string or text to parse\n",
    "text = 'From arif.ds@pucit.edu.pk Sat Dec 19 09:14:16 2021'\n",
    "\n",
    "# getting the position of at symbol in the text using find() method\n",
    "atsymbol = text.find('@')\n",
    "#print(atsymbol)\n",
    "\n",
    "# getting the position of witespace in the text using find() method\n",
    "space = text.find(' ', atsymbol)\n",
    "#print(space)\n",
    "\n",
    "# perform slicing after the next position from @ symbol till the whitespace and print the found string\n",
    "host = text[atsymbol+1 : space]\n",
    "print(\"Hostname: \", host)"
   ]
  },
  {
   "cell_type": "markdown",
   "id": "4f32212f",
   "metadata": {},
   "source": [
    "#### Using regex "
   ]
  },
  {
   "cell_type": "code",
   "execution_count": null,
   "id": "a5040e6e",
   "metadata": {},
   "outputs": [],
   "source": [
    "# The above task can be accomplished in one step using regex\n",
    "# importing required libraries\n",
    "import re\n",
    "\n",
    "# defining a string\n",
    "text = 'From arif.ds@pucit.edu.pk Sat Dec 19 09:14:16 2021'\n",
    "\n",
    "# pattern includes search for @ symbol, and then match any (*) non-blank [^ ] character (match untill whitspace occurs)\n",
    "# Here ^ symbol is used for negation purposes.\n",
    "# using parentheses which tells the part we care about\n",
    "hostname = re.findall('@([^ ]*)', text)\n",
    "\n",
    "# print extracted hostname\n",
    "print(\"Hostname: \", host)"
   ]
  },
  {
   "cell_type": "markdown",
   "id": "dc5cb194",
   "metadata": {},
   "source": [
    "#### Even more better version of regex, if we also want to include line in our pattern"
   ]
  },
  {
   "cell_type": "code",
   "execution_count": 17,
   "id": "17078daa",
   "metadata": {},
   "outputs": [
    {
     "ename": "NameError",
     "evalue": "name 'host' is not defined",
     "output_type": "error",
     "traceback": [
      "\u001b[0;31m---------------------------------------------------------------------------\u001b[0m",
      "\u001b[0;31mNameError\u001b[0m                                 Traceback (most recent call last)",
      "\u001b[0;32m/var/folders/1t/g3ylw8h50cjdqmk5d6jh1qmm0000gn/T/ipykernel_22713/1734225696.py\u001b[0m in \u001b[0;36m<module>\u001b[0;34m\u001b[0m\n\u001b[1;32m     11\u001b[0m \u001b[0;34m\u001b[0m\u001b[0m\n\u001b[1;32m     12\u001b[0m \u001b[0;31m# print extracted hostname\u001b[0m\u001b[0;34m\u001b[0m\u001b[0;34m\u001b[0m\u001b[0;34m\u001b[0m\u001b[0m\n\u001b[0;32m---> 13\u001b[0;31m \u001b[0mprint\u001b[0m\u001b[0;34m(\u001b[0m\u001b[0;34m\"Hostname: \"\u001b[0m\u001b[0;34m,\u001b[0m \u001b[0mhost\u001b[0m\u001b[0;34m)\u001b[0m\u001b[0;34m\u001b[0m\u001b[0;34m\u001b[0m\u001b[0m\n\u001b[0m",
      "\u001b[0;31mNameError\u001b[0m: name 'host' is not defined"
     ]
    }
   ],
   "source": [
    "# importing required libraries\n",
    "import re\n",
    "\n",
    "# defining a string\n",
    "text = 'From arif.ds@pucit.edu.pk Sat Dec 19 09:14:16 2021'\n",
    "\n",
    "# pattern includes search in a text Starts with From (^From) then a space and then match any number of character,\n",
    "# untill we see @ symbol, and then match any (*) non-blank [^ ] character (match untill whitspace occurs)\n",
    "# using parentheses which tells the part we care about\n",
    "hostname = re.findall('^From .*@([^ ]*)', text)\n",
    "\n",
    "# print extracted hostname\n",
    "print(\"Hostname: \", host)"
   ]
  },
  {
   "cell_type": "code",
   "execution_count": null,
   "id": "52f17c03",
   "metadata": {},
   "outputs": [],
   "source": []
  },
  {
   "cell_type": "code",
   "execution_count": null,
   "id": "f167dc4c",
   "metadata": {},
   "outputs": [],
   "source": []
  },
  {
   "cell_type": "code",
   "execution_count": null,
   "id": "5df393dc",
   "metadata": {},
   "outputs": [],
   "source": []
  },
  {
   "cell_type": "code",
   "execution_count": null,
   "id": "6497d07d",
   "metadata": {},
   "outputs": [],
   "source": []
  },
  {
   "cell_type": "markdown",
   "id": "6f1e5643",
   "metadata": {},
   "source": [
    "### 12. Reading from a File"
   ]
  },
  {
   "cell_type": "code",
   "execution_count": null,
   "id": "1287f8ae",
   "metadata": {},
   "outputs": [],
   "source": [
    "# importing required libraries\n",
    "import re\n",
    "\n",
    "\n",
    "# Let say you want to extract the multiple email records from a file\n",
    "# using re.findall method for extracting multiple records\n",
    "\n",
    "# open a file\n",
    "with open('datasets/f1.txt') as f:\n",
    "    \n",
    "    # pattern include [1 or more word characters and a .] @ sign, [1 or more word characters and a .]\n",
    "    # here . is not a regular expression but just a simple dot or (period sign)\n",
    "    match = re.findall(r'[\\w.]+@[\\w.]+', f.read())        # pass f.read() as argument\n",
    "\n",
    "\n",
    "# print the matched pattern\n",
    "print(\"Found Email Addresses: \", match)"
   ]
  },
  {
   "cell_type": "code",
   "execution_count": null,
   "id": "bca67982",
   "metadata": {},
   "outputs": [],
   "source": []
  },
  {
   "cell_type": "code",
   "execution_count": null,
   "id": "a981ddbe",
   "metadata": {},
   "outputs": [],
   "source": []
  },
  {
   "cell_type": "code",
   "execution_count": null,
   "id": "b97e288c",
   "metadata": {},
   "outputs": [],
   "source": []
  },
  {
   "cell_type": "code",
   "execution_count": null,
   "id": "d1f834da",
   "metadata": {},
   "outputs": [],
   "source": []
  },
  {
   "cell_type": "markdown",
   "id": "a453567c",
   "metadata": {},
   "source": [
    "## 13. Some more Regex Examples"
   ]
  },
  {
   "cell_type": "markdown",
   "id": "75f52b30",
   "metadata": {},
   "source": [
    "### Processing file data"
   ]
  },
  {
   "cell_type": "code",
   "execution_count": 127,
   "id": "c58af9d1",
   "metadata": {},
   "outputs": [
    {
     "name": "stdout",
     "output_type": "stream",
     "text": [
      "Maximum: 0.999\n"
     ]
    }
   ],
   "source": [
    "# importing required libraries\n",
    "import re\n",
    "\n",
    "# open a file\n",
    "hand = open('datasets/f2.txt')\n",
    "\n",
    "# defining an empty list\n",
    "numlist = list()\n",
    "\n",
    "# iterating through file\n",
    "for line in hand:\n",
    "    \n",
    "    # pattern includes X-spam-count, a space and then a set of one or more digits (0-9) and . symbol  which we care about()\n",
    "    stuff = re.findall('^X-spam-count: ([0-9.]+)', line)\n",
    "    if len(stuff) != 1 :  continue    \n",
    "    num = float(stuff[0])\n",
    "    numlist.append(num)          # appending in list\n",
    "print('Maximum:', max(numlist))  # printing the maximum of all\n"
   ]
  },
  {
   "cell_type": "code",
   "execution_count": null,
   "id": "b9d8cb4f",
   "metadata": {},
   "outputs": [],
   "source": []
  },
  {
   "cell_type": "code",
   "execution_count": null,
   "id": "f4c09bba",
   "metadata": {},
   "outputs": [],
   "source": []
  },
  {
   "cell_type": "code",
   "execution_count": null,
   "id": "3bb3349b",
   "metadata": {},
   "outputs": [],
   "source": []
  },
  {
   "cell_type": "code",
   "execution_count": null,
   "id": "9bb8e799",
   "metadata": {},
   "outputs": [],
   "source": []
  },
  {
   "cell_type": "code",
   "execution_count": null,
   "id": "8c562dcb",
   "metadata": {},
   "outputs": [],
   "source": []
  },
  {
   "cell_type": "markdown",
   "id": "95b619bc",
   "metadata": {},
   "source": [
    "## Tool for Regex: https://regex101.com/\n",
    "\n",
    "- Here is a simple tool, that you can use to check whether your regex pattern is correct or not."
   ]
  },
  {
   "cell_type": "code",
   "execution_count": null,
   "id": "2413e07d",
   "metadata": {},
   "outputs": [],
   "source": []
  },
  {
   "cell_type": "code",
   "execution_count": null,
   "id": "c8be3a62",
   "metadata": {},
   "outputs": [],
   "source": []
  },
  {
   "cell_type": "markdown",
   "id": "d0efddc7",
   "metadata": {},
   "source": [
    "## Check your Concepts\n",
    "Try answering the following questions to test your understanding of the topics covered in this notebook:\n",
    "\n",
    "1. Can you write regex for URLs?\n",
    "2. Can you write regex for IPs?\n",
    "3. Can you write regex for Phone numbers?\n",
    "4. Can you write regex for Addresses?"
   ]
  },
  {
   "cell_type": "code",
   "execution_count": null,
   "id": "f44a9ac1",
   "metadata": {},
   "outputs": [],
   "source": []
  },
  {
   "cell_type": "markdown",
   "id": "04fb96bd",
   "metadata": {},
   "source": [
    "## Learning agenda of this notebook\n",
    "\n",
    "1. Overview of Regular Expressions (Recap)\n",
    "2. Modifying Strings\n",
    "    1. `Split()` method in Regex\n",
    "    2. Limit the number of splits\n",
    "    3. Regex to Split string with multiple delimiters\n",
    "    4. Split strings by delimiters and specific word\n",
    "    5. Regex split a string and keep the separators\n",
    "3. Replace Pattern in a string using re.sub() method\n",
    "    1. `re.sub()` method in Regex\n",
    "    2. Regex example to replace all whitespace with an underscore\n",
    "    3. Regex to remove whitespaces from a string\n",
    "    4. Regex to remove leading Spaces from a string\n",
    "    5. Regex to remove both leading and trailing spaces"
   ]
  },
  {
   "cell_type": "code",
   "execution_count": null,
   "id": "85550d03",
   "metadata": {},
   "outputs": [],
   "source": []
  },
  {
   "cell_type": "code",
   "execution_count": null,
   "id": "26783305",
   "metadata": {},
   "outputs": [],
   "source": []
  },
  {
   "cell_type": "code",
   "execution_count": null,
   "id": "dce87948",
   "metadata": {},
   "outputs": [],
   "source": []
  },
  {
   "cell_type": "code",
   "execution_count": null,
   "id": "1f47ce75",
   "metadata": {},
   "outputs": [],
   "source": []
  },
  {
   "cell_type": "code",
   "execution_count": null,
   "id": "bf17fd81",
   "metadata": {},
   "outputs": [],
   "source": []
  },
  {
   "cell_type": "markdown",
   "id": "78e9b2f6",
   "metadata": {},
   "source": [
    "## Overview of Regular Expressions (Recap)\n",
    "- Regular expressions (called REs, or regexes, or regex patterns) are essentially a tiny, highly specialized programming language embedded inside Python and made available through the re module. \n",
    "\n",
    "\n",
    "- Using this little language, you specify the rules for the set of possible strings that you want to match; this set might contain `English sentences`, or `e-mail addresses`, or `TeX commands`, or `anything you like`. \n",
    "\n",
    "\n",
    "- You can then ask questions such as “Does this string match the pattern?”, or “Is there a match for the pattern anywhere in this string?”. You can also use REs to `modify a string` or to `split` it apart in various ways."
   ]
  },
  {
   "cell_type": "code",
   "execution_count": null,
   "id": "b0289d94",
   "metadata": {},
   "outputs": [],
   "source": []
  },
  {
   "cell_type": "code",
   "execution_count": null,
   "id": "caa7687a",
   "metadata": {},
   "outputs": [],
   "source": []
  },
  {
   "cell_type": "code",
   "execution_count": null,
   "id": "5ce6cd30",
   "metadata": {},
   "outputs": [],
   "source": []
  },
  {
   "cell_type": "code",
   "execution_count": null,
   "id": "0587759d",
   "metadata": {},
   "outputs": [],
   "source": []
  },
  {
   "cell_type": "code",
   "execution_count": null,
   "id": "f635acc6",
   "metadata": {},
   "outputs": [],
   "source": []
  },
  {
   "cell_type": "markdown",
   "id": "a58adefb",
   "metadata": {},
   "source": [
    "## 1. Modifying Strings\n",
    "- Up to this point, we’ve simply performed searches against a static string. Regular expressions are also commonly used to modify strings in various ways, using the following pattern methods:\n",
    "\n",
    "        - split(): Split the string into a list, splitting it wherever the RE matches\n",
    "        - sub(): Find all substrings where the RE matches, and replace them with a different string\n",
    "        - subn(): Does the same thing as sub(), but returns the new string and the number of replacements"
   ]
  },
  {
   "cell_type": "markdown",
   "id": "18848238",
   "metadata": {},
   "source": [
    "### `Split()` method in Regex\n",
    "- The `split()` method of a pattern splits a string apart wherever the RE matches, returning a list of the pieces. It’s similar to the split() method of strings but provides much more generality in the delimiters that you can split by; string split() only supports splitting by whitespace or by a fixed string.\n",
    "\n",
    "#### <center> re.split(pattern, string, maxsplit=0) </center>\n",
    "\n",
    "        - pattern: the regular expression pattern used for splitting the target string.\n",
    "        - string: The variable pointing to the target string (i.e., the string we want to split).\n",
    "        - maxsplit: The number of splits you wanted to perform. If maxsplit is 2, at most two splits occur, \n",
    "            and the remainder of the string is returned as the final element of the list.\n",
    "    \n",
    "    \n",
    "    \n",
    "- It split the target string as per the regular expression pattern, and the matches are returned in the form of a list.\n",
    "\n",
    "\n",
    "- If the specified pattern is not found inside the target string, then the string is not split in any way, but the split method still generates a list since this is the way it’s designed. However, the list contains just one element, the target string itself."
   ]
  },
  {
   "cell_type": "code",
   "execution_count": null,
   "id": "319206ab",
   "metadata": {},
   "outputs": [],
   "source": [
    "# importing required libraries\n",
    "import re\n",
    "\n",
    "# defining string\n",
    "target_string = \"My name is Arif Butt and my lucky numbers are 12 45 78\"\n",
    "\n",
    "\n",
    "# using re.split() method\n",
    "# defining pattern that splits the string on the occurence of one or more white-spaces\n",
    "word_list = re.split(r\"\\s+\", target_string)\n",
    "\n",
    "# print the list\n",
    "print(word_list)"
   ]
  },
  {
   "cell_type": "markdown",
   "id": "914f36db",
   "metadata": {},
   "source": [
    "### Limit the number of splits\n",
    "The `maxsplit` parameter of re.split() is used to define how many splits you want to perform. In simple words, if the maxsplit is 2, then two splits will be done, and the remainder of the string is returned as the final element of the list."
   ]
  },
  {
   "cell_type": "code",
   "execution_count": null,
   "id": "1f7c0446",
   "metadata": {},
   "outputs": [],
   "source": [
    "# importing required libraries\n",
    "import re\n",
    "\n",
    "# defining string\n",
    "target_string = \"12-45-78\"\n",
    "\n",
    "\n",
    "# let’s take a simple example to split a string on the occurrence of any non-digit. \n",
    "# Here we will use the \\D special sequence that matches any non-digit character.\n",
    "# Split only on the first occurrence (maxsplit is 1)\n",
    "result = re.split(r\"\\D\", target_string, maxsplit=1)\n",
    "print(result)\n",
    "\n",
    "# Split on the two occurrence, (maxsplit is 2)\n",
    "result = re.split(r\"\\D\", target_string, maxsplit=2)\n",
    "print(result)\n"
   ]
  },
  {
   "cell_type": "markdown",
   "id": "f6c871a5",
   "metadata": {},
   "source": [
    "### Regex to Split string with multiple delimiters\n",
    "- With the regex split() method, you will get more flexibility. You can specify a pattern for the delimiters where you can specify multiple delimiters, while with the string’s split() method, you could have used only a fixed character or set of characters to split a string.\n",
    "\n",
    "\n",
    "- For example, using the regular expression re.split() method, we can split the string either by the `comma` or by `space`."
   ]
  },
  {
   "cell_type": "code",
   "execution_count": null,
   "id": "16836216",
   "metadata": {},
   "outputs": [],
   "source": [
    "# importing required libraries\n",
    "import re\n",
    "\n",
    "# defining string\n",
    "target_string = \"12,45,78,85-17-89\"\n",
    "\n",
    "# splitting on the basis of 2 delimiter - and ,\n",
    "# use OR (|) operator to combine two pattern\n",
    "result = re.split(r\"-|,\", target_string)\n",
    "\n",
    "# print list\n",
    "print(result)"
   ]
  },
  {
   "cell_type": "markdown",
   "id": "5cb223a6",
   "metadata": {},
   "source": [
    "### Split strings by delimiters and specific word"
   ]
  },
  {
   "cell_type": "code",
   "execution_count": null,
   "id": "e4e46118",
   "metadata": {},
   "outputs": [],
   "source": [
    "# importing required libraries\n",
    "import re\n",
    "\n",
    "# defining string\n",
    "text = \"12, and45,78and85-17and89-97\"\n",
    "\n",
    "# split by word 'and' space, and comma\n",
    "# defined pattern includes and | set of one or more whitspaces, -\n",
    "result = re.split(r\"and|[\\s,-]+\", text)\n",
    "\n",
    "# print list\n",
    "print(result)"
   ]
  },
  {
   "cell_type": "markdown",
   "id": "89902979",
   "metadata": {},
   "source": [
    "### Regex split a string and keep the separators"
   ]
  },
  {
   "cell_type": "code",
   "execution_count": null,
   "id": "cb5a26fe",
   "metadata": {},
   "outputs": [],
   "source": [
    "# importing required libraries\n",
    "import re\n",
    "\n",
    "# defining string\n",
    "target_string = \"12-45-78\"\n",
    "\n",
    "\n",
    "# let’s take a simple example to split a string on the occurrence of any non-digit. \n",
    "# Here we will use the \\D special sequence that matches any non-digit character.\n",
    "# use parenthese to keep the separator as well\n",
    "result = re.split(r'(\\D+)', target_string)\n",
    "\n",
    "# print list\n",
    "print(result)\n"
   ]
  },
  {
   "cell_type": "code",
   "execution_count": null,
   "id": "4e84320a",
   "metadata": {},
   "outputs": [],
   "source": []
  },
  {
   "cell_type": "code",
   "execution_count": null,
   "id": "2fa5b707",
   "metadata": {},
   "outputs": [],
   "source": []
  },
  {
   "cell_type": "code",
   "execution_count": null,
   "id": "0435dc2a",
   "metadata": {},
   "outputs": [],
   "source": []
  },
  {
   "cell_type": "markdown",
   "id": "e1884896",
   "metadata": {},
   "source": [
    "## 2. Replace Pattern in a string using `re.sub()` method\n",
    "- Python regex offers `sub()` the `subn()` methods to `search` and `replace` patterns in a string. Using these methods we can replace one or more occurrences of a regex pattern in the target string with a substitute string.\n",
    "\n",
    "        - re.sub(pattern, replacement, string):\tFind and replaces all occurrences of pattern with replacement\n",
    "        \n",
    "        - re.sub(pattern, replacement, string, count=1): Find and replaces only the first occurrences of pattern \n",
    "          with replacement\n",
    "          \n",
    "        - re.sub(pattern, replacement, string, count=n)\tFind and replaces first n occurrences of pattern with \n",
    "          the replacement"
   ]
  },
  {
   "cell_type": "markdown",
   "id": "ba072294",
   "metadata": {},
   "source": [
    "### `re.sub()` method in Regex\n",
    "#### <center> re.sub(pattern, replacement, string) </center>\n",
    "\n",
    "- `pattern`: The regular expression pattern to find inside the target string.\n",
    "\n",
    "\n",
    "- `replacement`: The replacement that we are going to insert for each occurrence of a pattern. The replacement can be a string or function.\n",
    "\n",
    "\n",
    "- `string`: The variable pointing to the target string (In which we want to perform the replacement).\n",
    "\n",
    "\n",
    "- `count`: Maximum number of pattern occurrences to be replaced. The count must always be a positive integer if specified. .By default, the count is set to zero.\n",
    "\n",
    "\n",
    "- It returns the string obtained by replacing the pattern occurrences in the string with the replacement string. If the pattern isn’t found, the string is returned unchanged."
   ]
  },
  {
   "cell_type": "markdown",
   "id": "a5c567cb",
   "metadata": {},
   "source": [
    "### Regex example to replace all whitespace with an underscore"
   ]
  },
  {
   "cell_type": "code",
   "execution_count": null,
   "id": "f34b7208",
   "metadata": {},
   "outputs": [],
   "source": [
    "# importing required libraries\n",
    "import re\n",
    "\n",
    "# defining string\n",
    "target_str = \"Learning is fun with Arif Butt\"\n",
    "\n",
    "# passing whitespace character as pattern, that will be replaced with _ in the target string\n",
    "res_str = re.sub(r\"\\s\", \"_\", target_str)\n",
    "\n",
    "# Print String after replacement\n",
    "print(res_str)"
   ]
  },
  {
   "cell_type": "markdown",
   "id": "bbaaa1b7",
   "metadata": {},
   "source": [
    "### Regex to remove whitespaces from a string"
   ]
  },
  {
   "cell_type": "code",
   "execution_count": null,
   "id": "60288c16",
   "metadata": {},
   "outputs": [],
   "source": [
    "# importing required libraries\n",
    "import re\n",
    "\n",
    "# defining string\n",
    "target_str = \"Learning is fun with Arif Butt\"\n",
    "\n",
    "# using \\s+ to remove all spaces\n",
    "# + indicate 1 or more occurrence of a space\n",
    "res_str = re.sub(r\"\\s+\", \"\", target_str)\n",
    "\n",
    "# String after replacement\n",
    "print(res_str)"
   ]
  },
  {
   "cell_type": "markdown",
   "id": "0c220e65",
   "metadata": {},
   "source": [
    "### Regex to remove leading Spaces from a string"
   ]
  },
  {
   "cell_type": "code",
   "execution_count": null,
   "id": "3882ba89",
   "metadata": {},
   "outputs": [],
   "source": [
    "# importing required libraries\n",
    "import re\n",
    "\n",
    "# defining string\n",
    "target_str = \"   Learning is fun with Arif Butt\"\n",
    "\n",
    "# ^\\s+ remove only leading spaces\n",
    "# caret (^) matches only at the start of the string\n",
    "res_str = re.sub(r\"^\\s+\", \"\", target_str)\n",
    "\n",
    "# String after replacement\n",
    "print(res_str)"
   ]
  },
  {
   "cell_type": "markdown",
   "id": "55865bc9",
   "metadata": {},
   "source": [
    "### Regex to remove both leading and trailing spaces"
   ]
  },
  {
   "cell_type": "code",
   "execution_count": null,
   "id": "db6f40d1",
   "metadata": {},
   "outputs": [],
   "source": [
    "# importing required libraries\n",
    "import re\n",
    "\n",
    "# defining string\n",
    "target_str = \"   Learning is fun with Arif Butt  \\t\"\n",
    "\n",
    "# ^\\s+ remove leading spaces\n",
    "# ^\\s+$ removes trailing spaces\n",
    "# | operator to combine both patterns\n",
    "res_str = re.sub(r\"^\\s+|\\s+$\", \"\", target_str)\n",
    "\n",
    "# String after replacement\n",
    "print(res_str)"
   ]
  },
  {
   "cell_type": "code",
   "execution_count": null,
   "id": "dda31d04",
   "metadata": {},
   "outputs": [],
   "source": []
  },
  {
   "cell_type": "code",
   "execution_count": null,
   "id": "4a4cef64",
   "metadata": {},
   "outputs": [],
   "source": []
  },
  {
   "cell_type": "code",
   "execution_count": null,
   "id": "7d045434",
   "metadata": {},
   "outputs": [],
   "source": []
  },
  {
   "cell_type": "code",
   "execution_count": null,
   "id": "4e143486",
   "metadata": {},
   "outputs": [],
   "source": []
  },
  {
   "cell_type": "code",
   "execution_count": null,
   "id": "3f3c79b1",
   "metadata": {},
   "outputs": [],
   "source": []
  },
  {
   "cell_type": "code",
   "execution_count": null,
   "id": "8fa4cc5b",
   "metadata": {},
   "outputs": [],
   "source": []
  },
  {
   "cell_type": "code",
   "execution_count": null,
   "id": "670a5d56",
   "metadata": {},
   "outputs": [],
   "source": []
  },
  {
   "cell_type": "code",
   "execution_count": null,
   "id": "6804b50f",
   "metadata": {},
   "outputs": [],
   "source": []
  },
  {
   "cell_type": "code",
   "execution_count": null,
   "id": "58b66351",
   "metadata": {},
   "outputs": [],
   "source": []
  },
  {
   "cell_type": "code",
   "execution_count": null,
   "id": "fa44e008",
   "metadata": {},
   "outputs": [],
   "source": []
  },
  {
   "cell_type": "code",
   "execution_count": null,
   "id": "c9a348ed",
   "metadata": {},
   "outputs": [],
   "source": []
  },
  {
   "cell_type": "code",
   "execution_count": null,
   "id": "35e60a2d",
   "metadata": {},
   "outputs": [],
   "source": []
  },
  {
   "cell_type": "code",
   "execution_count": null,
   "id": "1df3b8a6",
   "metadata": {},
   "outputs": [],
   "source": []
  },
  {
   "cell_type": "code",
   "execution_count": null,
   "id": "4a859e2b",
   "metadata": {},
   "outputs": [],
   "source": []
  },
  {
   "cell_type": "code",
   "execution_count": null,
   "id": "88cd0fa4",
   "metadata": {},
   "outputs": [],
   "source": []
  },
  {
   "cell_type": "code",
   "execution_count": null,
   "id": "b7f2a841",
   "metadata": {},
   "outputs": [],
   "source": []
  },
  {
   "cell_type": "code",
   "execution_count": null,
   "id": "1b5cea28",
   "metadata": {},
   "outputs": [],
   "source": []
  },
  {
   "cell_type": "code",
   "execution_count": null,
   "id": "e313b824",
   "metadata": {},
   "outputs": [],
   "source": []
  },
  {
   "cell_type": "code",
   "execution_count": null,
   "id": "aff3aec2",
   "metadata": {},
   "outputs": [],
   "source": []
  },
  {
   "cell_type": "code",
   "execution_count": null,
   "id": "40607f9d",
   "metadata": {},
   "outputs": [],
   "source": []
  },
  {
   "cell_type": "code",
   "execution_count": null,
   "id": "fed5de0e",
   "metadata": {},
   "outputs": [],
   "source": []
  },
  {
   "cell_type": "code",
   "execution_count": null,
   "id": "b215d39d",
   "metadata": {},
   "outputs": [],
   "source": []
  },
  {
   "cell_type": "code",
   "execution_count": null,
   "id": "7835528a",
   "metadata": {},
   "outputs": [],
   "source": []
  },
  {
   "cell_type": "code",
   "execution_count": null,
   "id": "460890df",
   "metadata": {},
   "outputs": [],
   "source": []
  },
  {
   "cell_type": "code",
   "execution_count": null,
   "id": "d06ac2ce",
   "metadata": {},
   "outputs": [],
   "source": []
  },
  {
   "cell_type": "code",
   "execution_count": null,
   "id": "9b35e815",
   "metadata": {},
   "outputs": [],
   "source": []
  },
  {
   "cell_type": "code",
   "execution_count": null,
   "id": "d7341020",
   "metadata": {},
   "outputs": [],
   "source": []
  },
  {
   "cell_type": "markdown",
   "id": "dad11189",
   "metadata": {},
   "source": [
    "abcdefghijklmnopqurtuvwxyz\n",
    "ABCDEFGHIJKLMNOPQRSTUVWXYZ\n",
    "1234567890\n",
    "\n",
    "Ha HaHa\n",
    "\n",
    "MetaCharacters (Need to be escaped):\n",
    ".[{()\\^$|?*+\n",
    "\n",
    "coreyms.com\n",
    "\n",
    "321-555-4321\n",
    "123.555.1234\n",
    "\n",
    "cat\n",
    "mat\n",
    "bat\n",
    "\n",
    "Mr. Schafer\n",
    "Mr Smith\n",
    "Ms Davis\n",
    "Mrs. Robinson\n",
    "Mr. T"
   ]
  },
  {
   "cell_type": "markdown",
   "id": "40005fae",
   "metadata": {},
   "source": [
    ".       - Any Character Except New Line\n",
    "\\d      - Digit (0-9)\n",
    "\\D      - Not a Digit (0-9)\n",
    "\\w      - Word Character (a-z, A-Z, 0-9, _)\n",
    "\\W      - Not a Word Character\n",
    "\\s      - Whitespace (space, tab, newline)\n",
    "\\S      - Not Whitespace (space, tab, newline)\n",
    "\n",
    "\\b      - Word Boundary\n",
    "\\B      - Not a Word Boundary\n",
    "^       - Beginning of a String\n",
    "$       - End of a String\n",
    "\n",
    "[]      - Matches Characters in brackets\n",
    "[^ ]    - Matches Characters NOT in brackets\n",
    "|       - Either Or\n",
    "( )     - Group\n",
    "\n",
    "Quantifiers:\n",
    "*       - 0 or More\n",
    "+       - 1 or More\n",
    "?       - 0 or One\n",
    "{3}     - Exact Number\n",
    "{3,4}   - Range of Numbers (Minimum, Maximum)\n",
    "\n",
    "\n",
    "#### Sample Regexs ####\n",
    "\n",
    "[a-zA-Z0-9_.+-]+@[a-zA-Z0-9-]+\\.[a-zA-Z0-9-.]+"
   ]
  },
  {
   "cell_type": "markdown",
   "id": "a8c5cbd6",
   "metadata": {},
   "source": [
    "Dave Martin\n",
    "615-555-7164\n",
    "173 Main St., Springfield RI 55924\n",
    "davemartin@bogusemail.com\n",
    "\n",
    "Charles Harris\n",
    "800-555-5669\n",
    "969 High St., Atlantis VA 34075\n",
    "charlesharris@bogusemail.com\n",
    "\n",
    "Eric Williams\n",
    "560-555-5153\n",
    "806 1st St., Faketown AK 86847\n",
    "laurawilliams@bogusemail.com\n",
    "\n",
    "Corey Jefferson\n",
    "900-555-9340\n",
    "826 Elm St., Epicburg NE 10671\n",
    "coreyjefferson@bogusemail.com\n",
    "\n",
    "Jennifer Martin-White\n",
    "714-555-7405\n",
    "212 Cedar St., Sunnydale CT 74983\n",
    "jenniferwhite@bogusemail.com\n",
    "\n",
    "Erick Davis\n",
    "800-555-6771\n",
    "519 Washington St., Olympus TN 32425\n",
    "tomdavis@bogusemail.com\n",
    "\n",
    "Neil Patterson\n",
    "783-555-4799\n",
    "625 Oak St., Dawnstar IL 61914\n",
    "neilpatterson@bogusemail.com\n",
    "\n",
    "Laura Jefferson\n",
    "516-555-4615\n",
    "890 Main St., Pythonville LA 29947\n",
    "laurajefferson@bogusemail.com\n",
    "\n",
    "Maria Johnson\n",
    "127-555-1867\n",
    "884 High St., Braavos‎ ME 43597\n",
    "mariajohnson@bogusemail.com\n",
    "\n",
    "Michael Arnold\n",
    "608-555-4938\n",
    "249 Elm St., Quahog OR 90938\n",
    "michaelarnold@bogusemail.com\n",
    "\n",
    "Michael Smith\n",
    "568-555-6051\n",
    "619 Park St., Winterfell VA 99000\n",
    "michaelsmith@bogusemail.com\n",
    "\n",
    "Erik Stuart\n",
    "292-555-1875\n",
    "220 Cedar St., Lakeview NY 87282\n",
    "robertstuart@bogusemail.com\n",
    "\n",
    "Laura Martin\n",
    "900-555-3205\n",
    "391 High St., Smalltown WY 28362\n",
    "lauramartin@bogusemail.com\n",
    "\n",
    "Barbara Martin\n",
    "614-555-1166\n",
    "121 Hill St., Braavos‎ UT 92474\n",
    "barbaramartin@bogusemail.com\n",
    "\n",
    "Linda Jackson\n",
    "530-555-2676\n",
    "433 Elm St., Westworld TX 61967\n",
    "lindajackson@bogusemail.com\n",
    "\n",
    "Eric Miller\n",
    "470-555-2750\n",
    "838 Main St., Balmora MT 56526\n",
    "stevemiller@bogusemail.com\n",
    "\n",
    "Dave Arnold\n",
    "800-555-6089\n",
    "732 High St., Valyria KY 97152\n",
    "davearnold@bogusemail.com\n",
    "\n",
    "Jennifer Jacobs\n",
    "880-555-8319\n",
    "217 High St., Old-town IA 82767\n",
    "jenniferjacobs@bogusemail.com\n",
    "\n",
    "Neil Wilson\n",
    "777-555-8378\n",
    "191 Main St., Mordor IL 72160\n",
    "neilwilson@bogusemail.com\n",
    "\n",
    "Kurt Jackson\n",
    "998-555-7385\n",
    "607 Washington St., Blackwater NH 97183\n",
    "kurtjackson@bogusemail.com\n",
    "\n",
    "Mary Jacobs\n",
    "800-555-7100\n",
    "478 Oak St., Bedrock IA 58176\n",
    "maryjacobs@bogusemail.com\n",
    "\n",
    "Michael White\n",
    "903-555-8277\n",
    "906 Elm St., Mordor TX 89212\n",
    "michaelwhite@bogusemail.com\n",
    "\n",
    "Jennifer Jenkins\n",
    "196-555-5674\n",
    "949 Main St., Smalltown SC 96962\n",
    "jenniferjenkins@bogusemail.com\n",
    "\n",
    "Sam Wright\n",
    "900-555-5118\n",
    "835 Pearl St., Smalltown ND 77737\n",
    "samwright@bogusemail.com\n",
    "\n",
    "John Davis\n",
    "905-555-1630\n",
    "451 Lake St., Bedrock GA 34615\n",
    "johndavis@bogusemail.com\n",
    "\n",
    "Eric Davis\n",
    "203-555-3475\n",
    "419 Lake St., Balmora OR 30826\n",
    "neildavis@bogusemail.com\n",
    "\n",
    "Laura Jackson\n",
    "884-555-8444\n",
    "443 Maple St., Quahog MS 29348\n",
    "laurajackson@bogusemail.com\n",
    "\n",
    "John Williams\n",
    "904-555-8559\n",
    "756 Hill St., Valyria KY 94854\n",
    "johnwilliams@bogusemail.com\n",
    "\n",
    "Michael Martin\n",
    "889-555-7393\n",
    "216 High St., Olympus NV 21888\n",
    "michaelmartin@bogusemail.com\n",
    "\n",
    "Maggie Brown\n",
    "195-555-2405\n",
    "806 Lake St., Lakeview MD 59348\n",
    "maggiebrown@bogusemail.com\n",
    "\n",
    "Erik Wilson\n",
    "321-555-9053\n",
    "354 Hill St., Mordor FL 74122\n",
    "kurtwilson@bogusemail.com\n",
    "\n",
    "Elizabeth Arnold\n",
    "133-555-1711\n",
    "805 Maple St., Winterfell NV 99431\n",
    "elizabetharnold@bogusemail.com\n",
    "\n",
    "Jane Martin\n",
    "900-555-5428\n",
    "418 Park St., Metropolis ID 16576\n",
    "janemartin@bogusemail.com\n",
    "\n",
    "Travis Johnson\n",
    "760-555-7147\n",
    "749 Washington St., Braavos‎ SD 25668\n",
    "travisjohnson@bogusemail.com\n",
    "\n",
    "Laura Jefferson\n",
    "391-555-6621\n",
    "122 High St., Metropolis ME 29540\n",
    "laurajefferson@bogusemail.com\n",
    "\n",
    "Tom Williams\n",
    "932-555-7724\n",
    "610 High St., Old-town FL 60758\n",
    "tomwilliams@bogusemail.com\n",
    "\n",
    "Jennifer Taylor\n",
    "609-555-7908\n",
    "332 Main St., Pythonville OH 78172\n",
    "jennifertaylor@bogusemail.com\n",
    "\n",
    "Erick Wright\n",
    "800-555-8810\n",
    "858 Hill St., Blackwater NC 79714\n",
    "jenniferwright@bogusemail.com\n",
    "\n",
    "Steve Doe\n",
    "149-555-7657\n",
    "441 Elm St., Atlantis MS 87195\n",
    "stevedoe@bogusemail.com\n",
    "\n",
    "Kurt Davis\n",
    "130-555-9709\n",
    "404 Oak St., Atlantis ND 85386\n",
    "kurtdavis@bogusemail.com\n",
    "\n",
    "Corey Harris\n",
    "143-555-9295\n",
    "286 Pearl St., Vice City TX 57112\n",
    "coreyharris@bogusemail.com\n",
    "\n",
    "Nicole Taylor\n",
    "903-555-9878\n",
    "465 Hill St., Old-town LA 64102\n",
    "nicoletaylor@bogusemail.com\n",
    "\n",
    "Elizabeth Davis\n",
    "574-555-3194\n",
    "151 Lake St., Eerie SD 17880\n",
    "elizabethdavis@bogusemail.com\n",
    "\n",
    "Maggie Jenkins\n",
    "496-555-7533\n",
    "504 Lake St., Gotham PA 46692\n",
    "maggiejenkins@bogusemail.com\n",
    "\n",
    "Linda Davis\n",
    "210-555-3757\n",
    "201 Pine St., Vice City AR 78455\n",
    "lindadavis@bogusemail.com\n",
    "\n",
    "Dave Moore\n",
    "900-555-9598\n",
    "251 Pine St., Old-town OK 29087\n",
    "davemoore@bogusemail.com\n",
    "\n",
    "Linda Jenkins\n",
    "866-555-9844\n",
    "117 High St., Bedrock NE 11899\n",
    "lindajenkins@bogusemail.com\n",
    "\n",
    "Eric White\n",
    "669-555-7159\n",
    "650 Oak St., Smalltown TN 43281\n",
    "samwhite@bogusemail.com\n",
    "\n",
    "Laura Robinson\n",
    "152-555-7417\n",
    "377 Pine St., Valyria NC 78036\n",
    "laurarobinson@bogusemail.com\n",
    "\n",
    "Charles Patterson\n",
    "893-555-9832\n",
    "416 Pearl St., Valyria AK 62260\n",
    "charlespatterson@bogusemail.com\n",
    "\n",
    "Joe Jackson\n",
    "217-555-7123\n",
    "683 Cedar St., South Park KS 66724\n",
    "joejackson@bogusemail.com\n",
    "\n",
    "Michael Johnson\n",
    "786-555-6544\n",
    "288 Hill St., Smalltown AZ 18586\n",
    "michaeljohnson@bogusemail.com\n",
    "\n",
    "Corey Miller\n",
    "780-555-2574\n",
    "286 High St., Springfield IA 16272\n",
    "coreymiller@bogusemail.com\n",
    "\n",
    "James Moore\n",
    "926-555-8735\n",
    "278 Main St., Gotham KY 89569\n",
    "jamesmoore@bogusemail.com\n",
    "\n",
    "Jennifer Stuart\n",
    "895-555-3539\n",
    "766 Hill St., King's Landing GA 54999\n",
    "jenniferstuart@bogusemail.com\n",
    "\n",
    "Charles Martin\n",
    "874-555-3949\n",
    "775 High St., Faketown PA 89260\n",
    "charlesmartin@bogusemail.com\n",
    "\n",
    "Eric Wilks\n",
    "800-555-2420\n",
    "885 Main St., Blackwater OH 61275\n",
    "joewilks@bogusemail.com\n",
    "\n",
    "Elizabeth Arnold\n",
    "936-555-6340\n",
    "528 Hill St., Atlantis NH 88289\n",
    "elizabetharnold@bogusemail.com\n",
    "\n",
    "John Miller\n",
    "372-555-9809\n",
    "117 Cedar St., Thundera NM 75205\n",
    "johnmiller@bogusemail.com\n",
    "\n",
    "Corey Jackson\n",
    "890-555-5618\n",
    "115 Oak St., Gotham UT 36433\n",
    "coreyjackson@bogusemail.com\n",
    "\n",
    "Sam Thomas\n",
    "670-555-3005\n",
    "743 Lake St., Springfield MS 25473\n",
    "samthomas@bogusemail.com\n",
    "\n",
    "Patricia Thomas\n",
    "509-555-5997\n",
    "381 Hill St., Blackwater CT 30958\n",
    "patriciathomas@bogusemail.com\n",
    "\n",
    "Jennifer Davis\n",
    "721-555-5632\n",
    "125 Main St., Smalltown MT 62155\n",
    "jenniferdavis@bogusemail.com\n",
    "\n",
    "Patricia Brown\n",
    "900-555-3567\n",
    "292 Hill St., Gotham WV 57680\n",
    "patriciabrown@bogusemail.com\n",
    "\n",
    "Barbara Williams\n",
    "147-555-6830\n",
    "514 Park St., Balmora NV 55462\n",
    "barbarawilliams@bogusemail.com\n",
    "\n",
    "James Taylor\n",
    "582-555-3426\n",
    "776 Hill St., Dawnstar MA 51312\n",
    "jamestaylor@bogusemail.com\n",
    "\n",
    "Eric Harris\n",
    "400-555-1706\n",
    "421 Elm St., Smalltown NV 72025\n",
    "barbaraharris@bogusemail.com\n",
    "\n",
    "Travis Anderson\n",
    "525-555-1793\n",
    "937 Cedar St., Thundera WA 78862\n",
    "travisanderson@bogusemail.com\n",
    "\n",
    "Sam Robinson\n",
    "317-555-6700\n",
    "417 Pine St., Lakeview MD 13147\n",
    "samrobinson@bogusemail.com\n",
    "\n",
    "Steve Robinson\n",
    "974-555-8301\n",
    "478 Park St., Springfield NM 92369\n",
    "steverobinson@bogusemail.com\n",
    "\n",
    "Mary Wilson\n",
    "800-555-3216\n",
    "708 Maple St., Braavos‎ UT 29551\n",
    "marywilson@bogusemail.com\n",
    "\n",
    "Sam Wilson\n",
    "746-555-4094\n",
    "557 Pearl St., Westworld KS 23225\n",
    "samwilson@bogusemail.com\n",
    "\n",
    "Charles Jones\n",
    "922-555-1773\n",
    "855 Hill St., Olympus HI 81427\n",
    "charlesjones@bogusemail.com\n",
    "\n",
    "Laura Brown\n",
    "711-555-4427\n",
    "980 Maple St., Smalltown MO 96421\n",
    "laurabrown@bogusemail.com\n",
    "\n",
    "Tom Harris\n",
    "355-555-1872\n",
    "676 Hill St., Blackwater AR 96698\n",
    "tomharris@bogusemail.com\n",
    "\n",
    "Patricia Taylor\n",
    "852-555-6521\n",
    "588 Pine St., Olympus FL 98412\n",
    "patriciataylor@bogusemail.com\n",
    "\n",
    "Barbara Williams\n",
    "691-555-5773\n",
    "351 Elm St., Sunnydale GA 26245\n",
    "barbarawilliams@bogusemail.com\n",
    "\n",
    "Maggie Johnson\n",
    "332-555-5441\n",
    "948 Cedar St., Quahog DE 56449\n",
    "maggiejohnson@bogusemail.com\n",
    "\n",
    "Kurt Miller\n",
    "900-555-7755\n",
    "381 Hill St., Quahog AL 97503\n",
    "kurtmiller@bogusemail.com\n",
    "\n",
    "Neil Stuart\n",
    "379-555-3685\n",
    "496 Cedar St., Sunnydale RI 49113\n",
    "neilstuart@bogusemail.com\n",
    "\n",
    "Linda Patterson\n",
    "127-555-9682\n",
    "736 Cedar St., Lakeview KY 47472\n",
    "lindapatterson@bogusemail.com\n",
    "\n",
    "Charles Davis\n",
    "789-555-7032\n",
    "678 Lake St., Mordor MN 11845\n",
    "charlesdavis@bogusemail.com\n",
    "\n",
    "Jennifer Jefferson\n",
    "783-555-5135\n",
    "289 Park St., Sunnydale WA 74526\n",
    "jenniferjefferson@bogusemail.com\n",
    "\n",
    "Erick Taylor\n",
    "315-555-6507\n",
    "245 Washington St., Bedrock IL 26941\n",
    "coreytaylor@bogusemail.com\n",
    "\n",
    "Robert Wilks\n",
    "481-555-5835\n",
    "573 Elm St., Sunnydale IL 47182\n",
    "robertwilks@bogusemail.com\n",
    "\n",
    "Travis Jackson\n",
    "365-555-8287\n",
    "851 Lake St., Metropolis PA 22772\n",
    "travisjackson@bogusemail.com\n",
    "\n",
    "Travis Jackson\n",
    "911-555-7535\n",
    "489 Oak St., Atlantis HI 73725\n",
    "travisjackson@bogusemail.com\n",
    "\n",
    "Laura Wilks\n",
    "681-555-2460\n",
    "371 Pearl St., Smalltown SC 47466\n",
    "laurawilks@bogusemail.com\n",
    "\n",
    "Neil Arnold\n",
    "274-555-9800\n",
    "504 Oak St., Faketown PA 73860\n",
    "neilarnold@bogusemail.com\n",
    "\n",
    "Linda Johnson\n",
    "800-555-1372\n",
    "667 High St., Balmora IN 82473\n",
    "lindajohnson@bogusemail.com\n",
    "\n",
    "Jennifer Wilson\n",
    "300-555-7821\n",
    "266 Pine St., Westworld DC 58720\n",
    "jenniferwilson@bogusemail.com\n",
    "\n",
    "Nicole White\n",
    "133-555-3889\n",
    "276 High St., Braavos‎ IL 57764\n",
    "nicolewhite@bogusemail.com\n",
    "\n",
    "Maria Arnold\n",
    "705-555-6863\n",
    "491 Elm St., Metropolis PA 31836\n",
    "mariaarnold@bogusemail.com\n",
    "\n",
    "Jennifer Davis\n",
    "215-555-9449\n",
    "859 Cedar St., Old-town MT 31169\n",
    "jenniferdavis@bogusemail.com\n",
    "\n",
    "Mary Patterson\n",
    "988-555-6112\n",
    "956 Park St., Valyria CT 81541\n",
    "marypatterson@bogusemail.com\n",
    "\n",
    "Jane Stuart\n",
    "623-555-3006\n",
    "983 Oak St., Old-town RI 15445\n",
    "janestuart@bogusemail.com\n",
    "\n",
    "Robert Davis\n",
    "192-555-4977\n",
    "789 Maple St., Mordor IN 22215\n",
    "robertdavis@bogusemail.com\n",
    "\n",
    "James Taylor\n",
    "178-555-4899\n",
    "439 Hill St., Olympus NV 39308\n",
    "jamestaylor@bogusemail.com\n",
    "\n",
    "Eric Stuart\n",
    "952-555-3089\n",
    "777 High St., King's Landing AZ 16547\n",
    "johnstuart@bogusemail.com\n",
    "\n",
    "Charles Miller\n",
    "900-555-6426\n",
    "207 Washington St., Blackwater MA 24886\n",
    "charlesmiller@bogusemail.com"
   ]
  },
  {
   "cell_type": "code",
   "execution_count": null,
   "id": "28bfae68",
   "metadata": {},
   "outputs": [],
   "source": []
  }
 ],
 "metadata": {
  "kernelspec": {
   "display_name": "Python 3 (ipykernel)",
   "language": "python",
   "name": "python3"
  },
  "language_info": {
   "codemirror_mode": {
    "name": "ipython",
    "version": 3
   },
   "file_extension": ".py",
   "mimetype": "text/x-python",
   "name": "python",
   "nbconvert_exporter": "python",
   "pygments_lexer": "ipython3",
   "version": "3.8.10"
  }
 },
 "nbformat": 4,
 "nbformat_minor": 5
}
