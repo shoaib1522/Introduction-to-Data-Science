{
 "cells": [
  {
   "cell_type": "markdown",
   "id": "14894adf",
   "metadata": {},
   "source": [
    "---   \n",
    " <img align=\"left\" width=\"75\" height=\"75\"  src=\"https://upload.wikimedia.org/wikipedia/en/c/c8/University_of_the_Punjab_logo.png\"> \n",
    "\n",
    "<h1 align=\"center\">Department of Data Science</h1>\n",
    "<h1 align=\"center\">Course: Tools and Techniques for Data Science</h1>\n",
    "\n",
    "---\n",
    "<h3><div align=\"right\">Instructor: Muhammad Arif Butt, Ph.D.</div></h3>    "
   ]
  },
  {
   "cell_type": "markdown",
   "id": "8a0b5128",
   "metadata": {},
   "source": [
    "<h1 align=\"center\">Lecture 2.3</h1>"
   ]
  },
  {
   "cell_type": "markdown",
   "id": "217504e7",
   "metadata": {},
   "source": [
    "## _variables.ipynb_\n",
    "#### [Click me to learn more about Python variables](https://www.w3schools.com/python/python_variables.asp)"
   ]
  },
  {
   "cell_type": "markdown",
   "id": "570224a3",
   "metadata": {},
   "source": [
    "### Learning agenda of this notebook\n",
    "Variables are used to store data in computer memory\n",
    "1. Python is dynamically typed\n",
    "2. Variables and variable naming conventions\n",
    "3. Assigning values to multiple variables in single line\n",
    "4. Checking type of a variable using type()\n",
    "5. Deleting a variable from Kernel memory\n"
   ]
  },
  {
   "cell_type": "markdown",
   "id": "db818c1d",
   "metadata": {},
   "source": [
    "### 1- You don't have to specify a data type in Python, since it is a dynamically typed language"
   ]
  },
  {
   "cell_type": "code",
   "execution_count": 1,
   "id": "518a55a9",
   "metadata": {},
   "outputs": [
    {
     "name": "stdout",
     "output_type": "stream",
     "text": [
      "Arif Butt\n"
     ]
    }
   ],
   "source": [
    "name = \"Arif Butt\"\n",
    "print(name)"
   ]
  },
  {
   "cell_type": "code",
   "execution_count": 2,
   "id": "401c5e99",
   "metadata": {},
   "outputs": [
    {
     "name": "stdout",
     "output_type": "stream",
     "text": [
      "1234\n"
     ]
    }
   ],
   "source": [
    "x = 1234\n",
    "print(x)"
   ]
  },
  {
   "cell_type": "markdown",
   "id": "ab29c96a",
   "metadata": {},
   "source": [
    "### 2. Variable naming conventions\n",
    "An identifier is a name of a program element, and it is user-defined. This Python Syntax uniquely identifies the element. There are some rules to follow while choosing an identifier:\n",
    "- An identifier may only begin with A-Z, a-z, or an underscore(_).\n",
    "- This may be followed by letters, digits, and underscores- zero or more.\n",
    "- A number can appear in the name, but not at the beginning.\n",
    "- Python is case-sensitive. Name and name are two different identifiers.\n",
    "- Spaces are not allowed. Instead, we must use snake_case to make variable names readable.\n",
    "- The name of the variable should be something meaningful that describes the value it holds, instead of being random characters.\n",
    "\n",
    "\n",
    "A reserved keyword may not be used as an identifier. The following is a list of keywords.\n",
    "```\n",
    "and def\tFalse\timport\tnot\tTrue\n",
    "as\tdel\tfinally\tin\tor\ttry\n",
    "assert\telif\tfor\tis\tpass\twhile\n",
    "break\telse\tfrom\tlambda\tprint\twith\n",
    "class\texcept\tglobal\tNone\traise\tyield\n",
    "continue\texec\tif\tnonlocal\treturn\n",
    "```"
   ]
  },
  {
   "cell_type": "code",
   "execution_count": 3,
   "id": "35ab7da4",
   "metadata": {},
   "outputs": [
    {
     "ename": "SyntaxError",
     "evalue": "cannot assign to True (2814868083.py, line 2)",
     "output_type": "error",
     "traceback": [
      "\u001b[0;36m  File \u001b[0;32m\"/var/folders/1t/g3ylw8h50cjdqmk5d6jh1qmm0000gn/T/ipykernel_7475/2814868083.py\"\u001b[0;36m, line \u001b[0;32m2\u001b[0m\n\u001b[0;31m    True = 100\u001b[0m\n\u001b[0m    ^\u001b[0m\n\u001b[0;31mSyntaxError\u001b[0m\u001b[0;31m:\u001b[0m cannot assign to True\n"
     ]
    }
   ],
   "source": [
    "# True is a keyword, can't be used as variable name\n",
    "True = 100"
   ]
  },
  {
   "cell_type": "code",
   "execution_count": 4,
   "id": "d791c813",
   "metadata": {},
   "outputs": [
    {
     "ename": "SyntaxError",
     "evalue": "invalid syntax (3167369353.py, line 3)",
     "output_type": "error",
     "traceback": [
      "\u001b[0;36m  File \u001b[0;32m\"/var/folders/1t/g3ylw8h50cjdqmk5d6jh1qmm0000gn/T/ipykernel_7475/3167369353.py\"\u001b[0;36m, line \u001b[0;32m3\u001b[0m\n\u001b[0;31m    1var = 530\u001b[0m\n\u001b[0m     ^\u001b[0m\n\u001b[0;31mSyntaxError\u001b[0m\u001b[0;31m:\u001b[0m invalid syntax\n"
     ]
    }
   ],
   "source": [
    "# A variable name cannot start with a special character or digit\n",
    "var1 = 25\n",
    "1var = 530\n",
    "@i = 980"
   ]
  },
  {
   "cell_type": "markdown",
   "id": "a0f875ce",
   "metadata": {},
   "source": [
    "### 3. You can assign multiple values to multiple variables in one statement"
   ]
  },
  {
   "cell_type": "code",
   "execution_count": 5,
   "id": "25a3f57b",
   "metadata": {},
   "outputs": [
    {
     "name": "stdout",
     "output_type": "stream",
     "text": [
      "a =  5  b =  3.2  c =  Hello\n"
     ]
    }
   ],
   "source": [
    "#Assigning multiple values to multiple variables\n",
    "a, b, c = 5, 3.2, \"Hello\"\n",
    "\n",
    "print ('a = ',a,' b = ',b,' c = ',c)"
   ]
  },
  {
   "cell_type": "markdown",
   "id": "b7bddc0d",
   "metadata": {},
   "source": [
    "### 3. To check the type of a variable"
   ]
  },
  {
   "cell_type": "code",
   "execution_count": 6,
   "id": "87bc5c37",
   "metadata": {},
   "outputs": [
    {
     "name": "stdout",
     "output_type": "stream",
     "text": [
      "name is of  <class 'str'>\n",
      "x is of  <class 'int'>\n",
      "y is of  <class 'float'>\n"
     ]
    }
   ],
   "source": [
    "# to check the type of variable\n",
    "name = \"Arif Butt\"\n",
    "print(\"name is of \", type(name))\n",
    "x = 234\n",
    "print(\"x is of \", type(x))\n",
    "y = 5.321\n",
    "print(\"y is of \", type(y))"
   ]
  },
  {
   "cell_type": "markdown",
   "id": "6a3d895b",
   "metadata": {},
   "source": [
    "### 4. Delete a variable"
   ]
  },
  {
   "cell_type": "code",
   "execution_count": 7,
   "id": "9a07a4af",
   "metadata": {},
   "outputs": [
    {
     "name": "stdout",
     "output_type": "stream",
     "text": [
      "10\n",
      "['In', 'Out', '_', '__', '___', '__builtin__', '__builtins__', '__doc__', '__loader__', '__name__', '__package__', '__spec__', '_dh', '_i', '_i1', '_i2', '_i3', '_i4', '_i5', '_i6', '_i7', '_ih', '_ii', '_iii', '_oh', 'a', 'b', 'c', 'exit', 'get_ipython', 'name', 'quit', 'var1', 'x', 'y']\n",
      "['In', 'Out', '_', '__', '___', '__builtin__', '__builtins__', '__doc__', '__loader__', '__name__', '__package__', '__spec__', '_dh', '_i', '_i1', '_i2', '_i3', '_i4', '_i5', '_i6', '_i7', '_ih', '_ii', '_iii', '_oh', 'a', 'b', 'c', 'exit', 'get_ipython', 'name', 'quit', 'x', 'y']\n"
     ]
    }
   ],
   "source": [
    "var1 = 10\n",
    "print(var1)\n",
    "print(dir())\n",
    "del var1\n",
    "print(dir())\n",
    "#print(var1)"
   ]
  },
  {
   "cell_type": "code",
   "execution_count": null,
   "id": "6c1da44e",
   "metadata": {},
   "outputs": [],
   "source": []
  }
 ],
 "metadata": {
  "kernelspec": {
   "display_name": "Python 3 (ipykernel)",
   "language": "python",
   "name": "python3"
  },
  "language_info": {
   "codemirror_mode": {
    "name": "ipython",
    "version": 3
   },
   "file_extension": ".py",
   "mimetype": "text/x-python",
   "name": "python",
   "nbconvert_exporter": "python",
   "pygments_lexer": "ipython3",
   "version": "3.8.10"
  }
 },
 "nbformat": 4,
 "nbformat_minor": 5
}
