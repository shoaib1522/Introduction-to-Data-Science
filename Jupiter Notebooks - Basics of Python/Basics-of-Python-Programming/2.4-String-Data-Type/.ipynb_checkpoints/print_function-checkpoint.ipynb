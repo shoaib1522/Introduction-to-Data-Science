{
 "cells": [
  {
   "cell_type": "markdown",
   "id": "ca09f7e7",
   "metadata": {},
   "source": [
    "---   \n",
    " <img align=\"left\" width=\"75\" height=\"75\"  src=\"https://upload.wikimedia.org/wikipedia/en/c/c8/University_of_the_Punjab_logo.png\"> \n",
    "\n",
    "<h1 align=\"center\">Department of Data Science</h1>\n",
    "<h1 align=\"center\">Course: Tools and Techniques for Data Science</h1>\n",
    "\n",
    "---\n",
    "<h3><div align=\"right\">Instructor: Muhammad Arif Butt, Ph.D.</div></h3>    "
   ]
  },
  {
   "cell_type": "markdown",
   "id": "19663b8b",
   "metadata": {},
   "source": [
    "<h1 align=\"center\">Lecture 2.3</h1>"
   ]
  },
  {
   "cell_type": "markdown",
   "id": "037b9831",
   "metadata": {},
   "source": [
    "## _printfunction.ipynb_"
   ]
  },
  {
   "cell_type": "markdown",
   "id": "27711bd2",
   "metadata": {},
   "source": [
    "### Learning agenda of this notebook\n",
    "\n",
    "1. Arguments to Python print() function\n",
    "2. Using sep keyword in Python print() function\n",
    "2. Using end keyword in Python print() function\n",
    "4. Formatting using Python print() function\n",
    "5. Using Intellisense in Jupyter Notebook"
   ]
  },
  {
   "cell_type": "markdown",
   "id": "78f5914d",
   "metadata": {},
   "source": [
    "### 1. Arguments to Python print() Function\n",
    "* Python print() function receives vriable number of comma separated values and all the comma separated elements/variables get printed on the output separated by spaces (by default)"
   ]
  },
  {
   "cell_type": "code",
   "execution_count": 1,
   "id": "350f4af0",
   "metadata": {},
   "outputs": [
    {
     "name": "stdout",
     "output_type": "stream",
     "text": [
      "var1= 1 var2= string-2 var3= 23.42\n"
     ]
    }
   ],
   "source": [
    "#print()\n",
    "# initialize 1st variable\n",
    "var1 = 1\n",
    "\n",
    "# initialize 2nd variable\n",
    "var2 = 'string-2'\n",
    "\n",
    "# initialize 3rd variable\n",
    "var3 = float(23.42)\n",
    "\n",
    "print(\"var1=\",var1, \"var2=\",var2, \"var3=\",var3)"
   ]
  },
  {
   "cell_type": "markdown",
   "id": "ea326a8a",
   "metadata": {},
   "source": [
    "### 2. Using sep keyword in python print() function\n",
    "* If you want multiple values to be printed on output separated by some character other than space, use sep keyword and assign it the separater character you want to use"
   ]
  },
  {
   "cell_type": "code",
   "execution_count": 2,
   "id": "32e9af8f",
   "metadata": {},
   "outputs": [
    {
     "name": "stdout",
     "output_type": "stream",
     "text": [
      "1 string-2 23.42\n",
      "1_string-2_23.42\n",
      "1, string-2, 23.42\n"
     ]
    }
   ],
   "source": [
    "# initiaze 1st variable\n",
    "var1 = 1\n",
    "\n",
    "# initialize 2nd variable\n",
    "var2 = 'string-2'\n",
    "\n",
    "# initialize 3rd variable\n",
    "var3 = float(23.42)\n",
    "\n",
    "print(var1, var2, var3)\n",
    "print(var1, var2, var3, sep='_')\n",
    "print(var1, var2, var3, sep=', ')"
   ]
  },
  {
   "cell_type": "markdown",
   "id": "9536a60a",
   "metadata": {},
   "source": [
    "### 3. Using end keyword in python print() function\n",
    "* By default when print() statement is done printing the output, it appends a newline character at the end. Hence, we get the output of each print statement in different line.\n",
    "* You can change this default behavior using the end keyword and assign it the character you want to use instead of newline character "
   ]
  },
  {
   "cell_type": "code",
   "execution_count": 3,
   "id": "fa0c5da5",
   "metadata": {},
   "outputs": [
    {
     "name": "stdout",
     "output_type": "stream",
     "text": [
      "1\n",
      "apple\n",
      "23.42\n",
      "1 : apple : 23.42 : "
     ]
    }
   ],
   "source": [
    "ser = 1\n",
    "item = 'apple'\n",
    "price = float(23.42)\n",
    "\n",
    "# Three print statements, each implicitly using the newline character at the end\n",
    "print(ser)\n",
    "print(item)\n",
    "print(price)\n",
    "\n",
    "# Three print statements, each using end keyword and using the ' : ' instead of newline character\n",
    "print(ser, end=' : ')\n",
    "print(item, end=' : ')\n",
    "print(price, end=' : ')\n"
   ]
  },
  {
   "cell_type": "markdown",
   "id": "b3478296",
   "metadata": {},
   "source": [
    "### 4. Formatting using Python print() function\n",
    "* You can use the **% operator** to format a string to contain text as well as values of identifiers. Use %s inside the string where you want a value to appear. After the string, put a % operator and mention the identifiers in parenthesis.\n",
    "* You can also use the **format() method**. Place the index (0, 1, 2, ...) in curly braces inside the string where you want a value to appear. Call the format() method on the string using the dot operator and mention the identifiers in parenthesis"
   ]
  },
  {
   "cell_type": "code",
   "execution_count": 4,
   "id": "2b235c4c",
   "metadata": {},
   "outputs": [
    {
     "name": "stdout",
     "output_type": "stream",
     "text": [
      "Hello Mr. Arif Butt.\n",
      "Mr. Arif Butt, you are 51 years old.\n",
      "Mr. Arif Butt, you are 51 years old.\n"
     ]
    }
   ],
   "source": [
    "age = 51;    name=\"Arif Butt\"\n",
    "\n",
    "# Use % operator\n",
    "print(\"Hello Mr. %s.\" % (name))\n",
    "print(\"Mr. %s, you are %s years old.\" % (name, age))\n",
    "\n",
    "# Use % operator\n",
    "print(\"Mr. {0}, you are {1} years old.\" .format(name, age))"
   ]
  },
  {
   "cell_type": "code",
   "execution_count": 5,
   "id": "695e6e91",
   "metadata": {},
   "outputs": [
    {
     "name": "stdout",
     "output_type": "stream",
     "text": [
      "To print backslash: C:\\\n",
      "It prints\n",
      "in two lines\n",
      "This is HEX representation\n"
     ]
    }
   ],
   "source": [
    "#backslash\n",
    "print(\"To print backslash: C:\\\\\")\n",
    "\n",
    "#Newline\n",
    "print(\"It prints\\nin two lines\")\n",
    "\n",
    "#HEX Representation\n",
    "print(\"This is \\x48\\x45\\x58 representation\")"
   ]
  },
  {
   "cell_type": "markdown",
   "id": "237b69e2",
   "metadata": {},
   "source": [
    "### 5. Using Intellisense / Code Completion in Jupyter Notebook\n",
    "* Intellisense/Code Completion: A general term for various code editing features including: code completion, parameter info, quick info, and member lists. \n",
    "    * Autocompletion: Type few characters of a variable or function name and then press tab to get a list, press enter to complete\n",
    "    * Intellisense: After the name of an object, put a dot, then press < tab> to get a list of all the attributes and methods of that object\n",
    "    * Tooltip: With the cursor on the name of the method, press <shift+tab> to get a tool tip, that describes what the method does, and what parameters it takes"
   ]
  },
  {
   "cell_type": "code",
   "execution_count": 6,
   "id": "d9d89258",
   "metadata": {},
   "outputs": [
    {
     "name": "stdout",
     "output_type": "stream",
     "text": [
      "hello\n",
      "25.3\n",
      "This is long string having names of my friends like Waqas, Khurram, Jamil, Farhan, Shahid. That is GR8\n"
     ]
    }
   ],
   "source": [
    "thisisvariablename1 = \"hello\"\n",
    "thisisvariablename2 = \"Bye\"\n",
    "anothervariable = 25.3\n",
    "stringvariable = \"This is long string having names of my friends like Waqas, Khurram, Jamil, Farhan, Shahid. That is GR8\"\n",
    "print(thisisvariablename1)\n",
    "print(anothervariable)\n",
    "print(stringvariable)"
   ]
  },
  {
   "cell_type": "code",
   "execution_count": null,
   "id": "2921ae06",
   "metadata": {},
   "outputs": [],
   "source": []
  }
 ],
 "metadata": {
  "kernelspec": {
   "display_name": "Python 3 (ipykernel)",
   "language": "python",
   "name": "python3"
  },
  "language_info": {
   "codemirror_mode": {
    "name": "ipython",
    "version": 3
   },
   "file_extension": ".py",
   "mimetype": "text/x-python",
   "name": "python",
   "nbconvert_exporter": "python",
   "pygments_lexer": "ipython3",
   "version": "3.8.10"
  }
 },
 "nbformat": 4,
 "nbformat_minor": 5
}
