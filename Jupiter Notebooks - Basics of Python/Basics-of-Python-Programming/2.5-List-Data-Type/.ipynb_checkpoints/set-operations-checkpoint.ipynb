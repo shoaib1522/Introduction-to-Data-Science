{
 "cells": [
  {
   "cell_type": "markdown",
   "id": "a6651c01",
   "metadata": {},
   "source": [
    "---   \n",
    " <img align=\"left\" width=\"75\" height=\"75\"  src=\"https://upload.wikimedia.org/wikipedia/en/c/c8/University_of_the_Punjab_logo.png\"> \n",
    "\n",
    "<h1 align=\"center\">Department of Data Science</h1>\n",
    "<h1 align=\"center\">Course: Tools and Techniques for Data Science</h1>\n",
    "\n",
    "---\n",
    "<h3><div align=\"right\">Instructor: Muhammad Arif Butt, Ph.D.</div></h3>    "
   ]
  },
  {
   "cell_type": "markdown",
   "id": "a363bc39",
   "metadata": {},
   "source": [
    "<h1 align=\"center\">Lecture 2.4</h1>"
   ]
  },
  {
   "cell_type": "markdown",
   "id": "95de41a5",
   "metadata": {},
   "source": [
    "## _set-operations.ipynb_\n",
    "#### [Click me to learn more about Python Sets](https://www.geeksforgeeks.org/sets-in-python/)"
   ]
  },
  {
   "cell_type": "markdown",
   "id": "7c109b0c",
   "metadata": {},
   "source": [
    "### Learning agenda of this notebook\n",
    "In Python, Set is an unordered collection of data type that is iterable, mutable and has no duplicate elements. The order of elements in a set is undefined.Sets are created using curly brackets. The major advantage of using a set, as opposed to a list, is that it has a highly optimized method for checking whether a specific element is contained in the set.\n",
    "\n",
    "1. How to create Sets?\n",
    "2. Proof of concepts: Sets are heterogeneous, un-ordered, mutable, nested, and DOES NOT allow duplicate elements\n",
    "3. Accessing elements of sets?\n",
    "4. Adding elements to a sets using add, and update methods\n",
    "5. Removing elements from a set using pop, remove and discard methods\n",
    "6. Set concatenation and repetition (can't be performed as on list and tuples)\n",
    "7. Slicing a set (can't be performed as there is no index associated with set values)\n",
    "8. Converting string object to set and vice-versa (using type casting, split() and join())\n",
    "9. Misc set methods \n",
    "10. Some Built-in functions that can be used on sets (len, max, min, sum)\n",
    "11. Misc Concepts\n",
    "    - Union of sets \n",
    "    - Intersection of sets \n",
    "    - Difference of sets \n",
    "    - Symmetric Difference of sets \n",
    "    - Subsets \n",
    "    - Supersets \n",
    "    - Disjoint sets \n",
    "12. Looping through a set"
   ]
  },
  {
   "cell_type": "markdown",
   "id": "78d11dc1",
   "metadata": {},
   "source": [
    "### 1. How to create Sets?"
   ]
  },
  {
   "cell_type": "code",
   "execution_count": 1,
   "id": "88801cf7",
   "metadata": {},
   "outputs": [
    {
     "name": "stdout",
     "output_type": "stream",
     "text": [
      "{1, 2, 3, 4, 5}\n",
      "{3.8, 3.7, 6.5, 7.95}\n",
      "{'F', 'this', 'good show', 'hello'}\n",
      "{False, True}\n",
      "set()\n",
      "<class 'set'>\n",
      "{(10, 'rauf'), 5.5, 30, 'Arif'}\n"
     ]
    }
   ],
   "source": [
    "# A set is created by placing comma separated values in curly brackets {} OR\n",
    "# A set is created by using set(), and passing a list to it\n",
    "# We will try to use the second option as the curly brackets are also used by dictionary object in Python\n",
    "s1 = {1,2,3,4,5}   #list of integers\n",
    "s1 = set([1, 2, 3, 4, 5])\n",
    "print(s1)\n",
    "\n",
    "s2 = {3.7, 6.5, 3.8, 7.95}   #set of floats\n",
    "s2 = set([3.7, 6.5, 3.8, 7.95])\n",
    "print(s2)\n",
    "\n",
    "s3 = {\"hello\", \"this\", \"F\", \"good show\"}   #set of strings\n",
    "s3 = set([\"hello\", \"this\", \"F\", \"good show\"])\n",
    "print(s3)\n",
    "\n",
    "s4 = {True, False, True, True, False}   #set of boolean\n",
    "s4 = set([True, False, True, True, False])\n",
    "print(s4)\n",
    "\n",
    "# creating an empty set\n",
    "#emptyset = {}  # this is not correct way\n",
    "\n",
    "# to create empty set, we can use set()\n",
    "s5 = set()\n",
    "print(s5)\n",
    "print(type(s5))\n",
    "\n",
    "# Nested sets: sets can also have another tuple as an item\n",
    "# However, you cannot add a list to a set, because list are mutable\n",
    "s7 = {\"Arif\", 30, 5.5, (10,'rauf')}\n",
    "print(s7)\n",
    "#s7 = {\"Arif\", 30, 5.5, [10,'rauf']} # Error unhashable type list"
   ]
  },
  {
   "cell_type": "markdown",
   "id": "48f77dc4",
   "metadata": {},
   "source": [
    "### 2. Proof of concepts: Sets are heterogeneous, unordered, mutable, nested, and does not allow duplicate elements"
   ]
  },
  {
   "cell_type": "code",
   "execution_count": 2,
   "id": "4fc9e430",
   "metadata": {},
   "outputs": [
    {
     "name": "stdout",
     "output_type": "stream",
     "text": [
      "s1:  {3.2, 100, 5.5, 30, 'Arif'}\n",
      "\n",
      "The duplicates in assignments are removed:  {'Mujahid', 'Hadeed', 'Rauf', 'Arif'}\n",
      "\n",
      "List:  [2, 4, 5, 6, 8, 7, 3, 3, 2]\n",
      "List converted to set:  {2, 3, 4, 5, 6, 7, 8}\n",
      "\n",
      " learning with Arif\n",
      "<class 'str'>\n"
     ]
    }
   ],
   "source": [
    "# Sets are heterogeneous, as their elements/items can be of any data type\n",
    "# Sets are un-ordered means their elements are NOT associated by an index (as in list and tuples)\n",
    "# Moreover order of elements in a set is undefined and is unchangeable.\n",
    "# Every time you access a set elements they will show up in different sequence\n",
    "\n",
    "s1 = set([3.2, \"Arif\", 30, 5.5, 100])\n",
    "print(\"s1: \", s1)\n",
    "\n",
    "\n",
    "# Sets are mutable, i.e., sets elements can be changed, however,\n",
    "# but since they cannot be indexed, so we can't change them using subscript operator\n",
    "numbers = set([10, 20, 30, 40, 50])\n",
    "# numbers[2] = 15   # error: 'set' object does not support item assignment\n",
    "\n",
    "\n",
    "# Sets does not allow duplicate elements, so duplications are implicitly removed while assignment\n",
    "names = set(['Arif', 'Rauf', 'Hadeed', 'Arif', 'Mujahid'])\n",
    "print(\"\\nThe duplicates in assignments are removed: \", names)\n",
    "\n",
    "# So when we want to remove duplication from list, we typecast it to a set\n",
    "mylist = [2, 4, 5, 6, 8, 7, 3, 3,2]\n",
    "print(\"\\nList: \", mylist)\n",
    "myset = set(mylist)\n",
    "print(\"List converted to set: \", myset)\n",
    "\n",
    "# you can assign individual elements of set to string variables\n",
    "myset = set(['learning', 'is', 'fun', 'with', 'Arif'])\n",
    "v, w, x, y, z = myset # the number of variables on the left must match the length of string\n",
    "print (\"\\n\", v, y, z)\n",
    "print(type(x))"
   ]
  },
  {
   "cell_type": "markdown",
   "id": "418db83b",
   "metadata": {},
   "source": [
    "### 3. Different ways to access elements of a Set"
   ]
  },
  {
   "cell_type": "code",
   "execution_count": 3,
   "id": "d42c7653",
   "metadata": {},
   "outputs": [
    {
     "name": "stdout",
     "output_type": "stream",
     "text": [
      "myset:  {'learning', 'is', 'fun', 'with', 'Arif'}\n",
      "\n",
      "Elements of set:  learning is fun with Arif \n",
      "\n",
      "Element exist =  True\n"
     ]
    }
   ],
   "source": [
    "# Set items cannot be accessed by referring to an index, since sets are unordered the items has no index. \n",
    "# But you can loop through the set items using a for loop, or \n",
    "# ask if a specified value is present in a set, by using the in keyword.\n",
    "myset = set(['learning', 'is', 'fun', 'with', 'Arif'])\n",
    "myset = {'learning', 'is', 'fun', 'with', 'Arif'}\n",
    "print(\"myset: \", myset)\n",
    " \n",
    "    \n",
    "# If you want to perform operation on individual elements use for loop\n",
    "print(\"\\nElements of set: \",end=\" \")\n",
    "for i in myset:\n",
    "    print(i, end=\" \")\n",
    " \n",
    "\n",
    "# To check if a specific element is there in the set, use the in keyword\n",
    "rv = 'fun' in myset\n",
    "print(\"\\n\\nElement exist = \", rv)"
   ]
  },
  {
   "cell_type": "markdown",
   "id": "0557d8ff",
   "metadata": {},
   "source": [
    "### 4. Adding elements to a set using add, and update methods"
   ]
  },
  {
   "cell_type": "code",
   "execution_count": 4,
   "id": "4ca664fe",
   "metadata": {},
   "outputs": [
    {
     "name": "stdout",
     "output_type": "stream",
     "text": [
      "Empty Set:  set()\n",
      "Set after adding three elements:  {73, 25, (19, 77)}\n",
      "\n",
      "set2:  {9, 4, 12}\n",
      "After update(['hadeed',4,3.5])-> set2:  {3.5, 4, 9, 12, 'hadeed'}\n",
      "After update([('arif', 'rauf')])-> set2:  {3.5, 4, 'arif', 9, 12, 'rauf', 'hadeed'}\n",
      "After update([(99,88)])-> set2:  {(44, 33), 3.5, 4, 'arif', 9, 12, 'rauf', 'hadeed', (99, 88)}\n"
     ]
    }
   ],
   "source": [
    "# add(val) method is used to add elements to a set\n",
    "# Only one element at a time can be added to the set by using add() method\n",
    "# Lists cannot be added to a set as elements because Lists are not hashable \n",
    "# Tuples can be added because tuples are immutable and hence Hashable. \n",
    "set1 = set()\n",
    "print(\"Empty Set: \", set1)\n",
    "set1.add(25)\n",
    "set1.add(73)\n",
    "set1.add((19,77))\n",
    "print(\"Set after adding three elements: \", set1)\n",
    "\n",
    "\n",
    "# update() method is used to add two or more elements, removes duplicates\n",
    "set2 = set([ 4, 9, 12])\n",
    "print(\"\\nset2: \", set2)\n",
    "set2.update(['hadeed', 4, 3.5])\n",
    "print(\"After update(['hadeed',4,3.5])-> set2: \", set2)\n",
    "\n",
    "# The update() method accepts strings as its arguments.\n",
    "set2.update(['arif', 'rauf'])\n",
    "print(\"After update([('arif', 'rauf')])-> set2: \", set2)\n",
    "\n",
    "# the update() method accepts one or more tuples as its argument\n",
    "set2.update([(99, 88), (44, 33)])\n",
    "print(\"After update([(99,88)])-> set2: \", set2)\n",
    "\n"
   ]
  },
  {
   "cell_type": "markdown",
   "id": "ae40dd9e",
   "metadata": {},
   "source": [
    "### 5. Removing elements from a list using pop, remove and discard methods"
   ]
  },
  {
   "cell_type": "code",
   "execution_count": 5,
   "id": "33f7704a",
   "metadata": {},
   "outputs": [
    {
     "name": "stdout",
     "output_type": "stream",
     "text": [
      "Original set:  ['learning', 'is', 'fun', 'with', 'arif', 'butt']\n",
      "Element popped is:  butt\n",
      "Set now is:  ['learning', 'is', 'fun', 'with', 'arif']\n",
      "Element popped is:  arif\n",
      "Set now is:  ['learning', 'is', 'fun', 'with']\n",
      "Element popped is:  fun\n",
      "Set now is:  ['learning', 'is', 'with']\n",
      "\n",
      "Original set:  {'Welcome', 'department', 'of', 'Data', 'to', 'Science'}\n",
      "After remove('department'):  {'Welcome', 'of', 'Data', 'to', 'Science'}\n",
      "Return value of remove() is:  None\n",
      "\n",
      "After clear() the list becomes empty:  set()\n",
      "\n",
      "Original set:  {'j', 'univrersity', 'n', 'a', 'p', 'u', 'b'}\n"
     ]
    }
   ],
   "source": [
    "# pop() method without any argument removes the last item in the list and returns it\n",
    "# The pop(index) method will remove an item from the set from a random location and returns it\n",
    "s1 = ['learning', 'is', 'fun', 'with', 'arif', 'butt']\n",
    "print(\"Original set: \", s1)\n",
    "\n",
    "x  = s1.pop()\n",
    "print(\"Element popped is: \", x)\n",
    "print(\"Set now is: \", s1)\n",
    "\n",
    "y  = s1.pop()\n",
    "print(\"Element popped is: \", y)\n",
    "print(\"Set now is: \", s1)\n",
    "\n",
    "z = s1.pop(2)      #passing an argument pops a random element from the set\n",
    "print(\"Element popped is: \", z)\n",
    "print(\"Set now is: \", s1)\n",
    "\n",
    "\n",
    "\n",
    "# The remove() method is used to remove a specific element without returning it\n",
    "# The remove method is passed exactly one argument, which is the value to be removed and returns none/void\n",
    "s2 = set(['Welcome', 'to', 'department', 'of', 'Data', 'Science'])\n",
    "print(\"\\nOriginal set: \", s2)\n",
    "x = s2.remove('department')\n",
    "print(\"After remove('department'): \", s2)\n",
    "print(\"Return value of remove() is: \", x)\n",
    "#y = s2.remove('arif')  # Error: Element doesn’t exist in the set. \n",
    "\n",
    "\n",
    "# The discard() method overcome the limitation of remove() method, if the element doesn’t exist in the set, it remains unchanged.\n",
    "y = s2.discard('arif')\n",
    "\n",
    "\n",
    "\n",
    "\n",
    "#use the clear() method to empty a set\n",
    "s2.clear()\n",
    "print(\"\\nAfter clear() the list becomes empty: \", s2)\n",
    "\n",
    "# use del keyword to delete entire set, (you cannot delete a specific element as it is non-indexed)\n",
    "s3 = set(['p', 'u', 'n', 'j', 'a', 'b', 'univrersity'])\n",
    "print(\"\\nOriginal set: \", s3)\n",
    "del s3\n",
    "#print(s3)"
   ]
  },
  {
   "cell_type": "markdown",
   "id": "8f109f45",
   "metadata": {},
   "source": [
    "### 6. Set Concatenation and Repetition"
   ]
  },
  {
   "cell_type": "code",
   "execution_count": 6,
   "id": "d4208107",
   "metadata": {},
   "outputs": [],
   "source": [
    "# You CANNOT use + operator to concatenate two sets\n",
    "# food_items1 = set(['fruits', 'bread', 'veggies'])\n",
    "# food_items2 = set(['meat', 'spices', 'burger'])\n",
    "# food = food_items1 + food_items2\n",
    "# print(food)\n",
    "\n",
    "\n",
    "# You CANNOT use set * n syntax to create large sets (as you can do in list and tuples)\n",
    "# name = set(['Arif', 'Hadeed', 'Mujahid'])\n",
    "# print (\"\\n\", name * 3)\n",
    "\n"
   ]
  },
  {
   "cell_type": "markdown",
   "id": "c9517d91",
   "metadata": {},
   "source": [
    "### 7. Slicing Sets"
   ]
  },
  {
   "cell_type": "code",
   "execution_count": 7,
   "id": "8221022c",
   "metadata": {},
   "outputs": [],
   "source": [
    "# There is no index attached to any element in a python set. \n",
    "# So they do not support any indexing or slicing operation.\n"
   ]
  },
  {
   "cell_type": "markdown",
   "id": "0f4dd1c2",
   "metadata": {},
   "source": [
    "### 8. Converting string object to set and vice-versa (using type casting, split() and join())"
   ]
  },
  {
   "cell_type": "code",
   "execution_count": 8,
   "id": "24e78729",
   "metadata": {},
   "outputs": [
    {
     "name": "stdout",
     "output_type": "stream",
     "text": [
      "<class 'str'>\n",
      "Original string:  Learning is fun and its type is:   <class 'str'>\n",
      "s1:  {'g', 's', 'n', 'L', 'a', ' ', 'u', 'f', 'i', 'e', 'r'} and its type is:   <class 'set'>\n",
      "\n",
      "Given string:  Learning is fun\n",
      "s1=set(str1.split(' ')):  {'Learning', 'is', 'fun'}\n",
      "<class 'set'>\n",
      "\n",
      " Learning is fun\n",
      "<class 'str'>\n"
     ]
    }
   ],
   "source": [
    "# convert a string into list using list()\n",
    "str1 = 'Learning is fun'    #this is a string\n",
    "print(type(str1))\n",
    "print(\"Original string: \", str1, \"and its type is:  \", type(str1))\n",
    "s1 = set(str1)\n",
    "print(\"s1: \", s1, \"and its type is:  \", type(s1))\n",
    "\n",
    "\n",
    "# split() method is used to tokenize a string based on some delimiter, which can be stored in a list\n",
    "# returns a list having tokens of the string based on spaces if no argument is passed\n",
    "str1 = 'Learning is fun'    #this is a string\n",
    "print(\"\\nGiven string: \", str1)\n",
    "s1 = set(str1.split(' '))\n",
    "print(\"s1=set(str1.split(' ')): \", s1)\n",
    "print(type(s1))\n",
    "\n",
    "\n",
    "#join is the reverse of split\n",
    "delimeter = ' '\n",
    "str2 = delimeter.join(s1)\n",
    "print(\"\\n\",str2)\n",
    "print(type(str2))"
   ]
  },
  {
   "cell_type": "markdown",
   "id": "fbf88b2e",
   "metadata": {},
   "source": [
    "### 9. Misc Set methods in Python"
   ]
  },
  {
   "cell_type": "code",
   "execution_count": 9,
   "id": "dd1b54d4",
   "metadata": {},
   "outputs": [],
   "source": [
    "# You cannot call sort() method on set being unordered in nature\n",
    "\n",
    "# Similarly you cannot call reverse() method on set being unordered in nature\n"
   ]
  },
  {
   "cell_type": "markdown",
   "id": "aa367cb0",
   "metadata": {},
   "source": [
    "### 10. Some Built-in functions that can be used on lists"
   ]
  },
  {
   "cell_type": "code",
   "execution_count": 10,
   "id": "2f025aa2",
   "metadata": {},
   "outputs": [
    {
     "name": "stdout",
     "output_type": "stream",
     "text": [
      "length of list:  6\n",
      "max element in list:  8\n",
      "min element in list:  0\n",
      "Sum of element in list:  22\n",
      "False\n"
     ]
    }
   ],
   "source": [
    "s1 = set([3, 8, 1, 6, 0, 8, 4])\n",
    "\n",
    "print(\"length of list: \", len(s1))\n",
    "print(\"max element in list: \", max(s1))\n",
    "print(\"min element in list: \",min(s1))\n",
    "print(\"Sum of element in list: \",sum(s1))\n",
    "\n",
    "# Membership (in) operator\n",
    "rv1 = 9 in s1\n",
    "print(rv1)\n"
   ]
  },
  {
   "cell_type": "markdown",
   "id": "ff517f2e",
   "metadata": {},
   "source": [
    "### 11. Misc Concepts specifically related to Sets"
   ]
  },
  {
   "cell_type": "markdown",
   "id": "57a57000",
   "metadata": {},
   "source": [
    "#### a. Union of sets"
   ]
  },
  {
   "cell_type": "code",
   "execution_count": 11,
   "id": "5ba0e04b",
   "metadata": {},
   "outputs": [
    {
     "name": "stdout",
     "output_type": "stream",
     "text": [
      "set1:  {'rauf', 'arif'}\n",
      "set2:  {'maaz', 'hadeed', 'arif'}\n",
      "set1.union(set2):  {'rauf', 'arif', 'maaz', 'hadeed'}\n"
     ]
    }
   ],
   "source": [
    "# A union() method or symbol (|), returns the set of all values that are values in set1, or set2, or both\n",
    "# You can use the union method to find out all the unique values in two sets.\n",
    "set1 = {'arif', 'rauf'}\n",
    "set2 = {'maaz', 'hadeed', 'arif'}\n",
    "set3 = set1 | set2\n",
    "set4 = set1.union(set2)\n",
    "print(\"set1: \", set1)\n",
    "print(\"set2: \", set2)\n",
    "print(\"set1.union(set2): \", set4)"
   ]
  },
  {
   "cell_type": "markdown",
   "id": "2aae08e0",
   "metadata": {},
   "source": [
    "#### b. Intersection of Sets"
   ]
  },
  {
   "cell_type": "code",
   "execution_count": 12,
   "id": "596c6b8d",
   "metadata": {
    "scrolled": true
   },
   "outputs": [
    {
     "name": "stdout",
     "output_type": "stream",
     "text": [
      "set1:  {'rauf', 'arif'}\n",
      "set2:  {'maaz', 'hadeed', 'arif'}\n",
      "set1 & set2:  {'arif'}\n"
     ]
    }
   ],
   "source": [
    "# The intersection() method or symbol (&), returns the set of all values that are values of both set1 and set2\n",
    "set1 = {'arif', 'rauf'}\n",
    "set2 = {'maaz', 'hadeed', 'arif'}\n",
    "set3 = set1 & set2\n",
    "set4 = set1.intersection(set2)\n",
    "print(\"set1: \", set1)\n",
    "print(\"set2: \", set2)\n",
    "print(\"set1 & set2: \", set4)"
   ]
  },
  {
   "cell_type": "markdown",
   "id": "0f4febac",
   "metadata": {},
   "source": [
    "#### c. Difference of Sets"
   ]
  },
  {
   "cell_type": "code",
   "execution_count": 13,
   "id": "d8248e80",
   "metadata": {},
   "outputs": [
    {
     "name": "stdout",
     "output_type": "stream",
     "text": [
      "set1:  {'rauf', 'arif'}\n",
      "set2:  {'maaz', 'hadeed', 'arif'}\n",
      "set1 - set2:  {'rauf'}\n"
     ]
    }
   ],
   "source": [
    "# The difference() method or symbol (-), returns the set of all values of set1, which are not there in set2\n",
    "set1 = {'arif', 'rauf'}\n",
    "set2 = {'maaz', 'hadeed', 'arif'}\n",
    "set3 = set1 - set2\n",
    "set4 = set1.difference(set2)\n",
    "print(\"set1: \", set1)\n",
    "print(\"set2: \", set2)\n",
    "print(\"set1 - set2: \", set4)"
   ]
  },
  {
   "cell_type": "markdown",
   "id": "a97fc461",
   "metadata": {},
   "source": [
    "#### d. Symmetric Difference of Sets"
   ]
  },
  {
   "cell_type": "code",
   "execution_count": 14,
   "id": "a89c59b7",
   "metadata": {},
   "outputs": [
    {
     "name": "stdout",
     "output_type": "stream",
     "text": [
      "set1:  {'rauf', 'arif'}\n",
      "set2:  {'maaz', 'hadeed', 'arif'}\n",
      "set1 ^ set2:  {'maaz', 'hadeed', 'rauf'}\n"
     ]
    }
   ],
   "source": [
    "# The symmetric_difference() method or symbol (^), returns the (set1 | set2)  - (set1 & set2)\n",
    "set1 = {'arif', 'rauf'}\n",
    "set2 = {'maaz', 'hadeed', 'arif'}\n",
    "set3 = set1 ^ set2\n",
    "set4 = set1.symmetric_difference(set2)\n",
    "print(\"set1: \", set1)\n",
    "print(\"set2: \", set2)\n",
    "print(\"set1 ^ set2: \", set4)\n"
   ]
  },
  {
   "cell_type": "markdown",
   "id": "96e8b480",
   "metadata": {},
   "source": [
    "#### e. Checking Subset"
   ]
  },
  {
   "cell_type": "code",
   "execution_count": 15,
   "id": "24945626",
   "metadata": {},
   "outputs": [
    {
     "name": "stdout",
     "output_type": "stream",
     "text": [
      "True\n",
      "False\n"
     ]
    }
   ],
   "source": [
    "# To check if one set is a subset of other set use issubset() method or <= operator\n",
    "# issubset() method returns whether another set contains this set or not\n",
    "s1 = {1,2,3,4,5,6,7}\n",
    "s2 = {1,2,3,4}\n",
    "print(s2.issubset(s1))\n",
    "print(s1 <= s2) # is s1 a subset of s2\n",
    "\n"
   ]
  },
  {
   "cell_type": "markdown",
   "id": "8f00f73f",
   "metadata": {},
   "source": [
    "#### f. Checking Superset"
   ]
  },
  {
   "cell_type": "code",
   "execution_count": 16,
   "id": "865d531d",
   "metadata": {},
   "outputs": [
    {
     "name": "stdout",
     "output_type": "stream",
     "text": [
      "True\n",
      "True\n"
     ]
    }
   ],
   "source": [
    "# to check if one set is a superset of anoter set use issuperset() method or >= operator\n",
    "s1 = {1,2,3,4,5,6,7}\n",
    "s2 = {1,2,3,4}\n",
    "print(s1.issuperset(s2)) # is s1 a superset of s2\n",
    "print(s1 >= s2)"
   ]
  },
  {
   "cell_type": "markdown",
   "id": "e306e198",
   "metadata": {},
   "source": [
    "#### g. Checking Disjoint"
   ]
  },
  {
   "cell_type": "code",
   "execution_count": 20,
   "id": "0411ca5d",
   "metadata": {},
   "outputs": [
    {
     "name": "stdout",
     "output_type": "stream",
     "text": [
      "False\n",
      "True\n"
     ]
    }
   ],
   "source": [
    "# To check if two sets are disjoint (no intersection) use isdisjoint() method\n",
    "s1 = {1,2,3,4,5,6,7}\n",
    "s2 = {1,2,3,4}\n",
    "print(s1.isdisjoint(s2))\n",
    "\n",
    "# Another example\n",
    "s3 = {1,2,3,4}\n",
    "s4 = {5,6,7,8}\n",
    "print(s3.isdisjoint(s4))\n",
    "\n"
   ]
  },
  {
   "cell_type": "code",
   "execution_count": 27,
   "id": "dd4c9960",
   "metadata": {},
   "outputs": [
    {
     "data": {
      "text/plain": [
       "False"
      ]
     },
     "execution_count": 27,
     "metadata": {},
     "output_type": "execute_result"
    }
   ],
   "source": [
    "s3 = s1.is\n",
    "s3"
   ]
  },
  {
   "cell_type": "markdown",
   "id": "a578a6c3",
   "metadata": {},
   "source": [
    "### 12. Looping through set elements (More on loops in next lecture)"
   ]
  },
  {
   "cell_type": "code",
   "execution_count": 5,
   "id": "8c8c3eeb",
   "metadata": {},
   "outputs": [
    {
     "name": "stdout",
     "output_type": "stream",
     "text": [
      "Learning\n",
      "fun\n",
      "is\n",
      "Arif Butt\n",
      "with\n",
      "s2:  {1, 2, 3, 4, 5, 6, 7}\n"
     ]
    }
   ],
   "source": [
    "# for loop iterates over the elements specified number of times\n",
    "s1 = set(['Learning', 'is', 'fun', 'with', 'Arif Butt'])\n",
    "for x in s1:\n",
    "    print(x)\n",
    " \n",
    "\n",
    "# Adding elements to the Set\n",
    "# using Iterator\n",
    "s2 = set()\n",
    "for i in range(1, 8):\n",
    "    s2.add(i)\n",
    "print(\"s2: \", s2)\n"
   ]
  },
  {
   "cell_type": "code",
   "execution_count": 2,
   "id": "3c29c270",
   "metadata": {},
   "outputs": [
    {
     "data": {
      "text/plain": [
       "{'Arif Butt', 'Learning', 'fun', 'is', 'with'}"
      ]
     },
     "execution_count": 2,
     "metadata": {},
     "output_type": "execute_result"
    }
   ],
   "source": [
    "s1"
   ]
  },
  {
   "cell_type": "code",
   "execution_count": 3,
   "id": "b185ae1b",
   "metadata": {},
   "outputs": [],
   "source": [
    "del s1"
   ]
  },
  {
   "cell_type": "code",
   "execution_count": 4,
   "id": "bd5bd1b5",
   "metadata": {},
   "outputs": [
    {
     "ename": "NameError",
     "evalue": "name 's1' is not defined",
     "output_type": "error",
     "traceback": [
      "\u001b[0;31m---------------------------------------------------------------------------\u001b[0m",
      "\u001b[0;31mNameError\u001b[0m                                 Traceback (most recent call last)",
      "\u001b[0;32m/var/folders/1t/g3ylw8h50cjdqmk5d6jh1qmm0000gn/T/ipykernel_41479/1234754133.py\u001b[0m in \u001b[0;36m<module>\u001b[0;34m\u001b[0m\n\u001b[0;32m----> 1\u001b[0;31m \u001b[0ms1\u001b[0m\u001b[0;34m\u001b[0m\u001b[0;34m\u001b[0m\u001b[0m\n\u001b[0m",
      "\u001b[0;31mNameError\u001b[0m: name 's1' is not defined"
     ]
    }
   ],
   "source": [
    "s1"
   ]
  },
  {
   "cell_type": "code",
   "execution_count": 10,
   "id": "7587c709",
   "metadata": {},
   "outputs": [
    {
     "data": {
      "text/plain": [
       "28"
      ]
     },
     "execution_count": 10,
     "metadata": {},
     "output_type": "execute_result"
    }
   ],
   "source": [
    "sum(s2)"
   ]
  },
  {
   "cell_type": "code",
   "execution_count": 11,
   "id": "f118cad3",
   "metadata": {},
   "outputs": [],
   "source": [
    "str1 = \"learning is fun\""
   ]
  },
  {
   "cell_type": "code",
   "execution_count": 15,
   "id": "8ec28f72",
   "metadata": {},
   "outputs": [],
   "source": [
    "t1 = set(str1.split(' '))"
   ]
  },
  {
   "cell_type": "code",
   "execution_count": 16,
   "id": "a8622a8a",
   "metadata": {},
   "outputs": [
    {
     "data": {
      "text/plain": [
       "{'fun', 'is', 'learning'}"
      ]
     },
     "execution_count": 16,
     "metadata": {},
     "output_type": "execute_result"
    }
   ],
   "source": [
    "t1"
   ]
  },
  {
   "cell_type": "code",
   "execution_count": 17,
   "id": "38ce6579",
   "metadata": {},
   "outputs": [
    {
     "data": {
      "text/plain": [
       "set"
      ]
     },
     "execution_count": 17,
     "metadata": {},
     "output_type": "execute_result"
    }
   ],
   "source": [
    "type(t1)"
   ]
  },
  {
   "cell_type": "code",
   "execution_count": 18,
   "id": "e000ed8d",
   "metadata": {},
   "outputs": [],
   "source": [
    "str2 = ' '.join(t1)"
   ]
  },
  {
   "cell_type": "code",
   "execution_count": 19,
   "id": "1fab61b6",
   "metadata": {},
   "outputs": [
    {
     "data": {
      "text/plain": [
       "'is learning fun'"
      ]
     },
     "execution_count": 19,
     "metadata": {},
     "output_type": "execute_result"
    }
   ],
   "source": [
    "str2"
   ]
  },
  {
   "cell_type": "code",
   "execution_count": null,
   "id": "199a9078",
   "metadata": {},
   "outputs": [],
   "source": []
  }
 ],
 "metadata": {
  "kernelspec": {
   "display_name": "Python 3 (ipykernel)",
   "language": "python",
   "name": "python3"
  },
  "language_info": {
   "codemirror_mode": {
    "name": "ipython",
    "version": 3
   },
   "file_extension": ".py",
   "mimetype": "text/x-python",
   "name": "python",
   "nbconvert_exporter": "python",
   "pygments_lexer": "ipython3",
   "version": "3.8.10"
  }
 },
 "nbformat": 4,
 "nbformat_minor": 5
}
