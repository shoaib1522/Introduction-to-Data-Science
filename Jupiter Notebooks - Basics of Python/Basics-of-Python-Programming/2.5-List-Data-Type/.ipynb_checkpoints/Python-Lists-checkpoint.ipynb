{
 "cells": [
  {
   "cell_type": "markdown",
   "id": "a6651c01",
   "metadata": {},
   "source": [
    "---   \n",
    " <img align=\"left\" width=\"75\" height=\"75\"  src=\"../../University_of_the_Punjab_logo.png\"> \n",
    "\n",
    "<h1 align=\"center\">Department of Data Science</h1>\n",
    "<h1 align=\"center\">Data Science Journey from Beginners to Expert</h1>\n",
    "\n",
    "---\n",
    "<h3><div align=\"right\">Instructor: Engr. Muhammad Nadeem Majeed, Ph.D.</div></h3>    "
   ]
  },
  {
   "cell_type": "markdown",
   "id": "a363bc39",
   "metadata": {},
   "source": [
    "<h1 align=\"center\">Python-Lists</h1>"
   ]
  },
  {
   "cell_type": "markdown",
   "id": "95de41a5",
   "metadata": {},
   "source": [
    "## _Python-Lists.ipynb_\n",
    "#### [Click me to learn more about Python Lists](https://docs.python.org/3/tutorial/datastructures.html)"
   ]
  },
  {
   "cell_type": "markdown",
   "id": "dc557a3b",
   "metadata": {},
   "source": [
    "<img align=\"center\" width=\"800\" height=\"800\"  src=\"images/datatypes1.png\" > "
   ]
  },
  {
   "cell_type": "markdown",
   "id": "73411664",
   "metadata": {},
   "source": [
    "<img align=\"center\" width=\"600\" height=\"1200\"  src=\"images/listvsarray.png\" > \n",
    "Lists in Python however, tend to be more flexible than arrays in other languages for a two good reasons: \n",
    "\n",
    "- They have no fixed size (meaning we don't have to specify how big a list will be).\n",
    "- They have no fixed type constraint."
   ]
  },
  {
   "cell_type": "markdown",
   "id": "ee14dd7d",
   "metadata": {},
   "source": [
    "> **A List is a numerically ordered sequence of elements that can store elements of heterogeneous types, is iterable, mutable and allows duplicate elements.**"
   ]
  },
  {
   "cell_type": "markdown",
   "id": "7c109b0c",
   "metadata": {},
   "source": [
    "<img align=\"right\" width=\"300\" height=\"800\"  src=\"images/pythonlist.png\" > \n",
    "\n",
    "\n",
    "\n",
    "## Learning agenda of this notebook\n",
    "* **Data Structures** are a particular way of organizing data in computer. A clever way of laying out your data to make sure the data does what you want it to do. Most of the variables types that we have studied so far (numbers and strings) have one value in them, when we put a new value in them the old value is overwritten.\n",
    "* **Collections** allows us to put many values in a single variable. Lists, Sets, Tuples, and Dictionaries are some types of Python collections\n",
    "* **Sequences** are collections of objects, however, each object in a sequence is assigned an index and the items of a sequence can be manipulated using its respective index. List and Tuples fall into this category.\n",
    "* Today we are going to talk about **Python Lists**, which is a collection of arbitrary objects, somewhat akin to an array in many other programming languages, but more flexible. Unlike strings, Lists are mutable, meaning the elements inside a list can be changed.\n",
    "\n",
    "1. How to create lists?\n",
    "2. Proof of concepts: Lists are heterogeneous, ordered, mutable, nested, and allow duplicate elements\n",
    "3. Different ways to access list elements\n",
    "4. Slicing Lists\n",
    "5. List concatenation and repetition\n",
    "6. Modifying/Adding elements to a List using `append()`, `extend()`, and `insert()` methods\n",
    "7. Removing elements from a list using `pop()` and `remove()` methods\n",
    "8. Converting string object to list and vice-versa (using type casting, `split()` and `join()`)\n",
    "9. Aliasing vs Shallow Copy vs Deep Copy\n",
    "10. Sorting a list and Custom sorting\n",
    "11. Misc Concepts"
   ]
  },
  {
   "cell_type": "code",
   "execution_count": null,
   "id": "588cc46d",
   "metadata": {},
   "outputs": [],
   "source": [
    "help(list)"
   ]
  },
  {
   "cell_type": "markdown",
   "id": "78d11dc1",
   "metadata": {},
   "source": [
    "## 1. How to Create Lists?\n",
    ">- **A Python List is a numerically ordered sequence of elements that can store multiple items of heterogeneous types and allows duplicate elements.**\n",
    ">- **A Python List can be created by placing comma separated values in square brackets.**"
   ]
  },
  {
   "cell_type": "code",
   "execution_count": null,
   "id": "88801cf7",
   "metadata": {},
   "outputs": [],
   "source": [
    "# It allows us to store elements of different data types (number, boolean, string, list) in one container.\n",
    "\n",
    "list1 = [1,2,3,4,5]   #list of integers\n",
    "print(list1)\n",
    "\n",
    "list2 = [3.7, 6.5, 3.8, 7.95 ]   #list of floats\n",
    "print(list2)\n",
    "\n",
    "list3 = [\"hello\", \"this\", \"F\", \"good show\"]   #list of strings\n",
    "print(list3)\n",
    "\n",
    "list4 = [True, False, True]   #list of boolean\n",
    "print(list4)\n",
    "\n",
    "list5 = []   #this will create an empty list\n",
    "print(list5)\n",
    "\n",
    "print(type(list5))"
   ]
  },
  {
   "cell_type": "code",
   "execution_count": null,
   "id": "458957c8",
   "metadata": {},
   "outputs": [],
   "source": [
    "# Nested list: list can also have another list as an item\n",
    "list1 = [\"Arif\", 30, 5.5, [10,'rauf']]\n",
    "print(list1)"
   ]
  },
  {
   "cell_type": "code",
   "execution_count": null,
   "id": "539f6d47",
   "metadata": {},
   "outputs": [],
   "source": [
    "# we can create empty list\n",
    "empty_list = []\n",
    "print (empty_list)"
   ]
  },
  {
   "cell_type": "code",
   "execution_count": null,
   "id": "a11b5b3f",
   "metadata": {},
   "outputs": [],
   "source": [
    "#printing multiple lists\n",
    "list1 = [1,2,3,4,5]\n",
    "list2 = [\"Arif\", 30, 5.5, [10,'rauf']]\n",
    "empty_list = []\n",
    "\n",
    "print(list1, list2, empty_list, sep='\\n')"
   ]
  },
  {
   "cell_type": "markdown",
   "id": "48f77dc4",
   "metadata": {},
   "source": [
    "## 2. Proof of concepts"
   ]
  },
  {
   "cell_type": "markdown",
   "id": "d2c423a2",
   "metadata": {},
   "source": [
    "### a. Lists are heterogeneous\n",
    "- Lists are heterogeneous, as their elements/items can be of any data type"
   ]
  },
  {
   "cell_type": "code",
   "execution_count": null,
   "id": "e42284d8",
   "metadata": {},
   "outputs": [],
   "source": [
    "list1 = [\"Arif\", 30, 5.5]\n",
    "print(\"list1: \", list1)"
   ]
  },
  {
   "cell_type": "markdown",
   "id": "a9281ff0",
   "metadata": {},
   "source": [
    "### b. Lists are ordered\n",
    "- Lists are ordered means every element is associated by an index\n",
    "- Every time you access list elements they will show up in same sequence. \n",
    "- Moreover, two lists having same elements in different order are not same."
   ]
  },
  {
   "cell_type": "code",
   "execution_count": null,
   "id": "4d10cb93",
   "metadata": {},
   "outputs": [],
   "source": [
    "x = [1, 2, 3]\n",
    "y = [1, 2, 3]\n",
    "id(x), id(y), x is y, x==y"
   ]
  },
  {
   "cell_type": "code",
   "execution_count": null,
   "id": "291d292e",
   "metadata": {},
   "outputs": [],
   "source": [
    "a = [1, 2, 3]\n",
    "b = [2, 3, 1]\n",
    "id(a), id(b), a is b, a == b"
   ]
  },
  {
   "cell_type": "markdown",
   "id": "a4d31dd7",
   "metadata": {},
   "source": [
    "### c. Lists are mutable\n",
    "- We have seen in previous session that Strings are **immutable**, i.e., we cannot change the contents of a string, however, we can assign an entirely new string to a variable\n",
    "- List on the contrary are **mutable**, i.e., once a List object is created, you can change an element of the list using the index `[]` and assignment `=' operator"
   ]
  },
  {
   "cell_type": "code",
   "execution_count": null,
   "id": "3942c4a3",
   "metadata": {},
   "outputs": [],
   "source": [
    "numbers = [10, 20, 30, 40, 50]\n",
    "numbers[2] = 555\n",
    "print(\"numbers: \", numbers)"
   ]
  },
  {
   "cell_type": "markdown",
   "id": "f1271382",
   "metadata": {},
   "source": [
    "### d. Lists can have duplicate emements"
   ]
  },
  {
   "cell_type": "code",
   "execution_count": null,
   "id": "904f68ac",
   "metadata": {},
   "outputs": [],
   "source": [
    "# lists allow duplicate elements\n",
    "names = ['Arif', 'Rauf', 'Hadeed', 'Arif', 'Mujahid']\n",
    "print(names)"
   ]
  },
  {
   "cell_type": "markdown",
   "id": "1cbb9c99",
   "metadata": {},
   "source": [
    "### e. Lists can be nested to arbitrary depth\n",
    "- You can have list within list and that can be done to an arbitrary depth. You are only restricted to the available memory on your system"
   ]
  },
  {
   "cell_type": "code",
   "execution_count": null,
   "id": "de0ae65e",
   "metadata": {},
   "outputs": [],
   "source": [
    "# A list having two sub-lists within it\n",
    "a = [1,2,3,[4,5],[6,7,8,9],10,11]\n",
    "\n",
    "# A list having a sublist, which is further having a sublist and that again having a sublist\n",
    "b = [1,2,3,[4,5,[6,7,8,[9,10,11]]]]\n",
    "a, b"
   ]
  },
  {
   "cell_type": "markdown",
   "id": "ca269402",
   "metadata": {},
   "source": [
    "### f. Packing and Unpacking Lists"
   ]
  },
  {
   "cell_type": "code",
   "execution_count": null,
   "id": "4fc9e430",
   "metadata": {},
   "outputs": [],
   "source": [
    "# you can unpack list elements\n",
    "mylist = ['learning', 'is', 'fun', 'with', 'Arif']\n",
    "a, b, c, d, e = mylist # the number of variables on the left must match the number of elements in the list\n",
    "print (a, d, e)\n",
    "print(type(a))"
   ]
  },
  {
   "cell_type": "code",
   "execution_count": null,
   "id": "e994ce1b",
   "metadata": {},
   "outputs": [],
   "source": [
    "# you can pack individual elements to a list\n",
    "tuple1 = a,b,c,d,e\n",
    "mylist2 = list(tuple1)\n",
    "print(mylist2)\n",
    "print(type(mylist2))"
   ]
  },
  {
   "cell_type": "code",
   "execution_count": null,
   "id": "af507554",
   "metadata": {},
   "outputs": [],
   "source": [
    "tuple1 = a,b,c,d,e\n",
    "tuple1\n",
    "type(tuple1)"
   ]
  },
  {
   "cell_type": "markdown",
   "id": "418db83b",
   "metadata": {},
   "source": [
    "## 3. Different ways to access elements of a list\n",
    "- Since Lists like Strings are of type sequence, and any element within a sequence can be accessed by entrying an index within square brackets. So naturally this must work for Lists as well\n",
    "- Similarly, if we want to find out the index of a specific item/element, we can use the `index()` method of List class"
   ]
  },
  {
   "cell_type": "code",
   "execution_count": null,
   "id": "d42c7653",
   "metadata": {},
   "outputs": [],
   "source": [
    "#You can access elements of list using indexing which starts from zero\n",
    "list1 = [\"Arif\", 30, 5.5, [10,'rauf']]\n",
    "print(list1[3])\n",
    "\n",
    "#accessing Nested list element\n",
    "print(list1[0][2])              #accessing third element of string at index 0\n",
    "print(list1[3][1])              #accessing second element of Nested list"
   ]
  },
  {
   "cell_type": "code",
   "execution_count": null,
   "id": "b1f6cd69",
   "metadata": {},
   "outputs": [],
   "source": [
    "#Negative indexing starts looking at the list from the right hand side\n",
    "list1 = [\"Arif\", 30, 5.5, [10,'rauf']]\n",
    "print(list1[-1])                #accessing last element\n",
    "print(list1[-2])                #accessing second last element"
   ]
  },
  {
   "cell_type": "code",
   "execution_count": null,
   "id": "cf060c56",
   "metadata": {},
   "outputs": [],
   "source": [
    "help(list1.index)"
   ]
  },
  {
   "cell_type": "code",
   "execution_count": null,
   "id": "74898626",
   "metadata": {},
   "outputs": [],
   "source": [
    "# index(value) method is used when you know the list element and wants to get its index\n",
    "# index(value) method returns the index of the first matched item with its only argument\n",
    "mylist = [27, 4.5, 'arif', 64, 'hadeed', 19, 'arif']\n",
    "print(\"\\nmylist: \", mylist)\n",
    "mylist.index('arif')"
   ]
  },
  {
   "cell_type": "markdown",
   "id": "c9517d91",
   "metadata": {},
   "source": [
    "## 4. Slicing Lists\n",
    "- Like anyother sequence object we can perform slicing with lists as well.\n",
    "- Slicing is the process of obtaining a portion of a list by using its indices.\n",
    "- Given a list, we can use the following template to slice it and obtain a sublist:\n",
    "```\n",
    "mylist[start:end:step]\n",
    "```\n",
    "\n",
    "- **start** is the index from where we want the sublist to start. If start is not provided, slicing starts from the beginning.\n",
    "- **end** is the index where we want our sublist to end (not inclusive in the sublist). If end is not provided, slicing goes till the last element of the list.\n",
    "- **step** is the step through which we want to skip elements in the list. The default step is 1, so we iterate through every element of the list."
   ]
  },
  {
   "cell_type": "code",
   "execution_count": null,
   "id": "35e2ee1a",
   "metadata": {},
   "outputs": [],
   "source": [
    "list1 = ['a','b','c','d','e','f','g','h','i']\n",
    "list1"
   ]
  },
  {
   "cell_type": "code",
   "execution_count": null,
   "id": "bf9edbdb",
   "metadata": {},
   "outputs": [],
   "source": [
    "list1[::]"
   ]
  },
  {
   "cell_type": "code",
   "execution_count": null,
   "id": "7da08034",
   "metadata": {},
   "outputs": [],
   "source": [
    "list1[3:]"
   ]
  },
  {
   "cell_type": "code",
   "execution_count": null,
   "id": "b0341f68",
   "metadata": {},
   "outputs": [],
   "source": [
    "list1[:4]"
   ]
  },
  {
   "cell_type": "code",
   "execution_count": null,
   "id": "90138f70",
   "metadata": {},
   "outputs": [],
   "source": [
    "list1[2:5]"
   ]
  },
  {
   "cell_type": "code",
   "execution_count": null,
   "id": "a88e461e",
   "metadata": {},
   "outputs": [],
   "source": [
    "list1[:-2]"
   ]
  },
  {
   "cell_type": "code",
   "execution_count": null,
   "id": "9fbfba37",
   "metadata": {},
   "outputs": [],
   "source": [
    "list1[-1]"
   ]
  },
  {
   "cell_type": "code",
   "execution_count": null,
   "id": "ed3fa5a4",
   "metadata": {},
   "outputs": [],
   "source": [
    "# Slicing by using strides\n",
    "list1 = ['a','b','c','d','e','f','g','h','i']\n",
    "print(list1[::])  # A default step of 1\n",
    "print(list1[::1])  # A step of 1\n",
    "print(list1[::2])  # A step of 2\n",
    "print(list1[::3])  # A step of 3"
   ]
  },
  {
   "cell_type": "code",
   "execution_count": null,
   "id": "2c0ff8ef",
   "metadata": {},
   "outputs": [],
   "source": [
    "# Reverse slicing\n",
    "list1 = ['a','b','c','d','e','f','g','h','i']\n",
    "print(list1[::-1]) # Take 1 step back each time\n",
    "print(list1[5:1:-1]) # Take 1 step back each time\n",
    "#if start is less than end in case of a negative step, it will return empty string\n",
    "print(list1[2:10:-1])\n",
    "print(list1[::-2]) # Take 2 steps back"
   ]
  },
  {
   "cell_type": "markdown",
   "id": "87ccae14",
   "metadata": {},
   "source": [
    "Here are some experiments you should try out:\n",
    "\n",
    "* Try setting one or both indices of the range are larger than the size of the list, e.g., `a_list[2:10]`\n",
    "* Try setting the start index of the range to be larger than the end index, e.g., `a_list[12:10]`\n",
    "* Try leaving out the start or end index of a range, e.g., `a_list[2:]` or `a_list[:5]`\n",
    "* Try using negative indices for the range, e.g., `a_list[-2:-5]` or `a_list[-5:-2]` (can you explain the results?)\n",
    "\n",
    "> The flexible and interactive nature of Jupyter notebooks makes them an excellent tool for learning and experimentation. If you are new to Python, you can resolve most questions as soon as they arise simply by typing the code into a cell and executing it. **Let your curiosity run wild, discover what Python is capable of and what it isn't!**"
   ]
  },
  {
   "cell_type": "code",
   "execution_count": null,
   "id": "470034d1",
   "metadata": {},
   "outputs": [],
   "source": [
    "list1 = ['a','b','c','d','e','f','g','h','i']\n",
    "\n",
    "print(list1[::3])\n",
    "print(list1[3:6])\n",
    "print(list1[2:8:-1])\n",
    "print(list1[-1:-3:-1])"
   ]
  },
  {
   "cell_type": "markdown",
   "id": "8f109f45",
   "metadata": {},
   "source": [
    "## 5. List Concatenation and Repetition"
   ]
  },
  {
   "cell_type": "markdown",
   "id": "6807e6b2",
   "metadata": {},
   "source": [
    "### a. Concatenating Lists\n",
    "- Like Strings, the `+` operator can be used to concatenate two or more lists"
   ]
  },
  {
   "cell_type": "code",
   "execution_count": null,
   "id": "5bf4db5d",
   "metadata": {},
   "outputs": [],
   "source": [
    "# Add some elements to the end of an existing list using concatenation operator\n",
    "a = [1,2,3]\n",
    "b = a + [4,5]\n",
    "# Add some elements to the beginning of an existing list using concatenation operator\n",
    "c = [0] + b\n",
    "a, b, c"
   ]
  },
  {
   "cell_type": "code",
   "execution_count": null,
   "id": "6106dde2",
   "metadata": {},
   "outputs": [],
   "source": [
    "# use + operator to concatenate two lists\n",
    "food_items1 = ['fruits', 'bread', 'veggies'] \n",
    "food_items2 = ['meat', 'spices', 'burger']\n",
    "food = food_items1 + food_items2\n",
    "print(food)"
   ]
  },
  {
   "cell_type": "code",
   "execution_count": null,
   "id": "92843c21",
   "metadata": {},
   "outputs": [],
   "source": [
    "# You can concatenate two heterogeneous lists\n",
    "list1 = [5, 3.4, 'hello']\n",
    "list2 = [31, 9.7, 'bye']\n",
    "list3 = list1 + list2\n",
    "print(list3)"
   ]
  },
  {
   "cell_type": "code",
   "execution_count": null,
   "id": "7085ad9c",
   "metadata": {},
   "outputs": [],
   "source": [
    "num1 = [1,2,3]\n",
    "num2 = num1 + [4, 5, 6, [7, 8]]\n",
    "print (num2)"
   ]
  },
  {
   "cell_type": "markdown",
   "id": "75f6b199",
   "metadata": {},
   "source": [
    "### b. Replicating Lists\n",
    "- Like Strings, the `*` operator can be used to repeat or replicate a list multiple times"
   ]
  },
  {
   "cell_type": "code",
   "execution_count": null,
   "id": "d4208107",
   "metadata": {},
   "outputs": [],
   "source": [
    "# use list * n syntax to create large lists by repeating the list n times\n",
    "name = ['Arif', 'Hadeed', 'Mujahid']\n",
    "a = name * 3\n",
    "print(a)"
   ]
  },
  {
   "cell_type": "code",
   "execution_count": null,
   "id": "f1dd57af",
   "metadata": {},
   "outputs": [],
   "source": [
    "#list of 100 A's\n",
    "buf = ['A']\n",
    "newbuf = buf * 100\n",
    "print(newbuf)"
   ]
  },
  {
   "cell_type": "markdown",
   "id": "0557d8ff",
   "metadata": {},
   "source": [
    "## 6. Modifying/Adding elements to a list\n",
    "\n",
    "- We have worked on different methods of String class in our previous session. Similarly there are several built-in methods of the List class. \n",
    "> **Remember, unlike String methods, most methods of List class modify the original List rather than returning a new one.**\n",
    "- Lists are dynamic, as we write our Python program, we can actually make changes to our already created list, whithout having to go for compiling it again. \n",
    "- If we have to add certain elements to an already created list, the original list gorws dynamically without the need of compiling/running the program again (as in case of heap memory in C/C++)\n",
    "\n",
    "- We can use a list methods to perform various tasks on a list object and modify it. \n",
    "- Some list methods that can be used to alter a list are (append, insert, extend, remove, pop, clear, index, count, sort, reverse, split and join)\n",
    "- Check out some common list operations here: https://www.w3schools.com/python/python_ref_list.asp ."
   ]
  },
  {
   "cell_type": "markdown",
   "id": "b533ec2b",
   "metadata": {},
   "source": [
    "### a. Modifying/Adding elements to a list using [ ] operator"
   ]
  },
  {
   "cell_type": "code",
   "execution_count": null,
   "id": "9a5ac824",
   "metadata": {},
   "outputs": [],
   "source": [
    "mylist = ['data science', 'machine learning', 2, 5, 7]\n",
    "# Let us change the second element of this list\n",
    "mylist[1] = 'big data'\n",
    "mylist"
   ]
  },
  {
   "cell_type": "code",
   "execution_count": null,
   "id": "b5f68e63",
   "metadata": {},
   "outputs": [],
   "source": [
    "# We can use the slice index to modify multiple list elements in one go\n",
    "mylist = ['data science', 'machine learning', 2, 5, 7]\n",
    "mylist[0:2] = ['english', 'urdu'] # Note we are replacing two elements with two elements\n",
    "mylist"
   ]
  },
  {
   "cell_type": "code",
   "execution_count": null,
   "id": "3355ee53",
   "metadata": {},
   "outputs": [],
   "source": [
    "# We can replace more number of elements with lesser number of elements in a list\n",
    "mylist = ['data science', 'machine learning', 2, 5, 7]\n",
    "mylist[0:2] = ['BIG DATA'] # Note we are replacing two elements with one element\n",
    "mylist"
   ]
  },
  {
   "cell_type": "code",
   "execution_count": null,
   "id": "b7086b8e",
   "metadata": {},
   "outputs": [],
   "source": [
    "# We can replace one element with more number of elements in a list\n",
    "mylist = ['data science', 'machine learning', 2, 5, 7]\n",
    "mylist[0] = ['math', 'stat'] # Note we are replacing one element with two elements\n",
    "mylist"
   ]
  },
  {
   "cell_type": "markdown",
   "id": "d5463e15",
   "metadata": {},
   "source": [
    "- Note the elements have been added, but as a sub-list. The first element 'data science' is replaced by a sub-list having two elements 'math' and 'stat'\n",
    "- If you want the elements to be individually placed in the list do as follows:"
   ]
  },
  {
   "cell_type": "code",
   "execution_count": null,
   "id": "3059975f",
   "metadata": {},
   "outputs": [],
   "source": [
    "mylist = ['data science', 'machine learning', 2, 5, 7]\n",
    "mylist[0:1] = ['math', 'stat'] # Note we using a slice instead of single index, although it means just zero\n",
    "mylist"
   ]
  },
  {
   "cell_type": "markdown",
   "id": "2d39a79a",
   "metadata": {},
   "source": [
    "### b. Adding elements to a list using `list.append(value)` method\n",
    "- `list.append(value)` method is used when you want to add a single element at the end of the list\n",
    "- It is passed one argument which is the element to be inserted and returns none/void"
   ]
  },
  {
   "cell_type": "code",
   "execution_count": null,
   "id": "93aed67f",
   "metadata": {},
   "outputs": [],
   "source": [
    "list1 = []\n",
    "help(list1.append)"
   ]
  },
  {
   "cell_type": "code",
   "execution_count": null,
   "id": "d35792db",
   "metadata": {},
   "outputs": [],
   "source": [
    "list1 = [2, 4, 6, 8]\n",
    "list1.append(4.631)\n",
    "list1.append('hello')\n",
    "list1"
   ]
  },
  {
   "cell_type": "code",
   "execution_count": null,
   "id": "ca6ca4be",
   "metadata": {},
   "outputs": [],
   "source": [
    "# You cannot add multiple elements using append\n",
    "# If you try it will actually add those elements as a sub-list\n",
    "list1 = [2, 4, 6, 8]\n",
    "list1.append([4.631, 'hello'])\n",
    "list1"
   ]
  },
  {
   "cell_type": "markdown",
   "id": "9d44e1ab",
   "metadata": {},
   "source": [
    "### c. Adding elements to a list using `list.extend(sublist)` method\n",
    "- `list.extend(sublist)` method is used when you want to add multiple elements at the end of the list\n",
    "- It is passed a list to be added at the end and returns none/void"
   ]
  },
  {
   "cell_type": "code",
   "execution_count": null,
   "id": "0e3b12b5",
   "metadata": {},
   "outputs": [],
   "source": [
    "list1 = []\n",
    "help(list1.extend)"
   ]
  },
  {
   "cell_type": "code",
   "execution_count": null,
   "id": "980f7c99",
   "metadata": {},
   "outputs": [],
   "source": [
    "list1 = [2, 4, 6, 8]\n",
    "list1.extend([4.631, 'hello'])\n",
    "list1"
   ]
  },
  {
   "cell_type": "code",
   "execution_count": null,
   "id": "1bdeaa24",
   "metadata": {},
   "outputs": [],
   "source": [
    "# another example of extend()\n",
    "fruits = ['apple', 'banana', 'cherry']\n",
    "vegs = ['potato', 'tomato', 'radish']\n",
    "fruits.extend(vegs)\n",
    "fruits"
   ]
  },
  {
   "cell_type": "markdown",
   "id": "971f9541",
   "metadata": {},
   "source": [
    "### d. Adding elements to a list using `list.insert(index, value)` method\n",
    "- `list.insert(index, value)` method is used when you want to add an element at a specific location in the list\n",
    "- It is passed index and value and returns none/void"
   ]
  },
  {
   "cell_type": "code",
   "execution_count": null,
   "id": "ec4b5b5e",
   "metadata": {},
   "outputs": [],
   "source": [
    "list1 = []\n",
    "help(list1.insert)"
   ]
  },
  {
   "cell_type": "code",
   "execution_count": null,
   "id": "4ca664fe",
   "metadata": {},
   "outputs": [],
   "source": [
    "myfamily = [\"Farooq\", 'Rauf', 'Hadeed']\n",
    "print(\"\\nOriginal family list: \", myfamily)\n",
    "myfamily.insert(2,'Arif')\n",
    "print(\"After insert: \", myfamily)"
   ]
  },
  {
   "cell_type": "code",
   "execution_count": null,
   "id": "7f06cee2",
   "metadata": {},
   "outputs": [],
   "source": [
    "# you can insert a sub-list\n",
    "myfamily = [\"Farooq\", 'Rauf', 'Arif']\n",
    "myfamily.insert(2,['Maaz','Mohid'])\n",
    "myfamily"
   ]
  },
  {
   "cell_type": "markdown",
   "id": "ae40dd9e",
   "metadata": {},
   "source": [
    "## 7. Removing elements from a list using `list.pop()` and `list.remove()` methods\n",
    "- Lists are dynamic, as we write our Python program, we can actually make changes to our already created list, whithout having to go for compiling it again. \n",
    "- If we have to remove certain elements from an already created list, the original list shrinks dynamically without the need of compiling/running the program again (as in case of heap memory in C/C++)"
   ]
  },
  {
   "cell_type": "markdown",
   "id": "237bc34d",
   "metadata": {},
   "source": [
    "### a. Removing element from a List using `list.pop(index)` method\n",
    "- The `list.pop()` method without any argument removes the last item (right most element) in the list and returns it\n",
    "- If given an argument/index, will remove that item from list whose index is given and returns it"
   ]
  },
  {
   "cell_type": "code",
   "execution_count": null,
   "id": "69e93d25",
   "metadata": {},
   "outputs": [],
   "source": [
    "list1 = []\n",
    "help(list1.pop)"
   ]
  },
  {
   "cell_type": "code",
   "execution_count": null,
   "id": "46064836",
   "metadata": {},
   "outputs": [],
   "source": [
    "list1 = ['learning', 'is', 'fun', 'with', 'arif', 'butt']\n",
    "print(\"Original list: \", list1)\n",
    "x  = list1.pop()\n",
    "print(\"\\nAfter pop(): \", list1)\n",
    "print(\"Element popped is: \", x)"
   ]
  },
  {
   "cell_type": "code",
   "execution_count": null,
   "id": "d8eb6450",
   "metadata": {},
   "outputs": [],
   "source": [
    "y = list1.pop(2)\n",
    "print(\"\\nAfter pop(2): \", list1)\n",
    "print(\"Element popped is: \", y)"
   ]
  },
  {
   "cell_type": "code",
   "execution_count": null,
   "id": "117c82e8",
   "metadata": {},
   "outputs": [],
   "source": [
    "z = list1.pop(-2)\n",
    "print(\"\\nAfter pop(-2): \", list1)\n",
    "print(\"Element popped is: \", z)"
   ]
  },
  {
   "cell_type": "markdown",
   "id": "6942dee3",
   "metadata": {},
   "source": [
    "### b. Removing element from a list using `list.remove(val)` method\n",
    "- The `list.remove(value)` method is used when you want to remove a specific element without returning it\n",
    "- It is passed exactly one argument, which is the value to be removed and returns none/void\n",
    "- In case of multiple occurrances, it removes the first occurrence of the element"
   ]
  },
  {
   "cell_type": "code",
   "execution_count": null,
   "id": "db0262b0",
   "metadata": {},
   "outputs": [],
   "source": [
    "list1 = []\n",
    "help(list1.remove)"
   ]
  },
  {
   "cell_type": "code",
   "execution_count": null,
   "id": "33f7704a",
   "metadata": {},
   "outputs": [],
   "source": [
    "list2 = ['learning', 'is', 'fun', 'with', 'arif', 'butt', 'fun']\n",
    "print(\"\\nOriginal list: \", list2)\n",
    "\n",
    "x = list2.remove('fun')\n",
    "\n",
    "print(\"After remove('fun'): \", list2)\n",
    "print(\"Return value of remove() is: \", x)"
   ]
  },
  {
   "cell_type": "markdown",
   "id": "ea9ea511",
   "metadata": {},
   "source": [
    "### c. Using `list.clear()` method to remove all the list elements"
   ]
  },
  {
   "cell_type": "code",
   "execution_count": null,
   "id": "e7860e12",
   "metadata": {},
   "outputs": [],
   "source": [
    "list1 = []\n",
    "help(list1.clear)"
   ]
  },
  {
   "cell_type": "code",
   "execution_count": null,
   "id": "db592559",
   "metadata": {},
   "outputs": [],
   "source": [
    "list2 = ['learning', 'is', 'fun', 'with', 'arif', 'butt']\n",
    "list2.clear()\n",
    "print(\"\\nAfter clear() the list becomes empty: \", list2)"
   ]
  },
  {
   "cell_type": "markdown",
   "id": "2465dd24",
   "metadata": {},
   "source": [
    "### d. Using `del` Keyword to delete one or more list items or delete the list entirely from memory"
   ]
  },
  {
   "cell_type": "code",
   "execution_count": null,
   "id": "b29e2b9b",
   "metadata": {},
   "outputs": [],
   "source": [
    "help('del')"
   ]
  },
  {
   "cell_type": "code",
   "execution_count": null,
   "id": "113706e2",
   "metadata": {},
   "outputs": [],
   "source": [
    "# use del keyword to delete one or more list items by using index or to delete the list entirely from memory\n",
    "list3 = [1,2,3,4,5,6,7,8,9]\n",
    "del list3[3:6]\n",
    "list3"
   ]
  },
  {
   "cell_type": "code",
   "execution_count": null,
   "id": "a68c5550",
   "metadata": {},
   "outputs": [],
   "source": [
    "# use del keyword to delete one or more list items by using index or to delete the list entirely from memory\n",
    "list3 = [1,2,3,[53, 41, 99, 12], 8,9]\n",
    "print(\"\\nOriginal list\", list3)\n",
    "del list3[3]\n",
    "print(\"After del list1[3] the list becomes\", list3)"
   ]
  },
  {
   "cell_type": "code",
   "execution_count": null,
   "id": "e85aa8f0",
   "metadata": {},
   "outputs": [],
   "source": [
    "#to delete entire list\n",
    "mylist = ['learning', 'is', 'fun', 'with', 'arif', 'butt']\n",
    "del mylist\n",
    "#mylist"
   ]
  },
  {
   "cell_type": "markdown",
   "id": "0f4dd1c2",
   "metadata": {},
   "source": [
    "## 8. Converting String object to List and vice-versa"
   ]
  },
  {
   "cell_type": "markdown",
   "id": "9a54e2b3",
   "metadata": {},
   "source": [
    "### a. Type Casting"
   ]
  },
  {
   "cell_type": "code",
   "execution_count": null,
   "id": "98d157d3",
   "metadata": {},
   "outputs": [],
   "source": [
    "# convert a string into list using list()\n",
    "str1 = 'Learning is fun'    #this is a string\n",
    "print(type(str1))\n",
    "print(\"Original string: \", str1, \"and its type is:  \", type(str1))\n",
    "l1 = list(str1)\n",
    "print(\"l1: \", l1, \"and its type is:  \", type(l1))"
   ]
  },
  {
   "cell_type": "markdown",
   "id": "f732b046",
   "metadata": {},
   "source": [
    "### b. Use `str.split()` to Split a List into Strings\n",
    "- Used to tokenize a string based on some delimiter, which can be stored in a list\n",
    "- It returns a list having tokens of the string based on spaces if no argument is passed"
   ]
  },
  {
   "cell_type": "code",
   "execution_count": null,
   "id": "8a95b4c3",
   "metadata": {},
   "outputs": [],
   "source": [
    "str1 = \"\"\n",
    "help(str1.split)"
   ]
  },
  {
   "cell_type": "code",
   "execution_count": null,
   "id": "a220f31c",
   "metadata": {},
   "outputs": [],
   "source": [
    "str1 = 'Learning is fun'    #this is a string\n",
    "list1 = str1.split(' ')\n",
    "list1"
   ]
  },
  {
   "cell_type": "code",
   "execution_count": null,
   "id": "2bd45927",
   "metadata": {},
   "outputs": [],
   "source": [
    "str2 = \"Data Science is GR8 Degree\"    #this is a string\n",
    "list2 = str2.split('c')\n",
    "list2"
   ]
  },
  {
   "cell_type": "markdown",
   "id": "ab267a53",
   "metadata": {},
   "source": [
    "### c. Use `str.join()` to Join Strings into a List\n",
    "- It is the reverse of `str.split()` method, and is used to joing multiple strings by inserting the string in between on which this method is called"
   ]
  },
  {
   "cell_type": "code",
   "execution_count": null,
   "id": "642d6919",
   "metadata": {},
   "outputs": [],
   "source": [
    "str1 = \"\"\n",
    "help(str1.join)"
   ]
  },
  {
   "cell_type": "code",
   "execution_count": null,
   "id": "bca2e103",
   "metadata": {},
   "outputs": [],
   "source": [
    "list1 = ['This', 'is', 'getting', 'more', 'and', 'more', 'interesting']\n",
    "list1"
   ]
  },
  {
   "cell_type": "code",
   "execution_count": null,
   "id": "b20ac1f0",
   "metadata": {},
   "outputs": [],
   "source": [
    "str2 = ' '.join(list1)\n",
    "print(str2)\n",
    "print(type(str2))"
   ]
  },
  {
   "cell_type": "code",
   "execution_count": null,
   "id": "46b9611e",
   "metadata": {},
   "outputs": [],
   "source": [
    "delimiter = \" # \"\n",
    "str3 = delimiter.join(list1)\n",
    "print(str3)\n",
    "print(type(str3))"
   ]
  },
  {
   "cell_type": "markdown",
   "id": "1f006170",
   "metadata": {},
   "source": [
    "### d. Some Built-in Functions that can be used on Lists"
   ]
  },
  {
   "cell_type": "code",
   "execution_count": null,
   "id": "5c164642",
   "metadata": {},
   "outputs": [],
   "source": [
    "help(len)"
   ]
  },
  {
   "cell_type": "code",
   "execution_count": null,
   "id": "93de6e51",
   "metadata": {},
   "outputs": [],
   "source": [
    "help(max)"
   ]
  },
  {
   "cell_type": "code",
   "execution_count": null,
   "id": "ec002dbc",
   "metadata": {},
   "outputs": [],
   "source": [
    "help(sum)"
   ]
  },
  {
   "cell_type": "code",
   "execution_count": null,
   "id": "2f025aa2",
   "metadata": {},
   "outputs": [],
   "source": [
    "list_num = [3, 8, 1, 6, 0, 8, 4]\n",
    "\n",
    "print(\"length of list: \", len(list_num))\n",
    "print(\"max element in list: \", max(list_num))\n",
    "print(\"min element in list: \",min(list_num))\n",
    "print(\"Sum of element in list: \",sum(list_num))"
   ]
  },
  {
   "cell_type": "markdown",
   "id": "c0711ea2",
   "metadata": {},
   "source": [
    "## 9. Simple Assignment (aliasing) vs Shallow Copy vs Deep Copy"
   ]
  },
  {
   "cell_type": "markdown",
   "id": "6e1dca26",
   "metadata": {},
   "source": [
    "### a. Aliasing: Making an Alias of a List object using simple Assignment `=` Operator\n",
    "- In Python, we use `=` operator to create a copy/alias of an object. \n",
    "- Remember it doesnot create a new object, rather creates a new variable that shares the reference of the original object."
   ]
  },
  {
   "cell_type": "code",
   "execution_count": null,
   "id": "240b5fd8",
   "metadata": {},
   "outputs": [],
   "source": [
    "list1 = [1, 2, 3, 4]\n",
    "list2 = list1\n",
    "\n",
    "# Both variables point to same memory object, so have the same ID\n",
    "print('ID of Old List:', id(list1))\n",
    "print('ID of New List:', id(list2))"
   ]
  },
  {
   "cell_type": "code",
   "execution_count": null,
   "id": "dbeffafc",
   "metadata": {},
   "outputs": [],
   "source": [
    "# If you modify an element of one object, the change will be visible in both\n",
    "list2[2] = 9\n",
    "\n",
    "print('\\nOld List:', list1)\n",
    "print('New List:', list2)\n"
   ]
  },
  {
   "cell_type": "markdown",
   "id": "cad05c14",
   "metadata": {},
   "source": [
    "### b. Shallow Copy\n",
    "- Shallow copy creates a new list object.\n",
    "- There are two ways of making a shallow copy\n",
    "    - On the right hand side of  `=` operator use slice operator\n",
    "    - Use `copy.copy()` method"
   ]
  },
  {
   "cell_type": "code",
   "execution_count": null,
   "id": "c4cd07ea",
   "metadata": {},
   "outputs": [],
   "source": [
    "# Shallow copy using slice operator while doing assignment\n",
    "list1 = [1, 2, 3, 4]\n",
    "list2 = list1[:]\n",
    "\n",
    "# Both variables point to different memory objects, so have the different ID\n",
    "print('ID of Old List:', id(list1))\n",
    "print('ID of New List:', id(list2))"
   ]
  },
  {
   "cell_type": "code",
   "execution_count": null,
   "id": "9f7d6f24",
   "metadata": {},
   "outputs": [],
   "source": [
    "# If you modify an element of one object, the change will be not visible in both\n",
    "list2[2] = 9\n",
    "\n",
    "print('\\nOld List:', list1)\n",
    "print('New List:', list2)\n"
   ]
  },
  {
   "cell_type": "code",
   "execution_count": null,
   "id": "515cdade",
   "metadata": {},
   "outputs": [],
   "source": [
    "# Shallow copy using the `copy.copy()` method\n",
    "import copy\n",
    "list1 = [1, 2, 3, 4]\n",
    "list2 = copy.copy(list1)\n",
    "\n",
    "# Both variables point to different memory objects, so have different ID\n",
    "print('ID of Old List:', id(list1))\n",
    "print('ID of New List:', id(list2))"
   ]
  },
  {
   "cell_type": "code",
   "execution_count": null,
   "id": "102d75a2",
   "metadata": {},
   "outputs": [],
   "source": [
    "# If you modify an element of one object, the change will not be visible in other\n",
    "list2[3] = 'a'\n",
    "\n",
    "print('\\nOld List:', list1)\n",
    "print('New List:', list2)\n"
   ]
  },
  {
   "cell_type": "markdown",
   "id": "f4f3aeee",
   "metadata": {},
   "source": [
    "**This seems woking fine, then why this is called shallow copy**"
   ]
  },
  {
   "cell_type": "code",
   "execution_count": null,
   "id": "7da0621a",
   "metadata": {},
   "outputs": [],
   "source": []
  },
  {
   "cell_type": "code",
   "execution_count": null,
   "id": "6f8f42aa",
   "metadata": {},
   "outputs": [],
   "source": []
  },
  {
   "cell_type": "code",
   "execution_count": null,
   "id": "3d514e79",
   "metadata": {},
   "outputs": [],
   "source": []
  },
  {
   "cell_type": "code",
   "execution_count": null,
   "id": "c3ab2b99",
   "metadata": {},
   "outputs": [],
   "source": []
  },
  {
   "cell_type": "code",
   "execution_count": null,
   "id": "8d1fef92",
   "metadata": {},
   "outputs": [],
   "source": []
  },
  {
   "cell_type": "markdown",
   "id": "f6e57447",
   "metadata": {},
   "source": [
    "**Limitation of Shallow Copy**\n",
    "- Above examples seems fine. But shallow copy doesn't create a copy of nested objects, instead it just copies the reference of nested objects. This means, a copy process does not recurse or create copies of nested objects itself.\n",
    "- Let us understand this by an example"
   ]
  },
  {
   "cell_type": "code",
   "execution_count": null,
   "id": "ba21558b",
   "metadata": {},
   "outputs": [],
   "source": [
    "import copy\n",
    "old_list = [[1, 2, 3], [4, 5, 6], [7, 8, 9]]\n",
    "new_list = copy.copy(old_list)\n",
    "\n",
    "# Both variables point to different memory object, having same references of original object elements\n",
    "print('ID of Old List:', id(old_list))\n",
    "print('ID of New List:', id(new_list))"
   ]
  },
  {
   "cell_type": "code",
   "execution_count": null,
   "id": "3a5cb6b1",
   "metadata": {},
   "outputs": [],
   "source": [
    "# If you modify an element of one object, the change will be visible in both\n",
    "new_list[2][2] = 'a'\n",
    "\n",
    "# See contents of both lists\n",
    "print('\\nOld List:', old_list)\n",
    "print('New List:', new_list)"
   ]
  },
  {
   "cell_type": "markdown",
   "id": "47bab162",
   "metadata": {},
   "source": [
    "### c. Deep Copy: Making a Copy of an Object using `copy.deepcopy()` Method\n",
    "- Deep copy creates a new object and recursively creates independent copy of original object and all its nested objects."
   ]
  },
  {
   "cell_type": "code",
   "execution_count": null,
   "id": "366b1fbd",
   "metadata": {},
   "outputs": [],
   "source": [
    "import copy\n",
    "old_list = [[1, 2, 3], [4, 5, 6], [7, 8, 9]]\n",
    "new_list = copy.deepcopy(old_list)\n",
    "\n",
    "# Both variables point to different memory object, having their own object elements\n",
    "print('ID of Old List:', id(old_list))\n",
    "print('ID of New List:', id(new_list))\n"
   ]
  },
  {
   "cell_type": "code",
   "execution_count": null,
   "id": "638eb420",
   "metadata": {},
   "outputs": [],
   "source": [
    "# If you modify an element of one object, the change will be made only to that object element\n",
    "new_list[2][2] = 'a'\n",
    "\n",
    "# See contents of both lists\n",
    "print('\\nOld List:', old_list)\n",
    "print('New List:', new_list)"
   ]
  },
  {
   "cell_type": "markdown",
   "id": "4d074020",
   "metadata": {},
   "source": [
    "## 10. Sorting a List\n",
    "- You can use following three methods to sort list elements\n",
    "    - The `list.sort()` method can sort the list elements (ascending + descending) on which it is called and returns None (modifies the list on which it is called).\n",
    "    - The `list.reverse()` method simply reverse the list elements on which it is called and returns None (modifies the list on which it is called).\n",
    "    - The `sorted(iterable)` is a built-in function, which returns a sorted version of the list, which is passed to it as parameter (list remains as it is). Limitation is it is a bit slow as it makes a copy of the list. Advantage is that it can sort any iterable."
   ]
  },
  {
   "cell_type": "markdown",
   "id": "fbf88b2e",
   "metadata": {},
   "source": [
    "### a. The `list.sort()` method"
   ]
  },
  {
   "cell_type": "code",
   "execution_count": null,
   "id": "0ed8fe9d",
   "metadata": {},
   "outputs": [],
   "source": [
    "# Modifies list on which it is called and returns none/void\n",
    "list_num = [3, 8, 1, 6, 0, 8, 4]\n",
    "print(\"Original numbers list: \", list_num)\n",
    "\n",
    "list_num.sort()\n",
    "print(\"Ascending Sort: \", list_num)\n",
    "\n",
    "list_num.sort(reverse=True)\n",
    "print(\"Descending Sort: \", list_num)\n"
   ]
  },
  {
   "cell_type": "code",
   "execution_count": null,
   "id": "dd1b54d4",
   "metadata": {},
   "outputs": [],
   "source": [
    "list_names = [\"XYZ\", \"ABC\", \"MNO\", \"ARIF\"]\n",
    "print(\"\\nOriginal names list: \", list_names)\n",
    "\n",
    "list_names.sort()         \n",
    "print(\"Ascending Sort: \", list_names)\n",
    "\n",
    "list_names.sort(reverse=True)         \n",
    "print(\"Descending Sort: \", list_names)"
   ]
  },
  {
   "cell_type": "markdown",
   "id": "cdcb5387",
   "metadata": {},
   "source": [
    "### b. Custom Sorting using `list.sort()` Method"
   ]
  },
  {
   "cell_type": "markdown",
   "id": "e03ac410",
   "metadata": {},
   "source": [
    "**Example 1: Suppose given a list with elements `['ccc', 'aaaaa', 'd', 'bb']` and I want to sort it by length of strings within the list so that the output list is like : `['d', 'bb', 'ccc', 'aaaaa]`**\n",
    "\n",
    "```\n",
    "    list.sort(*, key=None, reverse=False)\n",
    "```\n",
    "- We write a one argument function, and pass that function to the `key` parameter of `list.sort()` method\n",
    "- The `list.sort()` method will run this one argument function on all the elements of the list and return a single value, and build up a shadow list of those new values. \n",
    "- Suppose the one argument function in this case is the Python built-in function `len()`, which when called on every element of `list1` will return a shadow list containing length of every string within the original list containing `[3,4,2,1]`\n",
    "- The `list1.sort()` method will then sort `list1` elements based on the values of the shadow list and generate the required sorted list :)"
   ]
  },
  {
   "cell_type": "code",
   "execution_count": null,
   "id": "d4015aa1",
   "metadata": {},
   "outputs": [],
   "source": [
    "list1 = ['ccc', 'aaaaa', 'd', 'bb']\n",
    "list1.sort()\n",
    "list1"
   ]
  },
  {
   "cell_type": "code",
   "execution_count": null,
   "id": "ff103dab",
   "metadata": {},
   "outputs": [],
   "source": [
    "#Example 1:\n",
    "list1 = ['ccc', 'aaaaa', 'd', 'bb']\n",
    "list1.sort(key=len)\n",
    "list1"
   ]
  },
  {
   "cell_type": "markdown",
   "id": "e0a78fe8",
   "metadata": {},
   "source": [
    "**Example 2: Suppose given a list with elements `['abcz', 'xyza', 'bas', 'arif']` and I want to sort it by last character of strings within the list so that the output list is like : `['xyza', 'arif', 'bas', 'abcz']`**\n",
    "\n",
    "```\n",
    "    list.sort(*, key=None, reverse=False)\n",
    "```\n",
    "- We write a one argument function, and pass that function to the `key` parameter of `list.sort()` method\n",
    "- The `list.sort()` method will run this one argument function on all the elements of the list and return a single value, and build up a shadow list of those new values. \n",
    "- This time the one argument function is a custom built function that receives a string and returns its last character. When called on every element of `list1` will return a shadow list containing only the last character of every string within the original list containing `['z', 'a', 's', 'f']`\n",
    "- The `list1.sort()` method will then sort `list1` elements based on the values of the shadow list and generate the required sorted list :)"
   ]
  },
  {
   "cell_type": "code",
   "execution_count": null,
   "id": "2587b323",
   "metadata": {},
   "outputs": [],
   "source": [
    "def last(s):\n",
    "    return s[-1]\n",
    "\n",
    "list1 = ['abcz', 'xyza', 'bas', 'arif']\n",
    "list1.sort(key=last)\n",
    "list1"
   ]
  },
  {
   "cell_type": "markdown",
   "id": "ff517f2e",
   "metadata": {},
   "source": [
    "## 11. Misc Concepts"
   ]
  },
  {
   "cell_type": "markdown",
   "id": "bcf5ab0d",
   "metadata": {},
   "source": [
    "### a. Use of  `in` Operator on Lists"
   ]
  },
  {
   "cell_type": "code",
   "execution_count": null,
   "id": "62370b03",
   "metadata": {},
   "outputs": [],
   "source": [
    "help('in')"
   ]
  },
  {
   "cell_type": "code",
   "execution_count": null,
   "id": "fd3cd01d",
   "metadata": {},
   "outputs": [],
   "source": [
    "list_num = [3, 8, 1, 6, 0, 8, 4]\n",
    "rv1 = 9 in list_num\n",
    "print(rv1)\n",
    "\n",
    "rv2 = 9 not in list_num\n",
    "print(rv2)\n",
    "\n",
    "\n",
    "list_names = [\"XYZ\", \"ABC\", \"MNO\", \"ARIF\"]\n",
    "rv3 = \"ARIF\" in list_names\n",
    "print(rv3)\n",
    "\n",
    "\n"
   ]
  },
  {
   "cell_type": "markdown",
   "id": "57a57000",
   "metadata": {},
   "source": [
    "### b. Comparing objects and values"
   ]
  },
  {
   "cell_type": "code",
   "execution_count": null,
   "id": "1ebb5671",
   "metadata": {},
   "outputs": [],
   "source": [
    "help(id)"
   ]
  },
  {
   "cell_type": "code",
   "execution_count": null,
   "id": "5ba0e04b",
   "metadata": {},
   "outputs": [],
   "source": [
    "# in case of strings, both a and b refers to the same memory location containing string 'hello'\n",
    "a = 'hello'\n",
    "b = 'hello'\n",
    "id(a), id(b)"
   ]
  },
  {
   "cell_type": "code",
   "execution_count": null,
   "id": "3442794f",
   "metadata": {},
   "outputs": [],
   "source": [
    "# in case of list, both a and b refers to two different objects in the memory having same values\n",
    "x = ['hello']\n",
    "y = ['hello']\n",
    "id(x), id(y)"
   ]
  },
  {
   "cell_type": "code",
   "execution_count": null,
   "id": "63838cd6",
   "metadata": {},
   "outputs": [],
   "source": [
    "help('is')"
   ]
  },
  {
   "cell_type": "code",
   "execution_count": null,
   "id": "c2fa8fbb",
   "metadata": {},
   "outputs": [],
   "source": [
    "x = ['hello']\n",
    "y = ['hello']\n",
    "print (x is y) # is operator is checking the memory address (ID) of two lists\n",
    "print (x == y) # == operator is checking the contents of two lists"
   ]
  },
  {
   "cell_type": "code",
   "execution_count": null,
   "id": "f851b909",
   "metadata": {},
   "outputs": [],
   "source": [
    "x = 'hello'\n",
    "y = 'hello'\n",
    "print (x is y) # is operator is checking the memory address (ID) of two strings\n",
    "print (x == y) # == operator is checking the contents of two strings"
   ]
  },
  {
   "cell_type": "markdown",
   "id": "5ac4b74b",
   "metadata": {},
   "source": [
    "## c. Pickling  vs Unpickling in Python\n",
    "- Converting a Python object hierarchy to a Byte stream is called pickling, also referred to as serialization\n",
    "- Converting a Byte stream to a Python object hierarchy is called unpickling, also referred to as deserialization\n",
    "- For example if you have created a neural network model, you can save that model on to your hard disk by pickling it and later you can unpickle it to load it into an application\n",
    "- More on this later..."
   ]
  },
  {
   "cell_type": "code",
   "execution_count": null,
   "id": "25b94e0d",
   "metadata": {},
   "outputs": [],
   "source": []
  },
  {
   "cell_type": "markdown",
   "id": "5321ec65",
   "metadata": {},
   "source": [
    "## Overview of Python Arrays\n",
    "- A simple Python array is a sequence of objects of similar data dype. Python array module requires all array elements to be of the same type. Moreover, to create an array, you'll need to specify a value type. \n",
    "\n",
    "```\n",
    "array(typecode [, initializer])\n",
    "```\n",
    "\n",
    "- Return a new array whose items are restricted by typecode, and initialized from the optional initializer value, which must be a list, string or iterable over elements of the appropriate type.\n",
    "\n",
    "- Arrays represent basic values and behave very much like lists, except the type of objects stored in them is constrained. The type is specified at object creation time by using a type code, which is a single character.\n",
    "- The following type codes are defined:\n",
    "\n",
    "\n",
    "    Type code   C Type             Minimum size in bytes\n",
    "    'b'         signed integer     1\n",
    "    'B'         unsigned integer   1\n",
    "    'u'         Unicode character  2 (see note)\n",
    "    'h'         signed integer     2\n",
    "    'H'         unsigned integer   2\n",
    "    'i'         signed integer     2\n",
    "    'I'         unsigned integer   2\n",
    "    'l'         signed integer     4\n",
    "    'L'         unsigned integer   4\n",
    "    'q'         signed integer     8 (see note)\n",
    "    'Q'         unsigned integer   8 (see note)\n",
    "    'f'         floating point     4\n",
    "    'd'         floating point     8"
   ]
  },
  {
   "cell_type": "code",
   "execution_count": null,
   "id": "12b80e8a",
   "metadata": {},
   "outputs": [],
   "source": [
    "# To use Python arrays, you have to import Python's built-in array module\n",
    "import array\n",
    "\n",
    "# declaring array of integers\n",
    "arr1 = array.array(\"i\", [3, 6, 9, 2])  \n",
    "print(arr1)  \n",
    "print(type(arr1))  \n",
    "\n",
    "# declaring array of floats\n",
    "arr2 = array.array(\"f\", [3.4, 6.7, 9.5, 2])  \n",
    "print(arr2)  \n",
    "print(type(arr2))  \n"
   ]
  },
  {
   "cell_type": "code",
   "execution_count": null,
   "id": "c3953e92",
   "metadata": {},
   "outputs": [],
   "source": [
    "arr2.insert"
   ]
  },
  {
   "cell_type": "markdown",
   "id": "48067d20",
   "metadata": {},
   "source": [
    "## Check your Concepts\n",
    "\n",
    "Try answering the following questions to test your understanding of the topics covered in this notebook:\n",
    "\n",
    "1. What is a list in Python?\n",
    "2. How do you create a list?\n",
    "3. Can a Python list contain values of different data types?\n",
    "4. Can a list contain another list as an element within it?\n",
    "5. Can you create a list without any values?\n",
    "6. How do you check the length of a list in Python?\n",
    "7. How do you retrieve a value from a list?\n",
    "8. What is the smallest and largest index you can use to access elements from a list containing five elements?\n",
    "9. What happens if you try to access an index equal to or larger than the size of a list?\n",
    "10. What happens if you try to access a negative index within a list?\n",
    "11. How do you access a range of elements from a list?\n",
    "12. How many elements does the list returned by the expression `a_list[2:5]` contain?\n",
    "13. What do the ranges `a_list[:2]` and `a_list[2:]` represent?\n",
    "14. How do you change the item stored at a specific index within a list?\n",
    "15. How do you insert a new item at the beginning, middle, or end of a list?\n",
    "16. How do you remove an item from al list?\n",
    "17. How do you remove the item at a given index from a list?\n",
    "18. How do you check if a list contains a value?\n",
    "19. How do you combine two or most lists to create a larger list?\n",
    "20. How do you create a copy of a list?\n",
    "21. Does the expression `a_new_list = a_list` create a copy of the list `a_list`?\n",
    "22. How can you find the list of all the methods supported by lists?\n",
    "23. Understand the difference between creating an alias of a list, and shallow copy and deep copy\n",
    "24. Write down a proof of concept code to understand the concept of pickling and unpickling in Python"
   ]
  },
  {
   "cell_type": "markdown",
   "id": "677637c7",
   "metadata": {},
   "source": [
    "**Go to https://pythontutor.com/ and copy paste following code to visualize aliasing, shallow and deep copy**"
   ]
  },
  {
   "cell_type": "raw",
   "id": "eb3a8dfc",
   "metadata": {},
   "source": [
    "# Aliasing\n",
    "list1 = [1, 2, 3, 4]\n",
    "list2 = list1\n",
    "list2[2] = 9\n",
    "\n",
    "# Shallow Copy\n",
    "list3 = [1, 2, 3, 4]\n",
    "list4 = list3.copy()\n",
    "list4[2] = 9\n",
    "\n",
    "# Issue with Shallow Copy\n",
    "list5 = [[1, 2, 3], [4, 5, 6], [7, 8, 9]]\n",
    "list6 = list5.copy()\n",
    "list6[2][2] = 'A'\n",
    "\n",
    "# Deep Copy\n",
    "import copy\n",
    "list7 = [[1, 2, 3], [4, 5, 6], [7, 8, 9]]\n",
    "list8 = copy.deepcopy(list7)\n",
    "list8[2][2] = 'A'"
   ]
  },
  {
   "cell_type": "code",
   "execution_count": null,
   "id": "f41e7b84",
   "metadata": {},
   "outputs": [],
   "source": []
  },
  {
   "cell_type": "code",
   "execution_count": null,
   "id": "96546c0f",
   "metadata": {},
   "outputs": [],
   "source": []
  },
  {
   "cell_type": "code",
   "execution_count": 1,
   "id": "1a43aa8e",
   "metadata": {},
   "outputs": [
    {
     "data": {
      "text/plain": [
       "['baz', 'zeeshan', 'arif']"
      ]
     },
     "execution_count": 1,
     "metadata": {},
     "output_type": "execute_result"
    }
   ],
   "source": [
    "def func(s):\n",
    "    return s[-1]\n",
    "\n",
    "l1 = ['arif', 'zeeshan', 'baz']\n",
    "sorted(l1, key=func, reverse=True)"
   ]
  },
  {
   "cell_type": "code",
   "execution_count": 2,
   "id": "494597a3",
   "metadata": {},
   "outputs": [
    {
     "data": {
      "text/plain": [
       "'f'"
      ]
     },
     "execution_count": 2,
     "metadata": {},
     "output_type": "execute_result"
    }
   ],
   "source": [
    "func('arif')"
   ]
  },
  {
   "cell_type": "code",
   "execution_count": null,
   "id": "a0352cc3",
   "metadata": {},
   "outputs": [],
   "source": []
  },
  {
   "cell_type": "markdown",
   "id": "46fe7ace",
   "metadata": {},
   "source": [
    "The underlying data structures for lists, tuples, sets, and dictionaries in Python are implemented differently, and they serve different purposes:\n",
    "\n",
    "### 1. List:\n",
    "Data Structure:</br>\n",
    "<b>Dynamic Array:</b> Lists in Python are implemented as dynamic arrays. When the size of the list exceeds its capacity, the underlying array is resized.\n",
    "Characteristics:\n",
    "Mutable: Lists are mutable, meaning you can modify their elements (add, remove, or change).\n",
    "### 2. Tuple:\n",
    "Data Structure:</br>\n",
    "<b>Fixed-Size Array:</b> Tuples are implemented as fixed-size arrays. Once a tuple is created, its size cannot be changed.\n",
    "Characteristics:\n",
    "Immutable: Tuples are immutable, meaning you cannot modify their elements after creation.\n",
    "### 3. Set:\n",
    "Data Structure:</br>\n",
    "<b>Hash Table:</b> Sets in Python are implemented as hash tables. Hash tables provide constant-time average-case complexity for common operations like adding, removing, and checking membership.\n",
    "Characteristics:\n",
    "Unordered: Sets are unordered collections of unique elements.\n",
    "### 4. Dictionary:\n",
    "Data Structure:</br>\n",
    "<b>Hash Table:</b> Dictionaries in Python are implemented as hash tables, just like sets. Each key is hashed to determine the index in the underlying array.\n",
    "Characteristics:\n",
    "Key-Value Pairs: Dictionaries consist of key-value pairs, where each key is associated with a value.\n",
    "Unordered: Like sets, dictionaries are unordered collections.\n",
    "</br></br> <b>Note:</b>\n",
    "While the underlying data structures for lists and tuples are array-based, it's important to note that Python lists can dynamically resize, whereas tuples have a fixed size.\n",
    "\n",
    "\n",
    "- Hash tables are widely used in Python for implementing sets and dictionaries due to their efficiency in providing fast access, insertion, and deletion of elements.\n",
    "\n",
    "- It's also worth mentioning that Python's standard library includes different implementations of some data structures optimized for specific use cases. For example, the collections.deque class provides a double-ended queue, and collections.OrderedDict maintains order in dictionary elements."
   ]
  },
  {
   "cell_type": "code",
   "execution_count": null,
   "id": "52eae3f4",
   "metadata": {},
   "outputs": [],
   "source": []
  }
 ],
 "metadata": {
  "kernelspec": {
   "display_name": "Python 3 (ipykernel)",
   "language": "python",
   "name": "python3"
  },
  "language_info": {
   "codemirror_mode": {
    "name": "ipython",
    "version": 3
   },
   "file_extension": ".py",
   "mimetype": "text/x-python",
   "name": "python",
   "nbconvert_exporter": "python",
   "pygments_lexer": "ipython3",
   "version": "3.10.13"
  }
 },
 "nbformat": 4,
 "nbformat_minor": 5
}
