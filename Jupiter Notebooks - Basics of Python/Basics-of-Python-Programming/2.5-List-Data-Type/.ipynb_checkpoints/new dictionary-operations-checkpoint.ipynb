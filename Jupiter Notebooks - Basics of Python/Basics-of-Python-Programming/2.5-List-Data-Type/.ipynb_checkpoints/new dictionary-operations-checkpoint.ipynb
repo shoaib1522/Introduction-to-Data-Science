{
 "cells": [
  {
   "cell_type": "markdown",
   "id": "a6651c01",
   "metadata": {},
   "source": [
    "<div style=\"background-color:rgba(50, 81, 100, .9); font-family: 'Bebas Neue'; padding:10px 0;  margin-top:2px; margin-bottom:2px\">\n",
    "\n",
    "   \n",
    " <img align=\"left\" width=\"75\" height=\"75\"  src=\"https://upload.wikimedia.org/wikipedia/en/c/c8/University_of_the_Punjab_logo.png\"  > \n",
    "\n",
    "   \n",
    "<h1><div style=\"text-align: center\"> Department of Data Science</div>\n",
    "<div style=\"text-align: center\"> University of the Punjab, Lahore</div></h1>\n",
    "\n",
    "\n",
    "<h1><div style=\"text-align: center\">Course Title: Tools and Techniques for Data Science</div></h1>\n",
    "\n",
    "   <div style=\"text-align: right; margin-right: 5px; font-size:18px\"> <em><strong>Muhammad Arif Butt, Ph.D.</strong></em></div>\n",
    "    \n",
    "    \n",
    "  "
   ]
  },
  {
   "cell_type": "markdown",
   "id": "a363bc39",
   "metadata": {},
   "source": [
    "<h2><div style=\"text-align: center\"> \" <u>Lecture 2.4</u> \"</div></h2>\n",
    "\n"
   ]
  },
  {
   "cell_type": "markdown",
   "id": "95de41a5",
   "metadata": {},
   "source": [
    "## _dictionary-operations.ipynb_\n",
    "#### [Click me to learn more about Python Dictionaries](https://www.geeksforgeeks.org/python-dictionary/)"
   ]
  },
  {
   "cell_type": "markdown",
   "id": "7c109b0c",
   "metadata": {},
   "source": [
    "### Learning agenda of this notebook\n",
    "Dictionaries are used to store elements in key:value pairs and created using curly braces. Values can be heterogeneous, while keys can be int, string, or tuple. Allows duplicate values but keys must be unique.\n",
    "From Python version 3.7 onwards, dictionaries are ordered.\n",
    "\n",
    "\n",
    "1. How to create dictionaries?\n",
    "2. Dictionaries are mutable\n",
    "3. Accessing elements of directory using get() method or using [ ] brackets\n",
    "4. Adding elements to a directory using update() method or using [ ] brackets\n",
    "5. Removing key-value pairs from a directory using pop, popitem and clear methods\n",
    "6. Misc dictionary methods: len(), keys(), and values()\n",
    "7. Dictionary, tuple and list conversions\n",
    "8. Looping through keys and values of dictionary\n"
   ]
  },
  {
   "cell_type": "markdown",
   "id": "78d11dc1",
   "metadata": {},
   "source": [
    "### 1. How to create Dictionaries?"
   ]
  },
  {
   "cell_type": "code",
   "execution_count": 1,
   "id": "88801cf7",
   "metadata": {},
   "outputs": [
    {
     "name": "stdout",
     "output_type": "stream",
     "text": [
      "dict1: {'arif': 51, 'rauf': 52, 'hadeed': 20}\n",
      "dict2: {2580: 'var1', 2582: 'var2', 2586: 'var3'}\n",
      "dict3:  {'name': 'kakamanna', 1: [10, 20, 30]}\n",
      "dict4:  {}\n",
      "dict5:  {}\n",
      "dict6:  {1: 'hello', 2: 'bye'}\n",
      "\n",
      " {'name': 'arif', 'occupation': 'teaching', 'address': {'house#': 131, 'area': 'model town', 'city': 'lahore'}}\n"
     ]
    }
   ],
   "source": [
    "# A dictionary can be created using curly brackets or dict() method\n",
    "# A dictionary with string keys, showing age of persons\n",
    "dict1 = {\n",
    "    'arif':51, \n",
    "    'rauf':52, \n",
    "    'hadeed':20\n",
    "}\n",
    "print(\"dict1:\", dict1)\n",
    "\n",
    "# A dictionary with integer keys, showing a symbol table\n",
    "dict2 = {\n",
    "    2580:'var1', \n",
    "    2582:'var2', \n",
    "    2586:'var3'\n",
    "}\n",
    "print(\"dict2:\", dict2)\n",
    "\n",
    "# dictionary with mixed keys\n",
    "dict3 = {\n",
    "    'name': 'kakamanna', \n",
    "    1: [10,20,30]\n",
    "}\n",
    "print(\"dict3: \", dict3)\n",
    "\n",
    "# dict() function creates a new dictionary with no items\n",
    "dict4 = dict()\n",
    "print(\"dict4: \", dict4)\n",
    "\n",
    "# other way to create empty dictionary\n",
    "dict5 = {}\n",
    "print(\"dict5: \", dict5)\n",
    "\n",
    "# creating dictionary with values using dict()\n",
    "dict6 = dict({1: 'hello', 2: 'bye'})\n",
    "print(\"dict6: \", dict6)\n",
    "\n",
    "# Creating a Nested Dictionary\n",
    "dict7 = {'name':'arif', 'occupation':'teaching',\n",
    "        'address':{'house#' : 131, 'area' : 'model town', 'city' : 'lahore'}\n",
    "        }\n",
    " \n",
    "print(\"\\n\", dict7)\n"
   ]
  },
  {
   "cell_type": "markdown",
   "id": "48f77dc4",
   "metadata": {},
   "source": [
    "### 2. Dictionaries are mutable"
   ]
  },
  {
   "cell_type": "code",
   "execution_count": 2,
   "id": "4fc9e430",
   "metadata": {},
   "outputs": [
    {
     "name": "stdout",
     "output_type": "stream",
     "text": [
      "Original directory:  {'nam': 'kakamanna', 'age': 22, 'address': 'Johar Town', 'marks': [60, 75, 80]}\n",
      "Changing the value against key 'marks':  {'nam': 'kakamanna', 'age': 22, 'address': 'Johar Town', 'marks': [63, 78, 83]}\n",
      "Changing the key from nam to name:  {'age': 22, 'address': 'Johar Town', 'marks': [63, 78, 83], 'name': 'kakamanna'}\n"
     ]
    }
   ],
   "source": [
    "# Dictionaries are mutable, i.e., both keys and values can be changed\n",
    "d1 = {'nam':'kakamanna', \n",
    "      'age':22, \n",
    "      'address':'Johar Town', \n",
    "      'marks':[60, 75, 80]\n",
    "     }\n",
    "print(\"Original directory: \", d1)\n",
    "# You can change value corresponding to a specific key using [] operator\n",
    "d1['marks'] = [63, 78, 83]\n",
    "print(\"Changing the value against key 'marks': \", d1)\n",
    "\n",
    "# You can replace the old_key with a new_key if old_key is known using pop() method\n",
    "d1['name'] = d1.pop('nam')   # d1[new_key] = d1.pop(old_key)\n",
    "print(\"Changing the key from nam to name: \", d1)\n"
   ]
  },
  {
   "cell_type": "markdown",
   "id": "418db83b",
   "metadata": {},
   "source": [
    "### 3. Accessing elements of a dictionary using get( ) or using [ ] brackets"
   ]
  },
  {
   "cell_type": "code",
   "execution_count": 3,
   "id": "d42c7653",
   "metadata": {},
   "outputs": [
    {
     "name": "stdout",
     "output_type": "stream",
     "text": [
      "Original directory:  {'name': 'kakamanna', 'age': 22, 'address': 'Johar Town', 'marks': [60, 75, 80]}\n",
      "Accessing value corresponding to key 'address':  Johar Town\n",
      "None\n",
      "Accessing value corresponding to key 'marks':  [60, 75, 80]\n",
      "\n",
      "A nested directory d2:  {'name': 'arif', 'occupation': 'teaching', 'address': {'house#': 131, 'area': 'model town', 'city': 'lahore'}}\n",
      "d2['name']:  arif\n",
      "d2['address']:  {'house#': 131, 'area': 'model town', 'city': 'lahore'}\n",
      "d2['address']['area']:  model town\n"
     ]
    }
   ],
   "source": [
    "# You can access key-value pair of a dictionary using [] brackets by mentioning the corresponding key\n",
    "# OR with the get() method, which does not return error if passed a wrong key\n",
    "d1 = {\n",
    "    'name':'kakamanna', \n",
    "    'age':22, \n",
    "    'address':'Johar Town', \n",
    "    'marks':[60, 75, 80]\n",
    "}\n",
    "print(\"Original directory: \", d1)\n",
    "print (\"Accessing value corresponding to key 'address': \", d1['address'])\n",
    "\n",
    "# in case of incorrect key, error occurs\n",
    "#print (d1[22])\n",
    "\n",
    "#to avoid errors, get() function can be used instead of [] brackets, which return None in case of wrong key\n",
    "print (d1.get(22))\n",
    "print (\"Accessing value corresponding to key 'marks': \", d1.get('marks'))\n",
    "\n",
    "\n",
    "#To access the value of a key in a nested directory, use indexing [] syntax\n",
    "d2 = {'name':'arif', 'occupation':'teaching',\n",
    "        'address':{'house#' : 131, 'area' : 'model town', 'city' : 'lahore'}\n",
    "        }\n",
    " \n",
    "print(\"\\nA nested directory d2: \", d2)\n",
    "print(\"d2['name']: \", d2['name'])\n",
    "print(\"d2['address']: \", d2['address'])\n",
    "print(\"d2['address']['area']: \", d2['address']['area'])\n",
    "\n",
    "\n"
   ]
  },
  {
   "cell_type": "markdown",
   "id": "0557d8ff",
   "metadata": {},
   "source": [
    "### 4. Adding elements to a directory using update() method or using [ ] brackets"
   ]
  },
  {
   "cell_type": "code",
   "execution_count": 4,
   "id": "4ca664fe",
   "metadata": {},
   "outputs": [
    {
     "name": "stdout",
     "output_type": "stream",
     "text": [
      "Original directory:  {'name': 'kakamanna', 'age': 22, 'address': 'Johar Town', 'marks': [60, 75, 80]}\n",
      "\n",
      "After adding a new cell no. pair:  {'name': 'kakamanna', 'age': 22, 'address': 'Johar Town', 'marks': [60, 75, 80], 'cell': '03214432145'}\n",
      "\n",
      "After adding city:  {'name': 'kakamanna', 'age': 22, 'address': 'Johar Town', 'marks': [60, 75, 80], 'cell': '03214432145', 'city': 'Lahore'}\n"
     ]
    }
   ],
   "source": [
    "# You can add a new key-value pair by using [] brackets\n",
    "# OR with the update(key:value) method\n",
    "d1 = {\n",
    "    'name':'kakamanna', \n",
    "    'age':22, \n",
    "    'address':'Johar Town', \n",
    "    'marks':[60, 75, 80]\n",
    "}\n",
    "print(\"Original directory: \", d1)\n",
    "# adding new element cell:03214432145 using the [] brackets\n",
    "# if the key-value already exists, the value gets updated otherwise \n",
    "# a new Key with the value is added to the Dictionary.\n",
    "d1['cell'] = '03214432145'\n",
    "print (\"\\nAfter adding a new cell no. pair: \", d1)\n",
    "\n",
    "#can use update method\n",
    "d1.update({'city':'Lahore'})\n",
    "print (\"\\nAfter adding city: \", d1)\n"
   ]
  },
  {
   "cell_type": "markdown",
   "id": "ae40dd9e",
   "metadata": {},
   "source": [
    "### 5. Removing key-value pairs from a directory using pop, popitem and clear methods"
   ]
  },
  {
   "cell_type": "code",
   "execution_count": 5,
   "id": "33f7704a",
   "metadata": {},
   "outputs": [
    {
     "name": "stdout",
     "output_type": "stream",
     "text": [
      "Original directory:  {'name': 'kakamanna', 'age': 22, 'address': 'Johar Town', 'marks': [60, 75, 80]}\n",
      "\n",
      " 22\n",
      "After pop() d1:  {'name': 'kakamanna', 'address': 'Johar Town', 'marks': [60, 75, 80]}\n",
      "\n",
      " ('marks', [60, 75, 80])\n",
      "After popitem() d1:  {'name': 'kakamanna', 'address': 'Johar Town'}\n",
      "After clear() d1:  {}\n",
      "\n",
      "Original directory:  {'name': 'kakamanna', 'age': 22, 'address': 'Johar Town', 'marks': [60, 75, 80]}\n",
      "After del d1['name'] the directory:  {'age': 22, 'address': 'Johar Town', 'marks': [60, 75, 80]}\n"
     ]
    }
   ],
   "source": [
    "d1 = {'name':'kakamanna', \n",
    "      'age':22, \n",
    "      'address':'Johar Town', \n",
    "      'marks':[60, 75, 80]\n",
    "     }\n",
    "print(\"Original directory: \", d1)\n",
    "\n",
    "# pop() method is given the key and it removes the corresponding key-value pair from dictionary, \n",
    "# and returns its value\n",
    "print(\"\\n\", d1.pop('age'))\n",
    "print (\"After pop() d1: \", d1)\n",
    "\n",
    "\n",
    "# popitem() returns and removes an arbitrary element (key, value) pair from the dictionary.\n",
    "print(\"\\n\", d1.popitem())\n",
    "print (\"After popitem() d1: \", d1)\n",
    "\n",
    "\n",
    "\n",
    "# clear() removes all the items from a dictionary \n",
    "d1.clear()\n",
    "print (\"After clear() d1: \", d1)\n",
    "\n",
    "\n",
    "# In Python Dictionary, deletion of keys can be done by using the del keyword. \n",
    "# Using the del keyword, specific values from a dictionary as well as the whole dictionary can be deleted.\n",
    "d1 = {'name':'kakamanna', \n",
    "      'age':22, \n",
    "      'address':'Johar Town', \n",
    "      'marks':[60, 75, 80]\n",
    "     }\n",
    "print(\"\\nOriginal directory: \", d1)\n",
    "del d1['name']\n",
    "print(\"After del d1['name'] the directory: \", d1)\n",
    "\n",
    "#this will delete the whole directory\n",
    "del d1\n",
    "#print(d1)  # will generate an error now\n",
    "\n",
    "\n"
   ]
  },
  {
   "cell_type": "markdown",
   "id": "8f109f45",
   "metadata": {},
   "source": [
    "### 6. Misc Dictionary methods"
   ]
  },
  {
   "cell_type": "code",
   "execution_count": 6,
   "id": "d4208107",
   "metadata": {},
   "outputs": [
    {
     "name": "stdout",
     "output_type": "stream",
     "text": [
      "Original directory:  {'name': 'kakamanna', 'age': 22, 'address': 'Johar Town', 'marks': [60, 75, 80]}\n",
      "\n",
      "length of dictiornary 4\n",
      "\n",
      "d1.keys() returns:  dict_keys(['name', 'age', 'address', 'marks'])\n",
      "\n",
      "d1.values() returns:  dict_values(['kakamanna', 22, 'Johar Town', [60, 75, 80]])\n",
      "\n",
      "age in d1 returns:   True\n",
      "name not in d1 returns:   False\n",
      "city not in d1 returns:   True\n"
     ]
    }
   ],
   "source": [
    "d1 = {'name':'kakamanna', \n",
    "      'age':22, \n",
    "      'address':'Johar Town', \n",
    "      'marks':[60, 75, 80]\n",
    "     }\n",
    "print(\"Original directory: \", d1)\n",
    "\n",
    "# len() method returns the length of dictionary\n",
    "print('\\nlength of dictiornary', len(d1))\n",
    "\n",
    "# keys() method returns a list of keys in the dictionary\n",
    "list_of_keys = d1.keys()\n",
    "print(\"\\nd1.keys() returns: \", list_of_keys)\n",
    "\n",
    "# values() method returns a list of values in the dictionary\n",
    "list_of_values = d1.values()\n",
    "print(\"\\nd1.values() returns: \", list_of_values)\n",
    "\n",
    "# Membership operators\n",
    "print (\"\\nage in d1 returns:  \", 'age' in d1)\n",
    "print (\"name not in d1 returns:  \", 'name' not in d1)\n",
    "print (\"city not in d1 returns:  \",'city' not in d1)\n"
   ]
  },
  {
   "cell_type": "markdown",
   "id": "0f4dd1c2",
   "metadata": {},
   "source": [
    "### 7. Dictionary, tuple and list conversions"
   ]
  },
  {
   "cell_type": "code",
   "execution_count": 7,
   "id": "24e78729",
   "metadata": {},
   "outputs": [
    {
     "name": "stdout",
     "output_type": "stream",
     "text": [
      "Original directory:  {'Name': 'Kakamanna', 'Sex': 'Male', 'Age': 23, 'Height': 6.1, 'Occupation': 'Student'}\n",
      "type(d1):  <class 'dict'>\n",
      "\n",
      " (('Name', 'Kakamanna'), ('Sex', 'Male'), ('Age', 23), ('Height', 6.1), ('Occupation', 'Student'))\n",
      "<class 'tuple'>\n",
      "(1, 3, 4, 6)\n",
      "<class 'tuple'>\n"
     ]
    }
   ],
   "source": [
    "d1 = {\n",
    "    'Name': 'Kakamanna', \n",
    "    'Sex': 'Male', \n",
    "    'Age': 23, \n",
    "    'Height': 6.1, \n",
    "    'Occupation': 'Student'\n",
    "}\n",
    "print(\"Original directory: \", d1)\n",
    "print(\"type(d1): \", type(d1))\n",
    "\n",
    "\n",
    "#converting dictionary into tuple\n",
    "t1 = tuple(d1.items())\n",
    "print(\"\\n\", t1)\n",
    "print(type(t1))\n",
    "\n",
    "#converting list into tuple\n",
    "l1 = [1,3,4,6]\n",
    "t2 = tuple(l1)\n",
    "print(t2)\n",
    "print(type(t2))\n",
    "\n"
   ]
  },
  {
   "cell_type": "markdown",
   "id": "aa367cb0",
   "metadata": {},
   "source": [
    "### 8. Looping through keys and values of dictionary"
   ]
  },
  {
   "cell_type": "code",
   "execution_count": 8,
   "id": "8c8c3eeb",
   "metadata": {},
   "outputs": [
    {
     "name": "stdout",
     "output_type": "stream",
     "text": [
      "Original directory:  {'Name': 'Kakamanna', 'Sex': 'Male', 'Age': 23, 'Height': 6.1, 'Occupation': 'Student'}\n",
      "\n",
      "Iterating through a dictionary keys:\n",
      "Name\n",
      "Sex\n",
      "Age\n",
      "Height\n",
      "Occupation\n",
      "\n",
      "Iterating through a dictionary values:\n",
      "Kakamanna\n",
      "Male\n",
      "23\n",
      "6.1\n",
      "Student\n"
     ]
    }
   ],
   "source": [
    "d1 = {\n",
    "    'Name': 'Kakamanna', \n",
    "    'Sex': 'Male', \n",
    "    'Age': 23, \n",
    "    'Height': 6.1, \n",
    "    'Occupation': 'Student'\n",
    "}\n",
    "print(\"Original directory: \", d1)\n",
    "\n",
    "#\n",
    "print(\"\\nIterating through a dictionary keys:\")\n",
    "for i in d1:\n",
    "    print(i)\n",
    "    \n",
    "    \n",
    "# Iterating through the values\n",
    "print(\"\\nIterating through a dictionary values:\")\n",
    "for i in d1:\n",
    "    print(d1[i])"
   ]
  },
  {
   "cell_type": "code",
   "execution_count": null,
   "id": "adb7149a",
   "metadata": {},
   "outputs": [],
   "source": []
  }
 ],
 "metadata": {
  "kernelspec": {
   "display_name": "Python 3 (ipykernel)",
   "language": "python",
   "name": "python3"
  },
  "language_info": {
   "codemirror_mode": {
    "name": "ipython",
    "version": 3
   },
   "file_extension": ".py",
   "mimetype": "text/x-python",
   "name": "python",
   "nbconvert_exporter": "python",
   "pygments_lexer": "ipython3",
   "version": "3.8.10"
  }
 },
 "nbformat": 4,
 "nbformat_minor": 5
}
