{
 "cells": [
  {
   "cell_type": "markdown",
   "id": "a6651c01",
   "metadata": {},
   "source": [
    "<div style=\"background-color:rgba(50, 81, 100, .9); font-family: 'Bebas Neue'; padding:10px 0;  margin-top:2px; margin-bottom:2px\">\n",
    "\n",
    "   \n",
    " <img align=\"left\" width=\"75\" height=\"75\"  src=\"https://upload.wikimedia.org/wikipedia/en/c/c8/University_of_the_Punjab_logo.png\"  > \n",
    "\n",
    "   \n",
    "<h1><div style=\"text-align: center\"> Department of Data Science</div>\n",
    "<div style=\"text-align: center\"> University of the Punjab, Lahore</div></h1>\n",
    "\n",
    "\n",
    "<h1><div style=\"text-align: center\">Course Title: Tools and Techniques for Data Science</div></h1>\n",
    "\n",
    "   <div style=\"text-align: right; margin-right: 5px; font-size:18px\"> <em><strong>Muhammad Arif Butt, Ph.D.</strong></em></div>\n",
    "    \n",
    "    \n",
    "  "
   ]
  },
  {
   "cell_type": "markdown",
   "id": "a363bc39",
   "metadata": {},
   "source": [
    "<h2><div style=\"text-align: center\"> \" <u>Lecture 2.4</u> \"</div></h2>\n",
    "\n"
   ]
  },
  {
   "cell_type": "markdown",
   "id": "95de41a5",
   "metadata": {},
   "source": [
    "## _tuple-operations.ipynb_\n",
    "#### [Click me to learn more about Python Tuples](https://www.w3schools.com/python/python_tuples.asp)"
   ]
  },
  {
   "cell_type": "markdown",
   "id": "7c109b0c",
   "metadata": {},
   "source": [
    "### Learning agenda of this notebook\n",
    "A Tuple in Python is similar to a List. The difference between the two is that we cannot change the elements of a tuple once it is assigned and is created using parenthesis.\n",
    "1. How to create tuples?\n",
    "2. Proof of concepts: Tuples are heterogeneous, ordered, nested, immutable, and allow duplicate elements\n",
    "3. Accessing elements of tuples?\n",
    "4. Being immutable, you cannot add elements to a tuple (in list this is possible using append, extend, and insert)\n",
    "5. Being immutable, you cannot remove elemenst from a tuple (in list this is possible using pop and remove methods)\n",
    "6. Tuple concatenation and repetition\n",
    "7. Slicing a tuple\n",
    "8. Converting string object to tuple and vice-versa (using type casting, split() and join())\n",
    "9. Misc tuple methods (count)\n",
    "10. Some Built-in functions that can be used on tuples (len, max, min, sum)\n",
    "11. Misc Concepts\n",
    "    - Comparing objects and values\n",
    "    - Comparing strings\n",
    "    - Aliasing\n",
    "12. Looping through a tuple"
   ]
  },
  {
   "cell_type": "markdown",
   "id": "78d11dc1",
   "metadata": {},
   "source": [
    "### 1. How to create Tuples?"
   ]
  },
  {
   "cell_type": "code",
   "execution_count": 1,
   "id": "88801cf7",
   "metadata": {},
   "outputs": [
    {
     "name": "stdout",
     "output_type": "stream",
     "text": [
      "t1:  (1, 2, 3, 4, 5)\n",
      "t2:  (2.3, 5.6, 1.8)\n",
      "t3:  ('hello', 'this', 'F', 'good show')\n",
      "t4:  (True, False, True)\n",
      "Type of t4 is:  <class 'tuple'>\n",
      "\n",
      "t5:  ()\n",
      "Type of t5 is:  <class 'tuple'>\n",
      "\n",
      "t6:  (5,)\n",
      "<class 'tuple'>\n"
     ]
    }
   ],
   "source": [
    "# A tuple is created by placing comma separated values in parenthesis (or without prenthesis as well) \n",
    "t1 = (1, 2, 3, 4, 5)   #tuple of integers\n",
    "t1 = 1, 2, 3, 4, 5\n",
    "print(\"t1: \", t1)\n",
    "t2 = (2.3, 5.6, 1.8)  #tuple of floats\n",
    "print(\"t2: \", t2)\n",
    "t3 = ('hello', 'this', 'F', 'good show') #tuple of strings\n",
    "print(\"t3: \", t3)\n",
    "t4 = (True, False, True)    # tuple of boolean values\n",
    "print(\"t4: \", t4)\n",
    "print(\"Type of t4 is: \", type(t4))\n",
    "\n",
    "# creating empty tuple\n",
    "t5 = ()\n",
    "print(\"\\nt5: \", t5)\n",
    "print(\"Type of t5 is: \", type(t5))\n",
    "\n",
    "\n",
    "# to create a tuple with only one element is a bit tricky\n",
    "t6 = (5,)       # note the comma, without Python will take it as int/float/string and not tuple\n",
    "print(\"\\nt6: \", t6)\n",
    "print(type(t6))"
   ]
  },
  {
   "cell_type": "markdown",
   "id": "48f77dc4",
   "metadata": {},
   "source": [
    "### 2. Proof of concepts: Tuples are heterogeneous, ordered, nested, immutable, and allow duplicate elements"
   ]
  },
  {
   "cell_type": "code",
   "execution_count": 2,
   "id": "4fc9e430",
   "metadata": {},
   "outputs": [
    {
     "name": "stdout",
     "output_type": "stream",
     "text": [
      "t1:  ('Arif', 30, 5.5)\n",
      "subjects:  ('PF', 'OOP', 'Operating System', 'DSA')\n",
      "\n",
      "t5:  (1, 'Hello', [8, 'OK', 6], (1, 2, 'BYE'), 5.5)\n",
      "Type of t5 is:  <class 'tuple'>\n",
      "('Arif', 'Rauf', 'Hadeed', 'Arif', 'Mujahid')\n",
      "learning with Arif\n",
      "<class 'str'>\n"
     ]
    }
   ],
   "source": [
    "# Tuples are heterogeneous, as their elements/items can be of any data type\n",
    "t1 = (\"Arif\", 30, 5.5)\n",
    "print(\"t1: \", t1)\n",
    "\n",
    "# Tuples are ordered means every element is associated by an index, and every time you access list elements they will show up in same sequence\n",
    "subjects = ('PF', 'OOP', 'Operating System', 'DSA')\n",
    "print(\"subjects: \", subjects)\n",
    "\n",
    "# Nested tuple: A tuple can also have another tuple, or list as an item\n",
    "t2 = (1, \"Hello\", [8, 'OK', 6], (1, 2, 'BYE'), 5.5)\n",
    "print(\"\\nt5: \", t2)\n",
    "print(\"Type of t5 is: \", type(t2))\n",
    "\n",
    "# Tuples are immutable, i.e., tuple elements cannot be changed\n",
    "numbers = (10, 20, 30)\n",
    "# numbers[2] = 15    # this will generate an error\n",
    "new_numbers = (10, 20, 15)  # A tupple can be reassigned\n",
    "\n",
    "\n",
    "# A list within a tuple is still mutable\n",
    "my_tuple = (4, 2, 3, [6, 5])\n",
    "my_tuple[3][0] = 9         # will work fine\n",
    "\n",
    "\n",
    "# Tuples allow duplicate elements\n",
    "names = ('Arif', 'Rauf', 'Hadeed', 'Arif', 'Mujahid')\n",
    "print(names)\n",
    "\n",
    "# you can assign individual elements of tuples to string variables\n",
    "msg = ('learning', 'is', 'fun', 'with', 'Arif')\n",
    "v, w, x, y, z = msg # the number of variables on the left must match the length of tuple\n",
    "print (v, y, z)\n",
    "print(type(x))\n",
    "\n"
   ]
  },
  {
   "cell_type": "markdown",
   "id": "418db83b",
   "metadata": {},
   "source": [
    "### 3. Different ways to access elements of a tuple"
   ]
  },
  {
   "cell_type": "code",
   "execution_count": 3,
   "id": "d42c7653",
   "metadata": {},
   "outputs": [
    {
     "name": "stdout",
     "output_type": "stream",
     "text": [
      "[10, 'rauf']\n",
      "i\n",
      "rauf\n",
      "[10, 'rauf']\n",
      "5.5\n",
      "\n",
      "mytuple:  (27, 4.5, 'arif', 64, 'hadeed', 19, 'arif')\n",
      "mytuple.index(3):  2\n"
     ]
    }
   ],
   "source": [
    "#You can access elements of tuple using indexing which starts from zero\n",
    "t1 = (\"Arif\", 30, 5.5, [10,'rauf'])\n",
    "print(t1[3])\n",
    "\n",
    "#accessing Nested string element\n",
    "print(t1[0][2])              #accessing third element of string at index 0\n",
    "print(t1[3][1])              #accessing second element of Nested list\n",
    "\n",
    "#Negative indexing\n",
    "print(t1[-1])                #accessing last element\n",
    "print(t1[-2])                #accessing second last element\n",
    "\n",
    "\n",
    "\n",
    "# index(value) method is used when you know the tuple element and wants to get its index\n",
    "# index(value) method returns the index of the first matched item with its only argument\n",
    "mytuple = (27, 4.5, 'arif', 64, 'hadeed', 19, 'arif')\n",
    "print(\"\\nmytuple: \", mytuple)\n",
    "print(\"mytuple.index(3): \", mytuple.index('arif'))\n",
    "\n"
   ]
  },
  {
   "cell_type": "markdown",
   "id": "0557d8ff",
   "metadata": {},
   "source": [
    "### 4. Being immutable, you cannot add elements to a tuple (in list this is possible using append, extend, and insert)"
   ]
  },
  {
   "cell_type": "code",
   "execution_count": 4,
   "id": "4ca664fe",
   "metadata": {},
   "outputs": [
    {
     "name": "stdout",
     "output_type": "stream",
     "text": [
      "\n",
      " myfamily tuple:  ('Farooq', 'Rauf', 'Hadeed')\n"
     ]
    }
   ],
   "source": [
    "myfamily = (\"Farooq\", 'Rauf', 'Hadeed')\n",
    "print(\"\\n myfamily tuple: \", myfamily)\n",
    "# myfamily.insert(2,'Arif') # will generate an error as tuple object has no attribute 'insert'\n"
   ]
  },
  {
   "cell_type": "markdown",
   "id": "ae40dd9e",
   "metadata": {},
   "source": [
    "### 5. Being immutable, you cannot remove elemenst from a tuple (in list this is possible using pop and remove methods)"
   ]
  },
  {
   "cell_type": "code",
   "execution_count": 5,
   "id": "33f7704a",
   "metadata": {},
   "outputs": [
    {
     "name": "stdout",
     "output_type": "stream",
     "text": [
      "tuple1:  ('learning', 'is', 'fun', 'with', 'arif', 'butt')\n"
     ]
    }
   ],
   "source": [
    "# pop() method without any argument removes the last item in the list and returns it\n",
    "# The pop(index) method if given an argument/index, will remove that item from the list whose index is given and returns it as well\n",
    "tuple1 = ('learning', 'is', 'fun', 'with', 'arif', 'butt')\n",
    "print(\"tuple1: \", tuple1)\n",
    "# x  = list1.pop()  # will generate an error as tuple object has no attribute 'pop'\n",
    "\n",
    "\n",
    "#You cannot delete items from a tuple using del keyword\n",
    "#del tuple1[3]    # will generate an error as tuple object doesn't support item deletion\n",
    "\n",
    "\n",
    "#You can delete an entire tuple object using del keyword\n",
    "del tuple1\n",
    "# print(tuple1)\n",
    "\n"
   ]
  },
  {
   "cell_type": "markdown",
   "id": "8f109f45",
   "metadata": {},
   "source": [
    "### 6. Tuple Concatenation and Repetition"
   ]
  },
  {
   "cell_type": "code",
   "execution_count": 6,
   "id": "d4208107",
   "metadata": {},
   "outputs": [
    {
     "name": "stdout",
     "output_type": "stream",
     "text": [
      "('fruits', 'bread', 'veggies', 'meat', 'spices', 'burger')\n",
      "\n",
      " (5, 3.4, 'hello', 31, 9.7, 'bye')\n",
      "\n",
      " (1, 2, 3, 4, 5, 6, [7, 8])\n",
      "\n",
      " ('Arif', 'Hadeed', 'Mujahid', 'Arif', 'Hadeed', 'Mujahid', 'Arif', 'Hadeed', 'Mujahid')\n",
      "\n",
      " ('A', 'A', 'A', 'A', 'A', 'A', 'A', 'A', 'A', 'A', 'A', 'A', 'A', 'A', 'A', 'A', 'A', 'A', 'A', 'A', 'A', 'A', 'A', 'A', 'A', 'A', 'A', 'A', 'A', 'A', 'A', 'A', 'A', 'A', 'A', 'A', 'A', 'A', 'A', 'A', 'A', 'A', 'A', 'A', 'A', 'A', 'A', 'A', 'A', 'A', 'A', 'A', 'A', 'A', 'A', 'A', 'A', 'A', 'A', 'A', 'A', 'A', 'A', 'A', 'A', 'A', 'A', 'A', 'A', 'A', 'A', 'A', 'A', 'A', 'A', 'A', 'A', 'A', 'A', 'A', 'A', 'A', 'A', 'A', 'A', 'A', 'A', 'A', 'A', 'A', 'A', 'A', 'A', 'A', 'A', 'A', 'A', 'A', 'A', 'A')\n",
      "<class 'tuple'>\n"
     ]
    }
   ],
   "source": [
    "# use + operator to concatenate two tuples\n",
    "food_items1 = ('fruits', 'bread', 'veggies') \n",
    "food_items2 = ('meat', 'spices', 'burger')\n",
    "food = food_items1 + food_items2\n",
    "print(food)\n",
    "\n",
    "# You can concatenate two heterogeneous tuples\n",
    "t1 = (5, 3.4, 'hello')\n",
    "t2 = (31, 9.7, 'bye')\n",
    "t3 = t1 + t2\n",
    "print(\"\\n\",t3)\n",
    "\n",
    "num1 = (1,2,3)\n",
    "num2 = num1 + (4, 5, 6, [7, 8])  \n",
    "print (\"\\n\", num2)\n",
    "\n",
    "\n",
    "# use tuple * n syntax to create large tuples by repeating the tuple n times\n",
    "name = ('Arif', 'Hadeed', 'Mujahid')\n",
    "print (\"\\n\", name * 3)\n",
    "\n",
    "#list of 100 A's\n",
    "buffer = ('A',)      # remember the comma to create a tuple of one item\n",
    "print (\"\\n\",buffer * 100)\n",
    "print(type(buffer))"
   ]
  },
  {
   "cell_type": "markdown",
   "id": "c9517d91",
   "metadata": {},
   "source": [
    "### 7. Slicing Tuples"
   ]
  },
  {
   "cell_type": "code",
   "execution_count": 7,
   "id": "8221022c",
   "metadata": {},
   "outputs": [
    {
     "name": "stdout",
     "output_type": "stream",
     "text": [
      "Original tuple: ('a', 'b', 'c', 'd', 'e', 'f', 'g', 'h', 'i')\n",
      "my_tuple[:] returns: ('a', 'b', 'c', 'd', 'e', 'f', 'g', 'h', 'i')\n",
      "my_tuple[4:] returns: ('d', 'e', 'f', 'g', 'h', 'i')\n",
      "my_tuple[:4] returns: ('a', 'b', 'c', 'd')\n",
      "my_tuple[2:5] returns: ('c', 'd', 'e')\n",
      "my_tuple[:-2] returns: ('a', 'b', 'c', 'd', 'e', 'f', 'g')\n",
      "my_tuple[-1:] returns: ('i',)\n",
      "my_tuple[::-1] returns: ('i', 'h', 'g', 'f', 'e', 'd', 'c', 'b', 'a')\n",
      "After all this my_tuple is same:  ('a', 'b', 'c', 'd', 'e', 'f', 'g', 'h', 'i')\n",
      "\n",
      "t1:  (1, 2, 3, 4, 5, 6, 7)\n"
     ]
    }
   ],
   "source": [
    "# A tuple can be sliced using : symbol, which returns the range of elements specified by the index numbers\n",
    "# first index specifies from where the slicing should start\n",
    "# second index specifies where it has to stop (not included)\n",
    "\n",
    "my_tuple = ('a','b','c','d','e','f','g','h','i')\n",
    "print(\"Original tuple:\", my_tuple)\n",
    "\n",
    "print(\"my_tuple[:] returns:\", my_tuple[:])\n",
    "\n",
    "print(\"my_tuple[4:] returns:\", my_tuple[3:])\n",
    "\n",
    "print(\"my_tuple[:4] returns:\", my_tuple[:4])\n",
    "\n",
    "print(\"my_tuple[2:5] returns:\", my_tuple[2:5])\n",
    "\n",
    "print(\"my_tuple[:-2] returns:\", my_tuple[:-2])\n",
    "\n",
    "print(\"my_tuple[-1:] returns:\", my_tuple[-1:])\n",
    "\n",
    "\n",
    "# reverse the list using step value as -1\n",
    "print(\"my_tuple[::-1] returns:\", my_tuple[::-1])\n",
    "print(\"After all this my_tuple is same: \", my_tuple)\n",
    "\n",
    "\n",
    "\n",
    "# You CANNOT use slice operator on the left side of assignment as tuple is immutable\n",
    "t1 = (1, 2, 3, 4, 5, 6, 7)\n",
    "print(\"\\nt1: \",t1)\n",
    "#t1[2:4] = ['a', 'b', 'c']  # will generate an error as 'tuple' object does not support item assignment"
   ]
  },
  {
   "cell_type": "markdown",
   "id": "0f4dd1c2",
   "metadata": {},
   "source": [
    "### 8. Converting string object to tuple and vice-versa (using type casting, split() and join())"
   ]
  },
  {
   "cell_type": "code",
   "execution_count": 8,
   "id": "24e78729",
   "metadata": {},
   "outputs": [
    {
     "name": "stdout",
     "output_type": "stream",
     "text": [
      "<class 'str'>\n",
      "Original string:  Learning is fun and its type is:   <class 'str'>\n",
      "t1:  (1, 2, 3, 4, 5, 6, 7) and its type is:   <class 'tuple'>\n",
      "\n",
      "Given string:  Learning is fun\n",
      "t1=tuple(str1.split(' ')) ('Learning', 'is', 'fun')\n",
      "<class 'tuple'>\n",
      "\n",
      "str2:  Learning is fun\n",
      "<class 'str'>\n"
     ]
    }
   ],
   "source": [
    "# convert a string into tuple using tuple()\n",
    "str1 = 'Learning is fun'    #this is a string\n",
    "print(type(str1))\n",
    "print(\"Original string: \", str1, \"and its type is:  \", type(str1))\n",
    "t11 = tuple(str1)\n",
    "print(\"t1: \", t1, \"and its type is:  \", type(t1))\n",
    "\n",
    "\n",
    "# split() method is used to tokenize a string based on some delimiter, which can be stored in a tuple\n",
    "# returns a list having tokens of the string based on spaces if no argument is passed\n",
    "# so for tuples you need to type cast the return object of split\n",
    "print(\"\\nGiven string: \", str1)\n",
    "t1 = tuple(str1.split(' '))\n",
    "print(\"t1=tuple(str1.split(' '))\", t1)\n",
    "print(type(t1))\n",
    "\n",
    "\n",
    "#join is the reverse of split\n",
    "delimeter = ' '\n",
    "str2 = delimeter.join(t1)\n",
    "print(\"\\nstr2: \",str2)\n",
    "print(type(str2))"
   ]
  },
  {
   "cell_type": "markdown",
   "id": "fbf88b2e",
   "metadata": {},
   "source": [
    "### 9. Misc Tuple methods in Python"
   ]
  },
  {
   "cell_type": "code",
   "execution_count": 9,
   "id": "dd1b54d4",
   "metadata": {},
   "outputs": [
    {
     "name": "stdout",
     "output_type": "stream",
     "text": [
      "2\n"
     ]
    }
   ],
   "source": [
    "# You cannot call sort() and reverse on a tuple being immutable\n",
    "# sort() method works well on lists\n",
    "list_num = (3, 8, 1, 6, 0, 8, 4)\n",
    "# list_num.sort()\n",
    "#list_num.reverse()\n",
    "\n",
    "# count(value) method takes exactly one argument and returns the number of times a specified value occurs in a tuple\n",
    "rv = list_num.count(8)\n",
    "print(rv)\n"
   ]
  },
  {
   "cell_type": "markdown",
   "id": "aa367cb0",
   "metadata": {},
   "source": [
    "### 10. Some Built-in functions that can be used on tuples"
   ]
  },
  {
   "cell_type": "code",
   "execution_count": 10,
   "id": "2f025aa2",
   "metadata": {},
   "outputs": [
    {
     "name": "stdout",
     "output_type": "stream",
     "text": [
      "length of list:  7\n",
      "max element in list:  8\n",
      "min element in list:  0\n",
      "Sum of element in list:  30\n",
      "False\n",
      "False\n"
     ]
    }
   ],
   "source": [
    "t1 = (3, 8, 1, 6, 0, 8, 4)\n",
    "\n",
    "print(\"length of list: \", len(t1))\n",
    "print(\"max element in list: \", max(t1))\n",
    "print(\"min element in list: \",min(t1))\n",
    "print(\"Sum of element in list: \",sum(t1))\n",
    "\n",
    "# Membership (in) operator\n",
    "rv1 = 9 in t1\n",
    "print(rv1)\n",
    "\n",
    "rv2 = \"ARIF\" in t1\n",
    "print(rv2)\n"
   ]
  },
  {
   "cell_type": "markdown",
   "id": "ff517f2e",
   "metadata": {},
   "source": [
    "### 11. Misc Concepts"
   ]
  },
  {
   "cell_type": "markdown",
   "id": "57a57000",
   "metadata": {},
   "source": [
    "#### * Comparing objects and values"
   ]
  },
  {
   "cell_type": "code",
   "execution_count": 11,
   "id": "5ba0e04b",
   "metadata": {},
   "outputs": [
    {
     "name": "stdout",
     "output_type": "stream",
     "text": [
      "Comparing two strings with is operator:  True\n",
      "Comparing two strings with == operator:  True\n",
      "Comparing two tuples with is operator:  False\n",
      "Comparing two tuples with == operator:  True\n"
     ]
    }
   ],
   "source": [
    "# in case of strings, both a and b refers to the same memory location containing string 'hello'\n",
    "a = 'hello'\n",
    "b = 'hello'\n",
    "print (\"Comparing two strings with is operator: \", a is b) # is operator is checking the memory address two strings\n",
    "print (\"Comparing two strings with == operator: \", a == b) # == operator is checking the contents of two strings\n",
    "\n",
    "# in case of tuple, both a and b refers to two different objects in the memory having same values\n",
    "x = ['hello']\n",
    "y = ['hello']\n",
    "\n",
    "print (\"Comparing two tuples with is operator: \", x is y) # is operator is checking the memory address two tuples\n",
    "print (\"Comparing two tuples with == operator: \", x == y) # == operator is checking the contents of two tuples"
   ]
  },
  {
   "cell_type": "markdown",
   "id": "2aae08e0",
   "metadata": {},
   "source": [
    "#### b. Comparing Tuples"
   ]
  },
  {
   "cell_type": "code",
   "execution_count": 12,
   "id": "596c6b8d",
   "metadata": {
    "scrolled": true
   },
   "outputs": [
    {
     "name": "stdout",
     "output_type": "stream",
     "text": [
      "True\n",
      "True\n",
      "False\n"
     ]
    }
   ],
   "source": [
    "# you can use comparison operators on tuples\n",
    "t1 = (1, 2, 3)\n",
    "t2 = (3, 1, 2)\n",
    "t3 = (1, 2, 3)\n",
    "print(t1 != t2)\n",
    "print(t1 == t3)\n",
    "print(t1 > t2)\n"
   ]
  },
  {
   "cell_type": "markdown",
   "id": "0f4febac",
   "metadata": {},
   "source": [
    "#### c. Aliasing"
   ]
  },
  {
   "cell_type": "code",
   "execution_count": 13,
   "id": "d8248e80",
   "metadata": {},
   "outputs": [
    {
     "name": "stdout",
     "output_type": "stream",
     "text": [
      "False\n",
      "True\n"
     ]
    }
   ],
   "source": [
    "# alias_t1 is an alias to t1. i.e., both names refer to same object now.\n",
    "# Draw diagram to understand\n",
    "t1 = ('a', 'b', 'c')\n",
    "t2 = ('a', 'b', 'c')\n",
    "alias_t1 = t1\n",
    "\n",
    "print(t1 is t2)\n",
    "print(alias_t1 is t1)\n"
   ]
  },
  {
   "cell_type": "markdown",
   "id": "a578a6c3",
   "metadata": {},
   "source": [
    "### 12. Looping through tuple elements (More on loops in next lecture)"
   ]
  },
  {
   "cell_type": "code",
   "execution_count": 14,
   "id": "8c8c3eeb",
   "metadata": {},
   "outputs": [
    {
     "name": "stdout",
     "output_type": "stream",
     "text": [
      "Learning\n",
      "is\n",
      "fun\n",
      "with\n",
      "Arif Butt\n",
      "Learning\n",
      "is\n",
      "fun\n",
      "with\n",
      "Arif Butt\n"
     ]
    }
   ],
   "source": [
    "# for loop iterates over the elements specified number of times\n",
    "t1 = ('Learning', 'is', 'fun', 'with', 'Arif Butt')\n",
    "for x in t1:\n",
    "    print(x)\n",
    "    \n",
    "# while loop iterates over the elements until a certain condition is met\n",
    "ctr = 0\n",
    "while(ctr < len(t1)):\n",
    "    print(t1[ctr])\n",
    "    ctr += 1"
   ]
  }
 ],
 "metadata": {
  "kernelspec": {
   "display_name": "Python 3 (ipykernel)",
   "language": "python",
   "name": "python3"
  },
  "language_info": {
   "codemirror_mode": {
    "name": "ipython",
    "version": 3
   },
   "file_extension": ".py",
   "mimetype": "text/x-python",
   "name": "python",
   "nbconvert_exporter": "python",
   "pygments_lexer": "ipython3",
   "version": "3.8.10"
  }
 },
 "nbformat": 4,
 "nbformat_minor": 5
}
