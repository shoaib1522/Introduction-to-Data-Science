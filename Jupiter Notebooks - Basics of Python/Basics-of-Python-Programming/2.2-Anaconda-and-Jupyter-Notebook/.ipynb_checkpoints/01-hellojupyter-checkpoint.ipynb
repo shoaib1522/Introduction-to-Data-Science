{
 "cells": [
  {
   "cell_type": "markdown",
   "id": "52cb0aec",
   "metadata": {},
   "source": [
    "---   \n",
    " <img align=\"left\" width=\"75\" height=\"75\"  src=\"../../University_of_the_Punjab_logo.png\"> \n",
    "\n",
    "<h1 align=\"center\">Department of Data Science</h1>\n",
    "<h1 align=\"center\">Course: Data Science Journey from Beginners to Expert</h1>\n",
    "\n",
    "---\n",
    "<h3><div align=\"right\">Instructor: Engr. Muhammad Nadeem Majeed, Ph.D.</div></h3>    "
   ]
  },
  {
   "cell_type": "markdown",
   "id": "e224b328",
   "metadata": {
    "slideshow": {
     "slide_type": "slide"
    }
   },
   "source": [
    "<h1 align=\"center\">Anaconda-and-Jupyter-Notebook</h1>"
   ]
  },
  {
   "cell_type": "markdown",
   "id": "6065d4a7",
   "metadata": {},
   "source": [
    "## _01-hellojupyter.ipynb_"
   ]
  },
  {
   "cell_type": "markdown",
   "id": "d01cae8f",
   "metadata": {},
   "source": [
    "### [Go to Jupyter.org](https://jupyter.org)\n",
    "### [Click to read Documentation](https://jupyter.readthedocs.io/en/latest/content-quickstart.html)"
   ]
  },
  {
   "cell_type": "markdown",
   "id": "aa986aeb",
   "metadata": {},
   "source": [
    "## Learning agenda of this notebook\n",
    "1. A review of Jupyter notebook Interface\n",
    "2. Performing Arithmetic operations\n",
    "3. Use of comments\n",
    "4. Use of Built-in `print()` function\n",
    "5. Getting Help\n",
    "6. Running Bash Shell Commands in Jupyter notebook\n",
    "7. IPython Magic Commands"
   ]
  },
  {
   "cell_type": "markdown",
   "id": "4cd487ed",
   "metadata": {},
   "source": [
    "## 1. A review of the Jupyter notebook Interface\n",
    "Jupyter Notebook previously called IPython Notebook is a web application that allows you to run live code, embed visualization and explonatory text all in one place. Jupyter notebooks (with a lower case 'n') are files with .ipynb extension containing JSON data\n",
    "1. **Header:**  At the top of the notebook document is the header which contains the _notebook title_, _menu bar_, and _toolbar_, which are used to control notebook navigation and document structure.\n",
    "2. **Body:** The body of a notebook is composed of cells. Each cell contains either markdown, code input, code output, or raw text.\n",
    "3. **Types of cells:**\n",
    "    - **Markdown cells** are used to build a nicely formatted narrative around the code in the document. These cells can either be rendered or unrendered. When they are rendered, a nice formatted representation of the cell's contents will be presented. When they are unrendered, the raw text source of the cell will be presented.\n",
    "    - **Code cells**  are used to define the computational code in the document. They come in two forms:\n",
    "        - **Input cell** where the user types the code to be executed, and  \n",
    "        - **output cell** which is the representation of the executed code. Depending on the code, this representation may be a simple scalar value, or something more complex like a plot or an interactive widget.\n",
    "    -**Raw cells:** These are used when text needs to be included in raw form, without execution or transformation.\n",
    "4. **Modes of a cell:**\n",
    "    - **Edit mode** is indicated by a **green** cell border and a prompt showing in the editor area. When a cell is in edit mode, you can type into the cell, like a normal text editor. Enter edit mode by pressing `Enter` or using the mouse to click on a cell's editor area.\n",
    "    - **Command mode** is indicated by a **blue** cell border. When in command mode, the structure of the notebook can be modified as a whole, but the text in individual cells cannot be changed. Most importantly, the keyboard is mapped to a set of shortcuts for efficiently performing notebook and cell actions. Enter command mode by pressing `Esc` or using the mouse to click *outside* a cell's editor area.\n",
    "\n",
    "5. **Keyboard Short cuts:** Keyboard shortcuts are a very popular aspect of the Jupyter environment because they facilitate a speedy cell-based workflow. Following shortcuts work in command mode:\n",
    "    - Press H to see the list of short cuts\n",
    "    - Shift+Enter to execute code of a code-cell and to render the contents of a markdown cell. It also shifts control to cell down. If there is none it creates one. To avoid shifting control to lower cell after you execute a cell code use <Ctrl+Enter> instead\n",
    "    - Scroll up and down your cells with your Up and Down keys.\n",
    "    - Press A or B to insert a new cell above or below the active cell.\n",
    "    - DD (D twice) will delete the active cell.\n",
    "    - L to toggle view linenumbers within a code cell\n",
    "    - Z will undo cell deletion. \n",
    "    - M will transform the active cell to a Markdown cell.\n",
    "    - Y will set the active cell to a code cell.\n",
    "    - <Command+/> to toggle between commenting and uncommenting the current LOC or highlighted LOCs\n",
    "    - Hold Shift and press Up or Down to select multiple cells at once. With multiple cells selected, Shift + M will merge your selection."
   ]
  },
  {
   "cell_type": "markdown",
   "id": "52571bcd",
   "metadata": {},
   "source": [
    "## 2. Performing Arithmetic Operations using Python\n",
    "\n",
    "Let's begin by using Python as a calculator. You can write and execute Python using a code cell within Jupyter. \n",
    "\n",
    "> **Working with cells**: To create a new cell within Jupyter, you can select \"Insert > Insert Cell Below\" from the menu bar or just press the \"+\" button on the toolbar. You can also use the keyboard shortcut `Esc+B` to create a new cell. Once a cell is created, click on it to select it. You can then change the cell type to code or markdown (text) using the \"Cell > Cell Type\" menu option. You can also use the keyboard shortcuts `Esc+Y` and `Esc+M`. Double-click a cell to edit the content within the cell. To apply your changes and run a cell, use the \"Cell > Run Cells\" menu option or click the \"Run\" button on the toolbar or just use the keyboard shortcut `Shift+Enter`. You can see a full list of keyboard shortcuts using the \"Help > Keyboard Shortcuts\" menu option.\n",
    "\n",
    "Run the code cells below to perform calculations and view their result. Try changing the numbers and run the modified cells again to see updated results."
   ]
  },
  {
   "cell_type": "code",
   "execution_count": null,
   "id": "39d7d785",
   "metadata": {},
   "outputs": [],
   "source": [
    "'hello Jupyter: JUlia PYThon R'"
   ]
  },
  {
   "cell_type": "markdown",
   "id": "b8b3fed5",
   "metadata": {},
   "source": [
    "Python supports the following arithmetic operators:\n",
    "\n",
    "| Operator   | Purpose           | Example     | Result    |\n",
    "|------------|-------------------|-------------|-----------|\n",
    "| `+`        | Addition          | `2 + 3`     | `5`       |\n",
    "| `-`        | Subtraction       | `3 - 2`     | `1`       |\n",
    "| `*`        | Multiplication    | `8 * 12`    | `96`      |\n",
    "| `/`        | Division          | `100 / 7`   | `14.28..` |\n",
    "| `//`       | Floor Division    | `100 // 7`  | `14`      |    \n",
    "| `%`        | Modulus/Remainder | `100 % 7`   | `2`       |\n",
    "| `**`       | Exponent          | `5 ** 3`    | `125`     |\n"
   ]
  },
  {
   "cell_type": "code",
   "execution_count": null,
   "id": "a0f2df50",
   "metadata": {},
   "outputs": [],
   "source": [
    "2 + 3 + 9"
   ]
  },
  {
   "cell_type": "code",
   "execution_count": null,
   "id": "bc5fabdd",
   "metadata": {},
   "outputs": [],
   "source": [
    "99 - 73"
   ]
  },
  {
   "cell_type": "code",
   "execution_count": null,
   "id": "ea7b88ba",
   "metadata": {
    "scrolled": true
   },
   "outputs": [],
   "source": [
    "23.54 * -1432"
   ]
  },
  {
   "cell_type": "code",
   "execution_count": null,
   "id": "1373d987",
   "metadata": {},
   "outputs": [],
   "source": [
    "100 / 7"
   ]
  },
  {
   "cell_type": "code",
   "execution_count": null,
   "id": "cea673fe",
   "metadata": {},
   "outputs": [],
   "source": [
    "100 // 7"
   ]
  },
  {
   "cell_type": "code",
   "execution_count": null,
   "id": "e5e1cb18",
   "metadata": {},
   "outputs": [],
   "source": [
    "100 % 7"
   ]
  },
  {
   "cell_type": "code",
   "execution_count": null,
   "id": "92fed413",
   "metadata": {},
   "outputs": [],
   "source": [
    "5 ** 3"
   ]
  },
  {
   "cell_type": "markdown",
   "id": "617a4432",
   "metadata": {},
   "source": [
    "As you might expect, operators like `/` and `*` take precedence over other operators like `+` and `-` as per mathematical conventions. You can use parentheses, i.e. `(` and `)`, to specify the order in which operations are performed."
   ]
  },
  {
   "cell_type": "code",
   "execution_count": null,
   "id": "52524d6c",
   "metadata": {},
   "outputs": [],
   "source": [
    "((2 + 5) * (17 - 3)) / (4 ** 3)"
   ]
  },
  {
   "cell_type": "markdown",
   "id": "b6342788",
   "metadata": {},
   "source": [
    "## 3. Use of Comments\n",
    "Note that we're using the `#` character to add *comments* within our code. \n",
    "\n",
    "> **Comments**: Comments and blank lines are ignored during execution, but they are useful for providing information to humans (including yourself) about what the code does. Comments can be inline (at the end of some code), on a separate line, or even span multiple lines. \n",
    "\n",
    "Inline and single-line comments start with `#`, whereas multi-line comments begin and end with three quotes, i.e. `\"\"\"`. Here are some examples of code comments:"
   ]
  },
  {
   "cell_type": "code",
   "execution_count": null,
   "id": "1bf354ab",
   "metadata": {},
   "outputs": [],
   "source": [
    "# This is a single line comment\n",
    "# Keyboard shortcut to comment/un-comment some LOC(s) is <command+/>\n",
    "\n",
    "\"\"\"\n",
    "A multi-line comment starts and ends with a tripple double quotes\n",
    "A docstring is a documentation string. As a comment, this Python Syntax is used to explain code.\n",
    "But unlike comments, they are more specific. Also, they are retained at runtime.\n",
    "This way, the programmer can inspect them at runtime. Delimit a docstring using three double-quotes. \n",
    "\"\"\"\n",
    "\n",
    "'''\n",
    "A multi-line comment can also starts and ends with a tripple single quotes\n",
    "'''\n",
    "x=10  # A comment ends with newline\n",
    "x"
   ]
  },
  {
   "cell_type": "markdown",
   "id": "b4933e01",
   "metadata": {},
   "source": [
    "## 4. Use of Built-in `print()` Function\n",
    "- **`print`**: The `print` is a Python built-in function that is used to display information. It takes one or more inputs, which can be text (within quotes, e.g., `\"this is some text\"`), numbers, variables, mathematical expressions, etc. We'll learn more about variables the next tutorial.\n",
    "\n",
    "- Jupyter allows you to write multiple lines of code within a single code cell. However, the result of the last line of code within a cell is displayed as the output. \n",
    "\n",
    "* Python `print()` function receives variable number of comma separated values and all the comma separated elements/variables get printed on the output separated by spaces (by default)\n",
    "- To find out the arguments that you can pass to a function or method in IPython, just place the cursor inside parenthesis and hit <shift +\n",
    "    - Tab> once: Displays a brief signature with doc string\n",
    "    - Tab> twice: Displays a larger frame to display more information\n",
    "    - Tab> thrice: Displays the information for a longer duration\n",
    "    - Tab> fourth time: The information takes almost half of your screen and you can resize it for longer usage\n"
   ]
  },
  {
   "cell_type": "code",
   "execution_count": null,
   "id": "2e203634",
   "metadata": {},
   "outputs": [],
   "source": [
    "# Note only the last command appears in output\n",
    "age = 45\n",
    "name = \"Nadeem Majeed\"\n",
    "age\n",
    "name"
   ]
  },
  {
   "cell_type": "code",
   "execution_count": null,
   "id": "f01c99dd",
   "metadata": {},
   "outputs": [],
   "source": [
    "# Solution is to use print()\n",
    "print(age)\n",
    "print(name)"
   ]
  },
  {
   "cell_type": "code",
   "execution_count": null,
   "id": "4e8a7cf3",
   "metadata": {},
   "outputs": [],
   "source": [
    "# You can use `+` operator to concatenage two or more strings\n",
    "'Hello Mr. ' + name"
   ]
  },
  {
   "cell_type": "code",
   "execution_count": null,
   "id": "8d34507e",
   "metadata": {},
   "outputs": [],
   "source": [
    "# However, you cannot use `+` operator on numbers\n",
    "\"Hello Mr. \" + name  + ', you are ' + age + 'years old'"
   ]
  },
  {
   "cell_type": "markdown",
   "id": "71219144",
   "metadata": {},
   "source": [
    "### a. Using Format String in `print()` Function"
   ]
  },
  {
   "cell_type": "markdown",
   "id": "56112182",
   "metadata": {},
   "source": [
    "- **Use Format String: (C Style)**\n",
    "    - Use the **`%s`** symbol as a place holder for the value of a variable in the format string of the `print()` function. \n",
    "    - Use `%s` inside the string where you want a value to appear. After the string, put a `%` operator and mention the identifiers in parenthesis."
   ]
  },
  {
   "cell_type": "code",
   "execution_count": null,
   "id": "28059871",
   "metadata": {},
   "outputs": [],
   "source": [
    "str = \"Hello Mr. %s,  you are %s years old.\" %(name, age)\n",
    "str"
   ]
  },
  {
   "cell_type": "code",
   "execution_count": null,
   "id": "0c5297a0",
   "metadata": {},
   "outputs": [],
   "source": [
    "# The format string can be used in `print()`\n",
    "print(\"Hello Mr. %s,  you are %s years old.\" %(name, age))"
   ]
  },
  {
   "cell_type": "markdown",
   "id": "a578f0c1",
   "metadata": {},
   "source": [
    "- **Use `string.format()` method:** (Python Style)\n",
    "    - Place the index (0, 1, 2, ...) in curly braces inside the string where you want a value to appear. \n",
    "    - Call the `format()` method on the string using the dot operator and mention the identifiers in parenthesis"
   ]
  },
  {
   "cell_type": "code",
   "execution_count": null,
   "id": "0c20c376",
   "metadata": {},
   "outputs": [],
   "source": [
    "age = 50; name = \"Nadeem Majeed\"\n",
    "print(\"Hello Mr. {}, you are {} years old.\" .format(name, age))"
   ]
  },
  {
   "cell_type": "code",
   "execution_count": null,
   "id": "10b9757a",
   "metadata": {},
   "outputs": [],
   "source": [
    "# You can mention indices of variables passed to format() function, if you want a different \n",
    "# sequence as in following example\n",
    "age = 51;    name = \"Nadeem Majeed\"\n",
    "\n",
    "print(\"Hello Mr. {1}, you are {0} years old.\" .format(age, name))"
   ]
  },
  {
   "cell_type": "code",
   "execution_count": null,
   "id": "f913b8d4",
   "metadata": {},
   "outputs": [],
   "source": [
    "# Another way of passing argument to format method\n",
    "print(\"Hello Mr. {name}, you are {age} years old.\" .format(name=\"Kakamanna\",age=23))"
   ]
  },
  {
   "cell_type": "code",
   "execution_count": 2,
   "id": "cb44c98a",
   "metadata": {},
   "outputs": [
    {
     "name": "stdout",
     "output_type": "stream",
     "text": [
      "Hello, My name is Nadeem and I'm 43 years old.\n"
     ]
    }
   ],
   "source": [
    "name = \"Nadeem\"\n",
    "age = 43\n",
    "print(f\"Hello, My name is {name} and I'm {age} years old.\")"
   ]
  },
  {
   "cell_type": "markdown",
   "id": "cf095e4a",
   "metadata": {},
   "source": [
    "### b. Using Escape Sequence in  Format String\n",
    "- Escape sequences are special commands that tell Python to either\n",
    "    - Suppress special meaning of some character or symbol in a string\n",
    "    - Give an otherwise ordinary character a special meaning\n",
    "- For example, a single or double quote has special meanings, i.e., are used to define a string. To make them part of a string you have to suppress the special meaning by preceding the character by a back slash `\\`"
   ]
  },
  {
   "cell_type": "code",
   "execution_count": null,
   "id": "7bfe1f4b",
   "metadata": {},
   "outputs": [],
   "source": [
    "#print('It's my birthday')   # This will flag an error\n",
    "print('It\\'s my birthday')"
   ]
  },
  {
   "cell_type": "code",
   "execution_count": null,
   "id": "22cbd4c6",
   "metadata": {},
   "outputs": [],
   "source": [
    "# Similarly, we can give an ordinary character 't' and 'n', special meanings by preceding them by a back slash\n",
    "print('Hello\\tWorld')\n",
    "print('Hello\\nWorld')"
   ]
  },
  {
   "cell_type": "markdown",
   "id": "34cda13b",
   "metadata": {},
   "source": [
    "### c. Using `sep` parameter of `print()` Function\n",
    "- By default `print()` insert a space character between values.\n",
    "- You can change this default behavior using the `sep` parameter and assign it any character/string you want to used instead of space character"
   ]
  },
  {
   "cell_type": "code",
   "execution_count": null,
   "id": "de24c7c8",
   "metadata": {},
   "outputs": [],
   "source": [
    "age = 50\n",
    "name = \"Nadeem Majeed\"\n",
    "print(name, age)\n"
   ]
  },
  {
   "cell_type": "code",
   "execution_count": null,
   "id": "b5669679",
   "metadata": {},
   "outputs": [],
   "source": [
    "age = 50\n",
    "name = \"Nadeem Majeed\"\n",
    "print(name, age, sep=' : ')\n"
   ]
  },
  {
   "cell_type": "markdown",
   "id": "eff8699d",
   "metadata": {},
   "source": [
    "### d. Using `end` parameter of `print()` function\n",
    "- By default when `print()` statement is done printing the output, it appends a newline character at the end. Hence, we get the output of each print statement in different line.\n",
    "- You can change this default behavior using the `end` parameter and assign it the character/string you want to use instead of newline character "
   ]
  },
  {
   "cell_type": "code",
   "execution_count": null,
   "id": "5ef6b0ca",
   "metadata": {},
   "outputs": [],
   "source": [
    "age = 50\n",
    "name = \"Nadeem Majeed\"\n",
    "print(name)\n",
    "print(age)\n"
   ]
  },
  {
   "cell_type": "code",
   "execution_count": null,
   "id": "0a0d6603",
   "metadata": {},
   "outputs": [],
   "source": [
    "age = 50\n",
    "name = \"Nadeem Majeed\"\n",
    "print(name, end=' ')\n",
    "print(age)\n"
   ]
  },
  {
   "cell_type": "markdown",
   "id": "08562aef",
   "metadata": {},
   "source": [
    "## 5. Getting Help in IPython\n",
    "Within IPython you have various way to access help:\n",
    "-  `?`             Introduction and overview of IPython's features (this screen).\n",
    "-  `?object`       Details about 'object'.\n",
    "-  `help(object)`   Access Python's own help system.\n",
    "-  `help()`   Interactive help utility"
   ]
  },
  {
   "cell_type": "code",
   "execution_count": null,
   "id": "bfa863b6",
   "metadata": {},
   "outputs": [],
   "source": [
    "?"
   ]
  },
  {
   "cell_type": "code",
   "execution_count": null,
   "id": "4293f426",
   "metadata": {},
   "outputs": [],
   "source": [
    "?print"
   ]
  },
  {
   "cell_type": "code",
   "execution_count": null,
   "id": "0517542e",
   "metadata": {},
   "outputs": [],
   "source": [
    "help(print)"
   ]
  },
  {
   "cell_type": "code",
   "execution_count": null,
   "id": "06381fb4",
   "metadata": {
    "scrolled": false
   },
   "outputs": [],
   "source": [
    "# Get help about \"keywords\", \"symbols\", \"topics\", ...\n",
    "# Type \"quit\" to exit this interactive command\n",
    "help()"
   ]
  },
  {
   "cell_type": "markdown",
   "id": "33375f96",
   "metadata": {},
   "source": [
    "## 6. Running bash shell commands\n",
    "- If you are using a Linux or Mac OS, you can use the powerfull bash shell commands by preceding the commands by a `!` sign"
   ]
  },
  {
   "cell_type": "code",
   "execution_count": null,
   "id": "b783dc85",
   "metadata": {},
   "outputs": [],
   "source": [
    "!pwd\n",
    "!date\n",
    "!touch f1.txt\n",
    "! ls\n",
    "! echo \"This is fun..\"\n",
    "! cat ../Lec-2.01-Introduction-to-Python/first.py"
   ]
  },
  {
   "cell_type": "markdown",
   "id": "77943be1",
   "metadata": {},
   "source": [
    "## 6. IPython Magic Commands\n",
    "- The Jupyter notebook has a set of predefined magic functions like cd, ls, ...... You can use them if you are good at working on command line shells\n",
    "- There are two kinds\n",
    "    - **Line magics** are prefixed with the **`%`** character, and work much like OS command-line calls: they get as an argument the rest of the line, where arguments are passed without parentheses or quotes\n",
    "    - **Cell magics** are prefixed with a double **`%%`** character, and they are functions that get as an argument not only the rest of the line, but also the lines below it in a separate argument.  These magics are called with two arguments: the rest of the call line and the body of the cell, consisting of the lines below the first."
   ]
  },
  {
   "cell_type": "markdown",
   "id": "248b4c16",
   "metadata": {},
   "source": [
    "### a. Line Magic Commands"
   ]
  },
  {
   "cell_type": "code",
   "execution_count": null,
   "id": "514ad6fc",
   "metadata": {},
   "outputs": [],
   "source": [
    "%lsmagic"
   ]
  },
  {
   "cell_type": "code",
   "execution_count": null,
   "id": "dc6dcfd8",
   "metadata": {},
   "outputs": [],
   "source": [
    "%pwd"
   ]
  },
  {
   "cell_type": "code",
   "execution_count": null,
   "id": "7c9db7fd",
   "metadata": {},
   "outputs": [],
   "source": [
    "%mkdir ddd"
   ]
  },
  {
   "cell_type": "code",
   "execution_count": null,
   "id": "b6df2eec",
   "metadata": {},
   "outputs": [],
   "source": [
    "%ls"
   ]
  },
  {
   "cell_type": "code",
   "execution_count": null,
   "id": "13150876",
   "metadata": {},
   "outputs": [],
   "source": [
    "%alias msg echo \"Learning Data Science\""
   ]
  },
  {
   "cell_type": "code",
   "execution_count": null,
   "id": "664a6994",
   "metadata": {},
   "outputs": [],
   "source": [
    "msg"
   ]
  },
  {
   "cell_type": "markdown",
   "id": "b112e056",
   "metadata": {},
   "source": [
    "- If you want to view a program file while you are inside Jupyter notebook,, use the **`%pycat`** line magic"
   ]
  },
  {
   "cell_type": "code",
   "execution_count": null,
   "id": "8bae0f0d",
   "metadata": {},
   "outputs": [],
   "source": [
    "%pycat ../2.1-Introduction-to-Python/fibo_series.py"
   ]
  },
  {
   "cell_type": "markdown",
   "id": "dac34ec6",
   "metadata": {},
   "source": [
    "- If you want to run a python file inside Jupyter notebook and just want to see its output use the **`%run`** line magic"
   ]
  },
  {
   "cell_type": "code",
   "execution_count": null,
   "id": "ca44f7b2",
   "metadata": {},
   "outputs": [],
   "source": [
    "%run ../2.1-Introduction-to-Python/fibo_series"
   ]
  },
  {
   "cell_type": "markdown",
   "id": "aaaf90cb",
   "metadata": {},
   "source": [
    "- If you want to load a python file in a cell of Jupyter notebook, use the **`%load`** line magic\n",
    "- The load magic command when executed will load the file contents in the cell and automatically comment itself :)\n",
    "- ```%load ../Lec-2.01-Introduction-to-Python/fibo_series.py```"
   ]
  },
  {
   "cell_type": "code",
   "execution_count": null,
   "id": "7f77264e",
   "metadata": {},
   "outputs": [],
   "source": [
    "# %load ../Lec-2.01-Introduction-to-Python/fibo_series.py\n",
    "#Iterative Fibonacci Series\n",
    "def fibo_series(n):\n",
    "    a=1\n",
    "    b=1\n",
    "    print(\"Fibonacci Series: \", end=' ')\n",
    "    if n<1:\n",
    "        print(\"Incorrect input\")\n",
    "    elif n==1:\n",
    "        print('0', end=' ')\n",
    "    elif n==2:\n",
    "        print('0','1', end=' ')\n",
    "    else:\n",
    "        print('0',a,b,end=' ')\n",
    "        for i in range(n-3):\n",
    "            c = a + b\n",
    "            print(c, end=' ')\n",
    "            a = b  \n",
    "            b = c\n",
    "        print()       \n",
    "         \n",
    "fibo_series(7)"
   ]
  },
  {
   "cell_type": "code",
   "execution_count": null,
   "id": "d91b5878",
   "metadata": {},
   "outputs": [],
   "source": [
    "%history"
   ]
  },
  {
   "cell_type": "markdown",
   "id": "a9d741b2",
   "metadata": {},
   "source": [
    ">- If you want to check out the time taken by a Python command to execute , use the **%time** line magic\n",
    ">- The load magic command when executed will load the file contents in the cell and automatically comment itself :)\n",
    ">- ```%load ../Lec-2.01-Introduction-to-Python/fibo_series.py```"
   ]
  },
  {
   "cell_type": "code",
   "execution_count": null,
   "id": "ba55532b",
   "metadata": {},
   "outputs": [],
   "source": [
    "%time print(\"hello jupyter\")"
   ]
  },
  {
   "cell_type": "code",
   "execution_count": null,
   "id": "7dd330ed",
   "metadata": {},
   "outputs": [],
   "source": [
    "%time for i in range(10000000): pass"
   ]
  },
  {
   "cell_type": "markdown",
   "id": "1da2adda",
   "metadata": {},
   "source": [
    "### b. Cell Magic Commands"
   ]
  },
  {
   "cell_type": "code",
   "execution_count": null,
   "id": "f7f66ed3",
   "metadata": {},
   "outputs": [],
   "source": [
    "# to run on Linux or Mac\n",
    "%%bash\n",
    "echo \"My shell is:\" $SHELL\n",
    "touch newfile\n",
    "date\n",
    "pwd\n",
    "for friends in 'Khurram', 'Idrees', 'Waheed', 'Arif'\n",
    "   do\n",
    "      echo $friends\n",
    "   done"
   ]
  },
  {
   "cell_type": "code",
   "execution_count": 9,
   "id": "145988fc",
   "metadata": {},
   "outputs": [
    {
     "ename": "SyntaxError",
     "evalue": "invalid syntax (1662086266.py, line 3)",
     "output_type": "error",
     "traceback": [
      "\u001b[1;36m  Cell \u001b[1;32mIn[9], line 3\u001b[1;36m\u001b[0m\n\u001b[1;33m    echo My shell is: %SHELL%\u001b[0m\n\u001b[1;37m         ^\u001b[0m\n\u001b[1;31mSyntaxError\u001b[0m\u001b[1;31m:\u001b[0m invalid syntax\n"
     ]
    }
   ],
   "source": [
    "# to run on Windows\n",
    "%%cmd\n",
    "echo My shell is: %SHELL%\n",
    "type nul > newfile\n",
    "date /t\n",
    "cd\n",
    "for %%f in (Khurram Idrees Waheed Arif) do (\n",
    "    echo %%f\n",
    ")\n"
   ]
  },
  {
   "cell_type": "code",
   "execution_count": null,
   "id": "1c010bfb",
   "metadata": {},
   "outputs": [],
   "source": [
    "%%html\n",
    "<h2> Students, there is no shortcut to hardwork</h2>\n",
    "<p>This is text</p>"
   ]
  },
  {
   "cell_type": "code",
   "execution_count": 8,
   "id": "3d3ebb3c",
   "metadata": {
    "scrolled": true
   },
   "outputs": [
    {
     "data": {
      "application/javascript": [
       "let msg=\"Data Science Learning is fun\"\n",
       "alert(msg)\n"
      ],
      "text/plain": [
       "<IPython.core.display.Javascript object>"
      ]
     },
     "metadata": {},
     "output_type": "display_data"
    }
   ],
   "source": [
    "%%javascript\n",
    "let msg=\"Data Science Learning is fun\"\n",
    "alert(msg)"
   ]
  },
  {
   "cell_type": "code",
   "execution_count": 7,
   "id": "b7dafc13",
   "metadata": {},
   "outputs": [
    {
     "data": {
      "text/html": [
       "<iframe width=\"560\" height=\"315\" src=\"https://www.youtube.com/embed/K1xO8weArNA\" frameborder=\"0\"></iframe>\n",
       "<br>YouTube link of Course on Dr. Muhammad Arif Butt channel learnwitharif\n"
      ],
      "text/plain": [
       "<IPython.core.display.HTML object>"
      ]
     },
     "metadata": {},
     "output_type": "display_data"
    }
   ],
   "source": [
    "%%HTML\n",
    "<iframe width=\"560\" height=\"315\" src=\"https://www.youtube.com/embed/K1xO8weArNA\" frameborder=\"0\"></iframe>\n",
    "<br>YouTube link of Course on Dr. Muhammad Arif Butt channel learnwitharif"
   ]
  },
  {
   "cell_type": "markdown",
   "id": "638dbd0b",
   "metadata": {},
   "source": [
    "## For more deatils check out `%quickref`"
   ]
  },
  {
   "cell_type": "code",
   "execution_count": null,
   "id": "eb27b46d",
   "metadata": {},
   "outputs": [],
   "source": [
    "%quickref"
   ]
  },
  {
   "cell_type": "markdown",
   "id": "11f602ee",
   "metadata": {},
   "source": [
    "## Check your Concepts\n",
    "\n",
    "Try answering the following questions to test your understanding of the topics covered in this notebook:\n",
    "\n",
    "1. What is a Jupyter notebook? \n",
    "2. How do you add a new code cell below an existing cell?\n",
    "3. How do you add a new Markdown cell below an existing cell?\n",
    "4. How do you convert a code cell to a Markdown cell or vice versa?\n",
    "5. How do you execute a code cell within Jupyter?\n",
    "6. What is Markdown? Why is it useful?\n",
    "7. How do you create headings of different sizes using Markdown?\n",
    "8. How do you create bulleted and numbered lists using Markdown?\n",
    "9. How do you create bold or italic text using Markdown?\n",
    "10. How do you include links & images within Markdown cells?\n",
    "11. How do you include code blocks within Markdown cells?\n",
    "12. Is it possible to execute the code blocks within Markdown cells?\n",
    "13. How to run operating system commands from a notebook cell?\n",
    "14. Mention three different ways to get help about built-in Python functions from a notebook cell? \n",
    "15. What different arithmetic operators are available in Python?\n",
    "16. Explore different line and cell magic functions of IPython"
   ]
  },
  {
   "cell_type": "code",
   "execution_count": null,
   "id": "ddc20b05",
   "metadata": {},
   "outputs": [],
   "source": []
  }
 ],
 "metadata": {
  "kernelspec": {
   "display_name": "Python 3 (ipykernel)",
   "language": "python",
   "name": "python3"
  },
  "language_info": {
   "codemirror_mode": {
    "name": "ipython",
    "version": 3
   },
   "file_extension": ".py",
   "mimetype": "text/x-python",
   "name": "python",
   "nbconvert_exporter": "python",
   "pygments_lexer": "ipython3",
   "version": "3.10.12"
  }
 },
 "nbformat": 4,
 "nbformat_minor": 5
}
