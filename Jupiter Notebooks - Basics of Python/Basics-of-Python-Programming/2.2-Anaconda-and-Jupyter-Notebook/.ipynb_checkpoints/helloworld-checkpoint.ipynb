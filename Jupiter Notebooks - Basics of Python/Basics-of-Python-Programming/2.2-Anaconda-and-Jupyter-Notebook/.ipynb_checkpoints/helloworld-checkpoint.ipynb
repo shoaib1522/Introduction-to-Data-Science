{
 "cells": [
  {
   "cell_type": "markdown",
   "id": "52cb0aec",
   "metadata": {},
   "source": [
    "<div style=\"background-color:rgba(50, 81, 100, .9); font-family: 'Bebas Neue'; padding:10px 0;  margin-top:2px; margin-bottom:2px\">\n",
    "\n",
    "   \n",
    " <img align=\"left\" width=\"75\" height=\"75\"  src=\"https://upload.wikimedia.org/wikipedia/en/c/c8/University_of_the_Punjab_logo.png\"  > \n",
    "\n",
    "   \n",
    "<h1><div style=\"text-align: center\"> Department of Data Science</div>\n",
    "<div style=\"text-align: center\"> University of the Punjab, Lahore</div></h1>\n",
    "\n",
    "\n",
    "<h1><div style=\"text-align: center\">Course Title: Tools and Techniques for Data Science</div></h1>\n",
    "\n",
    "   <div style=\"text-align: right; margin-right: 5px; font-size:18px\"> <em><strong>Muhammad Arif Butt, Ph.D.</strong></em></div>\n",
    "    \n",
    "    "
   ]
  },
  {
   "cell_type": "markdown",
   "id": "e224b328",
   "metadata": {},
   "source": [
    "<h2><div style=\"text-align: center\"> \" <u>A Hello World</u> \"</div></h2>\n",
    "\n"
   ]
  },
  {
   "cell_type": "markdown",
   "id": "bb46b11d",
   "metadata": {},
   "source": [
    "## [Sample Notebooks]  (https://github.com/jupyter/jupyter/wiki)\n",
    "## [Google Colab]  (https://colab.research.google.com)\n",
    "## [Markdown Cheatsheat]  (https://www.markdownguide.org/cheat-sheet/)\n",
    "\n",
    "### 1- Writing and running code\n",
    "* To switch to command mode <esc>\n",
    "* To execute code inside a cell <Shift+Enter>"
   ]
  },
  {
   "cell_type": "markdown",
   "id": "4fc77061",
   "metadata": {},
   "source": [
    "# Basic introduction to markdown clells\n",
    "This is a markdown cell.<br>\n",
    "You can have:\n",
    "1. Lists (ordered and unordered).\n",
    "2. **Bold text**.\n",
    "3. _Italic text_.\n",
    "4. Code blocks:\n",
    "```\n",
    "    x=10\n",
    "    print(x)\n",
    "```\n",
    "### Fenced Code Block\n",
    "\n",
    "```\n",
    "{\n",
    "  \"firstName\": \"John\",\n",
    "  \"lastName\": \"Smith\",\n",
    "  \"age\": 25\n",
    "}\n",
    "```"
   ]
  },
  {
   "cell_type": "code",
   "execution_count": null,
   "id": "dfb5bc0a",
   "metadata": {},
   "outputs": [],
   "source": [
    "10 + 2\n",
    "25 - 8\n",
    "12 * 3"
   ]
  },
  {
   "cell_type": "code",
   "execution_count": null,
   "id": "b142786e",
   "metadata": {},
   "outputs": [],
   "source": [
    "print(10 + 2)\n",
    "print(25 - 8)\n",
    "print(12 * 3)"
   ]
  },
  {
   "cell_type": "code",
   "execution_count": null,
   "id": "a071b91f",
   "metadata": {},
   "outputs": [],
   "source": [
    "help"
   ]
  },
  {
   "cell_type": "code",
   "execution_count": null,
   "id": "78872635",
   "metadata": {},
   "outputs": [],
   "source": [
    "#We can use both single or double quotes in python to print a value\n",
    "print('Hello Students')\n",
    "print(\"Welcome to Learn with Arif\")        "
   ]
  },
  {
   "cell_type": "code",
   "execution_count": null,
   "id": "8e40ef1b",
   "metadata": {},
   "outputs": [],
   "source": [
    "10+2\n",
    "12*3"
   ]
  },
  {
   "cell_type": "code",
   "execution_count": null,
   "id": "9adaf194",
   "metadata": {},
   "outputs": [],
   "source": [
    "10+2\n",
    "20*2\n",
    "\n",
    "# print(10+2)\n",
    "# print(20+2)"
   ]
  },
  {
   "cell_type": "code",
   "execution_count": null,
   "id": "bb8aff2c",
   "metadata": {},
   "outputs": [],
   "source": [
    "print() #by pressing tab can check the suggestions"
   ]
  },
  {
   "cell_type": "markdown",
   "id": "b6342788",
   "metadata": {},
   "source": [
    "<h2><div style=\"text-align: center\"> \" <u>Comments</u> \"</div></h2>"
   ]
  },
  {
   "cell_type": "code",
   "execution_count": null,
   "id": "1bf354ab",
   "metadata": {},
   "outputs": [],
   "source": [
    "#This is a comment\n",
    "\n",
    "\"\"\"\n",
    "This is \n",
    "also a comment\n",
    "\n",
    "\"\"\"\n",
    "a=10"
   ]
  },
  {
   "cell_type": "code",
   "execution_count": null,
   "id": "8ff34505",
   "metadata": {},
   "outputs": [],
   "source": []
  },
  {
   "cell_type": "markdown",
   "id": "08562aef",
   "metadata": {},
   "source": [
    "<h2><div style=\"text-align: center\"> \" <u>Help in Python</u> \"</div></h2>"
   ]
  },
  {
   "cell_type": "code",
   "execution_count": null,
   "id": "0156393e",
   "metadata": {},
   "outputs": [],
   "source": [
    "help()"
   ]
  },
  {
   "cell_type": "code",
   "execution_count": null,
   "id": "1265aa77",
   "metadata": {},
   "outputs": [],
   "source": [
    "help(str.)"
   ]
  },
  {
   "cell_type": "code",
   "execution_count": null,
   "id": "249e3b55",
   "metadata": {},
   "outputs": [],
   "source": [
    "?"
   ]
  },
  {
   "cell_type": "code",
   "execution_count": 2,
   "id": "68345029",
   "metadata": {},
   "outputs": [
    {
     "name": "stdout",
     "output_type": "stream",
     "text": [
      "10\n"
     ]
    }
   ],
   "source": [
    "print(x)"
   ]
  },
  {
   "cell_type": "code",
   "execution_count": 1,
   "id": "fa37ba4c",
   "metadata": {},
   "outputs": [],
   "source": [
    "x=10"
   ]
  },
  {
   "cell_type": "code",
   "execution_count": 3,
   "id": "60d5bc2b",
   "metadata": {},
   "outputs": [
    {
     "name": "stdout",
     "output_type": "stream",
     "text": [
      "10\n"
     ]
    }
   ],
   "source": [
    "print(x)"
   ]
  },
  {
   "cell_type": "code",
   "execution_count": 4,
   "id": "17c6463b",
   "metadata": {},
   "outputs": [
    {
     "data": {
      "text/plain": [
       "['In',\n",
       " 'Out',\n",
       " '_',\n",
       " '__',\n",
       " '___',\n",
       " '__builtin__',\n",
       " '__builtins__',\n",
       " '__doc__',\n",
       " '__loader__',\n",
       " '__name__',\n",
       " '__package__',\n",
       " '__spec__',\n",
       " '_dh',\n",
       " '_i',\n",
       " '_i1',\n",
       " '_i2',\n",
       " '_i3',\n",
       " '_i4',\n",
       " '_ih',\n",
       " '_ii',\n",
       " '_iii',\n",
       " '_oh',\n",
       " 'exit',\n",
       " 'get_ipython',\n",
       " 'quit',\n",
       " 'x']"
      ]
     },
     "execution_count": 4,
     "metadata": {},
     "output_type": "execute_result"
    }
   ],
   "source": [
    "dir()"
   ]
  },
  {
   "cell_type": "code",
   "execution_count": 5,
   "id": "8df1f980",
   "metadata": {},
   "outputs": [],
   "source": [
    "del x"
   ]
  },
  {
   "cell_type": "code",
   "execution_count": 6,
   "id": "037afec8",
   "metadata": {},
   "outputs": [
    {
     "data": {
      "text/plain": [
       "['In',\n",
       " 'Out',\n",
       " '_',\n",
       " '_4',\n",
       " '__',\n",
       " '___',\n",
       " '__builtin__',\n",
       " '__builtins__',\n",
       " '__doc__',\n",
       " '__loader__',\n",
       " '__name__',\n",
       " '__package__',\n",
       " '__spec__',\n",
       " '_dh',\n",
       " '_i',\n",
       " '_i1',\n",
       " '_i2',\n",
       " '_i3',\n",
       " '_i4',\n",
       " '_i5',\n",
       " '_i6',\n",
       " '_ih',\n",
       " '_ii',\n",
       " '_iii',\n",
       " '_oh',\n",
       " 'exit',\n",
       " 'get_ipython',\n",
       " 'quit']"
      ]
     },
     "execution_count": 6,
     "metadata": {},
     "output_type": "execute_result"
    }
   ],
   "source": [
    "dir()"
   ]
  },
  {
   "cell_type": "code",
   "execution_count": 7,
   "id": "f2e1d63c",
   "metadata": {},
   "outputs": [
    {
     "ename": "NameError",
     "evalue": "name 'x' is not defined",
     "output_type": "error",
     "traceback": [
      "\u001b[0;31m---------------------------------------------------------------------------\u001b[0m",
      "\u001b[0;31mNameError\u001b[0m                                 Traceback (most recent call last)",
      "\u001b[0;32m/var/folders/1t/g3ylw8h50cjdqmk5d6jh1qmm0000gn/T/ipykernel_2762/1353120783.py\u001b[0m in \u001b[0;36m<module>\u001b[0;34m\u001b[0m\n\u001b[0;32m----> 1\u001b[0;31m \u001b[0mprint\u001b[0m\u001b[0;34m(\u001b[0m\u001b[0mx\u001b[0m\u001b[0;34m)\u001b[0m\u001b[0;34m\u001b[0m\u001b[0;34m\u001b[0m\u001b[0m\n\u001b[0m",
      "\u001b[0;31mNameError\u001b[0m: name 'x' is not defined"
     ]
    }
   ],
   "source": [
    "print(x)"
   ]
  },
  {
   "cell_type": "code",
   "execution_count": null,
   "id": "c80ab0de",
   "metadata": {},
   "outputs": [],
   "source": []
  }
 ],
 "metadata": {
  "kernelspec": {
   "display_name": "Python 3 (ipykernel)",
   "language": "python",
   "name": "python3"
  },
  "language_info": {
   "codemirror_mode": {
    "name": "ipython",
    "version": 3
   },
   "file_extension": ".py",
   "mimetype": "text/x-python",
   "name": "python",
   "nbconvert_exporter": "python",
   "pygments_lexer": "ipython3",
   "version": "3.8.10"
  }
 },
 "nbformat": 4,
 "nbformat_minor": 5
}
