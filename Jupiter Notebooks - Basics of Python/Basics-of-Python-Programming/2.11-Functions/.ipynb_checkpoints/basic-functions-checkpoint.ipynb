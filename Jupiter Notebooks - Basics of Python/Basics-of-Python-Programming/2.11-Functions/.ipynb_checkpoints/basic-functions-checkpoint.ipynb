{
 "cells": [
  {
   "cell_type": "markdown",
   "id": "0ba08993",
   "metadata": {},
   "source": [
    "<div style=\"background-color:rgba(50, 81, 100, .9); font-family: 'Bebas Neue'; padding:10px 0;  margin-top:2px; margin-bottom:2px\">\n",
    "\n",
    "   \n",
    " <img align=\"left\" width=\"75\" height=\"75\"  src=\"https://upload.wikimedia.org/wikipedia/en/c/c8/University_of_the_Punjab_logo.png\"  > \n",
    "\n",
    "   \n",
    "<h1><div style=\"text-align: center\"> Department of Data Science</div>\n",
    "<div style=\"text-align: center\"> University of the Punjab, Lahore</div></h1>\n",
    "\n",
    "\n",
    "<h1><div style=\"text-align: center\">Course Title: Tools and Techniques for Data Science</div></h1>\n",
    "\n",
    "   <div style=\"text-align: right; margin-right: 5px; font-size:18px\"> <em><strong>Muhammad Arif Butt, Ph.D.</strong></em></div>\n",
    "    \n",
    "    \n",
    "  "
   ]
  },
  {
   "cell_type": "markdown",
   "id": "007946c5",
   "metadata": {},
   "source": [
    "<h2><div style=\"text-align: center\"> \" <u>Functions</u> \"</div></h2>"
   ]
  },
  {
   "cell_type": "markdown",
   "id": "b65664f0",
   "metadata": {},
   "source": [
    "### User-Defined Functions"
   ]
  },
  {
   "cell_type": "markdown",
   "id": "f7fefd5f",
   "metadata": {},
   "source": [
    "### 1- Defining function\n",
    "* Purpose of functions is to group a particular lines of code that needs to be executed multiple times.\n",
    "* The keyword def introduces a function definition and it must be followed by the function name."
   ]
  },
  {
   "cell_type": "code",
   "execution_count": null,
   "id": "c4751b3d",
   "metadata": {},
   "outputs": [],
   "source": [
    "def hello_world():\n",
    "    print(\"This is a Hello World function\")"
   ]
  },
  {
   "cell_type": "code",
   "execution_count": null,
   "id": "a3630185",
   "metadata": {},
   "outputs": [],
   "source": [
    "hello_world()"
   ]
  },
  {
   "cell_type": "code",
   "execution_count": null,
   "id": "64157f44",
   "metadata": {},
   "outputs": [],
   "source": [
    "#adding two numbers\n",
    "def add_two_numbers():\n",
    "    \n",
    "    total = 3 + 4\n",
    "    \n",
    "    # print the total\n",
    "    print(\"Sum of 3 + 4 is:\", total)"
   ]
  },
  {
   "cell_type": "code",
   "execution_count": null,
   "id": "967a3dd5",
   "metadata": {},
   "outputs": [],
   "source": [
    "add_two_numbers()"
   ]
  },
  {
   "cell_type": "code",
   "execution_count": null,
   "id": "6b7cd401",
   "metadata": {},
   "outputs": [],
   "source": [
    "ret = add_two_numbers()"
   ]
  },
  {
   "cell_type": "code",
   "execution_count": null,
   "id": "25082073",
   "metadata": {},
   "outputs": [],
   "source": [
    "ret"
   ]
  },
  {
   "cell_type": "markdown",
   "id": "47ba9a3d",
   "metadata": {},
   "source": [
    "### 2- return statement\n",
    "* A return statement is used to end the execution of the function call and gives the result.\n",
    "* The statements after the return statements are not executed"
   ]
  },
  {
   "cell_type": "code",
   "execution_count": null,
   "id": "a370f371",
   "metadata": {},
   "outputs": [],
   "source": [
    "def add_two_numbers_with_return():\n",
    "    # add two numbers 3 and 4\n",
    "    total = 3 + 4\n",
    "    \n",
    "    # print the total\n",
    "    print(\"Sum of 3 and 4 is:\", total)\n",
    "    \n",
    "    # return the value of total\n",
    "    return total"
   ]
  },
  {
   "cell_type": "code",
   "execution_count": null,
   "id": "c933bb3f",
   "metadata": {},
   "outputs": [],
   "source": [
    "ret1 = add_two_numbers_with_return()"
   ]
  },
  {
   "cell_type": "code",
   "execution_count": null,
   "id": "fee595ee",
   "metadata": {},
   "outputs": [],
   "source": [
    "ret1"
   ]
  },
  {
   "cell_type": "markdown",
   "id": "ab9d1b5e",
   "metadata": {},
   "source": [
    "### 3- Passing Parameters"
   ]
  },
  {
   "cell_type": "code",
   "execution_count": null,
   "id": "7f194eae",
   "metadata": {},
   "outputs": [],
   "source": [
    "def welcome(name):\n",
    "    return \"Welcome to Data Science Course, \" + name"
   ]
  },
  {
   "cell_type": "code",
   "execution_count": null,
   "id": "b39cbe0a",
   "metadata": {},
   "outputs": [],
   "source": [
    "welcome(\"Arif\")"
   ]
  },
  {
   "cell_type": "code",
   "execution_count": null,
   "id": "0675c31c",
   "metadata": {},
   "outputs": [],
   "source": [
    "name = 'Arif'\n",
    "welcome(name)"
   ]
  },
  {
   "cell_type": "markdown",
   "id": "6360f7ac",
   "metadata": {},
   "source": [
    "### 4- Default value of parameters"
   ]
  },
  {
   "cell_type": "code",
   "execution_count": null,
   "id": "cd1aef3a",
   "metadata": {},
   "outputs": [],
   "source": [
    "def welcome(name = 'Bilal'):\n",
    "    return \"Welcome to Python Course, \" + name"
   ]
  },
  {
   "cell_type": "code",
   "execution_count": null,
   "id": "6bbe658e",
   "metadata": {},
   "outputs": [],
   "source": [
    "welcome()"
   ]
  },
  {
   "cell_type": "code",
   "execution_count": null,
   "id": "df66c9b1",
   "metadata": {},
   "outputs": [],
   "source": [
    "welcome(\"Arif\")"
   ]
  },
  {
   "cell_type": "markdown",
   "id": "d1437f4d",
   "metadata": {},
   "source": [
    "### 3- Positional Arguments\n",
    "* Most arguments are identified by their position in the function call. print(a,b) will give different results from print(b,a)"
   ]
  },
  {
   "cell_type": "code",
   "execution_count": null,
   "id": "81f24e8a",
   "metadata": {},
   "outputs": [],
   "source": [
    "def math_functions(small_number, large_number):\n",
    "    \n",
    "    difference = large_number - small_number\n",
    "    return difference"
   ]
  },
  {
   "cell_type": "code",
   "execution_count": null,
   "id": "5bc07d72",
   "metadata": {},
   "outputs": [],
   "source": [
    "math_functions(4,12)"
   ]
  },
  {
   "cell_type": "code",
   "execution_count": null,
   "id": "cfabd8a7",
   "metadata": {},
   "outputs": [],
   "source": [
    "math_functions(12,4)"
   ]
  },
  {
   "cell_type": "markdown",
   "id": "5241a35e",
   "metadata": {},
   "source": [
    "### 4- Keyword Arguments"
   ]
  },
  {
   "cell_type": "code",
   "execution_count": null,
   "id": "4c3d58e3",
   "metadata": {},
   "outputs": [],
   "source": [
    "math_functions(large_number = 16, small_number= 4)"
   ]
  },
  {
   "cell_type": "code",
   "execution_count": null,
   "id": "6c8bc58b",
   "metadata": {},
   "outputs": [],
   "source": [
    "math_functions(4,large_number= 16)"
   ]
  },
  {
   "cell_type": "code",
   "execution_count": null,
   "id": "03bc6e9f",
   "metadata": {},
   "outputs": [],
   "source": [
    "math_functions(small_number= 4, 16)   #incorrect in python to define positional arguments before the keyword arguments"
   ]
  },
  {
   "cell_type": "markdown",
   "id": "2d7c5bf3",
   "metadata": {},
   "source": [
    "### 5- Variable length arguments\n",
    "* Sometimes, we need more flexibility while defining functions like we don't know in advance the fixed number of arguments.\n",
    "*Python allows us to make function calls with variable length arguments."
   ]
  },
  {
   "cell_type": "code",
   "execution_count": null,
   "id": "e98931c6",
   "metadata": {},
   "outputs": [],
   "source": [
    "# use * sign before argument\n",
    "\n",
    "def my_function(*args):\n",
    "    \n",
    "    for i in args:\n",
    "        print(i)"
   ]
  },
  {
   "cell_type": "code",
   "execution_count": null,
   "id": "4b622e85",
   "metadata": {},
   "outputs": [],
   "source": [
    "my_function(1,2)"
   ]
  },
  {
   "cell_type": "code",
   "execution_count": null,
   "id": "81d1c282",
   "metadata": {},
   "outputs": [],
   "source": [
    "my_function('1','2','a','b','c','d')"
   ]
  },
  {
   "cell_type": "code",
   "execution_count": null,
   "id": "1036fd32",
   "metadata": {},
   "outputs": [],
   "source": [
    "# for keyword arguments use **\n",
    "def my_keyword_arguments(**kwargs):\n",
    "    for key, value in kwargs.items():\n",
    "        print(key, value)"
   ]
  },
  {
   "cell_type": "code",
   "execution_count": null,
   "id": "f1c241ee",
   "metadata": {},
   "outputs": [],
   "source": [
    "my_keyword_arguments(a= 1, b= 2, x= 'e', y= 'f')"
   ]
  },
  {
   "cell_type": "markdown",
   "id": "0f49370f",
   "metadata": {},
   "source": [
    "### 6- Scope of Variables: Local and Global Variables\n",
    "* \"Scope of Variable\" means that part of program where we can access the particular variable.\n",
    "* \"Local Variable\" are those which are defined inside the function and can be only accessed inside that particular function.\n",
    "* \"Global Variable\" are defined outside the function and can be accessed throughout the program."
   ]
  },
  {
   "cell_type": "code",
   "execution_count": null,
   "id": "9b9caaff",
   "metadata": {},
   "outputs": [],
   "source": [
    "# define a global variable\n",
    "name = \"variable outside function\" \n",
    "\n",
    "def my_function():\n",
    "    # access the global variable \n",
    "    return name"
   ]
  },
  {
   "cell_type": "code",
   "execution_count": null,
   "id": "e09253fe",
   "metadata": {},
   "outputs": [],
   "source": [
    "print(my_function())\n",
    "print(name)"
   ]
  },
  {
   "cell_type": "code",
   "execution_count": null,
   "id": "911970bb",
   "metadata": {},
   "outputs": [],
   "source": [
    "# when try to change the value of global variable inside the function\n",
    "# it becomes local to that function\n",
    "\n",
    "name = \"1234\"\n",
    "\n",
    "def my_function():\n",
    "    # try to change the value of global variable inside the function\n",
    "    name = \"abcd\"  \n",
    "    return name\n",
    "\n",
    "\n",
    "#When we called the function, it returned the value of the local variable \n",
    "#whereas when we directly accessed the \"name\" variable, it returned the value of the global variable."
   ]
  },
  {
   "cell_type": "code",
   "execution_count": null,
   "id": "4f900a9e",
   "metadata": {},
   "outputs": [],
   "source": [
    "print(my_function())\n",
    "print(name)"
   ]
  },
  {
   "cell_type": "code",
   "execution_count": null,
   "id": "314bc503",
   "metadata": {},
   "outputs": [],
   "source": [
    "#Update value of GLOBAL variable inside function\n",
    "# use global keyword\n",
    "\n",
    "name = \"variable outside function\"\n",
    "\n",
    "def my_function():\n",
    "    # tell the function which variables are global\n",
    "    global name\n",
    "    name = \"variable inside function\"  \n",
    "    return name"
   ]
  },
  {
   "cell_type": "code",
   "execution_count": null,
   "id": "6a15caf5",
   "metadata": {},
   "outputs": [],
   "source": [
    "print(my_function())\n",
    "print(name)"
   ]
  },
  {
   "cell_type": "markdown",
   "id": "c32289dd",
   "metadata": {},
   "source": [
    "### 7- Anonymous / Lambda Function\n",
    "*  function that is defined without a name\n",
    "* anonymous functions are defined using the lambda keyword"
   ]
  },
  {
   "cell_type": "code",
   "execution_count": null,
   "id": "4406037e",
   "metadata": {},
   "outputs": [],
   "source": [
    "# lambda arguments: expression\n",
    "double = lambda x: x * 2\n",
    "\n",
    "print(double(5))"
   ]
  },
  {
   "cell_type": "code",
   "execution_count": null,
   "id": "c94c7b27",
   "metadata": {},
   "outputs": [],
   "source": [
    "#Lambda functions are used along with built-in functions like filter(), map()\n",
    "# The filter() function takes in a function and a list as arguments\n",
    "# returns a list contains items for which the function evaluates to True\n",
    "\n",
    "my_list = [1, 5, 4, 6, 8, 11, 3, 12]\n",
    "\n",
    "new_list = list(filter(lambda x: (x%2 == 0) , my_list))\n",
    "\n",
    "print(new_list)\n"
   ]
  },
  {
   "cell_type": "markdown",
   "id": "6a52d915",
   "metadata": {},
   "source": [
    "### 8- Passing tuple, list, dictionary as arguments"
   ]
  },
  {
   "cell_type": "code",
   "execution_count": null,
   "id": "10fa8f31",
   "metadata": {},
   "outputs": [],
   "source": [
    "''' \n",
    "Lists, Tuples, Sets, and Dictionary objects are passed to functions as reference\n",
    "The changes made by the callee are visible to the caller\n",
    "'''\n",
    "def add(a, *b):\n",
    "    total = a\n",
    "    for i in b:\n",
    "        total = total + i\n",
    "    return total"
   ]
  },
  {
   "cell_type": "code",
   "execution_count": null,
   "id": "46e49b61",
   "metadata": {},
   "outputs": [],
   "source": [
    "# 3 will be passed to a\n",
    "# 2,5,10 will be passed as a tuple to b\n",
    "\n",
    "add (3, 2, 5, 10)"
   ]
  },
  {
   "cell_type": "code",
   "execution_count": null,
   "id": "893086e4",
   "metadata": {},
   "outputs": [],
   "source": [
    "# passing list as a parameter\n",
    "l = [2,3,4,5]\n",
    "add(3, *l)"
   ]
  },
  {
   "cell_type": "code",
   "execution_count": null,
   "id": "9676431d",
   "metadata": {},
   "outputs": [],
   "source": [
    "#passing key value pair\n",
    "def add1(x, **kwargs):\n",
    "    total = x\n",
    "    for arg,val in kwargs.items():\n",
    "        total = total + val\n",
    "    return total\n"
   ]
  },
  {
   "cell_type": "code",
   "execution_count": null,
   "id": "2fe85478",
   "metadata": {},
   "outputs": [],
   "source": [
    "add1(10, w=12, z=13)"
   ]
  },
  {
   "cell_type": "code",
   "execution_count": 7,
   "id": "318489e9",
   "metadata": {},
   "outputs": [
    {
     "name": "stdout",
     "output_type": "stream",
     "text": [
      "['a', 'b', 'x', 'd', 'e', 'f']\n"
     ]
    }
   ],
   "source": [
    "''' \n",
    "Lists, Tuples, Sets, and Dictionary objects are passed to functions as reference\n",
    "The changes made by the callee are visible to the caller (but not for tuples as they are immutable)\n",
    "'''\n",
    "# proof of concept for list\n",
    "def func1(l1):\n",
    "    l1[2] = 'x'\n",
    "    \n",
    "mylist = ['a', 'b', 'c', 'd', 'e', 'f']\n",
    "func1(mylist)\n",
    "print(mylist)\n",
    "\n",
    "# proof of concept for set\n",
    "\n",
    "# proof of concept for dictionary"
   ]
  },
  {
   "cell_type": "code",
   "execution_count": 9,
   "id": "cd9c938d",
   "metadata": {},
   "outputs": [
    {
     "name": "stdout",
     "output_type": "stream",
     "text": [
      "['b', 'c', 'd']\n",
      "['a', 'b', 'c', 'd', 'e', 'f']\n"
     ]
    }
   ],
   "source": [
    "def func1(list2):\n",
    "    l3 = list2[1:4]\n",
    "    print(l3)\n",
    "    \n",
    "list1 = ['a', 'b', 'c', 'd', 'e', 'f']\n",
    "func1(list1)\n",
    "print(list1)"
   ]
  },
  {
   "cell_type": "code",
   "execution_count": 14,
   "id": "2ce9e829",
   "metadata": {},
   "outputs": [
    {
     "name": "stdout",
     "output_type": "stream",
     "text": [
      "['a', 'b', 'c', 'd', 'e', 'f']\n",
      "['b', 'c', 'd']\n",
      "['b', 'c', 'd']\n"
     ]
    }
   ],
   "source": [
    "def func2(l2):\n",
    "    l3 = l2[1:4]\n",
    "    print(l3)\n",
    "    return l3\n",
    "    \n",
    "list4 = ['a', 'b', 'c', 'd', 'e', 'f']\n",
    "print(list4)\n",
    "list4 = func2(list4)\n",
    "print(list4)"
   ]
  },
  {
   "cell_type": "code",
   "execution_count": null,
   "id": "be354e3f",
   "metadata": {},
   "outputs": [],
   "source": []
  }
 ],
 "metadata": {
  "kernelspec": {
   "display_name": "Python 3 (ipykernel)",
   "language": "python",
   "name": "python3"
  },
  "language_info": {
   "codemirror_mode": {
    "name": "ipython",
    "version": 3
   },
   "file_extension": ".py",
   "mimetype": "text/x-python",
   "name": "python",
   "nbconvert_exporter": "python",
   "pygments_lexer": "ipython3",
   "version": "3.8.10"
  }
 },
 "nbformat": 4,
 "nbformat_minor": 5
}
