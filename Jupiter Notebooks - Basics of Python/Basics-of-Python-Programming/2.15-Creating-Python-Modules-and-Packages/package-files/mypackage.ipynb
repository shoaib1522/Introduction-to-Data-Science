{
 "cells": [
  {
   "cell_type": "markdown",
   "id": "fe036a61",
   "metadata": {},
   "source": [
    "---   \n",
    " <img align=\"left\" width=\"75\" height=\"75\"  src=\"../../University_of_the_Punjab_logo.png\"> \n",
    "\n",
    "<h1 align=\"center\">Department of Data Science</h1>\n",
    "<h1 align=\"center\">Data Science Journey from Beginners to Expert</h1>\n",
    "\n",
    "---\n",
    "<h3><div align=\"right\">Instructor: Engr. Muhammad Nadeem Majeed, Ph.D.</div></h3>    "
   ]
  },
  {
   "cell_type": "markdown",
   "id": "441220c1",
   "metadata": {},
   "source": [
    "<h1 align=\"center\">Creating Modules (Part - II)</h1>"
   ]
  },
  {
   "cell_type": "markdown",
   "id": "c6429b8f",
   "metadata": {},
   "source": [
    "## _mypackage.ipynb_"
   ]
  },
  {
   "cell_type": "code",
   "execution_count": null,
   "id": "2754af12",
   "metadata": {},
   "outputs": [],
   "source": []
  },
  {
   "cell_type": "code",
   "execution_count": null,
   "id": "bc312e2e",
   "metadata": {},
   "outputs": [],
   "source": []
  },
  {
   "cell_type": "code",
   "execution_count": null,
   "id": "cb58ddf2",
   "metadata": {},
   "outputs": [],
   "source": []
  },
  {
   "cell_type": "code",
   "execution_count": null,
   "id": "42f0fc16",
   "metadata": {},
   "outputs": [],
   "source": []
  },
  {
   "cell_type": "code",
   "execution_count": null,
   "id": "ebe9816b",
   "metadata": {},
   "outputs": [],
   "source": []
  },
  {
   "cell_type": "markdown",
   "id": "f9cd935d",
   "metadata": {},
   "source": [
    "## 1- What are Python Packages?"
   ]
  },
  {
   "cell_type": "markdown",
   "id": "c35f911b",
   "metadata": {},
   "source": [
    "<img align=\"center\" width=\"800\" height=\"800\"  src=\"../images/package.png\" > "
   ]
  },
  {
   "cell_type": "code",
   "execution_count": null,
   "id": "401c6eff",
   "metadata": {},
   "outputs": [],
   "source": []
  },
  {
   "cell_type": "code",
   "execution_count": null,
   "id": "0371706f",
   "metadata": {},
   "outputs": [],
   "source": []
  },
  {
   "cell_type": "code",
   "execution_count": null,
   "id": "80e18c11",
   "metadata": {},
   "outputs": [],
   "source": []
  },
  {
   "cell_type": "markdown",
   "id": "0fde6a6a",
   "metadata": {},
   "source": [
    "## 2- How to Create a Python Package?\n",
    "#### **Let us create a package:**\n",
    "\n",
    "- First of all, remember a package is a directory and the name of the package is the name of the directory. \n",
    "- We create our directory with the name \"_packageDemo_\". \n",
    "- Inside this we create sub-directories \"_package1_\" and \"_package2_\".\n",
    "- The packageDemo, package1, and package2 directory needs to contain a file with the name '_ _ init _ _.py'. To keep things simple, we left these file empty.\n",
    "- Now we can put all of the Python files which will be the modules into these directory. We create 3 different modules named arithmetic, comparison and bitcompare, containing our function definitions.\n",
    "- We put arithmetic module in package1(sub-package), and place the comparison and bitcompare module in package2 (sub-package)\n",
    "\n",
    "### Hierarchy:\n",
    " - **packageDemo**\n",
    "     - `__init__.py`\n",
    " \n",
    "     - **package1**    \n",
    "         - `___init__.py`    \n",
    "         - `arithmetic.py` \n",
    "     \n",
    "     - **package2**    \n",
    "         - `__init__.py`\n",
    "         - `comparison.py`\n",
    "         - `bitcompare.py`"
   ]
  },
  {
   "cell_type": "markdown",
   "id": "83a8a43a",
   "metadata": {},
   "source": [
    "#### packageDemo/package1/arithmetic.py\n",
    "```\n",
    "def myadd(a,b):\n",
    "    return a+b\n",
    "\n",
    "def mysub(a,b):\n",
    "    return a-b\n",
    "\n",
    "def mymul(a,b):\n",
    "    return a*b\n",
    "\n",
    "def mydiv(a,b):\n",
    "    if (y==0):\n",
    "        return 'Not Possible'\n",
    "    else:\n",
    "        return a/b\n",
    "\n",
    "def mypow(a,b):\n",
    "    return a**b\n",
    "```"
   ]
  },
  {
   "cell_type": "markdown",
   "id": "c495aa82",
   "metadata": {},
   "source": [
    "#### pakcageDemo/package2/bitcompare.py\n",
    "```\n",
    "def bitand(a,b):\n",
    "    print('a & b is',a&b)\n",
    "\n",
    "    \n",
    "def bitor(a,b):\n",
    "    print('a | b is',a|b)\n",
    "\n",
    "def bitnot(a):\n",
    "    print('~a is',~a)\n",
    "\n",
    "def bitxor(a,b):\n",
    "    print('a ^ b is',a^b)\n",
    "\n",
    "def bitright(a,b):\n",
    "    print('x >> b is',a>>b)\n",
    "\n",
    "def bitleft(a,b):\n",
    "    print('a << b is',a<<b)\n",
    "```"
   ]
  },
  {
   "cell_type": "markdown",
   "id": "02994b6e",
   "metadata": {},
   "source": [
    "#### pakcageDemo/package2/comparison.py\n",
    "```\n",
    "def comparison(x,y):\n",
    "    print(\"Comparing both operand where x is \",x,\"and y is \",y)\n",
    "    \n",
    "    if(x>y):\n",
    "        print(\" x > y is: \",  x>y)\n",
    "        \n",
    "    elif(x<y):\n",
    "        print(\" x < y is: \", x<y)\n",
    "        \n",
    "    else:\n",
    "        print(\" x == y is: \", x==y)\n",
    "    \n",
    "```"
   ]
  },
  {
   "cell_type": "code",
   "execution_count": null,
   "id": "78773f88",
   "metadata": {},
   "outputs": [],
   "source": []
  },
  {
   "cell_type": "code",
   "execution_count": null,
   "id": "c5587ae7",
   "metadata": {},
   "outputs": [],
   "source": []
  },
  {
   "cell_type": "code",
   "execution_count": null,
   "id": "26dfac69",
   "metadata": {},
   "outputs": [],
   "source": []
  },
  {
   "cell_type": "markdown",
   "id": "a7009883",
   "metadata": {},
   "source": [
    "## 3. How to import and use modules from the Package"
   ]
  },
  {
   "cell_type": "code",
   "execution_count": null,
   "id": "4ee9ead2",
   "metadata": {},
   "outputs": [],
   "source": []
  },
  {
   "cell_type": "code",
   "execution_count": null,
   "id": "562702cc",
   "metadata": {},
   "outputs": [],
   "source": []
  },
  {
   "cell_type": "markdown",
   "id": "c15cf6e8",
   "metadata": {},
   "source": [
    "**Using functions inside the arithmetic module**"
   ]
  },
  {
   "cell_type": "code",
   "execution_count": null,
   "id": "6c3eaf41",
   "metadata": {},
   "outputs": [],
   "source": [
    "import packageDemo.package1.arithmetic"
   ]
  },
  {
   "cell_type": "code",
   "execution_count": null,
   "id": "b6379ba3",
   "metadata": {},
   "outputs": [],
   "source": [
    "packageDemo.package1.arithmetic.mymul(12, 15)"
   ]
  },
  {
   "cell_type": "code",
   "execution_count": null,
   "id": "b3775f6a",
   "metadata": {},
   "outputs": [],
   "source": [
    "import packageDemo.package1.arithmetic as abc"
   ]
  },
  {
   "cell_type": "code",
   "execution_count": null,
   "id": "aea0a39d",
   "metadata": {},
   "outputs": [],
   "source": [
    "abc.mypow(2,10)"
   ]
  },
  {
   "cell_type": "code",
   "execution_count": null,
   "id": "83823d25",
   "metadata": {},
   "outputs": [],
   "source": [
    "from packageDemo.package1 import arithmetic"
   ]
  },
  {
   "cell_type": "code",
   "execution_count": null,
   "id": "c7a7e116",
   "metadata": {},
   "outputs": [],
   "source": [
    "arithmetic.myadd(5,3)"
   ]
  },
  {
   "cell_type": "code",
   "execution_count": null,
   "id": "ff462b7e",
   "metadata": {},
   "outputs": [],
   "source": [
    "from packageDemo.package1.arithmetic import *"
   ]
  },
  {
   "cell_type": "code",
   "execution_count": null,
   "id": "c94f1684",
   "metadata": {},
   "outputs": [],
   "source": [
    "myadd(3,9)"
   ]
  },
  {
   "cell_type": "code",
   "execution_count": null,
   "id": "8c8a4a56",
   "metadata": {},
   "outputs": [],
   "source": [
    "print(dir())"
   ]
  },
  {
   "cell_type": "code",
   "execution_count": null,
   "id": "6c178684",
   "metadata": {},
   "outputs": [],
   "source": []
  },
  {
   "cell_type": "code",
   "execution_count": null,
   "id": "2db2b0fc",
   "metadata": {},
   "outputs": [],
   "source": []
  },
  {
   "cell_type": "markdown",
   "id": "dbb94205",
   "metadata": {},
   "source": [
    "**Using functions inside the comparison module**"
   ]
  },
  {
   "cell_type": "code",
   "execution_count": null,
   "id": "b2a8e5c2",
   "metadata": {},
   "outputs": [],
   "source": []
  },
  {
   "cell_type": "code",
   "execution_count": null,
   "id": "ecafb889",
   "metadata": {},
   "outputs": [],
   "source": []
  },
  {
   "cell_type": "markdown",
   "id": "d0bbca5d",
   "metadata": {},
   "source": [
    "**Using functions inside the bitcompare module**"
   ]
  },
  {
   "cell_type": "code",
   "execution_count": null,
   "id": "2fa181df",
   "metadata": {},
   "outputs": [],
   "source": []
  },
  {
   "cell_type": "code",
   "execution_count": null,
   "id": "05046ca6",
   "metadata": {},
   "outputs": [],
   "source": []
  },
  {
   "cell_type": "markdown",
   "id": "a59d0cc0",
   "metadata": {},
   "source": [
    "**Using functions of all the modules**"
   ]
  },
  {
   "cell_type": "code",
   "execution_count": null,
   "id": "3925b4a5",
   "metadata": {},
   "outputs": [],
   "source": []
  },
  {
   "cell_type": "code",
   "execution_count": null,
   "id": "7922be97",
   "metadata": {},
   "outputs": [],
   "source": []
  },
  {
   "cell_type": "code",
   "execution_count": null,
   "id": "f981874c",
   "metadata": {},
   "outputs": [],
   "source": [
    "from packageDemo.package1 import arithmetic as arith\n",
    "from packageDemo.package2 import bitcompare as bits\n",
    "from packageDemo.package2 import comparison as comp"
   ]
  },
  {
   "cell_type": "code",
   "execution_count": null,
   "id": "de3ba13f",
   "metadata": {},
   "outputs": [],
   "source": []
  }
 ],
 "metadata": {
  "kernelspec": {
   "display_name": "Python 3 (ipykernel)",
   "language": "python",
   "name": "python3"
  },
  "language_info": {
   "codemirror_mode": {
    "name": "ipython",
    "version": 3
   },
   "file_extension": ".py",
   "mimetype": "text/x-python",
   "name": "python",
   "nbconvert_exporter": "python",
   "pygments_lexer": "ipython3",
   "version": "3.10.13"
  }
 },
 "nbformat": 4,
 "nbformat_minor": 5
}
