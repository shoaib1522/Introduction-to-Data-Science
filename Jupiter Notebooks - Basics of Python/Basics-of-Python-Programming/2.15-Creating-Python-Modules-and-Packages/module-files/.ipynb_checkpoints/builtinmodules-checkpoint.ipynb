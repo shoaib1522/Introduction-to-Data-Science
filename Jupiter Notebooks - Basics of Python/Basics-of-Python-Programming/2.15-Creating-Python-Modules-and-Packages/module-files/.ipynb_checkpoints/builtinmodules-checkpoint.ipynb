{
 "cells": [
  {
   "cell_type": "markdown",
   "id": "afe9b471",
   "metadata": {},
   "source": [
    "---   \n",
    " <img align=\"left\" width=\"75\" height=\"75\"  src=\"https://upload.wikimedia.org/wikipedia/en/c/c8/University_of_the_Punjab_logo.png\"> \n",
    "\n",
    "<h1 align=\"center\">Department of Data Science</h1>\n",
    "<h1 align=\"center\">Course: Tools and Techniques for Data Science</h1>\n",
    "\n",
    "---\n",
    "<h3><div align=\"right\">Instructor: Muhammad Arif Butt, Ph.D.</div></h3>    "
   ]
  },
  {
   "cell_type": "markdown",
   "id": "4e6fa84e",
   "metadata": {},
   "source": [
    "<h1 align=\"center\">Lecture 2.6</h1>"
   ]
  },
  {
   "cell_type": "markdown",
   "id": "3f009d4a",
   "metadata": {},
   "source": [
    "## _builtinmodules.ipynb_\n",
    "#### [Check out the full list of Python Built-in modules](https://docs.python.org/3/py-modindex.html)"
   ]
  },
  {
   "cell_type": "markdown",
   "id": "6fb1e84f",
   "metadata": {},
   "source": [
    "### Learning agenda of this notebook\n",
    "Python has tons of Built-in modules that can be read from above link. In this notebook file, we will be discussing a short but important subset of it:\n",
    "   - math\n",
    "   - random\n",
    "   - time\n",
    "   - datetime\n",
    "   - calendar\n",
    "   - os\n",
    "\n",
    "These files are in the Lib directory inside the location where you installed Python.Standard modules can be imported the same way as we import our user-defined modules."
   ]
  },
  {
   "cell_type": "markdown",
   "id": "e7e56f88",
   "metadata": {},
   "source": [
    "### 1. Math module\n",
    "Python has a set of built-in math functions, including an extensive math module, that allows you to perform mathematical tasks on numbers."
   ]
  },
  {
   "cell_type": "code",
   "execution_count": 1,
   "id": "32cd625d",
   "metadata": {},
   "outputs": [
    {
     "name": "stdout",
     "output_type": "stream",
     "text": [
      "Existing functions in Math module: \n",
      "\n",
      " ['__doc__', '__file__', '__loader__', '__name__', '__package__', '__spec__', 'acos', 'acosh', 'asin', 'asinh', 'atan', 'atan2', 'atanh', 'ceil', 'comb', 'copysign', 'cos', 'cosh', 'degrees', 'dist', 'e', 'erf', 'erfc', 'exp', 'expm1', 'fabs', 'factorial', 'floor', 'fmod', 'frexp', 'fsum', 'gamma', 'gcd', 'hypot', 'inf', 'isclose', 'isfinite', 'isinf', 'isnan', 'isqrt', 'ldexp', 'lgamma', 'log', 'log10', 'log1p', 'log2', 'modf', 'nan', 'perm', 'pi', 'pow', 'prod', 'radians', 'remainder', 'sin', 'sinh', 'sqrt', 'tan', 'tanh', 'tau', 'trunc']\n"
     ]
    }
   ],
   "source": [
    "# import the math module using alias\n",
    "import math as m\n",
    "\n",
    "# use dir() to get the list of complete functions in math module\n",
    "print(\"Existing functions in Math module: \\n\\n\", dir(m))"
   ]
  },
  {
   "cell_type": "code",
   "execution_count": 2,
   "id": "4723c1b8",
   "metadata": {},
   "outputs": [
    {
     "name": "stdout",
     "output_type": "stream",
     "text": [
      "Calculating Power of 2^5:  32.0\n",
      "Getting Ceil of 20.222:  21\n",
      "Getting Floor of 20.99:  20\n",
      "Calculating factorial of 5:  120\n",
      "Calculating GCD of 20 & 25:  5\n",
      "Calculating log2 of 1000:  9.965784284662087\n",
      "Getting Value of PI:  3.141592653589793\n",
      "Calculating mode (25%4):  2.0\n"
     ]
    }
   ],
   "source": [
    "# exploring several function of math module\n",
    "import math as m\n",
    "\n",
    "# power fucntion\n",
    "print(\"Calculating Power of 2^5: \", m.pow(2,5))\n",
    "\n",
    "# the smallest integer greater than or equal to x.\n",
    "print(\"Getting Ceil of 20.222: \", m.ceil(20.222))\n",
    "\n",
    "# the largest integer less than or equal to x\n",
    "print(\"Getting Floor of 20.99: \", m.floor(20.99))\n",
    "\n",
    "# factorial of a number\n",
    "print(\"Calculating factorial of 5: \", m.factorial(5))\n",
    "\n",
    "# greatest common divisor of the integers a and b.\n",
    "print(\"Calculating GCD of 20 & 25: \", m.gcd(20,25))\n",
    "\n",
    "# Log base 2 of a number.\n",
    "print(\"Calculating log2 of 1000: \", m.log2(1000))\n",
    "\n",
    "# Value of PI\n",
    "print(\"Getting Value of PI: \", m.pi)\n",
    "# Mod function\n",
    "print(\"Calculating mode (25%4): \", m.fmod(26, 4))"
   ]
  },
  {
   "cell_type": "markdown",
   "id": "43637d2d",
   "metadata": {},
   "source": [
    "### 2. Random Module\n",
    "This module can be used to perform random actions such as generating random numbers, print random value for a list or string, etc."
   ]
  },
  {
   "cell_type": "code",
   "execution_count": 3,
   "id": "70c6c490",
   "metadata": {},
   "outputs": [
    {
     "name": "stdout",
     "output_type": "stream",
     "text": [
      "Existing functions in Random module: \n",
      "\n",
      " ['BPF', 'LOG4', 'NV_MAGICCONST', 'RECIP_BPF', 'Random', 'SG_MAGICCONST', 'SystemRandom', 'TWOPI', '_Sequence', '_Set', '__all__', '__builtins__', '__cached__', '__doc__', '__file__', '__loader__', '__name__', '__package__', '__spec__', '_accumulate', '_acos', '_bisect', '_ceil', '_cos', '_e', '_exp', '_inst', '_log', '_os', '_pi', '_random', '_repeat', '_sha512', '_sin', '_sqrt', '_test', '_test_generator', '_urandom', '_warn', 'betavariate', 'choice', 'choices', 'expovariate', 'gammavariate', 'gauss', 'getrandbits', 'getstate', 'lognormvariate', 'normalvariate', 'paretovariate', 'randint', 'random', 'randrange', 'sample', 'seed', 'setstate', 'shuffle', 'triangular', 'uniform', 'vonmisesvariate', 'weibullvariate']\n"
     ]
    }
   ],
   "source": [
    "#import random module\n",
    "import random as r\n",
    "\n",
    "# use dir() to get the list of complete functions in random module\n",
    "print(\"Existing functions in Random module: \\n\\n\", dir(r))"
   ]
  },
  {
   "cell_type": "code",
   "execution_count": 4,
   "id": "033d79e1",
   "metadata": {},
   "outputs": [
    {
     "name": "stdout",
     "output_type": "stream",
     "text": [
      "Random element from list:  Mujahid\n",
      "Fetching Random item from string:  e\n",
      "Fetching Random element from Tuple:  1\n"
     ]
    }
   ],
   "source": [
    "import random as r\n",
    "# select a random element from a list\n",
    "list1 = ['Arif', 'Rauf', 'Mujahid']\n",
    "print(\"Random element from list: \", r.choice(list1))\n",
    "  \n",
    "# prints a random character from the string\n",
    "string = \"HappyLearning\"\n",
    "print(\"Fetching Random item from string: \", r.choice(string))\n",
    "  \n",
    "# prints a random item from the tuple\n",
    "tuple1 = (1, 2, 3, 4, 5)\n",
    "print(\"Fetching Random element from Tuple: \",r.choice(tuple1))"
   ]
  },
  {
   "cell_type": "code",
   "execution_count": 5,
   "id": "e4c876b4",
   "metadata": {},
   "outputs": [
    {
     "name": "stdout",
     "output_type": "stream",
     "text": [
      "Random float number:  0.46707585147322206\n",
      "Random float number within range(0,2):  0.30109547049967533\n",
      "Random integer number within range(3,7):  3\n",
      "Five Random numbers within range of (10-50):  [43, 21, 46, 48, 37]\n"
     ]
    }
   ],
   "source": [
    "import random as r\n",
    "\n",
    "# select a random float number\n",
    "print(\"Random float number: \", r.random()) \n",
    "\n",
    "# select a random float number within a range.\n",
    "print(\"Random float number within range(0,2): \", r.uniform(0, 2))\n",
    "\n",
    "# random integer chosen from range\n",
    "print(\"Random integer number within range(3,7): \", r.randrange(3,6))\n",
    "\n",
    "# select 10 different numbers within a range of numbers (both inclusive)\n",
    "print(\"Five Random numbers within range of (10-50): \", r.sample(range(10,50), 5))\n"
   ]
  },
  {
   "cell_type": "markdown",
   "id": "1a058d60",
   "metadata": {},
   "source": [
    "### 3. Time Module\n",
    "The time module consists of all time related tasks that are required to perform various\n",
    "operations using time. It also allows yout to access several types of clock required for various purposes.\n",
    "\n",
    "Time module begins recording time from the **epoch** that begins at **_00:00:00 1st jan 1970_**"
   ]
  },
  {
   "cell_type": "code",
   "execution_count": 6,
   "id": "64a13665",
   "metadata": {},
   "outputs": [
    {
     "name": "stdout",
     "output_type": "stream",
     "text": [
      "Existing functions in time module: \n",
      "\n",
      " ['_STRUCT_TM_ITEMS', '__doc__', '__loader__', '__name__', '__package__', '__spec__', 'altzone', 'asctime', 'ctime', 'daylight', 'get_clock_info', 'gmtime', 'localtime', 'mktime', 'monotonic', 'monotonic_ns', 'perf_counter', 'perf_counter_ns', 'process_time', 'process_time_ns', 'sleep', 'strftime', 'strptime', 'struct_time', 'time', 'time_ns', 'timezone', 'tzname', 'tzset']\n"
     ]
    }
   ],
   "source": [
    "#To use functions defined in the module, we need to import the module first\n",
    "import time as t\n",
    "\n",
    "# use dir() to get the list of complete functions in time module\n",
    "print(\"Existing functions in time module: \\n\\n\", dir(t))"
   ]
  },
  {
   "cell_type": "code",
   "execution_count": 7,
   "id": "efe8425d",
   "metadata": {},
   "outputs": [
    {
     "name": "stdout",
     "output_type": "stream",
     "text": [
      "This is printed immediately.\n",
      "This is printed after 4 seconds.\n"
     ]
    }
   ],
   "source": [
    "import time as t\n",
    "# The sleep() function suspends execution of the current thread for the given number of seconds\n",
    "print(\"This is printed immediately.\")\n",
    "t.sleep(4)\n",
    "print(\"This is printed after 4 seconds.\")"
   ]
  },
  {
   "cell_type": "code",
   "execution_count": 8,
   "id": "d0fa8a98",
   "metadata": {},
   "outputs": [
    {
     "name": "stdout",
     "output_type": "stream",
     "text": [
      "Number of seconds passed since epoch:  1633326394.14728\n"
     ]
    }
   ],
   "source": [
    "import time as t\n",
    "# time() function will return number of seconds passed since epoch\n",
    "seconds = t.time()\n",
    "print(\"Number of seconds passed since epoch: \", seconds) "
   ]
  },
  {
   "cell_type": "code",
   "execution_count": 9,
   "id": "70d0bb12",
   "metadata": {},
   "outputs": [
    {
     "name": "stdout",
     "output_type": "stream",
     "text": [
      "Current date & time:  Mon Oct  4 10:46:34 2021\n"
     ]
    }
   ],
   "source": [
    "import time as t\n",
    "#The ctime() function takes seconds passed since epoch as an argument and returns a string representing local time.\n",
    "seconds = t.time()\n",
    "print(\"Current date & time: \", t.ctime(seconds)) # passing seconds to ctime function"
   ]
  },
  {
   "cell_type": "markdown",
   "id": "685625da",
   "metadata": {},
   "source": [
    "### localtime() function:\n",
    "It returns local date and time in the form of struct_time class.\n",
    "struct_time class has nine atributes\n",
    "\n",
    "\n",
    "| **Directive**           | **Meaning**                                            |\n",
    "| ---                     | ---                                                    |\n",
    "|  **tm_year**            | Year                                                   |\n",
    "|  **tm_mon**             | month                                                  |  \n",
    "|  **tm_mday**            | Day of the month                                       |\n",
    "|  **tm_hour**            | Hour\t                                               |\n",
    "|  **tm_min**             | minute\t                                               |\n",
    "|  **tm_sec**             | Second                                                 |\n",
    "|  **tm_wday**            | Week day, Monday is 0                                  |\n",
    "|  **tm_yday**            | Day of the year (1-366)                                |\n",
    "|  **tm_isdst**           | Daylight saving time                                   |\n"
   ]
  },
  {
   "cell_type": "code",
   "execution_count": 10,
   "id": "510dcc3f",
   "metadata": {},
   "outputs": [
    {
     "name": "stdout",
     "output_type": "stream",
     "text": [
      "Attributes of struct_time class: \n",
      " time.struct_time(tm_year=2021, tm_mon=10, tm_mday=4, tm_hour=10, tm_min=46, tm_sec=34, tm_wday=0, tm_yday=277, tm_isdst=0)\n"
     ]
    }
   ],
   "source": [
    "import time as t\n",
    "# localtime() function returns local date and time in the form of struct_time class\n",
    "attributes = t.localtime()\n",
    "print(\"Attributes of struct_time class: \\n\", attributes)"
   ]
  },
  {
   "cell_type": "code",
   "execution_count": 11,
   "id": "f77d9a87",
   "metadata": {},
   "outputs": [
    {
     "name": "stdout",
     "output_type": "stream",
     "text": [
      "Current date & time in local format:  Mon Oct  4 10:46:34 2021\n"
     ]
    }
   ],
   "source": [
    "import time as t\n",
    "# asctime() is used to fetch the current data and time from struct_time and return in local format\n",
    "attributes = t.localtime()\n",
    "print(\"Current date & time in local format: \", t.asctime(attributes))"
   ]
  },
  {
   "cell_type": "code",
   "execution_count": 12,
   "id": "19bdc0f8",
   "metadata": {},
   "outputs": [
    {
     "name": "stdout",
     "output_type": "stream",
     "text": [
      "Date format mm/dd/yy, hr:min:sec :  10/04/2021, 10:46:34\n",
      "Date format dd-mm-yy:  04-10-2021.\n"
     ]
    }
   ],
   "source": [
    "import time as t\n",
    "#The strftime() function takes struct_time (or tuple corresponding to it) as an argument \n",
    "# and returns a string representing it based on the format code used.\n",
    "\n",
    "# for example we want to print date in month/date/year format\n",
    "\n",
    "y = t.strftime(\"%m/%d/%Y, %H:%M:%S\")\n",
    "print(\"Date format mm/dd/yy, hr:min:sec : \", y)\n",
    "\n",
    "# Other format\n",
    "print(\"Date format dd-mm-yy: \", t.strftime(\"%d-%m-%Y.\"))"
   ]
  },
  {
   "cell_type": "markdown",
   "id": "9445c4b5",
   "metadata": {},
   "source": [
    "### 4. Datetime Module\n",
    "- Python time module is principally for working with unix time stamps; expressed as a floating point number taken to be seconds since the unix epoch. \n",
    "- The datetime module can support many of the same operations, but provides a more object oriented set of types, and also has some limited support for time zones.\n",
    "- I recommend using the time module instead of the datetime module to prevent ambiguity issues with daylight savings time (DST)."
   ]
  },
  {
   "cell_type": "code",
   "execution_count": 13,
   "id": "121ebc36",
   "metadata": {},
   "outputs": [
    {
     "name": "stdout",
     "output_type": "stream",
     "text": [
      "Existing functions in datetime module: \n",
      "\n",
      " ['MAXYEAR', 'MINYEAR', '__builtins__', '__cached__', '__doc__', '__file__', '__loader__', '__name__', '__package__', '__spec__', 'date', 'datetime', 'datetime_CAPI', 'sys', 'time', 'timedelta', 'timezone', 'tzinfo']\n"
     ]
    }
   ],
   "source": [
    "# import datetime module\n",
    "import datetime as dt\n",
    "\n",
    "# use dir() to get the list of complete functions in datetime module\n",
    "print(\"Existing functions in datetime module: \\n\\n\", dir(dt))"
   ]
  },
  {
   "cell_type": "code",
   "execution_count": 14,
   "id": "529f58cc",
   "metadata": {},
   "outputs": [
    {
     "name": "stdout",
     "output_type": "stream",
     "text": [
      "Current datetime using today() method:  2021-10-04 10:46:34.204684\n",
      "Current datetime using now() method:  2021-10-04 10:46:34.205927\n"
     ]
    }
   ],
   "source": [
    "import datetime as dt\n",
    "# today() and now() methods are used to fetch the current date and time\n",
    "\n",
    "\n",
    "print(\"Current datetime using today() method: \", dt.datetime.today())\n",
    "ct = dt.datetime.now()\n",
    "print(\"Current datetime using now() method: \", ct)"
   ]
  },
  {
   "cell_type": "code",
   "execution_count": 15,
   "id": "929a2bc2",
   "metadata": {},
   "outputs": [
    {
     "name": "stdout",
     "output_type": "stream",
     "text": [
      "2021-06-07 04:30:54.000678\n"
     ]
    }
   ],
   "source": [
    "import datetime as dt\n",
    "# datetime() method is the constructor of datetime module, using this, we can construct any random date\n",
    "# we can pass arguments to this such as year,month,date,hour,min,sec, and milisecond\n",
    "\n",
    "print(dt.datetime(2021,6,7,4,30,54,678))"
   ]
  },
  {
   "cell_type": "code",
   "execution_count": 16,
   "id": "4361240a",
   "metadata": {},
   "outputs": [
    {
     "name": "stdout",
     "output_type": "stream",
     "text": [
      "Current month:  10\n",
      "Current year:  2021\n",
      "Current hour:  10\n"
     ]
    }
   ],
   "source": [
    "import datetime as dt\n",
    "# Just year, day, or hour can also be extracted \n",
    "\n",
    "ct = dt.datetime.now()\n",
    "print(\"Current month: \", ct.month)\n",
    "print(\"Current year: \", ct.year)\n",
    "print(\"Current hour: \", ct.hour)"
   ]
  },
  {
   "cell_type": "code",
   "execution_count": 17,
   "id": "f1fd0ee8",
   "metadata": {},
   "outputs": [
    {
     "name": "stdout",
     "output_type": "stream",
     "text": [
      "Date:  2021-07-05\n",
      "Time:  03:45:23\n"
     ]
    }
   ],
   "source": [
    "import datetime as dt\n",
    "# fetching date only without time\n",
    "print(\"Date: \", dt.date(2021,7,5))\n",
    "\n",
    "# fetching time only without date\n",
    "print(\"Time: \", dt.time(3,45,23))"
   ]
  },
  {
   "cell_type": "markdown",
   "id": "39d5f5d6",
   "metadata": {},
   "source": [
    "### 5. Calendar Module\n",
    "- This module allows you to output calendars like the Unix cal program, and provides additional useful functions related to the calendar. By default, these calendars have Monday as the first day of the week, and Sunday as the last"
   ]
  },
  {
   "cell_type": "code",
   "execution_count": 18,
   "id": "00c616ba",
   "metadata": {},
   "outputs": [
    {
     "name": "stdout",
     "output_type": "stream",
     "text": [
      "Existing functions in calendar module: \n",
      "\n",
      " ['Calendar', 'EPOCH', 'FRIDAY', 'February', 'HTMLCalendar', 'IllegalMonthError', 'IllegalWeekdayError', 'January', 'LocaleHTMLCalendar', 'LocaleTextCalendar', 'MONDAY', 'SATURDAY', 'SUNDAY', 'THURSDAY', 'TUESDAY', 'TextCalendar', 'WEDNESDAY', '_EPOCH_ORD', '__all__', '__builtins__', '__cached__', '__doc__', '__file__', '__loader__', '__name__', '__package__', '__spec__', '_colwidth', '_locale', '_localized_day', '_localized_month', '_monthlen', '_nextmonth', '_prevmonth', '_spacing', 'c', 'calendar', 'datetime', 'day_abbr', 'day_name', 'different_locale', 'error', 'firstweekday', 'format', 'formatstring', 'isleap', 'leapdays', 'main', 'mdays', 'month', 'month_abbr', 'month_name', 'monthcalendar', 'monthrange', 'prcal', 'prmonth', 'prweek', 'repeat', 'setfirstweekday', 'sys', 'timegm', 'week', 'weekday', 'weekheader']\n"
     ]
    }
   ],
   "source": [
    "import calendar as cal\n",
    "\n",
    "# use dir() to get the list of complete functions in calendar module\n",
    "print(\"Existing functions in calendar module: \\n\\n\", dir(cal))"
   ]
  },
  {
   "cell_type": "code",
   "execution_count": 19,
   "id": "04121b7c",
   "metadata": {},
   "outputs": [
    {
     "name": "stdout",
     "output_type": "stream",
     "text": [
      "Calendar of January 2016 \n",
      "\n",
      "    November 2021\n",
      "Mo Tu We Th Fr Sa Su\n",
      " 1  2  3  4  5  6  7\n",
      " 8  9 10 11 12 13 14\n",
      "15 16 17 18 19 20 21\n",
      "22 23 24 25 26 27 28\n",
      "29 30\n",
      "\n"
     ]
    }
   ],
   "source": [
    "import calendar as cal\n",
    "# month() method is used to print calendar of specific month\n",
    "\n",
    "#print calendar of November 2021\n",
    "c = cal.month(2021,11) \n",
    "print(\"Calendar of January 2016 \\n\\n\", c)"
   ]
  },
  {
   "cell_type": "code",
   "execution_count": 20,
   "id": "5205f543",
   "metadata": {
    "scrolled": true
   },
   "outputs": [
    {
     "name": "stdout",
     "output_type": "stream",
     "text": [
      "Calendar of 2021 \n",
      "\n",
      "                                   2021\n",
      "\n",
      "      January                   February                   March\n",
      "Mo Tu We Th Fr Sa Su      Mo Tu We Th Fr Sa Su      Mo Tu We Th Fr Sa Su\n",
      "             1  2  3       1  2  3  4  5  6  7       1  2  3  4  5  6  7\n",
      " 4  5  6  7  8  9 10       8  9 10 11 12 13 14       8  9 10 11 12 13 14\n",
      "11 12 13 14 15 16 17      15 16 17 18 19 20 21      15 16 17 18 19 20 21\n",
      "18 19 20 21 22 23 24      22 23 24 25 26 27 28      22 23 24 25 26 27 28\n",
      "25 26 27 28 29 30 31                                29 30 31\n",
      "\n",
      "       April                      May                       June\n",
      "Mo Tu We Th Fr Sa Su      Mo Tu We Th Fr Sa Su      Mo Tu We Th Fr Sa Su\n",
      "          1  2  3  4                      1  2          1  2  3  4  5  6\n",
      " 5  6  7  8  9 10 11       3  4  5  6  7  8  9       7  8  9 10 11 12 13\n",
      "12 13 14 15 16 17 18      10 11 12 13 14 15 16      14 15 16 17 18 19 20\n",
      "19 20 21 22 23 24 25      17 18 19 20 21 22 23      21 22 23 24 25 26 27\n",
      "26 27 28 29 30            24 25 26 27 28 29 30      28 29 30\n",
      "                          31\n",
      "\n",
      "        July                     August                  September\n",
      "Mo Tu We Th Fr Sa Su      Mo Tu We Th Fr Sa Su      Mo Tu We Th Fr Sa Su\n",
      "          1  2  3  4                         1             1  2  3  4  5\n",
      " 5  6  7  8  9 10 11       2  3  4  5  6  7  8       6  7  8  9 10 11 12\n",
      "12 13 14 15 16 17 18       9 10 11 12 13 14 15      13 14 15 16 17 18 19\n",
      "19 20 21 22 23 24 25      16 17 18 19 20 21 22      20 21 22 23 24 25 26\n",
      "26 27 28 29 30 31         23 24 25 26 27 28 29      27 28 29 30\n",
      "                          30 31\n",
      "\n",
      "      October                   November                  December\n",
      "Mo Tu We Th Fr Sa Su      Mo Tu We Th Fr Sa Su      Mo Tu We Th Fr Sa Su\n",
      "             1  2  3       1  2  3  4  5  6  7             1  2  3  4  5\n",
      " 4  5  6  7  8  9 10       8  9 10 11 12 13 14       6  7  8  9 10 11 12\n",
      "11 12 13 14 15 16 17      15 16 17 18 19 20 21      13 14 15 16 17 18 19\n",
      "18 19 20 21 22 23 24      22 23 24 25 26 27 28      20 21 22 23 24 25 26\n",
      "25 26 27 28 29 30 31      29 30                     27 28 29 30 31\n",
      "\n"
     ]
    }
   ],
   "source": [
    "# calendar() method to print the calendar of whole year\n",
    "cy = cal.calendar(2021) \n",
    "print(\"Calendar of 2021 \\n\\n\", cy)"
   ]
  },
  {
   "cell_type": "code",
   "execution_count": 21,
   "id": "48d3e53f",
   "metadata": {},
   "outputs": [
    {
     "name": "stdout",
     "output_type": "stream",
     "text": [
      "2021 is leap year:  False\n",
      "2020 was be leap year:  True\n"
     ]
    }
   ],
   "source": [
    "import calendar as cal\n",
    "# can check wether the year is leap year or not\n",
    "print(\"2021 is leap year: \", cal.isleap(2021))\n",
    "\n",
    "print(\"2020 was be leap year: \", cal.isleap(2020))"
   ]
  },
  {
   "cell_type": "markdown",
   "id": "b07f1899",
   "metadata": {},
   "source": [
    "### 6. The os Module\n",
    "- This module provides a portable way of using operating system dependent functionality and provides dozens of functions for interacting with the operating system"
   ]
  },
  {
   "cell_type": "code",
   "execution_count": 22,
   "id": "f02e0918",
   "metadata": {},
   "outputs": [
    {
     "name": "stdout",
     "output_type": "stream",
     "text": [
      "Existing functions in OS module: \n",
      "\n",
      " ['CLD_CONTINUED', 'CLD_DUMPED', 'CLD_EXITED', 'CLD_TRAPPED', 'DirEntry', 'EX_CANTCREAT', 'EX_CONFIG', 'EX_DATAERR', 'EX_IOERR', 'EX_NOHOST', 'EX_NOINPUT', 'EX_NOPERM', 'EX_NOUSER', 'EX_OK', 'EX_OSERR', 'EX_OSFILE', 'EX_PROTOCOL', 'EX_SOFTWARE', 'EX_TEMPFAIL', 'EX_UNAVAILABLE', 'EX_USAGE', 'F_LOCK', 'F_OK', 'F_TEST', 'F_TLOCK', 'F_ULOCK', 'MutableMapping', 'NGROUPS_MAX', 'O_ACCMODE', 'O_APPEND', 'O_ASYNC', 'O_CLOEXEC', 'O_CREAT', 'O_DIRECTORY', 'O_DSYNC', 'O_EXCL', 'O_EXLOCK', 'O_NDELAY', 'O_NOCTTY', 'O_NOFOLLOW', 'O_NONBLOCK', 'O_RDONLY', 'O_RDWR', 'O_SHLOCK', 'O_SYNC', 'O_TRUNC', 'O_WRONLY', 'POSIX_SPAWN_CLOSE', 'POSIX_SPAWN_DUP2', 'POSIX_SPAWN_OPEN', 'PRIO_PGRP', 'PRIO_PROCESS', 'PRIO_USER', 'P_ALL', 'P_NOWAIT', 'P_NOWAITO', 'P_PGID', 'P_PID', 'P_WAIT', 'PathLike', 'RTLD_GLOBAL', 'RTLD_LAZY', 'RTLD_LOCAL', 'RTLD_NODELETE', 'RTLD_NOLOAD', 'RTLD_NOW', 'R_OK', 'SCHED_FIFO', 'SCHED_OTHER', 'SCHED_RR', 'SEEK_CUR', 'SEEK_END', 'SEEK_SET', 'ST_NOSUID', 'ST_RDONLY', 'TMP_MAX', 'WCONTINUED', 'WCOREDUMP', 'WEXITED', 'WEXITSTATUS', 'WIFCONTINUED', 'WIFEXITED', 'WIFSIGNALED', 'WIFSTOPPED', 'WNOHANG', 'WNOWAIT', 'WSTOPPED', 'WSTOPSIG', 'WTERMSIG', 'WUNTRACED', 'W_OK', 'X_OK', '_Environ', '__all__', '__builtins__', '__cached__', '__doc__', '__file__', '__loader__', '__name__', '__package__', '__spec__', '_check_methods', '_execvpe', '_exists', '_exit', '_fspath', '_get_exports_list', '_putenv', '_spawnvef', '_unsetenv', '_wrap_close', 'abc', 'abort', 'access', 'altsep', 'chdir', 'chflags', 'chmod', 'chown', 'chroot', 'close', 'closerange', 'confstr', 'confstr_names', 'cpu_count', 'ctermid', 'curdir', 'defpath', 'device_encoding', 'devnull', 'dup', 'dup2', 'environ', 'environb', 'error', 'execl', 'execle', 'execlp', 'execlpe', 'execv', 'execve', 'execvp', 'execvpe', 'extsep', 'fchdir', 'fchmod', 'fchown', 'fdopen', 'fork', 'forkpty', 'fpathconf', 'fsdecode', 'fsencode', 'fspath', 'fstat', 'fstatvfs', 'fsync', 'ftruncate', 'get_blocking', 'get_exec_path', 'get_inheritable', 'get_terminal_size', 'getcwd', 'getcwdb', 'getegid', 'getenv', 'getenvb', 'geteuid', 'getgid', 'getgrouplist', 'getgroups', 'getloadavg', 'getlogin', 'getpgid', 'getpgrp', 'getpid', 'getppid', 'getpriority', 'getsid', 'getuid', 'initgroups', 'isatty', 'kill', 'killpg', 'lchflags', 'lchmod', 'lchown', 'linesep', 'link', 'listdir', 'lockf', 'lseek', 'lstat', 'major', 'makedev', 'makedirs', 'minor', 'mkdir', 'mkfifo', 'mknod', 'name', 'nice', 'open', 'openpty', 'pardir', 'path', 'pathconf', 'pathconf_names', 'pathsep', 'pipe', 'popen', 'posix_spawn', 'posix_spawnp', 'pread', 'putenv', 'pwrite', 'read', 'readlink', 'readv', 'register_at_fork', 'remove', 'removedirs', 'rename', 'renames', 'replace', 'rmdir', 'scandir', 'sched_get_priority_max', 'sched_get_priority_min', 'sched_yield', 'sendfile', 'sep', 'set_blocking', 'set_inheritable', 'setegid', 'seteuid', 'setgid', 'setgroups', 'setpgid', 'setpgrp', 'setpriority', 'setregid', 'setreuid', 'setsid', 'setuid', 'spawnl', 'spawnle', 'spawnlp', 'spawnlpe', 'spawnv', 'spawnve', 'spawnvp', 'spawnvpe', 'st', 'stat', 'stat_result', 'statvfs', 'statvfs_result', 'strerror', 'supports_bytes_environ', 'supports_dir_fd', 'supports_effective_ids', 'supports_fd', 'supports_follow_symlinks', 'symlink', 'sync', 'sys', 'sysconf', 'sysconf_names', 'system', 'tcgetpgrp', 'tcsetpgrp', 'terminal_size', 'times', 'times_result', 'truncate', 'ttyname', 'umask', 'uname', 'uname_result', 'unlink', 'unsetenv', 'urandom', 'utime', 'wait', 'wait3', 'wait4', 'waitpid', 'walk', 'write', 'writev']\n"
     ]
    }
   ],
   "source": [
    "import os\n",
    "\n",
    "# to get the list of complete functions in OS module\n",
    "print(\"Existing functions in OS module: \\n\\n\", dir(os))\n"
   ]
  },
  {
   "cell_type": "code",
   "execution_count": 23,
   "id": "70c024c7",
   "metadata": {},
   "outputs": [
    {
     "name": "stdout",
     "output_type": "stream",
     "text": [
      "Get current working directory: /Users/arif/Documents/DS-522/Demo-Files/Section-2/Lec-2.6/module files\n",
      "Get current working directory again: /Users/arif/Documents/DS-522\n"
     ]
    }
   ],
   "source": [
    "import os\n",
    "# getcwd() function is used to return the current working directory\n",
    "cwd = os.getcwd()\n",
    "print(\"Get current working directory:\", cwd )\n",
    "\n",
    "# chdir() function is used to change the Current working directory\n",
    "os.chdir('/Users/arif/Documents/DS-522')\n",
    "#os.chdir('C:\\\\Users\\Arif\\Desktop')\n",
    "\n",
    "print(\"Get current working directory again:\", os.getcwd())"
   ]
  },
  {
   "cell_type": "code",
   "execution_count": 24,
   "id": "427a8ca3",
   "metadata": {},
   "outputs": [
    {
     "name": "stdout",
     "output_type": "stream",
     "text": [
      "Listing current working directory directories:\n"
     ]
    },
    {
     "data": {
      "text/plain": [
       "['.DS_Store',\n",
       " 'Lec-2.7',\n",
       " 'Lec-2.6',\n",
       " 'Lec-2.1',\n",
       " '.ipynb_checkpoints',\n",
       " 'Lec-2.4',\n",
       " 'Lec-2.3',\n",
       " 'Lec-2.2',\n",
       " 'Lec-2.5']"
      ]
     },
     "execution_count": 24,
     "metadata": {},
     "output_type": "execute_result"
    }
   ],
   "source": [
    "import os\n",
    "# you can perform the listing of directories as well\n",
    "os.chdir('/Users/arif/Documents/DS-522/Demo-Files/Section-2')\n",
    "\n",
    "print(\"Listing current working directory directories:\") \n",
    "os.listdir(os.getcwd())"
   ]
  },
  {
   "cell_type": "code",
   "execution_count": 25,
   "id": "64fd97a4",
   "metadata": {},
   "outputs": [
    {
     "name": "stdout",
     "output_type": "stream",
     "text": [
      "total 0\n",
      "drwxr-xr-x  14 arif  staff  448 Sep  7 21:32 Lec-2.1\n",
      "drwxr-xr-x   7 arif  staff  224 Oct  4 10:20 Lec-2.2\n",
      "drwxrwxr-x@ 10 arif  staff  320 Oct  4 10:27 Lec-2.3\n",
      "drwxrwxr-x@  8 arif  staff  256 Oct  4 10:32 Lec-2.4\n",
      "drwxrwxr-x@  8 arif  staff  256 Oct  4 10:43 Lec-2.5\n",
      "drwxrwxr-x@  4 arif  staff  128 Sep 23 16:12 Lec-2.6\n",
      "drwxr-xr-x  13 arif  staff  416 Sep 24 17:01 Lec-2.7\n",
      "Long listing:  0\n",
      "Make new directory dir1 0\n",
      "Deleting the newly created directory dir1 0\n"
     ]
    }
   ],
   "source": [
    "import os\n",
    "# You can run any shell command using the system() function\n",
    "print(\"Long listing: \", os.system('ls -l    /Users/arif/Documents/DS-522/Demo-Files/Section-2'))\n",
    "print(\"Make new directory dir1\", os.system('mkdir /Users/arif/Downloads/dir1'))\n",
    "print(\"Deleting the newly created directory dir1\", os.system('rmdir /Users/arif/Downloads/dir1'))\n"
   ]
  },
  {
   "cell_type": "code",
   "execution_count": null,
   "id": "0e284953",
   "metadata": {},
   "outputs": [],
   "source": []
  },
  {
   "cell_type": "code",
   "execution_count": null,
   "id": "b337cb68",
   "metadata": {},
   "outputs": [],
   "source": []
  },
  {
   "cell_type": "code",
   "execution_count": null,
   "id": "db0b065f",
   "metadata": {},
   "outputs": [],
   "source": []
  }
 ],
 "metadata": {
  "kernelspec": {
   "display_name": "Python 3 (ipykernel)",
   "language": "python",
   "name": "python3"
  },
  "language_info": {
   "codemirror_mode": {
    "name": "ipython",
    "version": 3
   },
   "file_extension": ".py",
   "mimetype": "text/x-python",
   "name": "python",
   "nbconvert_exporter": "python",
   "pygments_lexer": "ipython3",
   "version": "3.8.10"
  }
 },
 "nbformat": 4,
 "nbformat_minor": 5
}
