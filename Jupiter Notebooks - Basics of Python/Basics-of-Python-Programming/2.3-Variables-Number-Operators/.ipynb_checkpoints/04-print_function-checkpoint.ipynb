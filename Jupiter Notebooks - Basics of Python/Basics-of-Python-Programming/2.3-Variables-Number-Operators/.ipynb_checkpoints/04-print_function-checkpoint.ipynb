{
 "cells": [
  {
   "cell_type": "markdown",
   "id": "ca09f7e7",
   "metadata": {},
   "source": [
    "---   \n",
    " <img align=\"left\" width=\"75\" height=\"75\"  src=\"https://upload.wikimedia.org/wikipedia/en/c/c8/University_of_the_Punjab_logo.png\"> \n",
    "\n",
    "<h1 align=\"center\">Department of Data Science</h1>\n",
    "<h1 align=\"center\">Course: Tools and Techniques for Data Science</h1>\n",
    "\n",
    "---\n",
    "<h3><div align=\"right\">Instructor: Muhammad Arif Butt, Ph.D.</div></h3>    "
   ]
  },
  {
   "cell_type": "markdown",
   "id": "19663b8b",
   "metadata": {},
   "source": [
    "<h1 align=\"center\">Lecture 2.3</h1>"
   ]
  },
  {
   "cell_type": "markdown",
   "id": "037b9831",
   "metadata": {},
   "source": [
    "## _04-printfunction.ipynb_"
   ]
  },
  {
   "cell_type": "markdown",
   "id": "27711bd2",
   "metadata": {},
   "source": [
    "## Learning agenda of this notebook\n",
    "1. Arguments to Python print() function\n",
    "2. Using sep keyword in Python print() function\n",
    "2. Using end keyword in Python print() function\n",
    "4. Formatting using Python print() function\n",
    "5. Using Intellisense in Jupyter Notebook"
   ]
  },
  {
   "cell_type": "markdown",
   "id": "78f5914d",
   "metadata": {},
   "source": [
    "## 1. Arguments to Python `print()` Function\n",
    "* Python `print()` function receives variable number of comma separated values and all the comma separated elements/variables get printed on the output separated by spaces (by default)\n",
    "- To find out the arguments that you can pass to a function or method (in IPhton only), just place the cursor inside parenthesis and hit <shift +\n",
    "    - Tab> once: Displays a brief signature with doc string\n",
    "    - Tab> twice: Displays a larger frame to display more information\n",
    "    - Tab> thrice: Displays the information for a longer duration\n",
    "    - Tab> fourth time: The information takes almost half of your screen and you can resize it for longer usage"
   ]
  },
  {
   "cell_type": "markdown",
   "id": "9536a60a",
   "metadata": {},
   "source": [
    "## 3. Using `end` keyword in Python `print()` function\n",
    "* By default when `print()` statement is done printing the output, it appends a newline character at the end. Hence, we get the output of each print statement in different line.\n",
    "* You can change this default behavior using the `end` keyword and assign it the character you want to use instead of newline character "
   ]
  },
  {
   "cell_type": "code",
   "execution_count": 9,
   "id": "fa0c5da5",
   "metadata": {},
   "outputs": [
    {
     "name": "stdout",
     "output_type": "stream",
     "text": [
      "1\n",
      "apple\n",
      "23.42\n",
      "1 : apple : 23.42 : "
     ]
    }
   ],
   "source": [
    "ser = 1\n",
    "item = 'apple'\n",
    "price = float(23.42)\n",
    "\n",
    "# Three print statements, each implicitly using the newline character at the end\n",
    "print(ser)\n",
    "print(item)\n",
    "print(price)\n",
    "\n",
    "# Three print statements, each using end keyword and using the ' : ' instead of newline character\n",
    "print(ser, end=' : ')\n",
    "print(item, end=' : ')\n",
    "print(price, end=' : ')\n"
   ]
  },
  {
   "cell_type": "markdown",
   "id": "82fbfe18",
   "metadata": {},
   "source": [
    "## 4. Using Escape Sequence in  `print()` function\n",
    "- Escape sequences are special commands that tell Python to either\n",
    "    - Suppress special meaning of some character or symbol in a string\n",
    "    - Give an otherwise ordinary character a special meaning\n",
    "- For example, a single or double quote has special meanings, i.e., are used to define a string. To make them part of a string you have to suppress the special meaning by preceding the character by a back slash `\\`"
   ]
  },
  {
   "cell_type": "code",
   "execution_count": 10,
   "id": "18fabfd8",
   "metadata": {},
   "outputs": [
    {
     "name": "stdout",
     "output_type": "stream",
     "text": [
      "It's my birthday\n"
     ]
    }
   ],
   "source": [
    "#print('It's my birthday')   # This will flag an error\n",
    "print('It\\'s my birthday')"
   ]
  },
  {
   "cell_type": "code",
   "execution_count": 11,
   "id": "53a738fa",
   "metadata": {},
   "outputs": [
    {
     "name": "stdout",
     "output_type": "stream",
     "text": [
      "Hello\tWorld\n",
      "Hello\n",
      "World\n"
     ]
    }
   ],
   "source": [
    "# Similarly, we can give an ordinary character 't' and 'n', special meanings by preceding them by a back slash\n",
    "print('Hello\\tWorld')\n",
    "print('Hello\\nWorld')"
   ]
  },
  {
   "cell_type": "markdown",
   "id": "b3478296",
   "metadata": {},
   "source": [
    "## 5. Formatting using String `format()` method\n",
    "- **Option 1:**\n",
    "    - Use the **`%s`** symbol as a place holder for the value of a variable in the format string of the `print()` function. \n",
    "    - Use %s inside the string where you want a value to appear. After the string, put a % operator and mention the identifiers in parenthesis.\n",
    "- **Option 2:**\n",
    "    - Use the **`string.format()`** method. \n",
    "    - Place the index (0, 1, 2, ...) in curly braces inside the string where you want a value to appear. \n",
    "    - Call the `format()` method on the string using the dot operator and mention the identifiers in parenthesis"
   ]
  },
  {
   "cell_type": "code",
   "execution_count": 12,
   "id": "2b235c4c",
   "metadata": {},
   "outputs": [
    {
     "name": "stdout",
     "output_type": "stream",
     "text": [
      "Hello Mr. Arif Butt.\n",
      "Mr. Arif Butt, you are 51 years old.\n"
     ]
    }
   ],
   "source": [
    "# Option 1:\n",
    "age = 51;    name = \"Arif Butt\"\n",
    "print(\"Hello Mr. %s.\" % (name))\n",
    "print(\"Mr. %s, you are %s years old.\" % (name, age))"
   ]
  },
  {
   "cell_type": "code",
   "execution_count": 3,
   "id": "e8406fad",
   "metadata": {},
   "outputs": [
    {
     "name": "stdout",
     "output_type": "stream",
     "text": [
      "Hello Mr. Arif Butt.\n",
      "Mr. Arif Butt, you are 51 years old.\n"
     ]
    }
   ],
   "source": [
    "# Option 2: \n",
    "age = 51;    name = \"Arif Butt\"\n",
    "print(\"Hello Mr. {}.\".format(name))\n",
    "print(\"Mr. {}, you are {} years old.\" .format(name, age))"
   ]
  },
  {
   "cell_type": "code",
   "execution_count": 2,
   "id": "e2016b1c",
   "metadata": {},
   "outputs": [
    {
     "name": "stdout",
     "output_type": "stream",
     "text": [
      "Hello Mr. Arif Butt.\n",
      "Mr. Arif Butt, you are 51 years old.\n"
     ]
    }
   ],
   "source": [
    "# Option 2: You can mention indices of variables passed to format() function, if you want a different \n",
    "# sequence as in following example\n",
    "age = 51;    name = \"Arif Butt\"\n",
    "print(\"Hello Mr. {0}.\".format(name))\n",
    "print(\"Mr. {1}, you are {0} years old.\" .format(age, name))"
   ]
  },
  {
   "cell_type": "code",
   "execution_count": null,
   "id": "7c5dfdc2",
   "metadata": {},
   "outputs": [],
   "source": []
  }
 ],
 "metadata": {
  "kernelspec": {
   "display_name": "Python 3 (ipykernel)",
   "language": "python",
   "name": "python3"
  },
  "language_info": {
   "codemirror_mode": {
    "name": "ipython",
    "version": 3
   },
   "file_extension": ".py",
   "mimetype": "text/x-python",
   "name": "python",
   "nbconvert_exporter": "python",
   "pygments_lexer": "ipython3",
   "version": "3.8.10"
  }
 },
 "nbformat": 4,
 "nbformat_minor": 5
}
