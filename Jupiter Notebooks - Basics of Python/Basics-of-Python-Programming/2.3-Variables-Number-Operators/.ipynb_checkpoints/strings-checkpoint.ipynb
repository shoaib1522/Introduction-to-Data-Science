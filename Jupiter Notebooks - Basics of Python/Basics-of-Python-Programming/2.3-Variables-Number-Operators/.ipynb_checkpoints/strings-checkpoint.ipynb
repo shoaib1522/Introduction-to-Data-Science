{
 "cells": [
  {
   "cell_type": "markdown",
   "id": "b0cf17d5",
   "metadata": {},
   "source": [
    "---   \n",
    " <img align=\"left\" width=\"75\" height=\"75\"  src=\"https://upload.wikimedia.org/wikipedia/en/c/c8/University_of_the_Punjab_logo.png\"> \n",
    "\n",
    "<h1 align=\"center\">Department of Data Science</h1>\n",
    "<h1 align=\"center\">Course: Tools and Techniques for Data Science</h1>\n",
    "\n",
    "---\n",
    "<h3><div align=\"right\">Instructor: Muhammad Arif Butt, Ph.D.</div></h3>    "
   ]
  },
  {
   "cell_type": "markdown",
   "id": "351c3150",
   "metadata": {},
   "source": [
    "<h1 align=\"center\">Lecture 2.3</h1>"
   ]
  },
  {
   "cell_type": "markdown",
   "id": "f258f97c",
   "metadata": {},
   "source": [
    "## _strings.ipynb_\n",
    "#### [Click me to learn more about Python strings](https://www.w3schools.com/python/python_strings.asp)\n",
    "#### [Click me to learn more about string methods](https://www.w3schools.com/python/python_ref_string.asp)"
   ]
  },
  {
   "cell_type": "markdown",
   "id": "0a41a8be",
   "metadata": {},
   "source": [
    "### Learning agenda of this notebook\n",
    "1. Defining strings in Python\n",
    "2. Accessing string elements in Python\n",
    "3. Strings are immutable\n",
    "4. Slicing strings\n",
    "5. String concatenation\n",
    "6. Creating large strings\n",
    "7. String find() and replace() methods\n",
    "8. String split() and join() methods\n",
    "9. String Membership test\n",
    "10.Misc String methods"
   ]
  },
  {
   "cell_type": "markdown",
   "id": "9f811f89",
   "metadata": {},
   "source": [
    "### 1. Defining strings in Python\n",
    "- A string is a collection of characters closed within single or double quotation marks.\n",
    "- A string can also contain a single character or be entirely empty."
   ]
  },
  {
   "cell_type": "code",
   "execution_count": 1,
   "id": "e360d31b",
   "metadata": {},
   "outputs": [
    {
     "name": "stdout",
     "output_type": "stream",
     "text": [
      "Hello\n",
      "World\n",
      "\n",
      "A\n"
     ]
    }
   ],
   "source": [
    "# Both are equivalent\n",
    "\n",
    "string1 = 'Hello'\n",
    "print(string1)\n",
    "\n",
    "string2 = \"World\"\n",
    "print(string2)\n",
    "\n",
    "string3 = \"\"\n",
    "print(string3)\n",
    "\n",
    "string4 = \"A\"\n",
    "print(string4)"
   ]
  },
  {
   "cell_type": "code",
   "execution_count": 2,
   "id": "30ceb2f2",
   "metadata": {},
   "outputs": [
    {
     "name": "stdout",
     "output_type": "stream",
     "text": [
      "Hello, This is\n",
      "            multi-line string\n",
      "Hello, This is\n",
      "            multi-line string\n"
     ]
    }
   ],
   "source": [
    "# triple quotes string can extend multiple lines\n",
    "\n",
    "string5 = \"\"\"Hello, This is\n",
    "            multi-line string\"\"\"\n",
    "print(string5)\n",
    "\n",
    "string5 = '''Hello, This is\n",
    "            multi-line string'''\n",
    "print(string5)"
   ]
  },
  {
   "cell_type": "markdown",
   "id": "d3e111e1",
   "metadata": {},
   "source": [
    "### 2. Accessing string elements in Python"
   ]
  },
  {
   "cell_type": "code",
   "execution_count": 3,
   "id": "b99f10c5",
   "metadata": {},
   "outputs": [
    {
     "name": "stdout",
     "output_type": "stream",
     "text": [
      "str =  PythonProgramming\n",
      "\n",
      "str[0] =  P\n",
      "str[-1] =  g\n",
      "str[-2] =  n\n"
     ]
    }
   ],
   "source": [
    "str = 'PythonProgramming'\n",
    "print('str = ', str)\n",
    "print()\n",
    "#access first index\n",
    "print('str[0] = ', str[0])\n",
    "\n",
    "# Negative indices start from the opposite end of the string. Hence, the -1 index corresponds to the last character\n",
    "print('str[-1] = ', str[-1])\n",
    "\n",
    "#access second last index\n",
    "print('str[-2] = ', str[-2])"
   ]
  },
  {
   "cell_type": "code",
   "execution_count": 4,
   "id": "14a46b12",
   "metadata": {},
   "outputs": [
    {
     "ename": "IndexError",
     "evalue": "string index out of range",
     "output_type": "error",
     "traceback": [
      "\u001b[0;31m---------------------------------------------------------------------------\u001b[0m",
      "\u001b[0;31mIndexError\u001b[0m                                Traceback (most recent call last)",
      "\u001b[0;32m/var/folders/1t/g3ylw8h50cjdqmk5d6jh1qmm0000gn/T/ipykernel_7629/3534253530.py\u001b[0m in \u001b[0;36m<module>\u001b[0;34m\u001b[0m\n\u001b[1;32m      1\u001b[0m \u001b[0;31m#access an index out of the range, will get error\u001b[0m\u001b[0;34m\u001b[0m\u001b[0;34m\u001b[0m\u001b[0;34m\u001b[0m\u001b[0m\n\u001b[0;32m----> 2\u001b[0;31m \u001b[0mprint\u001b[0m\u001b[0;34m(\u001b[0m\u001b[0mstr\u001b[0m\u001b[0;34m[\u001b[0m\u001b[0;36m17\u001b[0m\u001b[0;34m]\u001b[0m\u001b[0;34m)\u001b[0m\u001b[0;34m\u001b[0m\u001b[0;34m\u001b[0m\u001b[0m\n\u001b[0m\u001b[1;32m      3\u001b[0m \u001b[0;34m\u001b[0m\u001b[0m\n\u001b[1;32m      4\u001b[0m \u001b[0;31m#use numbers other than an integer,will get error\u001b[0m\u001b[0;34m\u001b[0m\u001b[0;34m\u001b[0m\u001b[0;34m\u001b[0m\u001b[0m\n\u001b[1;32m      5\u001b[0m \u001b[0mprint\u001b[0m\u001b[0;34m(\u001b[0m\u001b[0mstr\u001b[0m\u001b[0;34m[\u001b[0m\u001b[0;36m1.5\u001b[0m\u001b[0;34m]\u001b[0m\u001b[0;34m)\u001b[0m\u001b[0;34m\u001b[0m\u001b[0;34m\u001b[0m\u001b[0m\n",
      "\u001b[0;31mIndexError\u001b[0m: string index out of range"
     ]
    }
   ],
   "source": [
    "#access an index out of the range, will get error\n",
    "print(str[17])\n",
    "\n",
    "#use numbers other than an integer,will get error\n",
    "print(str[1.5])"
   ]
  },
  {
   "cell_type": "markdown",
   "id": "5cbf1435",
   "metadata": {},
   "source": [
    "### 3. Strings are Immutable"
   ]
  },
  {
   "cell_type": "code",
   "execution_count": 5,
   "id": "d0771648",
   "metadata": {},
   "outputs": [
    {
     "name": "stdout",
     "output_type": "stream",
     "text": [
      "ArifButt\n",
      "python\n"
     ]
    }
   ],
   "source": [
    "#strings are immutable\n",
    "str1 = 'ArifButt'\n",
    "#str1[5] = 'c'\n",
    "print(str1)\n",
    "\n",
    "#assigning a new value is valid\n",
    "str1 = 'python'\n",
    "print(str1)"
   ]
  },
  {
   "cell_type": "markdown",
   "id": "e8c7221e",
   "metadata": {},
   "source": [
    "### 4. Slicing strings\n",
    "- Slicing is the process of obtaining a portion (substring) of a string by using its indices.\n",
    "- Given a string, we can use the following template to slice it and obtain a substring:\n",
    "```\n",
    "string[start:end]\n",
    "    where start is the index from where we want the substring to start,\n",
    "    end is the index where we want our substring to end,\n",
    "    character at the end index in the string, will not be included in the substring\n",
    "```\n",
    "\n"
   ]
  },
  {
   "cell_type": "code",
   "execution_count": 6,
   "id": "a45eb434",
   "metadata": {},
   "outputs": [
    {
     "name": "stdout",
     "output_type": "stream",
     "text": [
      "Data\n",
      "Tools\n",
      "Techniques\n"
     ]
    }
   ],
   "source": [
    "str = 'DataScienceToolsAndTechniques'\n",
    "\n",
    "print(str[0:4]) # From the start till before the 4th index\n",
    "print(str[11:16])\n",
    "print(str[19:len(str)]) # From the 19th index till the end\n"
   ]
  },
  {
   "cell_type": "markdown",
   "id": "29823e0e",
   "metadata": {},
   "source": [
    "#### a. Slicing with a Step \n",
    "- Until now, we’ve used slicing to obtain a contiguous piece of a string, i.e., all the characters from the starting index to before the ending index are retrieved.\n",
    "- However, we can define a step through which we can skip characters in the string. The default step is 1, so we iterate through the string one character at a time.\n",
    "- The step is defined after the end index:\n",
    "```\n",
    "string[start:end:step]\n",
    "```"
   ]
  },
  {
   "cell_type": "code",
   "execution_count": 7,
   "id": "340a1dd5",
   "metadata": {},
   "outputs": [
    {
     "name": "stdout",
     "output_type": "stream",
     "text": [
      "DataSci\n",
      "Daic\n",
      "Dc\n"
     ]
    }
   ],
   "source": [
    "str = 'DataScienceToolsAndTechniques'\n",
    "print(str[0:7])  # A step of 1\n",
    "print(str[0:10:3])  # A step of 2\n",
    "print(str[0:7:5])  # A step of 5"
   ]
  },
  {
   "cell_type": "markdown",
   "id": "df2b33e0",
   "metadata": {},
   "source": [
    "#### b. Reverse Slicing\n",
    "- Strings can also be sliced to return a reversed substring. In this case, we would need to switch the order of the start and end indices. A negative step must also be provided"
   ]
  },
  {
   "cell_type": "code",
   "execution_count": 8,
   "id": "9f1d3ebb",
   "metadata": {},
   "outputs": [
    {
     "name": "stdout",
     "output_type": "stream",
     "text": [
      "ecneicS\n",
      "nsoTcecaa\n"
     ]
    }
   ],
   "source": [
    "str = 'DataScienceToolsAndTechniques'\n",
    "print(str[10:3:-1]) # Take 1 step back each time\n",
    "print(str[17:0:-2]) # Take 2 steps back. The opposite of what happens in the slide above\n"
   ]
  },
  {
   "cell_type": "markdown",
   "id": "35683d00",
   "metadata": {},
   "source": [
    "#### c. Partial Slicing\n",
    "- One thing to note is that specifying the start, end and step indices is optional.\n",
    "```\n",
    "string[start:end:step]\n",
    "```\n",
    "- If start is not provided, slicing starts from the beginning.\n",
    "- If end is not provided, slicing goes till the end of the string.\n",
    "- If step is not provided, the default is 1"
   ]
  },
  {
   "cell_type": "code",
   "execution_count": 9,
   "id": "51502eac",
   "metadata": {},
   "outputs": [
    {
     "name": "stdout",
     "output_type": "stream",
     "text": [
      "DataScience\n",
      "DataScienceToolsAndTechniques\n",
      "DataScienceToolsAndTechnique\n",
      "cienceToolsAndTechniques\n",
      "\n"
     ]
    }
   ],
   "source": [
    "str = 'DataScienceToolsAndTechniques'\n",
    "#if omit the xth part (before colon), slicing starts from the beginning\n",
    "print(str[:11])\n",
    "print(str[:])\n",
    "print(str[:-1])\n",
    "\n",
    "#if omit the yth part (after colon), slicing goes till the end of the string\n",
    "print(str[5:])\n",
    "\n",
    "#if x is greater than y, it will return empty string\n",
    "print(str[5:2])\n",
    "\n"
   ]
  },
  {
   "cell_type": "markdown",
   "id": "2603ff7c",
   "metadata": {},
   "source": [
    "### 5. String Concatenation"
   ]
  },
  {
   "cell_type": "code",
   "execution_count": 10,
   "id": "44dc0a9d",
   "metadata": {},
   "outputs": [
    {
     "name": "stdout",
     "output_type": "stream",
     "text": [
      "str1 + str2 =  HelloWorld!\n"
     ]
    }
   ],
   "source": [
    "# Concate two strings\n",
    "str1 = 'Hello'\n",
    "str2 ='World!'\n",
    "\n",
    "# using +\n",
    "print('str1 + str2 = ', str1 + str2)"
   ]
  },
  {
   "cell_type": "markdown",
   "id": "f4bdee54",
   "metadata": {},
   "source": [
    "### 6. Creating Large strings"
   ]
  },
  {
   "cell_type": "code",
   "execution_count": 11,
   "id": "5fcc181e",
   "metadata": {},
   "outputs": [
    {
     "name": "stdout",
     "output_type": "stream",
     "text": [
      "str1 * 3 = HelloHelloHello\n",
      "AAAAAAAAAAAAAAAAAAAAAAAAAAAAAAAAAAAAAAAAAAAAAAAAAAAAAAAAAAAAAAAAAAAAAAAAAAAAAAAAAAAAAAAAAAAAAAAAAAAA\n"
     ]
    }
   ],
   "source": [
    "# using *\n",
    "str1 = 'Hello'\n",
    "print('str1 * 3 =', str1 * 3)\n",
    "\n",
    "buffer = 'A'*100\n",
    "print(buffer)"
   ]
  },
  {
   "cell_type": "code",
   "execution_count": 12,
   "id": "38256c61",
   "metadata": {},
   "outputs": [
    {
     "name": "stdout",
     "output_type": "stream",
     "text": [
      "Yello World\n"
     ]
    }
   ],
   "source": [
    "str3 = \"Hello World\"\n",
    "\n",
    "print(\"Y\" + str3[1:])"
   ]
  },
  {
   "cell_type": "markdown",
   "id": "3f759ac2",
   "metadata": {},
   "source": [
    "### 7. Use find() method to find a substring\n",
    "- To find a substring from within a string we can use the find() method, which returns the first index at which a substring occurs in a string. If no instance of the substring is found, the method returns -1.\n",
    "```\n",
    "str.find(substring, start, end)\n",
    "    where substring is what we are searching for,\n",
    "    start is the index from which we start searching in string named str,\n",
    "    end is the index where we stop our search in string named str\n",
    "    start and end are optional.\n",
    "```"
   ]
  },
  {
   "cell_type": "code",
   "execution_count": 13,
   "id": "58ce5dc1",
   "metadata": {},
   "outputs": [
    {
     "name": "stdout",
     "output_type": "stream",
     "text": [
      "0\n",
      "16\n",
      "-1\n",
      "6\n"
     ]
    }
   ],
   "source": [
    "str = 'DataScienceToolsAndTechniques'\n",
    "print(str.find('Data'))\n",
    "print(str.find('And'))\n",
    "\n",
    "#find l after 4th index\n",
    "str1 ='Hello World'\n",
    "print(str1.find('w',4))\n",
    "print(str1.find('W',4))"
   ]
  },
  {
   "cell_type": "markdown",
   "id": "c11e762b",
   "metadata": {},
   "source": [
    "### 8. Use replace() method to find a substring\n",
    "- The replace() method can be used to replace a part of a string with another string\n",
    "```\n",
    "str.replace(substring_to_be_replaced, new_string)\n",
    "```"
   ]
  },
  {
   "cell_type": "code",
   "execution_count": 14,
   "id": "93b57ec8",
   "metadata": {},
   "outputs": [
    {
     "name": "stdout",
     "output_type": "stream",
     "text": [
      "Welcome to Learning Data Science with Arif\n",
      "Welcome to Learning Life with Arif\n",
      "hallo\n"
     ]
    }
   ],
   "source": [
    "str = 'Welcome to Learning Data Science with Arif'\n",
    "newstring = str.replace('Data Science', 'Life')\n",
    "print(str)\n",
    "print(newstring)\n",
    "\n",
    "print(\"hello\".replace(\"e\",\"a\"))"
   ]
  },
  {
   "cell_type": "markdown",
   "id": "85f7b8a7",
   "metadata": {},
   "source": [
    "### 8. Split and Join"
   ]
  },
  {
   "cell_type": "code",
   "execution_count": 15,
   "id": "ec111ec7",
   "metadata": {},
   "outputs": [
    {
     "name": "stdout",
     "output_type": "stream",
     "text": [
      "['Learning', 'is', 'fun', 'with', 'Arif', 'Butt']\n",
      "['Learn', 'ng ', 's fun w', 'th Ar', 'f Butt']\n"
     ]
    }
   ],
   "source": [
    "#Splits the string at the specified separator, and returns a list\n",
    "buffer = 'Learning is fun with Arif Butt'\n",
    "print(buffer.split())\n",
    "\n",
    "print(buffer.split('i'))"
   ]
  },
  {
   "cell_type": "code",
   "execution_count": 16,
   "id": "2fc9dece",
   "metadata": {},
   "outputs": [
    {
     "name": "stdout",
     "output_type": "stream",
     "text": [
      "Learning is fun with Arif\n",
      "Learning#is#fun#with#Arif#54\n"
     ]
    }
   ],
   "source": [
    "# The join() method takes all items in an iterable and joins them into one string.\n",
    "# A string must be specified as the separator.\n",
    "msg1 = ' '.join(['Learning', 'is', 'fun', 'with', 'Arif'])\n",
    "print(msg1)\n",
    "msg2 = '#'.join([\"Learning\", \"is\", \"fun\", \"with\", \"Arif\", \"54\"])\n",
    "print(msg2)"
   ]
  },
  {
   "cell_type": "markdown",
   "id": "db4dd60b",
   "metadata": {},
   "source": [
    "### 9. String Membership test"
   ]
  },
  {
   "cell_type": "code",
   "execution_count": 17,
   "id": "ad151253",
   "metadata": {},
   "outputs": [
    {
     "data": {
      "text/plain": [
       "True"
      ]
     },
     "execution_count": 17,
     "metadata": {},
     "output_type": "execute_result"
    }
   ],
   "source": [
    "'a' in 'DataScience'"
   ]
  },
  {
   "cell_type": "code",
   "execution_count": 18,
   "id": "7dacbbf5",
   "metadata": {},
   "outputs": [
    {
     "data": {
      "text/plain": [
       "False"
      ]
     },
     "execution_count": 18,
     "metadata": {},
     "output_type": "execute_result"
    }
   ],
   "source": [
    "'th' not in 'python'"
   ]
  },
  {
   "cell_type": "markdown",
   "id": "a37b6a03",
   "metadata": {},
   "source": [
    "### 10. Misc string functions"
   ]
  },
  {
   "cell_type": "code",
   "execution_count": 19,
   "id": "3f201280",
   "metadata": {},
   "outputs": [
    {
     "name": "stdout",
     "output_type": "stream",
     "text": [
      "Orignial string =  LearNing is Fun with Arif\n",
      "len(str) =  25\n",
      "str.lower() =  learning is fun with arif\n",
      "str.upper() =  LEARNING IS FUN WITH ARIF\n",
      "str.capitalize() =  Learning is fun with arif\n",
      "Orignial string =  LearNing is Fun with Arif\n"
     ]
    }
   ],
   "source": [
    "str = 'LearNing is Fun with Arif'\n",
    "print('Orignial string = ', str)\n",
    "\n",
    "# len(obj): builtin function that return the number of items in a container.\n",
    "rv = len(str)\n",
    "print('len(str) = ', rv)\n",
    "\n",
    "\n",
    "# lower(): builtin function that return a copy of the string converted to lowercase.\n",
    "rv = str.lower()\n",
    "print('str.lower() = ', rv)\n",
    "      \n",
    "# upper(): builtin function that return a copy of the string converted to uppercase.\n",
    "print('str.upper() = ', str.upper())\n",
    "\n",
    "# capitalize(): builtin function that return a capitalized version of the string.\n",
    "rv = str.capitalize()\n",
    "print('str.capitalize() = ', rv)\n",
    "print('Orignial string = ', str)\n"
   ]
  },
  {
   "cell_type": "code",
   "execution_count": 20,
   "id": "2ec66201",
   "metadata": {},
   "outputs": [
    {
     "name": "stdout",
     "output_type": "stream",
     "text": [
      "    hello world, this is       Arif Butt      \n",
      "hello world, this is       Arif Butt\n"
     ]
    }
   ],
   "source": [
    "#strip(); builtin function that return a copy of the string with leading and trailing whitespace removed.\n",
    "buffer =\"    hello world, this is       Arif Butt      \"\n",
    "rv = buffer.strip()\n",
    "print(buffer)\n",
    "print(rv)"
   ]
  },
  {
   "cell_type": "code",
   "execution_count": 21,
   "id": "cafc44b9",
   "metadata": {},
   "outputs": [
    {
     "name": "stdout",
     "output_type": "stream",
     "text": [
      "True\n",
      "False\n"
     ]
    }
   ],
   "source": [
    "# str.startswith(prefix[, start[, end]]): Return True if str starts with the specified prefix, False otherwise.\n",
    "str = \"Please, help me\"\n",
    "rv = str.startswith('Please')\n",
    "print(rv)\n",
    "\n",
    "#in this case, will return false(case sensitive)\n",
    "rv = str.startswith('please')\n",
    "print(rv)\n"
   ]
  },
  {
   "cell_type": "code",
   "execution_count": null,
   "id": "a12231f4",
   "metadata": {},
   "outputs": [],
   "source": []
  }
 ],
 "metadata": {
  "kernelspec": {
   "display_name": "Python 3 (ipykernel)",
   "language": "python",
   "name": "python3"
  },
  "language_info": {
   "codemirror_mode": {
    "name": "ipython",
    "version": 3
   },
   "file_extension": ".py",
   "mimetype": "text/x-python",
   "name": "python",
   "nbconvert_exporter": "python",
   "pygments_lexer": "ipython3",
   "version": "3.8.10"
  }
 },
 "nbformat": 4,
 "nbformat_minor": 5
}
