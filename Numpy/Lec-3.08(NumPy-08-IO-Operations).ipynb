{
 "cells": [
  {
   "cell_type": "markdown",
   "id": "5572cc0a",
   "metadata": {},
   "source": [
    "---   \n",
    " <img align=\"left\" width=\"75\" height=\"75\"  src=\"../University_of_the_Punjab_logo.png\"> \n",
    "\n",
    "<h1 align=\"center\">Department of Data Science</h1>\n",
    "<h1 align=\"center\">Data Science Journey from Beginners to Expert</h1>\n",
    "\n",
    "---\n",
    "<h3><div align=\"right\">Instructor: Engr. Muhammad Nadeem Majeed, Ph.D.</div></h3>     "
   ]
  },
  {
   "cell_type": "markdown",
   "id": "04ba630a",
   "metadata": {},
   "source": [
    "<h1 align=\"center\">Lecture 3.8 (NumPy-08)</h1>"
   ]
  },
  {
   "cell_type": "markdown",
   "id": "a5a92293",
   "metadata": {},
   "source": [
    "# _IO Operations with NumPy Arrays.ipynb_"
   ]
  },
  {
   "cell_type": "markdown",
   "id": "127a82e5",
   "metadata": {},
   "source": [
    "<img align=\"center\" width=\"600\" height=\"150\"  src=\"images/fileformats.png\" >"
   ]
  },
  {
   "cell_type": "code",
   "execution_count": null,
   "id": "e037c8d1",
   "metadata": {},
   "outputs": [],
   "source": []
  },
  {
   "cell_type": "code",
   "execution_count": null,
   "id": "47b3f134",
   "metadata": {},
   "outputs": [],
   "source": []
  },
  {
   "cell_type": "markdown",
   "id": "7aeadcc5",
   "metadata": {},
   "source": [
    "# Learning agenda of this notebook\n",
    "1. Reading Numeric data from text/csv Files\n",
    "2. Writing data to files\n",
    "3. Bonus 1\n",
    "4. Bonus 2"
   ]
  },
  {
   "cell_type": "code",
   "execution_count": null,
   "id": "cea29d7c",
   "metadata": {},
   "outputs": [],
   "source": [
    "# To install this library in Jupyter notebook\n",
    "#import sys\n",
    "#!{sys.executable} -m pip install numpy"
   ]
  },
  {
   "cell_type": "code",
   "execution_count": null,
   "id": "64d5768b",
   "metadata": {},
   "outputs": [],
   "source": [
    "import numpy as np\n",
    "np.__version__ , np.__path__"
   ]
  },
  {
   "cell_type": "code",
   "execution_count": null,
   "id": "39e5dfb4",
   "metadata": {},
   "outputs": [],
   "source": []
  },
  {
   "cell_type": "code",
   "execution_count": null,
   "id": "255f6be4",
   "metadata": {},
   "outputs": [],
   "source": []
  },
  {
   "cell_type": "markdown",
   "id": "3b320c77",
   "metadata": {},
   "source": [
    "## 1. Reading Data from Files\n",
    "The `np.loadtxt()`  is used to load data from a text file. Each row in the text file must have the same number of values.\n",
    "```\n",
    "np.loadtxt(fname, dtype=’float’, delimiter=None, skiprows=0, comments='#')\n",
    "```\n",
    "<br><br>\n",
    "The `np.genfromtxt()`  is more powerful and we will use this to read data into numPy arrays.\n",
    "\n",
    "```\n",
    "np.genfromtxt(fname,dtype=’float’,delimiter=None,skip_header=0,comments='#',missing_values=None,filling_values=None)\n",
    "```"
   ]
  },
  {
   "cell_type": "code",
   "execution_count": null,
   "id": "07afbcac",
   "metadata": {},
   "outputs": [],
   "source": []
  },
  {
   "cell_type": "markdown",
   "id": "dd0e8fd5",
   "metadata": {},
   "source": [
    "**Example 1:** Read data from a simple text file containing space separated numbers in a single line."
   ]
  },
  {
   "cell_type": "code",
   "execution_count": null,
   "id": "996e4212",
   "metadata": {},
   "outputs": [],
   "source": [
    "!cat datasets/data0.txt"
   ]
  },
  {
   "cell_type": "code",
   "execution_count": null,
   "id": "52a55eeb",
   "metadata": {},
   "outputs": [],
   "source": [
    "import numpy as np\n",
    "# The only required argument is name of file, and by default the numbers are casted to float data type\n",
    "arr = np.genfromtxt(\"datasets/data0.txt\")\n",
    "print(\"data:\\n\", arr)\n",
    "print(\"shape: \", arr.shape)"
   ]
  },
  {
   "cell_type": "code",
   "execution_count": null,
   "id": "160dd3cb",
   "metadata": {},
   "outputs": [],
   "source": []
  },
  {
   "cell_type": "markdown",
   "id": "bf4f83ae",
   "metadata": {},
   "source": [
    "**Example 2:** Read data from a simple text file containing space separated numbers in multiple lines. The count of numbers on each line must be same"
   ]
  },
  {
   "cell_type": "code",
   "execution_count": null,
   "id": "42bf1bd6",
   "metadata": {},
   "outputs": [],
   "source": [
    "!cat datasets/data1.txt"
   ]
  },
  {
   "cell_type": "code",
   "execution_count": null,
   "id": "53568686",
   "metadata": {},
   "outputs": [],
   "source": [
    "# The only required argument is name of file, and by default the numbers are casted to float data type\n",
    "arr = np.genfromtxt(\"datasets/data1.txt\")\n",
    "print(\"data:\\n\", arr)\n",
    "print(\"shape: \", arr.shape)"
   ]
  },
  {
   "cell_type": "code",
   "execution_count": null,
   "id": "64327a0f",
   "metadata": {},
   "outputs": [],
   "source": [
    "# You can read the numbers as integers, by mentioning the dtype argument\n",
    "arr = np.genfromtxt(\"datasets/data1.txt\", dtype=np.uint8)\n",
    "print(\"data:\\n\", arr)\n",
    "print(\"shape: \", arr.shape)"
   ]
  },
  {
   "cell_type": "code",
   "execution_count": null,
   "id": "9fe888d1",
   "metadata": {},
   "outputs": [],
   "source": []
  },
  {
   "cell_type": "markdown",
   "id": "76ee4452",
   "metadata": {},
   "source": [
    "**Example 3:** Read data from a csv text file containing comma separated numbers. By default, the `genfromtxt()` expect a space as separator. So here, we need to pass `,` as the delimiter argument"
   ]
  },
  {
   "cell_type": "code",
   "execution_count": null,
   "id": "300ef950",
   "metadata": {},
   "outputs": [],
   "source": [
    "!cat datasets/icecreamsales_simple.csv"
   ]
  },
  {
   "cell_type": "code",
   "execution_count": null,
   "id": "70a700d9",
   "metadata": {},
   "outputs": [],
   "source": [
    "arr = np.genfromtxt(\"datasets/icecreamsales_simple.csv\", dtype=np.int16, delimiter=',')\n",
    "print(\"data:\\n\", arr)\n",
    "print(arr.shape)"
   ]
  },
  {
   "cell_type": "code",
   "execution_count": null,
   "id": "b4ad0e33",
   "metadata": {},
   "outputs": [],
   "source": []
  },
  {
   "cell_type": "markdown",
   "id": "50141593",
   "metadata": {},
   "source": [
    "**Example 4:** By default the `genfromtxt()` method assume that no column labels are there in the first line. However, if the first row of file contains column labels, we need to use skip_header argument"
   ]
  },
  {
   "cell_type": "code",
   "execution_count": null,
   "id": "8757e191",
   "metadata": {},
   "outputs": [],
   "source": [
    "!cat datasets/icecreamsales_withheader.csv"
   ]
  },
  {
   "cell_type": "code",
   "execution_count": null,
   "id": "06238c67",
   "metadata": {},
   "outputs": [],
   "source": [
    "import numpy as np\n",
    "arr = np.genfromtxt(\"datasets/icecreamsales_withheader.csv\", dtype=np.int16, delimiter=',', skip_header=1)\n",
    "print(\"data:\\n\", arr)\n",
    "print(arr.shape)"
   ]
  },
  {
   "cell_type": "code",
   "execution_count": null,
   "id": "81592e18",
   "metadata": {},
   "outputs": [],
   "source": []
  },
  {
   "cell_type": "markdown",
   "id": "c2a7e537",
   "metadata": {},
   "source": [
    "**Example 5:** If the file has comments in the beginning, in between or at the end, you will get an error. To handle this, you need to pass the appropriate character that is used for start of comment to the comment argument"
   ]
  },
  {
   "cell_type": "code",
   "execution_count": null,
   "id": "75b7aa28",
   "metadata": {},
   "outputs": [],
   "source": [
    "! cat datasets/icecreamsales_withcomments.csv"
   ]
  },
  {
   "cell_type": "code",
   "execution_count": null,
   "id": "3e848054",
   "metadata": {},
   "outputs": [],
   "source": [
    "arr = np.genfromtxt(\"datasets/icecreamsales_withcomments.csv\", dtype=np.int16, delimiter=',', comments='#')\n",
    "print(\"data:\\n\", arr)\n",
    "print(arr.shape)"
   ]
  },
  {
   "cell_type": "code",
   "execution_count": null,
   "id": "c803d473",
   "metadata": {},
   "outputs": [],
   "source": []
  },
  {
   "cell_type": "markdown",
   "id": "5b90198c",
   "metadata": {},
   "source": [
    "## 2. Writing Data into Files\n",
    "The `np.savetxt()`  is used to save a NumPy array to a text file.\n",
    "```\n",
    "np.savetxt(fname, arr, fmt='%.18e', delimiter=' ', newline='\\n', header='', footer='', comments='#')\n",
    "\n",
    "```\n",
    "\n",
    "   - `fname`: If the filename ends in `.gz`, the file is automatically saved in compressed gzip format.\n",
    "   - `arr`: 1-D or 2-D array to be saved to a text file.\n",
    "   - `fmt`: str or sequence of strs, optional.\n",
    "   - `delimiter`: String or character separating columns (default is space).\n",
    "   - `newline`: String or character separating lines (default is newline).\n",
    "   - `header`: A String that will be written at the beginning of the file (default is none).\n",
    "   - `footer`: A String that will be written at the end of the file (Default is none).\n",
    "   - `comments`: A string that will be prepended to the `header` and `footer` strings, to mark them comments.\n",
    "   \n",
    ">- The `np.save()` saves an array to a binary file in NumPy .npy format\n",
    ">- The `np.savez()` saves several arrays into an uncompressed .npz archive\n",
    ">- The `np.savez_compressed()` save several arrays into a compressed .npz archive"
   ]
  },
  {
   "cell_type": "code",
   "execution_count": null,
   "id": "acf01c1b",
   "metadata": {},
   "outputs": [],
   "source": []
  },
  {
   "cell_type": "markdown",
   "id": "076c3735",
   "metadata": {},
   "source": [
    "**Example 1:** Create a NumPy array and then save it as a text file (space separated numbers in each row). Finally verify by reading the file contents into a numPy array"
   ]
  },
  {
   "cell_type": "code",
   "execution_count": null,
   "id": "45c14919",
   "metadata": {},
   "outputs": [],
   "source": [
    "arr1 = np.array([[1.5, 2.3, 3.7], [4.0, 5.2, 6.8],[7.1, 8.4, 9.3]])\n",
    "np.savetxt('datasets/myarr.txt', arr1, fmt='%.2f')"
   ]
  },
  {
   "cell_type": "code",
   "execution_count": null,
   "id": "d5e88238",
   "metadata": {},
   "outputs": [],
   "source": [
    "!cat datasets/myarr.txt"
   ]
  },
  {
   "cell_type": "code",
   "execution_count": null,
   "id": "f1b85bb1",
   "metadata": {},
   "outputs": [],
   "source": [
    "arr2 = np.genfromtxt(\"datasets/myarr.txt\")\n",
    "arr2"
   ]
  },
  {
   "cell_type": "code",
   "execution_count": null,
   "id": "84dd44af",
   "metadata": {},
   "outputs": [],
   "source": []
  },
  {
   "cell_type": "markdown",
   "id": "5cd32692",
   "metadata": {},
   "source": [
    "**Example 2:** Create a NumPy array and then save it as a csv file. Finally verify by reading the file contents into a numPy array"
   ]
  },
  {
   "cell_type": "code",
   "execution_count": null,
   "id": "0e425f13",
   "metadata": {},
   "outputs": [],
   "source": [
    "arr1 = np.array([[1.5, 2.3, 3.7], [4.0, 5.2, 6.8],[7.1, 8.4, 9.3]])\n",
    "np.savetxt('datasets/myarr.csv', arr1, fmt='%.2f', delimiter=',')"
   ]
  },
  {
   "cell_type": "code",
   "execution_count": null,
   "id": "1807ab86",
   "metadata": {},
   "outputs": [],
   "source": [
    "! cat datasets/myarr.csv"
   ]
  },
  {
   "cell_type": "code",
   "execution_count": null,
   "id": "73cb0b42",
   "metadata": {},
   "outputs": [],
   "source": [
    "arr2 = np.genfromtxt(\"datasets/myarr.csv\", usecols=[0, 1], delimiter=',')\n",
    "arr2"
   ]
  },
  {
   "cell_type": "code",
   "execution_count": null,
   "id": "36118b43",
   "metadata": {},
   "outputs": [],
   "source": []
  },
  {
   "cell_type": "code",
   "execution_count": null,
   "id": "a7270177",
   "metadata": {},
   "outputs": [],
   "source": []
  },
  {
   "cell_type": "markdown",
   "id": "6a26824e",
   "metadata": {},
   "source": [
    "## 3.  Bonus # 1\n",
    "Visit `https://gist.github.com/arifpucit` and get the URL of public `climate.csv` file from this public GitHub gist, which contains 10,000 climate measurements (temperature, rainfall & humidity) in the following format: \n",
    "\n",
    "```\n",
    "temperature,rainfall,humidity\n",
    "25.00,76.00,99.00\n",
    "39.00,65.00,70.00\n",
    "59.00,45.00,77.00\n",
    "84.00,63.00,38.00\n",
    "66.00,50.00,52.00\n",
    "41.00,94.00,77.00\n",
    "91.00,57.00,96.00\n",
    "49.00,96.00,99.00\n",
    "67.00,20.00,28.00\n",
    "...\n",
    "```\n",
    "\n",
    "Download the file and then read its data and compute the average of temperature, rainfall, and humidity values"
   ]
  },
  {
   "cell_type": "code",
   "execution_count": null,
   "id": "d375b38b",
   "metadata": {},
   "outputs": [],
   "source": []
  },
  {
   "cell_type": "code",
   "execution_count": null,
   "id": "830844c3",
   "metadata": {},
   "outputs": [],
   "source": []
  },
  {
   "cell_type": "markdown",
   "id": "f968121c",
   "metadata": {},
   "source": [
    "- The `urllib.request.urlretrieve(url, filename=None)` method is used to retrieve a remote file into a temporary location on disk.\n",
    "- Let us download `climate.csv` above mentioned github gist"
   ]
  },
  {
   "cell_type": "markdown",
   "id": "f5e9c98b",
   "metadata": {},
   "source": [
    ">**The `urllib.request.urlopen()`, may return a URLError saying `SSL: CERTIFICATE_VERIFY_FAILED`. To handle this error set  the `_create_default_https_context` attribute of `ssl` to `_create_unverified_context`**"
   ]
  },
  {
   "cell_type": "code",
   "execution_count": null,
   "id": "8a75db5e",
   "metadata": {},
   "outputs": [],
   "source": [
    "import ssl\n",
    "ssl._create_default_https_context = ssl._create_unverified_context"
   ]
  },
  {
   "cell_type": "code",
   "execution_count": null,
   "id": "599acc0f",
   "metadata": {},
   "outputs": [],
   "source": [
    "import urllib\n",
    "#Get the raw data url from your github gist account of a csv file named climate.csv\n",
    "myurl = 'https://gist.githubusercontent.com/arifpucit/6e2d95002460db296506ec6f0cfb7008/raw/dae54a4e20d34e4b9622333fcccf04c441a250b7/climate.csv'\n",
    "\n",
    "# Pass the url string and the path, where to save the file on local disk\n",
    "urllib.request.urlretrieve(myurl, 'datasets/climate.csv')\n"
   ]
  },
  {
   "cell_type": "code",
   "execution_count": null,
   "id": "cb8c446e",
   "metadata": {},
   "outputs": [],
   "source": [
    "! cat datasets/climate.csv"
   ]
  },
  {
   "cell_type": "code",
   "execution_count": null,
   "id": "fd407657",
   "metadata": {},
   "outputs": [],
   "source": [
    "import numpy as np\n",
    "climate_data = np.genfromtxt(\"datasets/climate.csv\", delimiter=',', skip_header=1)\n",
    "print(\"Climate Data:\\n\", climate_data)\n",
    "print(climate_data.shape)"
   ]
  },
  {
   "cell_type": "code",
   "execution_count": null,
   "id": "20d0c74c",
   "metadata": {},
   "outputs": [],
   "source": []
  },
  {
   "cell_type": "code",
   "execution_count": null,
   "id": "6342cbe8",
   "metadata": {},
   "outputs": [],
   "source": [
    "# Slice data of the temperature column\n",
    "climate_data[:,0]"
   ]
  },
  {
   "cell_type": "code",
   "execution_count": null,
   "id": "86545bbb",
   "metadata": {},
   "outputs": [],
   "source": [
    "# Slice data of the rainfall column\n",
    "climate_data[:,1]"
   ]
  },
  {
   "cell_type": "code",
   "execution_count": null,
   "id": "2403f0e0",
   "metadata": {},
   "outputs": [],
   "source": [
    "# Slice data of the humidity column\n",
    "climate_data[:,2]"
   ]
  },
  {
   "cell_type": "code",
   "execution_count": null,
   "id": "a6a2bf82",
   "metadata": {},
   "outputs": [],
   "source": []
  },
  {
   "cell_type": "code",
   "execution_count": null,
   "id": "c19fb85b",
   "metadata": {},
   "outputs": [],
   "source": [
    "# Calculate the Mean of every column\n",
    "print(\"Mean Temperature = \", climate_data[:,0].mean())\n",
    "print(\"Mean Rainfall = \", climate_data[:,1].mean())\n",
    "print(\"Mean Humidity = \", climate_data[:,2].mean())"
   ]
  },
  {
   "cell_type": "code",
   "execution_count": null,
   "id": "a6f56885",
   "metadata": {},
   "outputs": [],
   "source": []
  },
  {
   "cell_type": "code",
   "execution_count": null,
   "id": "6c1f9876",
   "metadata": {},
   "outputs": [],
   "source": []
  },
  {
   "cell_type": "markdown",
   "id": "c010ee34",
   "metadata": {},
   "source": [
    ">- Let us now create a fourth column, that is the sum obtained by matrix multiplication of climate_data and their corresponding hypothetical weights."
   ]
  },
  {
   "cell_type": "code",
   "execution_count": null,
   "id": "cf3a5c7d",
   "metadata": {},
   "outputs": [],
   "source": [
    "weights = np.array([0.3, 0.2, 0.5])\n",
    "new_col = np.matmul(climate_data, weights)\n",
    "new_col"
   ]
  },
  {
   "cell_type": "code",
   "execution_count": null,
   "id": "34a91e3a",
   "metadata": {},
   "outputs": [],
   "source": [
    "new_col.shape"
   ]
  },
  {
   "cell_type": "code",
   "execution_count": null,
   "id": "3d129e55",
   "metadata": {},
   "outputs": [],
   "source": []
  },
  {
   "cell_type": "markdown",
   "id": "ff89587a",
   "metadata": {},
   "source": [
    "Let's add the `new_col` to `climate_data` as a fourth column using the `np.concatenate`\n",
    "Since we wish to add new columns, i.e., horizontally concatenate, so we pass the argument `axis=1` to `np.concatenate`. The `axis` argument specifies the dimension for concatenation."
   ]
  },
  {
   "cell_type": "code",
   "execution_count": null,
   "id": "2451a1c9",
   "metadata": {},
   "outputs": [],
   "source": [
    "# First we need to reshape() the new_col to a 10000x1 matrix for concatenation\n",
    "result_data = new_col.reshape(10000, 1)\n",
    "result_data, result_data.shape"
   ]
  },
  {
   "cell_type": "code",
   "execution_count": null,
   "id": "9c029f34",
   "metadata": {},
   "outputs": [],
   "source": [
    "climate_results = np.concatenate((climate_data, result_data), axis=1)"
   ]
  },
  {
   "cell_type": "code",
   "execution_count": null,
   "id": "b23178e9",
   "metadata": {},
   "outputs": [],
   "source": [
    "climate_results"
   ]
  },
  {
   "cell_type": "code",
   "execution_count": null,
   "id": "8b24ff52",
   "metadata": {},
   "outputs": [],
   "source": [
    "climate_results.shape"
   ]
  },
  {
   "cell_type": "markdown",
   "id": "bd2dd41f",
   "metadata": {},
   "source": [
    "The results are written back in the CSV format to the file `climate_results.csv`. \n",
    "\n",
    "```\n",
    "temperature,rainfall,humidity,col4\n",
    "25.00,76.00,99.00,72.20\n",
    "39.00,65.00,70.00,59.70\n",
    "59.00,45.00,77.00,65.20\n",
    "84.00,63.00,38.00,56.80\n",
    "...\n",
    "```\n",
    "\n"
   ]
  },
  {
   "cell_type": "markdown",
   "id": "953f9df4",
   "metadata": {},
   "source": [
    ">- Let's write back the resulting numPy array `climate_results` in a new file `climate_results.csv` using the `np.savetxt` method."
   ]
  },
  {
   "cell_type": "code",
   "execution_count": null,
   "id": "2db36782",
   "metadata": {},
   "outputs": [],
   "source": [
    "np.savetxt('datasets/climate_results.csv', \n",
    "           climate_results, \n",
    "           fmt='%.2f', \n",
    "           delimiter=',',\n",
    "           header='temperature,rainfall,humidity,col4', \n",
    "           comments='')"
   ]
  },
  {
   "cell_type": "code",
   "execution_count": null,
   "id": "d919c85e",
   "metadata": {},
   "outputs": [],
   "source": []
  },
  {
   "cell_type": "code",
   "execution_count": null,
   "id": "817f4dac",
   "metadata": {},
   "outputs": [],
   "source": []
  },
  {
   "cell_type": "code",
   "execution_count": null,
   "id": "34fe6e06",
   "metadata": {},
   "outputs": [],
   "source": [
    "! cat datasets/climate_results.csv"
   ]
  },
  {
   "cell_type": "code",
   "execution_count": null,
   "id": "dbb492ad",
   "metadata": {},
   "outputs": [],
   "source": []
  },
  {
   "cell_type": "markdown",
   "id": "c4d6c1b8",
   "metadata": {},
   "source": [
    "## 4.  Bonus # 2\n",
    "Now let us read an image file from disk and load it into a numPy array for image processing task"
   ]
  },
  {
   "cell_type": "code",
   "execution_count": null,
   "id": "92a6e67e",
   "metadata": {},
   "outputs": [],
   "source": [
    "from PIL import Image"
   ]
  },
  {
   "cell_type": "code",
   "execution_count": null,
   "id": "53b46a8f",
   "metadata": {},
   "outputs": [],
   "source": [
    "rgb_img = Image.open(\"datasets/speech.jpg\")"
   ]
  },
  {
   "cell_type": "code",
   "execution_count": null,
   "id": "dfb17824",
   "metadata": {},
   "outputs": [],
   "source": [
    "rgb_img.mode"
   ]
  },
  {
   "cell_type": "code",
   "execution_count": null,
   "id": "fe068dcd",
   "metadata": {},
   "outputs": [],
   "source": [
    "rgb_img.size"
   ]
  },
  {
   "cell_type": "markdown",
   "id": "d9d64c7d",
   "metadata": {},
   "source": [
    "When translating a color image to greyscale (mode \"L\"), the library uses the ITU-R 601-2 luma transform::\n",
    "```\n",
    "    L = R * 299/1000 + G * 587/1000 + B * 114/1000\n",
    "```"
   ]
  },
  {
   "cell_type": "code",
   "execution_count": null,
   "id": "c605c127",
   "metadata": {},
   "outputs": [],
   "source": [
    "grey_img = rgb_img.convert('L')"
   ]
  },
  {
   "cell_type": "code",
   "execution_count": null,
   "id": "a2fed8de",
   "metadata": {},
   "outputs": [],
   "source": [
    "grey_img.mode"
   ]
  },
  {
   "cell_type": "code",
   "execution_count": null,
   "id": "4d96848a",
   "metadata": {},
   "outputs": [],
   "source": [
    "grey_img.size"
   ]
  },
  {
   "cell_type": "code",
   "execution_count": null,
   "id": "2cb3aac5",
   "metadata": {},
   "outputs": [],
   "source": []
  },
  {
   "cell_type": "code",
   "execution_count": null,
   "id": "0f88251d",
   "metadata": {},
   "outputs": [],
   "source": [
    "rgb_img"
   ]
  },
  {
   "cell_type": "code",
   "execution_count": null,
   "id": "711af295",
   "metadata": {},
   "outputs": [],
   "source": []
  },
  {
   "cell_type": "code",
   "execution_count": null,
   "id": "f579cd64",
   "metadata": {},
   "outputs": [],
   "source": []
  },
  {
   "cell_type": "code",
   "execution_count": null,
   "id": "87c67996",
   "metadata": {},
   "outputs": [],
   "source": []
  },
  {
   "cell_type": "code",
   "execution_count": null,
   "id": "69664262",
   "metadata": {},
   "outputs": [],
   "source": [
    "grey_img"
   ]
  },
  {
   "cell_type": "code",
   "execution_count": null,
   "id": "b4a3c350",
   "metadata": {},
   "outputs": [],
   "source": []
  },
  {
   "cell_type": "markdown",
   "id": "97616bb7",
   "metadata": {},
   "source": [
    "#### Let us convert the two images to a NumPy array"
   ]
  },
  {
   "cell_type": "code",
   "execution_count": null,
   "id": "5eb796f4",
   "metadata": {},
   "outputs": [],
   "source": [
    "rgb_img_array = np.array(rgb_img)"
   ]
  },
  {
   "cell_type": "code",
   "execution_count": null,
   "id": "171eac4a",
   "metadata": {},
   "outputs": [],
   "source": [
    "rgb_img_array.shape"
   ]
  },
  {
   "cell_type": "code",
   "execution_count": null,
   "id": "23aa3881",
   "metadata": {},
   "outputs": [],
   "source": [
    "rgb_img_array"
   ]
  },
  {
   "cell_type": "code",
   "execution_count": null,
   "id": "6668464c",
   "metadata": {},
   "outputs": [],
   "source": [
    "grey_img_array = np.array(grey_img)"
   ]
  },
  {
   "cell_type": "code",
   "execution_count": null,
   "id": "ae32ca23",
   "metadata": {},
   "outputs": [],
   "source": [
    "grey_img_array.shape"
   ]
  },
  {
   "cell_type": "code",
   "execution_count": null,
   "id": "a30a77a0",
   "metadata": {},
   "outputs": [],
   "source": [
    "grey_img_array"
   ]
  },
  {
   "cell_type": "code",
   "execution_count": null,
   "id": "9340d881",
   "metadata": {},
   "outputs": [],
   "source": []
  },
  {
   "cell_type": "code",
   "execution_count": null,
   "id": "99e86507",
   "metadata": {},
   "outputs": [],
   "source": []
  },
  {
   "cell_type": "code",
   "execution_count": null,
   "id": "468437c0",
   "metadata": {},
   "outputs": [],
   "source": []
  },
  {
   "cell_type": "code",
   "execution_count": null,
   "id": "1a62d6fa",
   "metadata": {},
   "outputs": [],
   "source": []
  },
  {
   "cell_type": "code",
   "execution_count": null,
   "id": "2bbd936f",
   "metadata": {},
   "outputs": [],
   "source": []
  },
  {
   "cell_type": "code",
   "execution_count": null,
   "id": "55a0f529",
   "metadata": {},
   "outputs": [],
   "source": []
  }
 ],
 "metadata": {
  "kernelspec": {
   "display_name": "Python 3 (ipykernel)",
   "language": "python",
   "name": "python3"
  },
  "language_info": {
   "codemirror_mode": {
    "name": "ipython",
    "version": 3
   },
   "file_extension": ".py",
   "mimetype": "text/x-python",
   "name": "python",
   "nbconvert_exporter": "python",
   "pygments_lexer": "ipython3",
   "version": "3.10.13"
  }
 },
 "nbformat": 4,
 "nbformat_minor": 5
}
