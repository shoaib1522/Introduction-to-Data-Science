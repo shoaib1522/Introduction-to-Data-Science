{
 "cells": [
  {
   "cell_type": "markdown",
   "id": "fff56b76",
   "metadata": {},
   "source": [
    "---   \n",
    " <img align=\"left\" width=\"75\" height=\"75\"  src=\"../University_of_the_Punjab_logo.png\"> \n",
    "\n",
    "<h1 align=\"center\">Department of Data Science</h1>\n",
    "<h1 align=\"center\">Data Science Journey from Beginners to Expert</h1>\n",
    "\n",
    "---\n",
    "<h3><div align=\"right\">Instructor: Engr. Muhammad Nadeem Majeed, Ph.D.</div></h3>     "
   ]
  },
  {
   "cell_type": "markdown",
   "id": "05dbb7e4",
   "metadata": {},
   "source": [
    "<h1 align=\"center\">Lecture 3.22 (Data Visualization-II)</h1>"
   ]
  },
  {
   "cell_type": "markdown",
   "id": "117c331e",
   "metadata": {},
   "source": [
    "## _Data Visualization with Matplotlib_\n",
    "\n",
    "**Read Documentation for details:** \n",
    "https://matplotlib.org/stable/users/index.html"
   ]
  },
  {
   "cell_type": "markdown",
   "id": "10a00218",
   "metadata": {},
   "source": [
    "<img align=\"left\" width=\"500\" height=\"500\"  src=\"images/intromatlab.png\"  >\n",
    "<img align=\"right\" width=\"400\" height=\"500\"  src=\"images/matplotlibadvantages.png\"  >"
   ]
  },
  {
   "cell_type": "code",
   "execution_count": null,
   "id": "0677fbfc",
   "metadata": {},
   "outputs": [],
   "source": []
  },
  {
   "cell_type": "markdown",
   "id": "e42b820a",
   "metadata": {},
   "source": [
    "## Learning agenda of this notebook\n",
    "\n",
    "1. Anatomy of a Figure\n",
    "2. Recap of Line Chart\n",
    "3. Bar-plot\n",
    "4. Scatter-plot"
   ]
  },
  {
   "cell_type": "code",
   "execution_count": null,
   "id": "d533666d",
   "metadata": {},
   "outputs": [],
   "source": []
  },
  {
   "cell_type": "markdown",
   "id": "e6e9f900",
   "metadata": {},
   "source": [
    "## 1. Anatomy of a Figure\n",
    ">- Matplotlib is a versatile tool that can be used to create many different plot elements. \n",
    ">- Before trying to create a plot, let’s make sure to define some basic terms first. For example the  image in front tells us some important parts of a figure.\n",
    "\n",
    "<img align=\"center\" width=\"700\" height=\"500\"  src=\"images/anotomyoffig.png\"  >"
   ]
  },
  {
   "cell_type": "code",
   "execution_count": null,
   "id": "3cc3ac36",
   "metadata": {},
   "outputs": [],
   "source": []
  },
  {
   "cell_type": "markdown",
   "id": "dfd1b1d8",
   "metadata": {},
   "source": [
    "To begin, let's install the Matplotlib library. We'll use the `matplotlib.pyplot` module for basic plots like line & bar charts. It is often imported with the alias `plt`. "
   ]
  },
  {
   "cell_type": "code",
   "execution_count": null,
   "id": "7e6f955f",
   "metadata": {},
   "outputs": [],
   "source": [
    "# To install this library in Jupyter notebook\n",
    "import sys\n",
    "#!{sys.executable} -m pip install --upgrade pip\n",
    "!{sys.executable} -m pip install matplotlib --quiet"
   ]
  },
  {
   "cell_type": "code",
   "execution_count": null,
   "id": "e99b39c5",
   "metadata": {},
   "outputs": [],
   "source": [
    "import matplotlib\n",
    "matplotlib.__version__ , matplotlib.__path__"
   ]
  },
  {
   "cell_type": "code",
   "execution_count": null,
   "id": "c24e4e2f",
   "metadata": {},
   "outputs": [],
   "source": []
  },
  {
   "cell_type": "code",
   "execution_count": null,
   "id": "840c1a29",
   "metadata": {},
   "outputs": [],
   "source": []
  },
  {
   "cell_type": "code",
   "execution_count": null,
   "id": "d402c4c2",
   "metadata": {},
   "outputs": [],
   "source": []
  },
  {
   "cell_type": "code",
   "execution_count": null,
   "id": "37b348bd",
   "metadata": {},
   "outputs": [],
   "source": []
  },
  {
   "cell_type": "code",
   "execution_count": null,
   "id": "14c0be73",
   "metadata": {},
   "outputs": [],
   "source": []
  },
  {
   "cell_type": "code",
   "execution_count": null,
   "id": "4a58c335",
   "metadata": {},
   "outputs": [],
   "source": []
  },
  {
   "cell_type": "markdown",
   "id": "b62b0392",
   "metadata": {},
   "source": [
    "## 2. Line Chart (A Recap)"
   ]
  },
  {
   "cell_type": "code",
   "execution_count": null,
   "id": "eb69c22f",
   "metadata": {},
   "outputs": [],
   "source": [
    "from matplotlib import pyplot as plt\n",
    "import numpy as np\n",
    "\n",
    "chemical_exports = [0.810, 0.831, 0.895, 0.91, 0.915, 0.926, 0.945, 0.931, 0.919, 0.921, 0.920, 0.919]\n",
    "medicine_exports = [0.791, 0.818, 0.832, 0.816, 0.840, 0.833, 0.835, 0.838, 0.842, 0.910, 0.930, 0.940]\n",
    "years = [2010, 2011, 2012, 2013, 2014, 2015, 2016, 2017, 2018, 2019, 2020, 2021]\n",
    "\n",
    "\n",
    "fig = plt.figure()\n",
    "ax = fig.add_subplot()\n",
    "\n",
    "ax.plot(years, chemical_exports, label=\"Chemicals\", marker='o', c='b', ls='-', lw=2)\n",
    "ax.plot(years, medicine_exports, label=\"Medicines\", marker='x', c='r', ls=':', lw=2)\n",
    "\n",
    "ax.set_xlabel(\"Years\")\n",
    "ax.set_ylabel(\"Amount (Million US$)\")\n",
    "\n",
    "\n",
    "xvals = np.arange(2011, 2022, 2)\n",
    "yvals = np.linspace(0.80, 0.98, 10)\n",
    "ax.set_xticks(xvals)\n",
    "ax.set_yticks(yvals)\n",
    "\n",
    "\n",
    "plt.title(\"LCI Exports in last 12 years\")\n",
    "plt.legend(loc='best')\n",
    "\n",
    "plt.grid(True)\n",
    "plt.tight_layout()\n",
    "plt.show()"
   ]
  },
  {
   "cell_type": "code",
   "execution_count": null,
   "id": "5c3f37ca",
   "metadata": {},
   "outputs": [],
   "source": []
  },
  {
   "cell_type": "markdown",
   "id": "d017ce5b",
   "metadata": {},
   "source": [
    "### 3. Bar-plot\n",
    "- A Bar plot or Bar chart is another very common type of plot that is used when we want to compare a given numeric value on different categories. It shows relationship between a numerical variable and a categorical variable. For example marks of a single student in different subjects, or marks of multiple students in a single subject, count of students achieving different grades, count of people in different countries, sale of cars in different months, and so on.\n",
    "- A Bar plot represent categorical data with rectangular bars, with each bar having a height that corresponds to the value it represent.\n",
    "- The bars can be plotted vertically as well as horizontally.\n",
    "- We can use the `plt.bar()` method to draw a vertical bar chart, and `plt.barh()` method to draw a horizontal bar chart:\n",
    "```\n",
    "ax.bar(x, height, width=0.8)\n",
    "ax.barh(y, width, height=0.8)\n",
    "```"
   ]
  },
  {
   "cell_type": "markdown",
   "id": "14e544db",
   "metadata": {},
   "source": [
    "#### a. Draw Vertical Bar-plot"
   ]
  },
  {
   "cell_type": "code",
   "execution_count": null,
   "id": "e1d37c9f",
   "metadata": {},
   "outputs": [],
   "source": [
    "# creating a dataset containing list of students and their marks\n",
    "students = [\"Hadeed\", \"Maaz\", \"Mujahid\", \"Mohid\", \"Kamal\",  \"Jamal\"]\n",
    "english = [85, 45, 60, 70, 83, 35]\n",
    "\n",
    "\n",
    "# Create figure and axes objects\n",
    "fig = plt.figure()\n",
    "ax = fig.add_subplot()\n",
    "\n",
    "#Draw bar plot between names (categorical variable) and marks (numerical variable) of students\n",
    "ax.bar(x=students, height=english, width=0.4)\n",
    "\n",
    "# adding labels\n",
    "ax.set_xlabel(\"Names of Students\")\n",
    "ax.set_ylabel(\"Marks of Students\")\n",
    "\n",
    "# adding title\n",
    "plt.title(\"Distribution of Student Marks\")\n",
    "\n",
    "#plt.savefig(\"mybargraph.png\")\n",
    "# show plot\n",
    "plt.show()"
   ]
  },
  {
   "cell_type": "code",
   "execution_count": null,
   "id": "2a486629",
   "metadata": {},
   "outputs": [],
   "source": []
  },
  {
   "cell_type": "markdown",
   "id": "b2a4f263",
   "metadata": {},
   "source": [
    "#### b. Plot more than One bar in Chart\n",
    "Many times, multiple sets of data are bound to the same variable. In these cases, we need to show the data together on the same chart for comparison. On a bar chart, we can do this by using two sets of bars."
   ]
  },
  {
   "cell_type": "code",
   "execution_count": null,
   "id": "ba6d6fa6",
   "metadata": {},
   "outputs": [],
   "source": [
    "# creating a dataset containing list of students and their marks\n",
    "students = [\"Hadeed\", \"Maaz\", \"Mujahid\", \"Mohid\", \"Kamal\",  \"Jamal\"]\n",
    "english = [85, 45, 60, 70, 83, 35]\n",
    "maths = [ 80, 59, 80, 60, 65, 60]\n",
    "\n",
    "# Create figure and axes objects\n",
    "fig = plt.figure()\n",
    "ax = fig.add_subplot()\n",
    "\n",
    "#Draw bar plot between names (categorical variable) and marks (numerical variable) of students\n",
    "ax.bar(x=students, height=english, width=0.8)\n",
    "ax.bar(x=students, height=maths, width=0.8)\n",
    "\n",
    "# adding labels\n",
    "ax.set_xlabel(\"Names of Students\")\n",
    "ax.set_ylabel(\"Marks of Students\")\n",
    "\n",
    "# adding title\n",
    "plt.title(\"Distribution of Student Marks\")\n",
    "\n",
    "\n",
    "# show plot\n",
    "plt.show()"
   ]
  },
  {
   "cell_type": "code",
   "execution_count": null,
   "id": "3e242c52",
   "metadata": {},
   "outputs": [],
   "source": []
  },
  {
   "cell_type": "markdown",
   "id": "a08727f8",
   "metadata": {},
   "source": [
    "#### c. Adjust the Bars, so that they do not overlap"
   ]
  },
  {
   "cell_type": "code",
   "execution_count": null,
   "id": "2d2833ed",
   "metadata": {},
   "outputs": [],
   "source": [
    "from matplotlib import pyplot as plt\n",
    "import numpy as np\n",
    "# creating a dataset containing list of students and their marks\n",
    "students = [\"Hadeed\", \"Maaz\", \"Mujahid\", \"Mohid\", \"Kamal\",  \"Jamal\"]\n",
    "english = [85, 45, 60, 70, 83, 35]\n",
    "maths = [ 80, 59, 80, 60, 65, 60]\n",
    "\n",
    "# Create figure and axes objects\n",
    "fig = plt.figure()\n",
    "ax = fig.add_subplot()\n",
    "\n",
    "index = np.arange(len(students))\n",
    "\n",
    "#Draw bar plot between names (categorical variable) and marks (numerical variable) of students\n",
    "ax.bar(x=index-0.15, height=english, width=0.3, label='English')\n",
    "ax.bar(x=index+0.15, height=maths, width=0.3, label='Maths')\n",
    "\n",
    "# adding labels\n",
    "ax.set_xlabel(\"Names of Students\")\n",
    "ax.set_ylabel(\"Marks of Students\")\n",
    "\n",
    "ax.set_xticks(ticks=index, labels=students, color='g')\n",
    "\n",
    "# adding title\n",
    "plt.title(\"Distribution of Student Marks\")\n",
    "\n",
    "plt.legend()\n",
    "# show plot\n",
    "plt.savefig(\"vbar.png\")\n",
    "plt.show()"
   ]
  },
  {
   "cell_type": "code",
   "execution_count": null,
   "id": "4ccb77e8",
   "metadata": {},
   "outputs": [],
   "source": []
  },
  {
   "cell_type": "markdown",
   "id": "c6feacf5",
   "metadata": {},
   "source": [
    "#### d. Draw Horizontal Bar-plot"
   ]
  },
  {
   "cell_type": "code",
   "execution_count": null,
   "id": "cf36471a",
   "metadata": {},
   "outputs": [],
   "source": [
    "# creating a dataset containing list of students and their marks\n",
    "students = [\"Hadeed\", \"Maaz\", \"Mujahid\", \"Mohid\", \"Kamal\",  \"Jamal\"]\n",
    "english = [85, 45, 60, 70, 83, 35]\n",
    "maths = [ 80, 59, 80, 60, 65, 60]\n",
    "\n",
    "# Create figure and axes objects\n",
    "fig = plt.figure()\n",
    "ax = fig.add_subplot()\n",
    "\n",
    "index = np.arange(len(students))\n",
    "\n",
    "#Draw bar plot between names (categorical variable) and marks (numerical variable) of students\n",
    "ax.barh(y=index-0.15, width=english, height=0.3, label='English')\n",
    "ax.barh(y=index+0.15, width=maths, height=0.3, label='Maths')\n",
    "\n",
    "# adding labels\n",
    "ax.set_xlabel(\"Marks of Students\")\n",
    "ax.set_ylabel(\"Names of Students\")\n",
    "\n",
    "\n",
    "plt.yticks(ticks=index, labels=students, color='g')\n",
    "\n",
    "# adding title\n",
    "plt.title(\"Distribution of Student Marks\")\n",
    "\n",
    "plt.legend()\n",
    "\n",
    "plt.savefig(\"hbar.png\")\n",
    "\n",
    "# show plot\n",
    "plt.show()"
   ]
  },
  {
   "cell_type": "code",
   "execution_count": null,
   "id": "11502473",
   "metadata": {},
   "outputs": [],
   "source": []
  },
  {
   "cell_type": "markdown",
   "id": "fe73e266",
   "metadata": {},
   "source": [
    "#### e. Bar-Plot for a Real-Life DataSet\n",
    "Visit to Download Data: https://insights.stackoverflow.com/survey/"
   ]
  },
  {
   "cell_type": "code",
   "execution_count": null,
   "id": "7abe9f1f",
   "metadata": {},
   "outputs": [],
   "source": [
    "import pandas as pd\n",
    "df = pd.read_csv('datasets/so_survey_subset.csv')\n",
    "df.shape"
   ]
  },
  {
   "cell_type": "code",
   "execution_count": null,
   "id": "3d1b26a3",
   "metadata": {},
   "outputs": [],
   "source": [
    "df"
   ]
  },
  {
   "cell_type": "markdown",
   "id": "1b007d83",
   "metadata": {},
   "source": [
    "**Let us draw a bar chart with languages along the y-axis and thir popularity count along the y-axis.**\n",
    "- Unique list of languages under the `LanguagesWorkedWith` column\n",
    "- Count of every Language under the `LanguagesWorkedWith` column"
   ]
  },
  {
   "cell_type": "code",
   "execution_count": null,
   "id": "f9c7d704",
   "metadata": {},
   "outputs": [],
   "source": [
    "# Check out the NaN values in different columns specially LanguageWorkedWith\n",
    "df.info()"
   ]
  },
  {
   "cell_type": "code",
   "execution_count": null,
   "id": "cd831e74",
   "metadata": {},
   "outputs": [],
   "source": [
    "df1 = df.dropna()"
   ]
  },
  {
   "cell_type": "code",
   "execution_count": null,
   "id": "f5463b6f",
   "metadata": {},
   "outputs": [],
   "source": [
    "df1.info()"
   ]
  },
  {
   "cell_type": "code",
   "execution_count": null,
   "id": "dfe2b440",
   "metadata": {},
   "outputs": [],
   "source": [
    "languages = df1['LanguageWorkedWith']\n",
    "languages"
   ]
  },
  {
   "cell_type": "code",
   "execution_count": null,
   "id": "b10875cb",
   "metadata": {},
   "outputs": [],
   "source": [
    "from collections import Counter"
   ]
  },
  {
   "cell_type": "code",
   "execution_count": null,
   "id": "9ead5613",
   "metadata": {},
   "outputs": [],
   "source": [
    "mylist = ['C', 'HTML', 'Python', 'Java']"
   ]
  },
  {
   "cell_type": "code",
   "execution_count": null,
   "id": "d4b92568",
   "metadata": {},
   "outputs": [],
   "source": [
    "# Elements are stored as dictionary keys and their counts are stored as dictionary values.\n",
    "myctr = Counter(mylist)\n",
    "myctr"
   ]
  },
  {
   "cell_type": "code",
   "execution_count": null,
   "id": "2102d1cf",
   "metadata": {},
   "outputs": [],
   "source": [
    "myctr.update(['Python', 'C'])\n",
    "myctr"
   ]
  },
  {
   "cell_type": "code",
   "execution_count": null,
   "id": "bd3adcd0",
   "metadata": {},
   "outputs": [],
   "source": [
    "myctr.update(['Python', 'HTML'])\n",
    "myctr"
   ]
  },
  {
   "cell_type": "code",
   "execution_count": null,
   "id": "c9371616",
   "metadata": {},
   "outputs": [],
   "source": [
    "languages"
   ]
  },
  {
   "cell_type": "code",
   "execution_count": null,
   "id": "6cfa3520",
   "metadata": {},
   "outputs": [],
   "source": [
    "for language in languages:\n",
    "    print(language.split(';'))"
   ]
  },
  {
   "cell_type": "code",
   "execution_count": null,
   "id": "b141401a",
   "metadata": {},
   "outputs": [],
   "source": [
    "myctr = Counter()\n",
    "for language in languages:\n",
    "    myctr.update(language.split(';'))\n",
    "myctr"
   ]
  },
  {
   "cell_type": "code",
   "execution_count": null,
   "id": "8897dc33",
   "metadata": {},
   "outputs": [],
   "source": [
    "mydict = dict(myctr)\n",
    "languages = list(mydict.keys())\n",
    "popularity = list(mydict.values())"
   ]
  },
  {
   "cell_type": "code",
   "execution_count": null,
   "id": "99033827",
   "metadata": {},
   "outputs": [],
   "source": [
    "languages"
   ]
  },
  {
   "cell_type": "code",
   "execution_count": null,
   "id": "2c5b13d0",
   "metadata": {},
   "outputs": [],
   "source": [
    "popularity"
   ]
  },
  {
   "cell_type": "code",
   "execution_count": null,
   "id": "da4af397",
   "metadata": {},
   "outputs": [],
   "source": [
    "fig = plt.figure(figsize=(10,10))\n",
    "ax = fig.add_subplot()\n",
    "ax.barh(y=languages, width=popularity)"
   ]
  },
  {
   "cell_type": "markdown",
   "id": "69cdb96a",
   "metadata": {},
   "source": [
    "**Try to display the above chart with the most popular language at the top (`Hint: Use Pandas Dataframe`)"
   ]
  },
  {
   "cell_type": "code",
   "execution_count": null,
   "id": "206e0f75",
   "metadata": {},
   "outputs": [],
   "source": []
  },
  {
   "cell_type": "code",
   "execution_count": null,
   "id": "212280ae",
   "metadata": {},
   "outputs": [],
   "source": []
  },
  {
   "cell_type": "code",
   "execution_count": null,
   "id": "0e74b596",
   "metadata": {},
   "outputs": [],
   "source": []
  },
  {
   "cell_type": "code",
   "execution_count": null,
   "id": "53095a78",
   "metadata": {},
   "outputs": [],
   "source": []
  },
  {
   "cell_type": "code",
   "execution_count": null,
   "id": "b82b2b4f",
   "metadata": {},
   "outputs": [],
   "source": []
  },
  {
   "cell_type": "code",
   "execution_count": null,
   "id": "d9446d67",
   "metadata": {},
   "outputs": [],
   "source": []
  },
  {
   "cell_type": "markdown",
   "id": "09ebc67d",
   "metadata": {},
   "source": [
    "#### Stacking the Bars:\n",
    ">Stacking the bars is a useful feature that allows us to stack multiple bars on top of each other. Students should explore this at their own. Can be done by passing the value of the previous bar to the bottom parameter of the next bar.\n",
    "```\n",
    "plt.bar(x, subject1, width=0.8)\n",
    "plt.bar(x, subject2, width=0.8, bottom = subject1)\n",
    "\n",
    "```"
   ]
  },
  {
   "cell_type": "code",
   "execution_count": null,
   "id": "3c2e7e9d",
   "metadata": {},
   "outputs": [],
   "source": []
  },
  {
   "cell_type": "code",
   "execution_count": null,
   "id": "0ba5b85c",
   "metadata": {},
   "outputs": [],
   "source": []
  },
  {
   "cell_type": "code",
   "execution_count": null,
   "id": "92ff8aa8",
   "metadata": {},
   "outputs": [],
   "source": []
  },
  {
   "cell_type": "code",
   "execution_count": null,
   "id": "6f7071af",
   "metadata": {},
   "outputs": [],
   "source": []
  },
  {
   "cell_type": "code",
   "execution_count": null,
   "id": "0e15385e",
   "metadata": {},
   "outputs": [],
   "source": []
  },
  {
   "cell_type": "code",
   "execution_count": null,
   "id": "5bbba469",
   "metadata": {},
   "outputs": [],
   "source": []
  },
  {
   "cell_type": "code",
   "execution_count": null,
   "id": "596355dd",
   "metadata": {},
   "outputs": [],
   "source": []
  },
  {
   "cell_type": "code",
   "execution_count": null,
   "id": "ff68ab4c",
   "metadata": {},
   "outputs": [],
   "source": []
  },
  {
   "cell_type": "markdown",
   "id": "659c7612",
   "metadata": {},
   "source": [
    "### 4. Scatter plot\n",
    "A scatter plot is used to plot data points on a figure based on the horizontal and vertical axes. Scatter plots can be used to show the relationship between two variables. They can also show how data clusters in a dataset. One of the most striking features of drawing scatter plots in Matplotlib is the ability to set different colors and sizes for individual data points by using additional variables.\n",
    "\n",
    "In a scatter plot, the values of 2 variables are plotted as points on a 2-dimensional grid. Additionally, you can also use a third variable to determine the size or color of the points. Let's try out an example."
   ]
  },
  {
   "cell_type": "markdown",
   "id": "ce68929a",
   "metadata": {},
   "source": [
    "#### a. Basic Scatter-plot"
   ]
  },
  {
   "cell_type": "code",
   "execution_count": null,
   "id": "f4ff59ae",
   "metadata": {},
   "outputs": [],
   "source": [
    "import numpy as np\n",
    "from matplotlib import pyplot as plt\n",
    "\n",
    "# Creating list of random values\n",
    "l1 = np.random.randint(0, 100, 20)\n",
    "l2 = np.random.randint(0, 100, 20)\n",
    "\n",
    "# Create figure and axes objects\n",
    "fig,ax = plt.subplots()\n",
    "\n",
    "# Draw Scatter plot where two points intersect in l1 and l2\n",
    "ax.scatter(x=l1, y=l2)\n",
    "\n",
    "# adding labels\n",
    "ax.set_xlabel(\"List 1\")\n",
    "ax.set_ylabel(\"List 2\")\n",
    "\n",
    "# adding title\n",
    "plt.title(\"Scatter Plot\")\n",
    "\n",
    "plt.grid(True)\n",
    "plt.tight_layout()\n",
    "plt.show()"
   ]
  },
  {
   "cell_type": "code",
   "execution_count": null,
   "id": "1b23f0cd",
   "metadata": {},
   "outputs": [],
   "source": []
  },
  {
   "cell_type": "markdown",
   "id": "47e073e4",
   "metadata": {},
   "source": [
    "#### b. Customize Scatter Plot\n",
    "- Set the size, marker, color, edgecolor, linewidth, alpha arguments to `scatter()` method"
   ]
  },
  {
   "cell_type": "code",
   "execution_count": null,
   "id": "dd5bf97b",
   "metadata": {},
   "outputs": [],
   "source": [
    "import numpy as np\n",
    "from matplotlib import pyplot as plt\n",
    "\n",
    "# Creating list of random values\n",
    "l1 = np.random.randint(0, 100, 20)\n",
    "l2 = np.random.randint(0, 100, 20)\n",
    "\n",
    "# Create figure and axes objects\n",
    "fig, ax = plt.subplots()\n",
    "\n",
    "# Draw Scatter plot where two points intersect in l1 and l2\n",
    "ax.scatter(x=l1, y=l2, s=200, marker='o', c='green', edgecolor='black', lw=2, alpha=0.5)\n",
    "\n",
    "# adding labels\n",
    "ax.set_xlabel(\"List 1\")\n",
    "ax.set_ylabel(\"List 2\")\n",
    "\n",
    "# adding title\n",
    "plt.title(\"Scatter Plot\")\n",
    "\n",
    "plt.grid(True)\n",
    "plt.tight_layout()\n",
    "plt.show()"
   ]
  },
  {
   "cell_type": "code",
   "execution_count": null,
   "id": "291eddcd",
   "metadata": {},
   "outputs": [],
   "source": [
    "l1, l2"
   ]
  },
  {
   "cell_type": "code",
   "execution_count": null,
   "id": "a4eb07e8",
   "metadata": {},
   "outputs": [],
   "source": []
  },
  {
   "cell_type": "code",
   "execution_count": null,
   "id": "a3e556c1",
   "metadata": {},
   "outputs": [],
   "source": []
  },
  {
   "cell_type": "markdown",
   "id": "8ab7f71d",
   "metadata": {},
   "source": [
    "#### c. Houses Dataset"
   ]
  },
  {
   "cell_type": "code",
   "execution_count": null,
   "id": "4543baca",
   "metadata": {},
   "outputs": [],
   "source": [
    "import pandas as pd\n",
    "df = pd.read_csv('datasets/housesdata.csv')\n",
    "df"
   ]
  },
  {
   "cell_type": "code",
   "execution_count": null,
   "id": "ff851400",
   "metadata": {},
   "outputs": [],
   "source": [
    "# reading values from dataframe in x and y \n",
    "x = df['x']\n",
    "y = df['y']\n",
    "# plot data on scatter plot\n",
    "plt.scatter(x,y)\n",
    "plt.show()"
   ]
  },
  {
   "cell_type": "code",
   "execution_count": null,
   "id": "a2604111",
   "metadata": {},
   "outputs": [],
   "source": [
    "# reading values from dataframe in x and y \n",
    "x = df['x']\n",
    "y = df['y']\n",
    "\n",
    "# plot data on scatter plot\n",
    "plt.scatter(x,y)\n",
    "\n",
    "# setting labels and title\n",
    "plt.xlabel(\"Distance to place X\")\n",
    "plt.ylabel(\"Distance to place Y\")\n",
    "plt.title(\"Price of Houses in Different Location\")\n",
    "\n",
    "plt.show()"
   ]
  },
  {
   "cell_type": "markdown",
   "id": "4f73810d",
   "metadata": {},
   "source": [
    "**Change the sizes and colors of datapoints based on price column**"
   ]
  },
  {
   "cell_type": "code",
   "execution_count": null,
   "id": "29266d34",
   "metadata": {},
   "outputs": [],
   "source": [
    "import numpy as np\n",
    "x = df['x']\n",
    "y = df['y']\n",
    "\n",
    "# set the sizes of marker in scatter plot as the multiple of price column\n",
    "sizes = df['price'].astype(int)\n",
    "# also set the color of markers according to the size\n",
    "colors = sizes\n",
    "\n",
    "# Instead of passing an integer values to sizes and colors argument, pass them a list on which matplotlib will iterate\n",
    "# Use edgecolor and linewidth arugment\n",
    "# alpha is the blending value, which we can set between 0 (transparent) and 1 (opaque)\n",
    "plt.scatter(x,y, s=sizes, c = colors, alpha=0.5, edgecolor='black', lw=2)\n",
    "\n",
    "# setting labels and title\n",
    "plt.xlabel(\"Distance to place X\")\n",
    "plt.ylabel(\"Distance to place Y\")\n",
    "plt.title(\"Price of Houses in Different Location\")\n",
    "\n",
    "\n",
    "# saving the figure\n",
    "plt.savefig(\"scatterchart.png\")\n",
    "\n",
    "plt.show()"
   ]
  },
  {
   "cell_type": "code",
   "execution_count": null,
   "id": "5f2da8f8",
   "metadata": {},
   "outputs": [],
   "source": []
  },
  {
   "cell_type": "markdown",
   "id": "cb0fbc0a",
   "metadata": {},
   "source": [
    "**Add colorbar**"
   ]
  },
  {
   "cell_type": "code",
   "execution_count": null,
   "id": "e872e39c",
   "metadata": {},
   "outputs": [],
   "source": [
    "import numpy as np\n",
    "x = df['x']\n",
    "y = df['y']\n",
    "\n",
    "# set the sizes of marker in scatter plot as the multiple of price column\n",
    "sizes = df['price'].astype(int)\n",
    "# also set the color of markers according to the size\n",
    "colors = sizes\n",
    "\n",
    "# Instead of passing an integer values to sizes and colors argument, pass them a list on which matplotlib will iterate\n",
    "# Use edgecolor and linewidth arugment\n",
    "# alpha is the blending value, which we can set between 0 (transparent) and 1 (opaque)\n",
    "plt.scatter(x,y, s=sizes, c = colors, alpha=0.5, edgecolor='black', lw=2)\n",
    "\n",
    "\n",
    "# plot data on scatter plot\n",
    "cbar = plt.colorbar()\n",
    "cbar.set_label(\"Price of house\")\n",
    "\n",
    "# setting labels and title\n",
    "plt.xlabel(\"Distance to place X\")\n",
    "plt.ylabel(\"Distance to place Y\")\n",
    "plt.title(\"Price of Houses in Different Location\")\n",
    "\n",
    "\n",
    "# saving the figure\n",
    "plt.savefig(\"scatterchart.png\")\n",
    "\n",
    "plt.show()"
   ]
  },
  {
   "cell_type": "code",
   "execution_count": null,
   "id": "475db255",
   "metadata": {},
   "outputs": [],
   "source": []
  },
  {
   "cell_type": "code",
   "execution_count": null,
   "id": "52c3e34f",
   "metadata": {},
   "outputs": [],
   "source": []
  },
  {
   "cell_type": "code",
   "execution_count": null,
   "id": "51140595",
   "metadata": {},
   "outputs": [],
   "source": []
  }
 ],
 "metadata": {
  "kernelspec": {
   "display_name": "Python 3 (ipykernel)",
   "language": "python",
   "name": "python3"
  },
  "language_info": {
   "codemirror_mode": {
    "name": "ipython",
    "version": 3
   },
   "file_extension": ".py",
   "mimetype": "text/x-python",
   "name": "python",
   "nbconvert_exporter": "python",
   "pygments_lexer": "ipython3",
   "version": "3.10.13"
  }
 },
 "nbformat": 4,
 "nbformat_minor": 5
}
